{
 "cells": [
  {
   "attachments": {},
   "cell_type": "markdown",
   "id": "9d3c07ee-c3bf-4530-812a-36405502b38d",
   "metadata": {
    "id": "9d3c07ee-c3bf-4530-812a-36405502b38d"
   },
   "source": [
    "# AnyoneAI - Sprint Project 02\n",
    "> Home Credit Default Risk\n",
    "\n",
    "You will create a complete pipeline to preprocess the data, train your model and then predict values.\n"
   ]
  },
  {
   "attachments": {},
   "cell_type": "markdown",
   "id": "e396c950-04b0-453e-b930-a22a96cee2d1",
   "metadata": {
    "id": "e396c950-04b0-453e-b930-a22a96cee2d1"
   },
   "source": [
    "## 1. Introduction\n",
    "\n",
    "This is a binary Classification task: we want to predict whether the person applying for a home credit will be able to repay their debt or not. Our model will have to predict a 1 indicating the client will have payment difficulties: he/she will have late payment of more than X days on at least one of the first Y installments of the loan in our sample, 0 in all other cases.\n",
    "\n",
    "The dataset is composed of multiple files with different information about loans taken. In this project, we will work exclusively with the primary files: `application_train_aai.csv` and `application_test_aai.csv`.\n",
    "\n",
    "We will use [Area Under the ROC Curve](https://developers.google.com/machine-learning/crash-course/classification/roc-and-auc?hl=es_419) as the evaluation metric, so our models will have to return the probabilities that a loan is not paid for each row."
   ]
  },
  {
   "cell_type": "code",
   "execution_count": 1,
   "id": "OzQjTwlkUT0C",
   "metadata": {
    "executionInfo": {
     "elapsed": 2252,
     "status": "ok",
     "timestamp": 1670194396248,
     "user": {
      "displayName": "Jose Luis",
      "userId": "17952480099147442429"
     },
     "user_tz": 180
    },
    "id": "OzQjTwlkUT0C"
   },
   "outputs": [],
   "source": [
    "# Import libraries\n",
    "from sklearn.ensemble import RandomForestClassifier\n",
    "from sklearn.linear_model import LogisticRegression\n",
    "from sklearn.metrics import roc_auc_score\n",
    "from sklearn.model_selection import RandomizedSearchCV\n",
    "from sklearn.utils.validation import check_is_fitted\n",
    "\n",
    "import numpy as np\n",
    "import pandas as pd\n",
    "import matplotlib.pyplot as plt\n",
    "import seaborn as sns\n",
    "\n",
    "from src import config, data_utils, preprocessing"
   ]
  },
  {
   "attachments": {},
   "cell_type": "markdown",
   "id": "3ab085b5-379c-4e02-9f96-08edf5dbf887",
   "metadata": {
    "id": "3ab085b5-379c-4e02-9f96-08edf5dbf887"
   },
   "source": [
    "### Getting the data\n",
    "\n",
    "To access the data for this project, you only need to execute the code below. This will download three files inside the `dataset` folder:\n",
    "\n",
    "- `application_train_aai.csv`: Training dataset you must use to train and find the best hyperparameters on your model.\n",
    "\n",
    "- `application_test_aai.csv`: Test dataset without labels. Because of the absence of labels, you can't use this dataset for your experiments. You will use the file only at the end after you choose what you think is the best model for the tasks. You will have to use that model to fill values in the `TARGET` column using the model predictions. Then submit this dataset alongside this Jupyter notebook, AnyoneAI will internally evaluate your model's accuracy in the hidden data and communicate later ;).\n",
    "\n",
    "- `HomeCredit_columns_description.csv`: This file contains descriptions for the columns in train and test datasets.\n"
   ]
  },
  {
   "attachments": {},
   "cell_type": "markdown",
   "id": "25a0a724-ceb1-40cb-b123-b8c907a9c06f",
   "metadata": {
    "id": "25a0a724-ceb1-40cb-b123-b8c907a9c06f"
   },
   "source": [
    "1.1. Load the training and test datasets. Also, the auxiliary file `HomeCredit_columns_description.csv` has additional information about the features in the dataset."
   ]
  },
  {
   "cell_type": "markdown",
   "id": "MnA4l8-rWraC",
   "metadata": {
    "id": "MnA4l8-rWraC"
   },
   "source": [
    "**Don't change anything in this cell, just make it run correctly**"
   ]
  },
  {
   "cell_type": "code",
   "execution_count": 2,
   "id": "jrkLdOJnWoSS",
   "metadata": {
    "colab": {
     "base_uri": "https://localhost:8080/"
    },
    "executionInfo": {
     "elapsed": 419,
     "status": "ok",
     "timestamp": 1670195316027,
     "user": {
      "displayName": "Jose Luis",
      "userId": "17952480099147442429"
     },
     "user_tz": 180
    },
    "id": "jrkLdOJnWoSS",
    "outputId": "ce9f5ee1-6ed0-4b6f-d8f5-37d38b4e4773"
   },
   "outputs": [
    {
     "name": "stdout",
     "output_type": "stream",
     "text": [
      "Success: app_train shape is correct!\n",
      "Success: app_train type is correct!\n",
      "Success: app_test shape is correct!\n",
      "Success: app_test type is correct!\n"
     ]
    }
   ],
   "source": [
    "app_train, app_test, columns_description = data_utils.get_datasets()\n",
    "\n",
    "\n",
    "if app_train.shape == (246008, 122):\n",
    "    print(\"Success: app_train shape is correct!\")\n",
    "else:\n",
    "    raise ValueError(\"Train dataset shape is incorrect, please review your code\")\n",
    "\n",
    "if isinstance(app_train, pd.DataFrame):\n",
    "    print(\"Success: app_train type is correct!\")\n",
    "else:\n",
    "    raise ValueError(\"Train dataset type is incorrect, please review your code\")\n",
    "\n",
    "if app_test.shape == (61503, 122):\n",
    "    print(\"Success: app_test shape is correct!\")\n",
    "else:\n",
    "    raise ValueError(\"Test dataset shape is incorrect, please review your code\")\n",
    "\n",
    "if isinstance(app_test, pd.DataFrame):\n",
    "    print(\"Success: app_test type is correct!\")\n",
    "else:\n",
    "    raise ValueError(\"Test dataset type is incorrect, please review your code\")"
   ]
  },
  {
   "attachments": {},
   "cell_type": "markdown",
   "id": "7c10a608-5c38-44f4-8158-18225619e7ae",
   "metadata": {
    "id": "7c10a608-5c38-44f4-8158-18225619e7ae",
    "tags": []
   },
   "source": [
    "### Exploratory Data Analysis\n",
    "\n",
    "A lot of the analysis of the data can be found on publicly available Kaggle kernels or blog posts, but you need to make sure you understand the dataset's properties before starting working on it, so we'll do exploratory data analysis for the main files."
   ]
  },
  {
   "attachments": {},
   "cell_type": "markdown",
   "id": "2ea774d3-e12c-4c2b-846d-8c5c03e70928",
   "metadata": {
    "id": "2ea774d3-e12c-4c2b-846d-8c5c03e70928"
   },
   "source": [
    "#### Dataset Basics"
   ]
  },
  {
   "cell_type": "markdown",
   "id": "9f0b4817-5768-49d2-b5f2-907827541f16",
   "metadata": {
    "id": "9f0b4817-5768-49d2-b5f2-907827541f16"
   },
   "source": [
    "1.2. Print how many samples do we have in our train and test datasets."
   ]
  },
  {
   "cell_type": "code",
   "execution_count": 3,
   "id": "6a98fdd5-cbf2-4d20-9559-89c7cf5943cd",
   "metadata": {
    "colab": {
     "base_uri": "https://localhost:8080/"
    },
    "executionInfo": {
     "elapsed": 275,
     "status": "ok",
     "timestamp": 1670195319978,
     "user": {
      "displayName": "Jose Luis",
      "userId": "17952480099147442429"
     },
     "user_tz": 180
    },
    "id": "6a98fdd5-cbf2-4d20-9559-89c7cf5943cd",
    "outputId": "bec830ab-d760-4019-d277-d4249be2948d"
   },
   "outputs": [
    {
     "name": "stdout",
     "output_type": "stream",
     "text": [
      "\n",
      "Shape of the Application test dataset: ------------>\n",
      "(61503, 122)\n",
      "\n",
      "Shape of the Application train dataset: ------------>\n",
      "(246008, 122)\n"
     ]
    }
   ],
   "source": [
    "### TODO Complete in this cell: shape of the dataset\n",
    "# We load locally the Application test dataset\n",
    "df_test = pd.read_csv(r'C:/Users/AER/Downloads/AnyONE AI/01 ANYONE Program/02 Sprint assignment/assignment2/dataset/application_test_aai.csv')\n",
    "print(\"\\nShape of the Application test dataset: ------------>\")\n",
    "print(df_test.shape)\n",
    "\n",
    "# We load locally the Application train dataset \n",
    "df_train = pd.read_csv(r'C:/Users/AER/Downloads/AnyONE AI/01 ANYONE Program/02 Sprint assignment/assignment2/dataset/application_train_aai.csv')\n",
    "print(\"\\nShape of the Application train dataset: ------------>\")\n",
    "print(df_train.shape)"
   ]
  },
  {
   "cell_type": "markdown",
   "id": "74e7a95b-8288-4ead-8c1e-f2cf68167d8e",
   "metadata": {
    "id": "74e7a95b-8288-4ead-8c1e-f2cf68167d8e"
   },
   "source": [
    "1.3. List all columns in the train dataset."
   ]
  },
  {
   "cell_type": "code",
   "execution_count": 4,
   "id": "d7af2f2e-93db-41e6-bb26-df1ad0be7786",
   "metadata": {
    "colab": {
     "base_uri": "https://localhost:8080/"
    },
    "executionInfo": {
     "elapsed": 313,
     "status": "ok",
     "timestamp": 1670195328520,
     "user": {
      "displayName": "Jose Luis",
      "userId": "17952480099147442429"
     },
     "user_tz": 180
    },
    "id": "d7af2f2e-93db-41e6-bb26-df1ad0be7786",
    "outputId": "cc0cbeb7-edf1-4d3a-cb05-3341232c2606"
   },
   "outputs": [
    {
     "name": "stdout",
     "output_type": "stream",
     "text": [
      "Numeric and categoricals variables: ------------>\n",
      "<class 'pandas.core.frame.DataFrame'>\n",
      "RangeIndex: 246008 entries, 0 to 246007\n",
      "Columns: 122 entries, SK_ID_CURR to AMT_REQ_CREDIT_BUREAU_YEAR\n",
      "dtypes: float64(65), int64(41), object(16)\n",
      "memory usage: 229.0+ MB\n",
      "\n",
      "Count of non-null values in each column: ------------>\n",
      "SK_ID_CURR                    246008\n",
      "TARGET                        246008\n",
      "NAME_CONTRACT_TYPE            246008\n",
      "CODE_GENDER                   246008\n",
      "FLAG_OWN_CAR                  246008\n",
      "                               ...  \n",
      "AMT_REQ_CREDIT_BUREAU_DAY     212774\n",
      "AMT_REQ_CREDIT_BUREAU_WEEK    212774\n",
      "AMT_REQ_CREDIT_BUREAU_MON     212774\n",
      "AMT_REQ_CREDIT_BUREAU_QRT     212774\n",
      "AMT_REQ_CREDIT_BUREAU_YEAR    212774\n",
      "Length: 122, dtype: int64\n",
      "\n",
      "First 5 rows: ------------>\n",
      "   SK_ID_CURR  TARGET NAME_CONTRACT_TYPE CODE_GENDER FLAG_OWN_CAR  \\\n",
      "0      428247       0         Cash loans           F            N   \n",
      "1      140966       0         Cash loans           M            Y   \n",
      "2      407283       0    Revolving loans           F            N   \n",
      "3      434300       0         Cash loans           F            N   \n",
      "4      446788       0         Cash loans           F            N   \n",
      "\n",
      "  FLAG_OWN_REALTY  CNT_CHILDREN  AMT_INCOME_TOTAL  AMT_CREDIT  AMT_ANNUITY  \\\n",
      "0               N             0          157500.0    634500.0      30523.5   \n",
      "1               Y             1           90000.0   1223010.0      51948.0   \n",
      "2               Y             0          405000.0    540000.0      27000.0   \n",
      "3               N             0           90000.0    439740.0      18630.0   \n",
      "4               N             0           67500.0    323388.0      18054.0   \n",
      "\n",
      "   ...  FLAG_DOCUMENT_18 FLAG_DOCUMENT_19 FLAG_DOCUMENT_20 FLAG_DOCUMENT_21  \\\n",
      "0  ...                 0                0                0                0   \n",
      "1  ...                 0                0                0                0   \n",
      "2  ...                 0                0                0                0   \n",
      "3  ...                 0                0                0                0   \n",
      "4  ...                 0                0                0                0   \n",
      "\n",
      "  AMT_REQ_CREDIT_BUREAU_HOUR AMT_REQ_CREDIT_BUREAU_DAY  \\\n",
      "0                        NaN                       NaN   \n",
      "1                        0.0                       0.0   \n",
      "2                        0.0                       0.0   \n",
      "3                        0.0                       0.0   \n",
      "4                        0.0                       0.0   \n",
      "\n",
      "   AMT_REQ_CREDIT_BUREAU_WEEK  AMT_REQ_CREDIT_BUREAU_MON  \\\n",
      "0                         NaN                        NaN   \n",
      "1                         0.0                        0.0   \n",
      "2                         0.0                        0.0   \n",
      "3                         0.0                        0.0   \n",
      "4                         0.0                        0.0   \n",
      "\n",
      "   AMT_REQ_CREDIT_BUREAU_QRT  AMT_REQ_CREDIT_BUREAU_YEAR  \n",
      "0                        NaN                         NaN  \n",
      "1                        0.0                         0.0  \n",
      "2                        0.0                         0.0  \n",
      "3                        1.0                         5.0  \n",
      "4                        0.0                         1.0  \n",
      "\n",
      "[5 rows x 122 columns]\n"
     ]
    },
    {
     "data": {
      "text/plain": [
       "['SK_ID_CURR',\n",
       " 'TARGET',\n",
       " 'NAME_CONTRACT_TYPE',\n",
       " 'CODE_GENDER',\n",
       " 'FLAG_OWN_CAR',\n",
       " 'FLAG_OWN_REALTY',\n",
       " 'CNT_CHILDREN',\n",
       " 'AMT_INCOME_TOTAL',\n",
       " 'AMT_CREDIT',\n",
       " 'AMT_ANNUITY',\n",
       " 'AMT_GOODS_PRICE',\n",
       " 'NAME_TYPE_SUITE',\n",
       " 'NAME_INCOME_TYPE',\n",
       " 'NAME_EDUCATION_TYPE',\n",
       " 'NAME_FAMILY_STATUS',\n",
       " 'NAME_HOUSING_TYPE',\n",
       " 'REGION_POPULATION_RELATIVE',\n",
       " 'DAYS_BIRTH',\n",
       " 'DAYS_EMPLOYED',\n",
       " 'DAYS_REGISTRATION',\n",
       " 'DAYS_ID_PUBLISH',\n",
       " 'OWN_CAR_AGE',\n",
       " 'FLAG_MOBIL',\n",
       " 'FLAG_EMP_PHONE',\n",
       " 'FLAG_WORK_PHONE',\n",
       " 'FLAG_CONT_MOBILE',\n",
       " 'FLAG_PHONE',\n",
       " 'FLAG_EMAIL',\n",
       " 'OCCUPATION_TYPE',\n",
       " 'CNT_FAM_MEMBERS',\n",
       " 'REGION_RATING_CLIENT',\n",
       " 'REGION_RATING_CLIENT_W_CITY',\n",
       " 'WEEKDAY_APPR_PROCESS_START',\n",
       " 'HOUR_APPR_PROCESS_START',\n",
       " 'REG_REGION_NOT_LIVE_REGION',\n",
       " 'REG_REGION_NOT_WORK_REGION',\n",
       " 'LIVE_REGION_NOT_WORK_REGION',\n",
       " 'REG_CITY_NOT_LIVE_CITY',\n",
       " 'REG_CITY_NOT_WORK_CITY',\n",
       " 'LIVE_CITY_NOT_WORK_CITY',\n",
       " 'ORGANIZATION_TYPE',\n",
       " 'EXT_SOURCE_1',\n",
       " 'EXT_SOURCE_2',\n",
       " 'EXT_SOURCE_3',\n",
       " 'APARTMENTS_AVG',\n",
       " 'BASEMENTAREA_AVG',\n",
       " 'YEARS_BEGINEXPLUATATION_AVG',\n",
       " 'YEARS_BUILD_AVG',\n",
       " 'COMMONAREA_AVG',\n",
       " 'ELEVATORS_AVG',\n",
       " 'ENTRANCES_AVG',\n",
       " 'FLOORSMAX_AVG',\n",
       " 'FLOORSMIN_AVG',\n",
       " 'LANDAREA_AVG',\n",
       " 'LIVINGAPARTMENTS_AVG',\n",
       " 'LIVINGAREA_AVG',\n",
       " 'NONLIVINGAPARTMENTS_AVG',\n",
       " 'NONLIVINGAREA_AVG',\n",
       " 'APARTMENTS_MODE',\n",
       " 'BASEMENTAREA_MODE',\n",
       " 'YEARS_BEGINEXPLUATATION_MODE',\n",
       " 'YEARS_BUILD_MODE',\n",
       " 'COMMONAREA_MODE',\n",
       " 'ELEVATORS_MODE',\n",
       " 'ENTRANCES_MODE',\n",
       " 'FLOORSMAX_MODE',\n",
       " 'FLOORSMIN_MODE',\n",
       " 'LANDAREA_MODE',\n",
       " 'LIVINGAPARTMENTS_MODE',\n",
       " 'LIVINGAREA_MODE',\n",
       " 'NONLIVINGAPARTMENTS_MODE',\n",
       " 'NONLIVINGAREA_MODE',\n",
       " 'APARTMENTS_MEDI',\n",
       " 'BASEMENTAREA_MEDI',\n",
       " 'YEARS_BEGINEXPLUATATION_MEDI',\n",
       " 'YEARS_BUILD_MEDI',\n",
       " 'COMMONAREA_MEDI',\n",
       " 'ELEVATORS_MEDI',\n",
       " 'ENTRANCES_MEDI',\n",
       " 'FLOORSMAX_MEDI',\n",
       " 'FLOORSMIN_MEDI',\n",
       " 'LANDAREA_MEDI',\n",
       " 'LIVINGAPARTMENTS_MEDI',\n",
       " 'LIVINGAREA_MEDI',\n",
       " 'NONLIVINGAPARTMENTS_MEDI',\n",
       " 'NONLIVINGAREA_MEDI',\n",
       " 'FONDKAPREMONT_MODE',\n",
       " 'HOUSETYPE_MODE',\n",
       " 'TOTALAREA_MODE',\n",
       " 'WALLSMATERIAL_MODE',\n",
       " 'EMERGENCYSTATE_MODE',\n",
       " 'OBS_30_CNT_SOCIAL_CIRCLE',\n",
       " 'DEF_30_CNT_SOCIAL_CIRCLE',\n",
       " 'OBS_60_CNT_SOCIAL_CIRCLE',\n",
       " 'DEF_60_CNT_SOCIAL_CIRCLE',\n",
       " 'DAYS_LAST_PHONE_CHANGE',\n",
       " 'FLAG_DOCUMENT_2',\n",
       " 'FLAG_DOCUMENT_3',\n",
       " 'FLAG_DOCUMENT_4',\n",
       " 'FLAG_DOCUMENT_5',\n",
       " 'FLAG_DOCUMENT_6',\n",
       " 'FLAG_DOCUMENT_7',\n",
       " 'FLAG_DOCUMENT_8',\n",
       " 'FLAG_DOCUMENT_9',\n",
       " 'FLAG_DOCUMENT_10',\n",
       " 'FLAG_DOCUMENT_11',\n",
       " 'FLAG_DOCUMENT_12',\n",
       " 'FLAG_DOCUMENT_13',\n",
       " 'FLAG_DOCUMENT_14',\n",
       " 'FLAG_DOCUMENT_15',\n",
       " 'FLAG_DOCUMENT_16',\n",
       " 'FLAG_DOCUMENT_17',\n",
       " 'FLAG_DOCUMENT_18',\n",
       " 'FLAG_DOCUMENT_19',\n",
       " 'FLAG_DOCUMENT_20',\n",
       " 'FLAG_DOCUMENT_21',\n",
       " 'AMT_REQ_CREDIT_BUREAU_HOUR',\n",
       " 'AMT_REQ_CREDIT_BUREAU_DAY',\n",
       " 'AMT_REQ_CREDIT_BUREAU_WEEK',\n",
       " 'AMT_REQ_CREDIT_BUREAU_MON',\n",
       " 'AMT_REQ_CREDIT_BUREAU_QRT',\n",
       " 'AMT_REQ_CREDIT_BUREAU_YEAR']"
      ]
     },
     "execution_count": 4,
     "metadata": {},
     "output_type": "execute_result"
    }
   ],
   "source": [
    "### TODO Complete in this cell: Show all columns in the training dataset\n",
    "df_train\n",
    "\n",
    "print(\"Numeric and categoricals variables: ------------>\")\n",
    "df_train.info()\n",
    "\n",
    "print(\"\\nCount of non-null values in each column: ------------>\")\n",
    "print(df_train.count())\n",
    "\n",
    "print(\"\\nFirst 5 rows: ------------>\")\n",
    "print(df_train.head())\n",
    "\n",
    "list(df_train)"
   ]
  },
  {
   "cell_type": "markdown",
   "id": "2dc4835f-90c3-4049-9ec2-44d102201104",
   "metadata": {
    "id": "2dc4835f-90c3-4049-9ec2-44d102201104"
   },
   "source": [
    "1.4. Show the first 5 records of the training dataset, transpose the dataframe to see each record as a column and features as rows, make sure all features are visualized. Take your time to review what kind of information you can gather from this data.\n",
    "\n",
    "For reference only, it should look like this:\n",
    "\n",
    "|0|1|2|3|4\n",
    "|---|---|---|---|---\n",
    "Unnamed: 0|187399|84777|268140|270686|33785\n",
    "SK_ID_CURR|317244|198357|410700|413785|139141\n",
    "TARGET|0|0|0|0|0\n",
    "NAME_CONTRACT_TYPE|Cash loans|Cash loans|Cash loans|Cash loans|Cash loans\n",
    "...|...|...|...|...|...\n",
    "AMT_REQ_CREDIT_BUREAU_DAY|0.0|0.0|0.0|0.0|0.0"
   ]
  },
  {
   "cell_type": "code",
   "execution_count": 5,
   "id": "ac9c85b3-52e0-4b80-9753-afb81f92bd0d",
   "metadata": {
    "colab": {
     "base_uri": "https://localhost:8080/",
     "height": 423
    },
    "executionInfo": {
     "elapsed": 305,
     "status": "ok",
     "timestamp": 1670195332530,
     "user": {
      "displayName": "Jose Luis",
      "userId": "17952480099147442429"
     },
     "user_tz": 180
    },
    "id": "ac9c85b3-52e0-4b80-9753-afb81f92bd0d",
    "outputId": "2d56774f-18a2-48f2-f4b4-da9decca6012"
   },
   "outputs": [
    {
     "name": "stdout",
     "output_type": "stream",
     "text": [
      "                                     0           1                2  \\\n",
      "SK_ID_CURR                      428247      140966           407283   \n",
      "TARGET                               0           0                0   \n",
      "NAME_CONTRACT_TYPE          Cash loans  Cash loans  Revolving loans   \n",
      "CODE_GENDER                          F           M                F   \n",
      "FLAG_OWN_CAR                         N           Y                N   \n",
      "...                                ...         ...              ...   \n",
      "AMT_REQ_CREDIT_BUREAU_DAY          NaN         0.0              0.0   \n",
      "AMT_REQ_CREDIT_BUREAU_WEEK         NaN         0.0              0.0   \n",
      "AMT_REQ_CREDIT_BUREAU_MON          NaN         0.0              0.0   \n",
      "AMT_REQ_CREDIT_BUREAU_QRT          NaN         0.0              0.0   \n",
      "AMT_REQ_CREDIT_BUREAU_YEAR         NaN         0.0              0.0   \n",
      "\n",
      "                                     3           4  \n",
      "SK_ID_CURR                      434300      446788  \n",
      "TARGET                               0           0  \n",
      "NAME_CONTRACT_TYPE          Cash loans  Cash loans  \n",
      "CODE_GENDER                          F           F  \n",
      "FLAG_OWN_CAR                         N           N  \n",
      "...                                ...         ...  \n",
      "AMT_REQ_CREDIT_BUREAU_DAY          0.0         0.0  \n",
      "AMT_REQ_CREDIT_BUREAU_WEEK         0.0         0.0  \n",
      "AMT_REQ_CREDIT_BUREAU_MON          0.0         0.0  \n",
      "AMT_REQ_CREDIT_BUREAU_QRT          1.0         0.0  \n",
      "AMT_REQ_CREDIT_BUREAU_YEAR         5.0         1.0  \n",
      "\n",
      "[122 rows x 5 columns]\n"
     ]
    },
    {
     "data": {
      "text/html": [
       "<div>\n",
       "<style scoped>\n",
       "    .dataframe tbody tr th:only-of-type {\n",
       "        vertical-align: middle;\n",
       "    }\n",
       "\n",
       "    .dataframe tbody tr th {\n",
       "        vertical-align: top;\n",
       "    }\n",
       "\n",
       "    .dataframe thead th {\n",
       "        text-align: right;\n",
       "    }\n",
       "</style>\n",
       "<table border=\"1\" class=\"dataframe\">\n",
       "  <thead>\n",
       "    <tr style=\"text-align: right;\">\n",
       "      <th></th>\n",
       "      <th>0</th>\n",
       "      <th>1</th>\n",
       "      <th>2</th>\n",
       "      <th>3</th>\n",
       "      <th>4</th>\n",
       "    </tr>\n",
       "  </thead>\n",
       "  <tbody>\n",
       "    <tr>\n",
       "      <th>SK_ID_CURR</th>\n",
       "      <td>428247</td>\n",
       "      <td>140966</td>\n",
       "      <td>407283</td>\n",
       "      <td>434300</td>\n",
       "      <td>446788</td>\n",
       "    </tr>\n",
       "    <tr>\n",
       "      <th>TARGET</th>\n",
       "      <td>0</td>\n",
       "      <td>0</td>\n",
       "      <td>0</td>\n",
       "      <td>0</td>\n",
       "      <td>0</td>\n",
       "    </tr>\n",
       "    <tr>\n",
       "      <th>NAME_CONTRACT_TYPE</th>\n",
       "      <td>Cash loans</td>\n",
       "      <td>Cash loans</td>\n",
       "      <td>Revolving loans</td>\n",
       "      <td>Cash loans</td>\n",
       "      <td>Cash loans</td>\n",
       "    </tr>\n",
       "    <tr>\n",
       "      <th>CODE_GENDER</th>\n",
       "      <td>F</td>\n",
       "      <td>M</td>\n",
       "      <td>F</td>\n",
       "      <td>F</td>\n",
       "      <td>F</td>\n",
       "    </tr>\n",
       "    <tr>\n",
       "      <th>FLAG_OWN_CAR</th>\n",
       "      <td>N</td>\n",
       "      <td>Y</td>\n",
       "      <td>N</td>\n",
       "      <td>N</td>\n",
       "      <td>N</td>\n",
       "    </tr>\n",
       "    <tr>\n",
       "      <th>...</th>\n",
       "      <td>...</td>\n",
       "      <td>...</td>\n",
       "      <td>...</td>\n",
       "      <td>...</td>\n",
       "      <td>...</td>\n",
       "    </tr>\n",
       "    <tr>\n",
       "      <th>AMT_REQ_CREDIT_BUREAU_DAY</th>\n",
       "      <td>NaN</td>\n",
       "      <td>0.0</td>\n",
       "      <td>0.0</td>\n",
       "      <td>0.0</td>\n",
       "      <td>0.0</td>\n",
       "    </tr>\n",
       "    <tr>\n",
       "      <th>AMT_REQ_CREDIT_BUREAU_WEEK</th>\n",
       "      <td>NaN</td>\n",
       "      <td>0.0</td>\n",
       "      <td>0.0</td>\n",
       "      <td>0.0</td>\n",
       "      <td>0.0</td>\n",
       "    </tr>\n",
       "    <tr>\n",
       "      <th>AMT_REQ_CREDIT_BUREAU_MON</th>\n",
       "      <td>NaN</td>\n",
       "      <td>0.0</td>\n",
       "      <td>0.0</td>\n",
       "      <td>0.0</td>\n",
       "      <td>0.0</td>\n",
       "    </tr>\n",
       "    <tr>\n",
       "      <th>AMT_REQ_CREDIT_BUREAU_QRT</th>\n",
       "      <td>NaN</td>\n",
       "      <td>0.0</td>\n",
       "      <td>0.0</td>\n",
       "      <td>1.0</td>\n",
       "      <td>0.0</td>\n",
       "    </tr>\n",
       "    <tr>\n",
       "      <th>AMT_REQ_CREDIT_BUREAU_YEAR</th>\n",
       "      <td>NaN</td>\n",
       "      <td>0.0</td>\n",
       "      <td>0.0</td>\n",
       "      <td>5.0</td>\n",
       "      <td>1.0</td>\n",
       "    </tr>\n",
       "  </tbody>\n",
       "</table>\n",
       "<p>122 rows × 5 columns</p>\n",
       "</div>"
      ],
      "text/plain": [
       "                                     0           1                2  \\\n",
       "SK_ID_CURR                      428247      140966           407283   \n",
       "TARGET                               0           0                0   \n",
       "NAME_CONTRACT_TYPE          Cash loans  Cash loans  Revolving loans   \n",
       "CODE_GENDER                          F           M                F   \n",
       "FLAG_OWN_CAR                         N           Y                N   \n",
       "...                                ...         ...              ...   \n",
       "AMT_REQ_CREDIT_BUREAU_DAY          NaN         0.0              0.0   \n",
       "AMT_REQ_CREDIT_BUREAU_WEEK         NaN         0.0              0.0   \n",
       "AMT_REQ_CREDIT_BUREAU_MON          NaN         0.0              0.0   \n",
       "AMT_REQ_CREDIT_BUREAU_QRT          NaN         0.0              0.0   \n",
       "AMT_REQ_CREDIT_BUREAU_YEAR         NaN         0.0              0.0   \n",
       "\n",
       "                                     3           4  \n",
       "SK_ID_CURR                      434300      446788  \n",
       "TARGET                               0           0  \n",
       "NAME_CONTRACT_TYPE          Cash loans  Cash loans  \n",
       "CODE_GENDER                          F           F  \n",
       "FLAG_OWN_CAR                         N           N  \n",
       "...                                ...         ...  \n",
       "AMT_REQ_CREDIT_BUREAU_DAY          0.0         0.0  \n",
       "AMT_REQ_CREDIT_BUREAU_WEEK         0.0         0.0  \n",
       "AMT_REQ_CREDIT_BUREAU_MON          0.0         0.0  \n",
       "AMT_REQ_CREDIT_BUREAU_QRT          1.0         0.0  \n",
       "AMT_REQ_CREDIT_BUREAU_YEAR         5.0         1.0  \n",
       "\n",
       "[122 rows x 5 columns]"
      ]
     },
     "metadata": {},
     "output_type": "display_data"
    }
   ],
   "source": [
    "### TODO Complete in this cell: show first 5 records in a transposed table\n",
    "# Show the first 5 records of the training dataset, transposed\n",
    "app_train_transposed = app_train.head(5).transpose()\n",
    "\n",
    "# We display the transposed DataFrame\n",
    "print(app_train_transposed)\n",
    "\n",
    "# Display it in a more readable format\n",
    "from IPython.display import display\n",
    "display(app_train_transposed)\n"
   ]
  },
  {
   "cell_type": "markdown",
   "id": "59da8f46-e503-4b67-8e73-ac61c394824c",
   "metadata": {
    "id": "59da8f46-e503-4b67-8e73-ac61c394824c"
   },
   "source": [
    "1.5. Show the distribution of the target variable values: print the total value count and the percentage of each value, plot this relationship."
   ]
  },
  {
   "cell_type": "code",
   "execution_count": null,
   "id": "8855d370-c825-415b-9dd0-9dbdd576fada",
   "metadata": {
    "colab": {
     "base_uri": "https://localhost:8080/",
     "height": 359
    },
    "executionInfo": {
     "elapsed": 637,
     "status": "ok",
     "timestamp": 1670195337134,
     "user": {
      "displayName": "Jose Luis",
      "userId": "17952480099147442429"
     },
     "user_tz": 180
    },
    "id": "8855d370-c825-415b-9dd0-9dbdd576fada",
    "outputId": "13794aaf-d179-4506-f087-ad8cd0be3e98"
   },
   "outputs": [
    {
     "name": "stdout",
     "output_type": "stream",
     "text": [
      "Target Variable Distribution:\n",
      "0    226257\n",
      "1     19751\n",
      "Name: TARGET, dtype: int64\n",
      "\n",
      "Target Variable Percentage:\n",
      "0    91.971399\n",
      "1     8.028601\n",
      "Name: TARGET, dtype: float64\n"
     ]
    },
    {
     "data": {
      "image/png": "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",
      "text/plain": [
       "<Figure size 800x600 with 1 Axes>"
      ]
     },
     "metadata": {},
     "output_type": "display_data"
    }
   ],
   "source": [
    "### TODO Complete in this cell: show distribution of target variable\n",
    "# 1.5. Show the distribution of the target variable values\n",
    "\n",
    "# We calculate total value count\n",
    "target_counts = app_train['TARGET'].value_counts()\n",
    "\n",
    "# Now, we calculate percentage of each value\n",
    "target_percentage = app_train['TARGET'].value_counts(normalize=True) * 100\n",
    "\n",
    "# Display the counts and percentages\n",
    "print(\"Target Variable Distribution:\")\n",
    "print(target_counts)\n",
    "print(\"\\nTarget Variable Percentage:\")\n",
    "print(target_percentage)\n",
    "\n",
    "# Plot the distribution\n",
    "import matplotlib.pyplot as plt\n",
    "import seaborn as sns\n",
    "\n",
    "plt.figure(figsize=(8, 6))\n",
    "sns.barplot(x=target_counts.index, y=target_counts.values, palette=\"viridis\")\n",
    "plt.title(\"Distribution of Target Variable\", fontsize=16)\n",
    "plt.xlabel(\"Target Value\", fontsize=12)\n",
    "plt.ylabel(\"Count\", fontsize=12)\n",
    "plt.xticks([0, 1], [\"0 (No Payment Difficulty)\", \"1 (Payment Difficulty)\"])\n",
    "plt.tight_layout()\n",
    "plt.show()\n"
   ]
  },
  {
   "cell_type": "markdown",
   "id": "cc7b5a63-da31-4a61-9e91-9708dc7633a7",
   "metadata": {
    "id": "cc7b5a63-da31-4a61-9e91-9708dc7633a7"
   },
   "source": [
    "1.6. Show the number of columns of each data type.\n",
    "\n",
    "Just for giving you an idea, the output should look like this (not exactly the same numbers):\n",
    "\n",
    "```python\n",
    "float64    45\n",
    "int64      32\n",
    "object     10\n",
    "```"
   ]
  },
  {
   "cell_type": "code",
   "execution_count": 7,
   "id": "b74878dd-cc48-4e69-bc35-e90457d54b3a",
   "metadata": {
    "colab": {
     "base_uri": "https://localhost:8080/"
    },
    "executionInfo": {
     "elapsed": 298,
     "status": "ok",
     "timestamp": 1666034867408,
     "user": {
      "displayName": "Federico Morales",
      "userId": "06983145799989655383"
     },
     "user_tz": 180
    },
    "id": "b74878dd-cc48-4e69-bc35-e90457d54b3a",
    "outputId": "5c188262-b9b1-4368-b952-fd2b5608a864"
   },
   "outputs": [
    {
     "name": "stdout",
     "output_type": "stream",
     "text": [
      "Number of columns per data type:\n",
      "float64    65\n",
      "int64      41\n",
      "object     16\n",
      "dtype: int64\n",
      "Numeric and categoricals variables: ------------>\n",
      "<class 'pandas.core.frame.DataFrame'>\n",
      "RangeIndex: 246008 entries, 0 to 246007\n",
      "Columns: 122 entries, SK_ID_CURR to AMT_REQ_CREDIT_BUREAU_YEAR\n",
      "dtypes: float64(65), int64(41), object(16)\n",
      "memory usage: 229.0+ MB\n"
     ]
    }
   ],
   "source": [
    "### TODO Complete in this cell: show number of columns per data type\n",
    "\n",
    "# Count the number of columns per data type\n",
    "data_types_counts = app_train.dtypes.value_counts()\n",
    "\n",
    "# Display the results\n",
    "print(\"Number of columns per data type:\")\n",
    "print(data_types_counts)\n",
    "\n",
    "print(\"Numeric and categoricals variables: ------------>\")\n",
    "df_train.info()"
   ]
  },
  {
   "cell_type": "markdown",
   "id": "c0a8799e-d32a-4239-a85d-6ff29ab4682f",
   "metadata": {
    "id": "c0a8799e-d32a-4239-a85d-6ff29ab4682f"
   },
   "source": [
    "1.7. For categorical variables (`object` data type), show the number of distinct values in each column (number of labels).\n",
    "\n",
    "Just for giving you an idea, the output should look like this (not exactly the same numbers):\n",
    "\n",
    "```python\n",
    "NAME_CONTRACT_TYPE             5\n",
    "CODE_GENDER                    2\n",
    "FLAG_OWN_CAR                   1\n",
    "FLAG_OWN_REALTY                1\n",
    "...\n",
    "```"
   ]
  },
  {
   "cell_type": "code",
   "execution_count": 8,
   "id": "8b294976-dc0d-44bd-9bf6-29ba1f6a2e2b",
   "metadata": {
    "colab": {
     "base_uri": "https://localhost:8080/"
    },
    "executionInfo": {
     "elapsed": 302,
     "status": "ok",
     "timestamp": 1666034867708,
     "user": {
      "displayName": "Federico Morales",
      "userId": "06983145799989655383"
     },
     "user_tz": 180
    },
    "id": "8b294976-dc0d-44bd-9bf6-29ba1f6a2e2b",
    "outputId": "277be5a9-e286-4d82-956d-7af49e6112ec"
   },
   "outputs": [
    {
     "name": "stdout",
     "output_type": "stream",
     "text": [
      "Number of unique values per categorical column:\n",
      "NAME_CONTRACT_TYPE             2\n",
      "CODE_GENDER                    3\n",
      "FLAG_OWN_CAR                   2\n",
      "FLAG_OWN_REALTY                2\n",
      "NAME_TYPE_SUITE                7\n",
      "NAME_INCOME_TYPE               8\n",
      "NAME_EDUCATION_TYPE            5\n",
      "NAME_FAMILY_STATUS             6\n",
      "NAME_HOUSING_TYPE              6\n",
      "OCCUPATION_TYPE               18\n",
      "WEEKDAY_APPR_PROCESS_START     7\n",
      "ORGANIZATION_TYPE             58\n",
      "FONDKAPREMONT_MODE             4\n",
      "HOUSETYPE_MODE                 3\n",
      "WALLSMATERIAL_MODE             7\n",
      "EMERGENCYSTATE_MODE            2\n",
      "dtype: int64\n"
     ]
    }
   ],
   "source": [
    "### TODO Complete in this cell: show number of unique values per categorical column\n",
    "# 1.7. Show the number of distinct values in each categorical column\n",
    "\n",
    "# Filter columns with object data type (categorical variables)\n",
    "categorical_columns = app_train.select_dtypes(include=['object'])\n",
    "\n",
    "# Count the number of unique values in each categorical column\n",
    "unique_counts = categorical_columns.nunique()\n",
    "\n",
    "# Display the results\n",
    "print(\"Number of unique values per categorical column:\")\n",
    "print(unique_counts)\n"
   ]
  },
  {
   "cell_type": "markdown",
   "id": "967d1938-e27d-4fbd-9bdc-f26364f5fdfd",
   "metadata": {
    "id": "967d1938-e27d-4fbd-9bdc-f26364f5fdfd"
   },
   "source": [
    "1.8. Analyzing missing data: show the percentage of missing data for each column ordered by percentage descending (show only the 20 columns with higher missing pct)\n",
    "\n",
    "Just for giving you an idea, the output should look like this (not exactly the same numbers and columns names):\n",
    "\n",
    "```python\n",
    "                   Total   Percent\n",
    "COMMONAREA_AVG    121000      85.2\n",
    "COMMONAREA_MODE   121000      76.6\n",
    "COMMONAREA_MEDI   121000      62.9\n",
    "...\n",
    "```"
   ]
  },
  {
   "cell_type": "code",
   "execution_count": 9,
   "id": "0b65aa7e-d8a2-44b0-9803-ca5277471470",
   "metadata": {
    "colab": {
     "base_uri": "https://localhost:8080/",
     "height": 676
    },
    "executionInfo": {
     "elapsed": 604,
     "status": "ok",
     "timestamp": 1666034868311,
     "user": {
      "displayName": "Federico Morales",
      "userId": "06983145799989655383"
     },
     "user_tz": 180
    },
    "id": "0b65aa7e-d8a2-44b0-9803-ca5277471470",
    "outputId": "dca74fc2-8fd7-4d29-ef67-f58c3abf2e09",
    "scrolled": true
   },
   "outputs": [
    {
     "name": "stdout",
     "output_type": "stream",
     "text": [
      "Top 20 columns with the highest missing data percentage:\n",
      "                           Total    Percent\n",
      "COMMONAREA_MEDI           172189  69.993252\n",
      "COMMONAREA_AVG            172189  69.993252\n",
      "COMMONAREA_MODE           172189  69.993252\n",
      "NONLIVINGAPARTMENTS_MEDI  171096  69.548958\n",
      "NONLIVINGAPARTMENTS_MODE  171096  69.548958\n",
      "NONLIVINGAPARTMENTS_AVG   171096  69.548958\n",
      "FONDKAPREMONT_MODE        168561  68.518503\n",
      "LIVINGAPARTMENTS_MODE     168494  68.491269\n",
      "LIVINGAPARTMENTS_MEDI     168494  68.491269\n",
      "LIVINGAPARTMENTS_AVG      168494  68.491269\n",
      "FLOORSMIN_MODE            167255  67.987626\n",
      "FLOORSMIN_MEDI            167255  67.987626\n",
      "FLOORSMIN_AVG             167255  67.987626\n",
      "YEARS_BUILD_MODE          163980  66.656369\n",
      "YEARS_BUILD_MEDI          163980  66.656369\n",
      "YEARS_BUILD_AVG           163980  66.656369\n",
      "OWN_CAR_AGE               162503  66.055982\n",
      "LANDAREA_AVG              146436  59.524893\n",
      "LANDAREA_MEDI             146436  59.524893\n",
      "LANDAREA_MODE             146436  59.524893\n"
     ]
    }
   ],
   "source": [
    "### TODO Complete in this cell: checking missing data\n",
    "# 1.8. Analyzing missing data\n",
    "\n",
    "# Calculate the total and percentage of missing values\n",
    "missing_data = app_train.isnull().sum()\n",
    "missing_percentage = (missing_data / len(app_train)) * 100\n",
    "\n",
    "# Combine into a single DataFrame\n",
    "missing_summary = pd.DataFrame({\n",
    "    'Total': missing_data,\n",
    "    'Percent': missing_percentage\n",
    "})\n",
    "\n",
    "# Filter for columns with missing data and sort by percentage descending\n",
    "missing_summary = missing_summary[missing_summary['Total'] > 0]\n",
    "missing_summary = missing_summary.sort_values(by='Percent', ascending=False)\n",
    "\n",
    "# Show only the top 20 columns with the highest percentage of missing data\n",
    "top_missing = missing_summary.head(20)\n",
    "\n",
    "# Display the results\n",
    "print(\"Top 20 columns with the highest missing data percentage:\")\n",
    "print(top_missing)"
   ]
  },
  {
   "attachments": {},
   "cell_type": "markdown",
   "id": "783c5bb6-6b6d-4e34-bbe2-3a5dc319a4f0",
   "metadata": {
    "id": "783c5bb6-6b6d-4e34-bbe2-3a5dc319a4f0"
   },
   "source": [
    "#### Analyzing distribution of variables"
   ]
  },
  {
   "cell_type": "markdown",
   "id": "9c79d319-bde8-47a4-890d-6694edf221e2",
   "metadata": {
    "id": "9c79d319-bde8-47a4-890d-6694edf221e2"
   },
   "source": [
    "1.9. Show the distribution of credit amounts.\n",
    "\n",
    "*Hint:* Take a look at `AMT_CREDIT` column."
   ]
  },
  {
   "cell_type": "code",
   "execution_count": 10,
   "id": "bc953042-9744-498e-a435-fa660e76c70d",
   "metadata": {
    "colab": {
     "base_uri": "https://localhost:8080/",
     "height": 408
    },
    "executionInfo": {
     "elapsed": 2137,
     "status": "ok",
     "timestamp": 1666034870446,
     "user": {
      "displayName": "Federico Morales",
      "userId": "06983145799989655383"
     },
     "user_tz": 180
    },
    "id": "bc953042-9744-498e-a435-fa660e76c70d",
    "outputId": "28e9ab9e-788b-4ca8-e796-a672103d6045",
    "scrolled": false
   },
   "outputs": [
    {
     "data": {
      "image/png": "iVBORw0KGgoAAAANSUhEUgAAA90AAAJOCAYAAACqS2TfAAAAOXRFWHRTb2Z0d2FyZQBNYXRwbG90bGliIHZlcnNpb24zLjYuMywgaHR0cHM6Ly9tYXRwbG90bGliLm9yZy/P9b71AAAACXBIWXMAAA9hAAAPYQGoP6dpAAC5+0lEQVR4nOzdeXxU1f3/8fdM9pCVkARCAoRFCTsEhYiyS0CqomjdUBD3gi1g6eJPwaXWfrUKWrdaBdyoCxV3UURA2UQgEUFA1GhAEkgCJBCyztzfH5eZZMhClklmEl7Px4POcOfce89nZvDR95xzz7UYhmEIAAAAAAC4ndXTHQAAAAAAoLUidAMAAAAA0EQI3QAAAAAANBFCNwAAAAAATYTQDQAAAABAEyF0AwAAAADQRAjdAAAAAAA0EUI3AAAAAABNhNANAAAAAEATIXQDQAvTpUsXWSwW5x+r1arQ0FDFx8dr1KhR+uMf/6jNmzfXeoyRI0fKYrFozZo1zdPp03DU9PPPP7ts97Z+StK0adNksVi0ZMkST3elSbz//vu64IILFBYW5vyO1ff9X7lypW688UadddZZCgsLU0BAgDp06KALL7xQCxYsUE5OTtN0vgEcNZ6qpu+ku11yySXOPuzYsaNJzwUA8AxCNwC0UMOGDdPUqVN1ww036KKLLtLZZ5+tb775Ro899piGDBmikSNH6qeffmrSPjRXMGkuS5YskcVi0bRp0zzdFY9IT0/X5MmTtXHjRg0dOlQ33HCDpk6dqvbt29dp/9zcXF144YUaN26clixZorKyMo0aNUqTJ09WUlKSNmzYoDlz5qhr16766quvmriapuHOH12ysrL00UcfOf/+4osvNvqYrVlNP5AAgLfz9XQHAAANc/PNN1cJh4Zh6OOPP9asWbO0du1anXfeedq4caMSExNd2r388ss6ceKEOnXq1Iw9rtmqVatUVlamjh07erorp/Xwww/rL3/5izp06ODprrjdO++8o7KyMt1999166KGH6rVvfn6+zj//fO3Zs0c9e/bU888/rwsuuMClTUlJiV566SXNnz9fWVlZ7uy62zXHd/Kll16SzWZTx44d9euvv+rVV1/V//3f/8nf37/JzgkAaH6MdANAK2KxWHTRRRdp8+bN6tGjhw4ePKibb765SrtOnTqpZ8+eCg4O9kAvq+rWrZt69uwpPz8/T3fltDp06KCePXsqPDzc011xu8zMTElSjx496r3vnXfeqT179qhLly5av359lcAtSQEBAbr11luVnp6upKSkRve3KTXHd3LRokWSpMcee0xdu3ZVbm6u3n333SY7HwDAMwjdANAKRUREaOHChZKkzz//XFu3bnV5vaZrpUtKSvToo48qOTlZoaGh8vf3V/v27XXOOefoT3/6kw4fPiypYhr2L7/8IklKTEx0uc7ccdw1a9bIYrFo5MiROnHihObNm6ekpCQFBwerS5cuzvPWZZr62rVrNW7cOLVt21bBwcE699xz9corr1Tb9nTXgt93332yWCy67777XPpw4403SjJHICvXM3LkSGe7000vfv311zVmzBi1bdtWAQEB6ty5s6ZPn67vv/++2vaVa1+9erXGjRunyMhIBQUFadCgQXr55ZdrfE9qU15erueee07nnXeewsPDFRgYqB49euj3v/+9fv3112rfj8WLF0uSbrzxxmprr8lPP/2kpUuXSpIef/xxtW3bttb2sbGxOvvss6uc/7777lNmZqZuuukmJSQkyM/Pr8psjmXLlmn8+PGKjo6Wv7+/OnbsqClTpui7776r8XwbN27UhAkTFBERoZCQEA0ePNgZeGty6nfy559/lsVi0UsvvSTJ9T069btUF2vXrtXevXsVFRWlyy67zPndq22KeeXv3p49e3TVVVcpJiZGbdq00TnnnOMS2L/66itdcsklio6OVlBQkFJSUrRq1aoaj71//37deeed6tGjhwIDAxUeHq5hw4bp3//+t2w2W5X21f0bqqzyv/2atpeVlen//u//1Lt3bwUFBSkqKkqXX365du3aVe25HCq/76f+d+Ott97S2LFjFRUVJT8/P0VFRalXr1665ZZbtH379hrrB4CmxPRyAGilJkyYoLZt2+rw4cNauXKlkpOTa21vt9s1ceJErVq1SmFhYbrgggsUERGhnJwc7d27V48++qiuvfZatW3bVt27d9fUqVO1bNkyFRYWavLkyQoJCXEe69RrgIuLizVy5Eh99913Gj58uPr376+8vLw617J8+XI99dRT6tmzp1JTU3XgwAGtW7dON9xwg9LT0/XYY4/V782pxhVXXKFNmzZp/fr16tatm84//3znaz179jzt/oZhaNq0aXr55Zfl6+ur4cOHKyYmRtu2bdPixYv1xhtv6H//+5/Gjx9f7f6LFi3S3/72Nw0aNEjjx4/Xzz//rE2bNmnq1Kk6fPiwZs2aVedaSkpK9Jvf/EafffaZAgMDNWrUKIWFhWnDhg3617/+pf/+97/65JNPNGjQIEnSgAEDNHXqVK1bt04//vijhg0bpu7du9e59g8++EA2m00RERG65JJL6tzPU+3du1cDBw6Uv7+/hg0bJsMw1K5dO0nmjwjXXXed3nzzTQUEBCg5OVkdO3bU999/r9dee01vv/223n777Srv71tvvaVrrrlGNptNffr0Ud++fbVv3z7dfPPN2rlzZ537FhISUuN7JJnvYX04wvV1110nf39/TZs2TfPnz9fKlSu1b98+JSQk1Ljvtm3bNHPmTMXHx2vMmDH65ZdftHHjRl122WV688035evrq9/+9rfq06ePxowZo927d2vTpk0aP368Vq9e7fLdlqSvv/5a48eP1+HDh9WpUydNmjRJ+fn5WrNmjTZs2KDly5frvffec+u097KyMl100UXasGGDhg8frqSkJG3evFnLly/X6tWrlZaW5vxhzvH9dPzgMXXqVJdjOf7b88ADD2j+/Pny9fXVeeedp44dOyo/P1+ZmZl68cUX1bt3b/Xr189tNQBAnRkAgBalc+fOhiRj8eLFp207duxYQ5IxZcoUl+0jRowwJBmrV692blu7dq0hyRg4cKBRUFBQ5Vhff/21kZubW21fMjIyqj3/6tWrDUmGJKNfv35GVlZWrTWdehxHPyUZf//7311eW7NmjREUFGRIMlasWHHa+iqbP3++IcmYP3++y/bFixcbkoypU6dWu59hGMbUqVOrff+fffZZQ5LRrl07Iy0tzbndbrc7zxcREWEcOnSo2tr9/PyM999/v9r+hIeHGydOnKixT6f685//bEgyunXr5vKelpaWGjfddJMhyUhMTDRKSkrqVNvpXH/99YYkY/To0fXaz8Hx/ji+q8XFxVXa3H333YYkY8iQIcZPP/3k8tpbb71l+Pj4GJGRkcaRI0ec27OysozQ0FBDkvH444+77PPZZ58ZgYGBzvOeqqbvZEPfo8qOHj3q/O6mp6c7t6emphqSjAceeKDa/RznlmT87W9/M+x2u/O1J5980pBkxMfHG5GRkcbLL7/ssu+sWbMMScbYsWNdthcXFztrvf32243S0lLnaz/++KPRpUsXQ5Jx9913u+xX078hB8e//REjRlS73fHfmsr/TSgqKnK+B7feemuVY9b0WTnqCAoKMkJCQozdu3dXef3nn382du3aVe2+ANDUmF4OAK2YY5SwLqPKBw8elCRdcMEFCg0NrfL64MGDFRUV1eC+PPXUU3VeBftUAwcO1F//+leXbSNGjNDvfvc7SXLLSHdj/fOf/5QkzZs3z2XU02KxaP78+erXr5+OHj2q//znP9Xuf+edd+o3v/mNy7Zp06apZ8+eys/P15YtW+rUj+LiYj399NOSpAULFrhM4/fz89OTTz6p2NhYZWRkaNmyZfWosGaOW4DFxMQ06jht27bVU089pYCAAJfthw8f1oIFCxQYGKj//e9/VRYGvOKKK3TbbbfpyJEjevXVV53bX3zxRR07dkxDhw7V7NmzXfYZM2aMbrvttkb1t6H++9//qqioSMnJyerfv79z+0033SRJWrx4sQzDqHH/c889V3fffbfLlOs77rhDbdu21f79+zV27Fhdf/31Lvvcc889kqQvvvhCZWVlzu1vvfWWfvnlF8XFxWnhwoUu17B37drV+b3+17/+peLi4kZU7cpxOUPl/yYEBgbq/vvvlyR99tln9TpeQUGBioqK1LVrV5dLFxw6d+5cp1kbANAUCN0A0IrZ7XZJqtNtdgYNGiQfHx8tWrRITz/9tFtXl46Jial2Ya26uuGGG6rd7phmum7dumqvO20u+/fv148//ujSp8osFovzmt3Vq1dXe4yLL7642u2OBcdOvQ67Jlu2bNHx48fVtm3bao8ZHBysq6++uta+eMrYsWOrXaBu9erVKioq0rBhw2pcTdxx7fCGDRuc2xzX9F933XXV7lPdZ9UcXnjhBUnS9OnTXbZfeumlioqKUkZGhj7//PMa958wYUKVf9O+vr7OHyMuuuiiKvtERUWpbdu2Ki0tdfkRzvEeXX311VV+7JCkyy+/XJGRkTp27FiVtSEao1OnTi4/ODjU9/vuEB0drS5dumj79u266667ar3GHwCaG6EbAFqx3NxcSTrtwlaSuVrzggULVFZWppkzZyouLk5dunTRNddco9dee02lpaUN7kfl0daGOHVk89TtRUVF9bpG3N0cASEqKkphYWHVtunWrZtL21PVdPs2x/HqOsroOH5N71ld+lJf0dHRkqRDhw416jg1fU8c95tftWpVlUW0HH9++9vfSqoYdZfMH0Ok039/mtM333yjrVu3KjAwUNdee63La/7+/s4fCGpb6K2m74rj2uaaXnfMYKn8XTrd98VisThfc9f3pbY+Or7vJSUl9T7myy+/rJiYGD3++OPq3bu3oqKidNFFF2nBggXO/xYCgCewkBoAtFKGYSgtLU2S1Ldv3zrtc+edd+q3v/2t3nvvPa1bt07r1q3T66+/rtdff13z58/Xl19+2aD7UwcFBdV7n/qqbTruqRwzALyJ1dpyfwdPTk7WK6+8om3btslms8nHx6dBx6npe+L4vLp3765hw4bVegxvn0LsWEDN19e3yuUEUsWlIG+//baOHj2qiIiIKm1O913xhu/S6f6NNUUfL7jgAv3888/68MMPtXbtWm3YsEGffPKJPv74Y82fP1/Lly/XmDFj3H5eADgdQjcAtFIfffSRjhw5IkkaN25cnfeLjY3VLbfcoltuuUWStHv3bk2fPl0bN27UX/7yF+cKws0pIyOj2u2OWwUFBga6XG/uWGX52LFj1e7nuNWZuzimPOfl5amgoKDa0W7HaG1N06Pd3Zea3rOm6MtvfvMbzZkzR0ePHtV7772nyy67zC3HdXCs5H322WfXeKu26nTs2FG7d++u8VZ0td2irimUlJTotddekyQdP35c69evr7FtcXGxXnvtNc2YMaNJ++T4Dji+E9VxfJcqf1+a+99YXQUFBemKK67QFVdcIcmc+XDPPffo+eef1/Tp0z3WLwBnNs//FAoAcLv8/HznwlEXXnhhvW9nVFnPnj315z//WZKUnp7u8prj/3iXl5c3+Ph1UXlxrMoc97A+//zz5etb8TuyIxycer9fSTpx4kSN1zI3tJ74+HjnlO3qQqFhGM7to0aNqtex62vw4MEKCQnR4cOH9d5771V5vaioSK+//rpb+9KtWzddc801kqS77rrLeT/3mhw6dEh79uyp8/HHjBkjf39/rVmzpl5T2EeMGCFJzqB7qobcA70x3/m3335bhw8fVlxcnMrLy2UYRrV/nnnmGUm137PbXRzXwr/xxhvVXsKwfPlyHTlyRKGhoS63Hazt35gkffjhh27vq2ORt/q899HR0XrkkUckSZmZmc4fIgGgORG6AaAVMQxDH3/8sc4991zt3btXHTp0qHG17FN9/vnn+uijj1xWNnYc84MPPpBkrgBcWXx8vCTV637HDbF161bn/3F2WLdunXOV7lNXph47dqwk6emnn3a5DrWwsFC33nqr9u3bV+15HPU0ZBGmP/7xj5KkBx98UN98841zu2EY+tvf/qb09HRFREQ4ZxA0lcDAQOfo6F133eUysldWVqY//OEPys7OVmJionM00B3+9a9/qXv37srIyND555+vdevWVWlTWlqqRYsWaeDAgTWGterExsbqzjvvVGFhoS6++GJ9++23VdqUlJTovffe0+7du53bbrrpJoWEhGjjxo168sknXdqvWbNGzz33XD0qNDXmO+8I0VOmTKl1Cv7VV18tf39/paWlVfmhy92uvPJKderUSQcOHNCcOXNcAm1GRobuuusuSealJ4GBgc7XRo8eLavVqk8++URr1651bjcMQ08++aT+97//ub2vtb33v/zyi1544QUVFBRUee3999+XJEVGRta45gIANCWmlwNAC/XCCy84Vx4uKSlRbm6utm3b5hxlHDlypBYtWlQlKNdk+/btmj17tsLCwjRo0CDFxcWpqKhI27Zt0y+//KLw8HA98MADLvtMnjxZq1ev1pQpUzRu3DhFRkZKkubOnVvtbXsa6ve//73++te/6uWXX1a/fv104MABffnll7Lb7frDH/5QZbXm3/72t1q4cKG2bNmi3r176/zzz5fdbteWLVvk7++v6dOnV7tQ1dChQxUXF6e0tDQNGjRIffv2lZ+fn84++2zNnTu31j7edttt2rBhg1555RUNHjxYI0aMUExMjLZt26Y9e/YoKChIS5cudS461pTuv/9+bdmyRatWrVJSUpJGjRql0NBQbdy4UZmZmYqKitJbb73lHLV1h8jISK1fv15XXXWV1qxZowsuuECJiYnq16+fgoODdfDgQW3evFnHjx9XWFiY4uLi6nX8f/zjH8rKytLSpUs1YMAA9e/fX127dpWvr6/279+v9PR0FRYW6uOPP3Ze1x0XF6f//Oc/mjJliv7whz/ohRdeUJ8+ffTrr7/qyy+/1KxZs7RgwYJ69WPSpEm6//779eSTT2rHjh1KSEiQ1WrVJZdcoksuuaTG/SqvSH66VdMjIyP1m9/8Rm+//bZefPFF/etf/6pXH+sjICBAy5Yt0/jx4/Xss8/qo48+0tChQ3Xs2DF9/vnnKi4uVmpqqubPn++yX0JCgu6880498cQTGjNmjC644AK1bdtW33zzjTIzM/WXv/xF//jHP9za18mTJ+uf//ynxo4dq9GjRzsXhvu///s/HTlyRLfccot+97vfacCAAc7F3/bu3au0tDRZLBY9+uijDV5vAAAaxRM3BwcANFznzp0NSS5/2rRpY8TFxRkjRoww7rrrLmPz5s21HmPEiBGGJGP16tXObT/88INx3333GWPGjDE6depkBAYGGpGRkUa/fv2Mv/zlL8a+ffuqHMdmsxkPP/yw0bt3byMwMNDZH8dxV69ebUgyRowYUaeaMjIyauznqlWrjDFjxhjh4eFGUFCQMXjwYGPJkiU1HvPIkSPGzJkzjfj4eMPPz8/o2LGjceuttxoHDx405s+fb0gy5s+fX2W/b7/91rjkkkuM6Ohow2q1Vun/1KlTDUnG4sWLqz3v0qVLjZEjRxoRERGGn5+fkZCQYEybNs3YvXt3vWqv6/lqUlZWZjzzzDPG0KFDjdDQUMPf39/o1q2bceeddxr79+9367lO9fHHHxs33HCD0b17dyMkJMTw8/Mz2rdvb1x44YXGwoULjby8PJf2tX0ep/roo4+Myy+/3OjYsaPh5+dnREREGElJScbVV19tLF261CgsLKyyz5dffmmkpqYaYWFhRnBwsDFw4EDj3//+t2EYhvM7e6raPpfly5cbw4YNM0JDQw2LxVKnvt97772GJGPw4MGnrdEwDOOdd94xJBmRkZFGUVGRYRin/3yq+3dd15oyMzONGTNmGF27djX8/f2N0NBQIyUlxXj22WeNsrKyao9nt9uNxx57zEhKSjL8/f2Ntm3bGhdffLGxdevWGv/t1+W/CTV9JkVFRcaf/vQno3v37oa/v7+zXUZGhlFQUGAsXLjQuOyyy4wePXoYISEhRps2bYyzzjrLuOGGG4wtW7bUeD4AaGoWw6jHcq8AAAAAAKDOuKYbAAAAAIAmQugGAAAAAKCJELoBAAAAAGgihG4AAAAAAJoIoRsAAAAAgCZC6AYAAAAAoIn4eroDrZXdbteBAwcUGhoqi8Xi6e4AAAAAANzIMAwdO3ZMcXFxslprHs8mdDeRAwcOKCEhwdPdAAAAAAA0oX379ik+Pr7G1wndTSQ0NFSS+QGEhYV5uDcAAAAAAHcqKChQQkKCM/vVhNDdRBxTysPCwgjdAAAAANBKne5yYhZSAwAAAACgiRC6AQAAAABoIoRuAAAAAACaCKEbAAAAAIAmQugGAAAAAKCJELoBAAAAAGgihG4AAAAAAJoIoRsAAAAAgCZC6AYAAAAAoIkQugEAAAAAaCKEbgAAAAAAmgihGwAAAACAJkLoBgAAAACgiRC6AQAAAABoIoRuAAAAAACaCKEbAAAAAIAmQugGAAAAAKCJELoBAAAAAGgihG4AAAAAAJoIoRsAAAAAgCbi6+kO4MyWmZmp3NzcBu/frl07derUyY09AgAAAAD3IXTDYzIzM9WzZ5KKik40+BhBQcHavXsXwRsAAACAVyJ0w2Nyc3NVVHRCl132qqKjk+q9f07OLi1fPkW5ubmEbgAAAABeidANj4uOTlKHDoM83Q0AAAAAcDsWUgMAAAAAoIkQugEAAAAAaCKEbgAAAAAAmgihGwAAAACAJkLoBgAAAACgiRC6AQAAAABoIoRuAAAAAACaCKEbAAAAAIAmQugGAAAAAKCJELoBAAAAAGgihG4AAAAAAJoIoRsAAAAAgCZC6AYAAAAAoIkQugEAAAAAaCKEbgAAAAAAmgihGwAAAACAJkLoBgAAAACgiRC6AQAAAABoIoRuAAAAAACaiFeF7meffVb9+vVTWFiYwsLClJKSoo8//tj5+siRI2WxWFz+3H777S7HyMzM1MSJExUcHKyYmBjNnTtX5eXlLm3WrFmjQYMGKSAgQN27d9eSJUuq9OXpp59Wly5dFBgYqCFDhmjz5s1NUjMAAAAAoPXyqtAdHx+vf/zjH9q6dau2bNmi0aNH69JLL9XOnTudbW655RZlZWU5/zzyyCPO12w2myZOnKjS0lJt2LBBL730kpYsWaJ58+Y522RkZGjixIkaNWqU0tPTNWvWLN1888365JNPnG3eeOMNzZkzR/Pnz9e2bdvUv39/paam6tChQ83zRgAAAAAAWgWvCt0XX3yxLrroIvXo0UNnnXWWHnroIYWEhGjTpk3ONsHBwWrfvr3zT1hYmPO1Tz/9VN99951effVVDRgwQBMmTNCDDz6op59+WqWlpZKk5557TomJiXrssceUlJSkmTNn6oorrtCCBQucx3n88cd1yy236MYbb1SvXr303HPPKTg4WIsWLWq+NwMAAAAA0OJ5VeiuzGaz6fXXX1dhYaFSUlKc21977TW1a9dOffr00V//+ledOHHC+drGjRvVt29fxcbGOrelpqaqoKDAOVq+ceNGjR071uVcqamp2rhxoySptLRUW7dudWljtVo1duxYZxsAAAAAAOrC19MdONW3336rlJQUFRcXKyQkRMuXL1evXr0kSddee606d+6suLg4bd++XX/+85+1Z88evf3225Kk7Oxsl8Atyfn37OzsWtsUFBSoqKhIR44ckc1mq7bN7t27a+x3SUmJSkpKnH8vKCiQJJWXlzuvKbdarbJarbLb7bLb7c62ju02m02GYZx2u4+PjywWS5Vr1X18fCSZP1jUZbuvr68Mw3DZbrFY5OPjU6WPNW1vTE12u13+/v6yWu2SDEkWWSyuNRmGz8nz2/Trr9I77/ho1Ci7kpKskgz5+/vLbrc73wtP19QaPydqoiZqoiZqoiZqoiZqoiZqqlrTqcerideF7rPPPlvp6enKz8/XsmXLNHXqVK1du1a9evXSrbfe6mzXt29fdejQQWPGjNGPP/6obt26ebDX0sMPP6z777+/yva0tDS1adNGkhQdHa1u3bopIyNDOTk5zjbx8fGKj4/X999/r/z8fOf2rl27KiYmRjt27FBRUZFze8+ePRUREaG0tDSXL0K/fv3k7++vLVu2uPRh8ODBKi0t1fbt253bfHx8dM455yg/P9/lx4SgoCD1799fubm5+umnn5zbw8PDlZSUpAMHDmj//v3O7Y2pKS8vT3PnzlWnTnk6ciRfRUUR6tw5TVZrRU379vVTebm/unTZolde6a2cnFB9/32+evUKU2CgTXPnzlVeXp62bNniFTW1xs+JmqiJmqiJmqiJmqiJmqiJmqrWVFhYqLqwGJV/AvBCY8eOVbdu3fTvf/+7ymuFhYUKCQnRihUrlJqaqnnz5um9995Tenq6s01GRoa6du2qbdu2aeDAgRo+fLgGDRqkhQsXOtssXrxYs2bNUn5+vkpLSxUcHKxly5Zp0qRJzjZTp07V0aNH9e6771bbz+pGuhMSEpSXl+e87tzbf6mRmvfXp7S0NA0bNkzTp69XbGyyahvp3rvXrqVLzeft2xu67TYpK2ubliw5T+vXr9eAAQO8oqbW+DlREzVREzVREzVREzVREzVRU9WaCgoKFBUVpfz8fJe1xk7ldSPdp7Lb7S5htjJHuO7QoYMkKSUlRQ899JAOHTqkmJgYSdLKlSsVFhbmnKKekpKijz76yOU4K1eudF437u/vr+TkZK1atcoZuu12u1atWqWZM2fW2M+AgAAFBARU2e7r6ytfX9e32fFlOJXjw63r9lOP25DtFoul2u019bG+22uryWq1qrS0VHa7VZJFkmQYVftiGNLq1RXHyc+3OHqv0tJSWa1Wlxo8WVN1WvrnVNc+1nc7NVGTRE019bG+26mJmiRqqqmP9d1OTdQkUVNNfazv9tZeU037VTlOnVo1k7/+9a+aMGGCOnXqpGPHjmnp0qVas2aNPvnkE/34449aunSpLrroIkVFRWn79u2aPXu2hg8frn79+kmSxo0bp169eun666/XI488ouzsbN1zzz2aMWOGMxDffvvteuqpp/SnP/1J06dP1+eff64333xTH374obMfc+bM0dSpUzV48GCde+65WrhwoQoLC3XjjTd65H050+3ZI2VlSb6+Unm5VFQklZV5ulcAAAAAcHpeFboPHTqkG264QVlZWQoPD1e/fv30ySef6MILL9S+ffv02WefOQNwQkKCJk+erHvuuce5v4+Pjz744APdcccdSklJUZs2bTR16lQ98MADzjaJiYn68MMPNXv2bD3xxBOKj4/XCy+8oNTUVGebq666Sjk5OZo3b56ys7M1YMAArVixosriamh6hiGtWWM+HzpU2rxZKi2VKl26AQAAAABey6tC94svvljjawkJCVq7du1pj9G5c+cq08dPNXLkSKWlpdXaZubMmbVOJ0fz+O476eBBKSBAOu88c9Q7J8cM3cHBnu4dAAAAANTOa+/TDdjtrqPcQUFSeLj595N3ZAMAAAAAr0bohtfatUvKzZUCA83QLUmORQGZXg4AAACgJSB0w2tlZpqP/fubwVuqCN2MdAMAAABoCQjd8FrHj5uPkZEV2xzTyxnpBgAAANASELrhtY4dMx9DQyu2cU03AAAAgJaE0A2vVV3ornxNt2E0f58AAAAAoD4I3fBKhlF76C4rk0pKfJq/YwAAAABQD4RueKWiIslmM5+HhFRs9/OruD93YaF/83cMAAAAAOqB0A2v5BjlDgqSfH1dX3Nc1338uF/zdgoAAAAA6onQDa9U3dRyB8cUc0a6AQAAAHg7Qje8Um2hu2Kkm9ANAAAAwLsRuuGV6jLSTegGAAAA4O0I3fBKx4+bj7WNdBcWck03AAAAAO9G6IZXYno5AAAAgNaA0A2vVLeF1PwkWZqtTwAAAABQX4RueKXaQndoqGSxSHa7VVJss/YLAAAAAOqD0A2vYxi1X9NttVbe3qm5ugUAAAAA9Ubohtc5cUKy283nbdpU38ZxXbeU0BxdAgAAAIAGIXTD6zimlrdpI/n4VN/GcV03oRsAAACANyN0w+vUdj23A6EbAAAAQEtA6IbXqUvorphezjXdAAAAALwXoRtexxG6Q0JqbsM13QAAAABaAkI3vA7TywEAAAC0FoRueJ3abhfmUDHS3V5lZZam7hIAAAAANAihG16nLiPdwcGSj49dklWHDvk1S78AAAAAoL4I3fA6dQndFovUpk2pJOngQf9m6BUAAAAA1B+hG17Fbq/b9HJJCgkpkyRlZxO6AQAAAHgnQje8SmGhZBiOkeza24aEmCPd2dlMLwcAAADgnQjd8CqVbxdmPc23k+nlAAAAALwdoRtepS7Xczs4RroJ3QAAAAC8FaEbXqU+oTswsFySlJ/v04Q9AgAAAICGI3TDq1SeXn46AQE2SVJBgW8T9ggAAAAAGo7QDa9Sn5FuR+g+doyRbgAAAADeidANr1LX24VJkr8/oRsAAACAdyN0w6vUb6TbvKa7tNSqoqIm7BQAAAAANBChG16lPqHbz88uyQzeR440XZ8AAAAAoKEI3fAaNptUWGg+r0votlgk6agk6ejRJuoUAAAAADQCoRtewxG4rVYpOLiuex2VxEg3AAAAAO9E6IbXqHy7MHMUuy7MtE3oBgAAAOCNCN3wGvW5nrsCoRsAAACA9yJ0w2s0JnRzTTcAAAAAb0TohtdoWOg+KomRbgAAAADeidANr1H5mu66Y3o5AAAAAO9F6IbXcKxeTugGAAAA0FoQuuE1HKG7TZv67HXU/N+jbu4MAAAAALgBoRteo2Ghm5FuAAAAAN6L0A2vYBjS8ePmc6aXAwAAAGgtCN3wCqWlks1mPmekGwAAAEBrQeiGV3CMcvv7S35+9dnzqPm/R93cIQAAAABwA0I3vELDrueWHCPdx49LZWVu7RIAAAAANBqhG16h4aH7aMWzozU2AgAAAACPIHTDKzRsETVJsqtNG/NicK7rBgAAAOBtCN3wCg0f6ZZCQ8slMdINAAAAwPt4Veh+9tln1a9fP4WFhSksLEwpKSn6+OOPna8XFxdrxowZioqKUkhIiCZPnqyDBw+6HCMzM1MTJ05UcHCwYmJiNHfuXJWXl7u0WbNmjQYNGqSAgAB1795dS5YsqdKXp59+Wl26dFFgYKCGDBmizZs3N0nNMDUmdIeFMdINAAAAwDt5VeiOj4/XP/7xD23dulVbtmzR6NGjdemll2rnzp2SpNmzZ+v999/XW2+9pbVr1+rAgQO6/PLLnfvbbDZNnDhRpaWl2rBhg1566SUtWbJE8+bNc7bJyMjQxIkTNWrUKKWnp2vWrFm6+eab9cknnzjbvPHGG5ozZ47mz5+vbdu2qX///kpNTdWhQ4ea7804wzRupJvQDQAAAMA7eVXovvjii3XRRRepR48eOuuss/TQQw8pJCREmzZtUn5+vl588UU9/vjjGj16tJKTk7V48WJt2LBBmzZtkiR9+umn+u677/Tqq69qwIABmjBhgh588EE9/fTTKi0tlSQ999xzSkxM1GOPPaakpCTNnDlTV1xxhRYsWODsx+OPP65bbrlFN954o3r16qXnnntOwcHBWrRokUfelzOBO0a6mV4OAAAAwNt4VeiuzGaz6fXXX1dhYaFSUlK0detWlZWVaezYsc42PXv2VKdOnbRx40ZJ0saNG9W3b1/FxsY626SmpqqgoMA5Wr5x40aXYzjaOI5RWlqqrVu3urSxWq0aO3assw3cr+ELqVVc081INwAAAABv4+vpDpzq22+/VUpKioqLixUSEqLly5erV69eSk9Pl7+/vyIiIlzax8bGKjs7W5KUnZ3tErgdrzteq61NQUGBioqKdOTIEdlstmrb7N69u8Z+l5SUqKSkxPn3goICSVJ5ebnzmnKr1Sqr1Sq73S673e5s69hus9lkGMZpt/v4+MhisVS5Vt3Hx0eS+YNFXbb7+vrKMAyX7RaLRT4+PlX6WNP2xtRkt9vl7+8vq9WuwkJDkkUhIeWyWCr6aBg+J8/v2ndzuyF/f3+FhJjvQ16eXZLVozW1xs+JmqiJmqiJmqiJmqiJmqiJmqrWdOrxauJ1ofvss89Wenq68vPztWzZMk2dOlVr1671dLdO6+GHH9b9999fZXtaWpranJwzHR0drW7duikjI0M5OTnONvHx8YqPj9f333+v/Px85/auXbsqJiZGO3bsUFFRkXN7z549FRERobS0NJcvQr9+/eTv768tW7a49GHw4MEqLS3V9u3bndt8fHx0zjnnKD8/3+XHhKCgIPXv31+5ubn66aefnNvDw8OVlJSkAwcOaP/+/c7tjakpLy9Pc+fOVYcOR1RSYjlZ23aFhpY62+/b10/l5f5KTHStKSNjsAIDbZo7d6727Tsmqb1++CFPUrRHa2qNnxM1URM1URM1URM1URM1URM1Va2p0HGN7GlYjMo/AXihsWPHqlu3brrqqqs0ZswYHTlyxGW0u3Pnzpo1a5Zmz56tefPm6b333lN6errz9YyMDHXt2lXbtm3TwIEDNXz4cA0aNEgLFy50tlm8eLFmzZql/Px8lZaWKjg4WMuWLdOkSZOcbaZOnaqjR4/q3Xffrbaf1Y10JyQkKC8vT2FhYZK8/5caqXl/fUpLS9OwYcN05ZVf67XX+snHR7rnnrqPdGdlbdOSJefpD3/4Xo8+2lmTJ9u1bBkj3dRETdRETdRETdRETdRETdTU9DUVFBQoKipK+fn5zsxXHa8b6T6V3W5XSUmJkpOT5efnp1WrVmny5MmSpD179igzM1MpKSmSpJSUFD300EM6dOiQYmJiJEkrV65UWFiYevXq5Wzz0UcfuZxj5cqVzmP4+/srOTlZq1atcoZuu92uVatWaebMmTX2MyAgQAEBAVW2+/r6ytfX9W12fBlO5fhw67r91OM2ZLvFYql2e019rO/22mqyWq0qLS3ViRP+khyLqPmqup+BDKO6miwqLS1VWJj5D/DoUavHa6pOS/+c6trH+m6nJmqSqKmmPtZ3OzVRk0RNNfWxvtupiZokaqqpj/Xd3tprqmm/KsepU6tm8te//lUTJkxQp06ddOzYMS1dulRr1qzRJ598ovDwcN10002aM2eO2rZtq7CwMN15551KSUnR0KFDJUnjxo1Tr169dP311+uRRx5Rdna27rnnHs2YMcMZiG+//XY99dRT+tOf/qTp06fr888/15tvvqkPP/zQ2Y85c+Zo6tSpGjx4sM4991wtXLhQhYWFuvHGGz3yvrR2RUXm17AhK5dL3KcbAAAAgPfyqtB96NAh3XDDDcrKylJ4eLj69eunTz75RBdeeKEkacGCBbJarZo8ebJKSkqUmpqqZ555xrm/j4+PPvjgA91xxx1KSUlRmzZtNHXqVD3wwAPONomJifrwww81e/ZsPfHEE4qPj9cLL7yg1NRUZ5urrrpKOTk5mjdvnrKzszVgwACtWLGiyuJqcI8TJ/wkEboBAAAAtD5ef013S1VQUKDw8PDTzu8/k23btk3Jyck699z92ry5owYMkC69tO77Z2Vt0/PPJ2vZsp264opeioyUDh9usu4CAAAAgFNdM5/X3qcbZ44TJ8wJF8HBDdvfcZ/uo0elSusrAAAAAIDHEbrhccXF5vTykJCG7e+YXm4Y0snbowMAAACAVyB0w+Mau5Cav7+hoCDzOdd1AwAAAPAmhG54XGMXUpMkx63bjx5tdHcAAAAAwG0I3fC44mJzpLuh08slKTLSfGSkGwAAAIA3IXTDw6zO0N2YkW5CNwAAAABvROiGh7WTYVgkNXz1conQDQAAAMA7EbrhYTGSzMBtbcS3kWu6AQAAAHgjQjc8LFZS46aWS4x0AwAAAPBOhG54mDnS3ZhF1CRCNwAAAADvROiGh7lnpJvp5QAAAAC8EaEbHsb0cgAAAACtF6EbHmZOLyd0AwAAAGiNCN3wMEa6AQAAALRehG54mHsWUuOabgAAAADeiNAND3P/SLdhNLJLAAAAAOAmhG54jBmO3Ru6y8qkEycadywAAAAAcBdCNzzm+HGrpABJjZ9e3qaN5OtrPue6bgAAAADegtANjzl82E+S5OdncwbmhrJYuK4bAAAAgPchdMNjDh82k3ZQUJlbjscK5gAAAAC8DaEbHuMY6Q4KKnfL8QjdAAAAALwNoRsek5fHSDcAAACA1o3QDY85csS9I91c0w0AAADA2xC64TEVI91MLwcAAADQOhG64TF5eY6RbqaXAwAAAGidCN3wmJwcM3S3aeOe0O2YXk7oBgAAAOAtCN3wmIMHzdAdElLqluM5Rrq5phsAAACAtyB0wyPKyiqmlwcHM70cAAAAQOtE6IZHZGdLhmGRVMpCagAAAABaLUI3PGL/fsezX2WxuOeY3DIMAAAAgLfx9XQHcGaqCN37JbVxyzE9NdKdmZmp3NzcBu/frl07derUyY09AgAAAOAtCN3wCNfQfbZbjukI3SdOSKWlkr+/Ww5bq8zMTPXsmaSiohMNPkZQULB2795F8AYAAABaIUI3POLXX53P5K7QHR4uWSySYZij3bGxbjlsrXJzc1VUdEKXXfaqoqOT6r1/Ts4uLV8+Rbm5uYRuAAAAoBUidMMjXEe63cNqlcLCpPx887ru5gjdDtHRSerQYVDznRAAAABAi8BCavCIpgjdEiuYAwAAAPAuhG54BKEbAAAAwJmA0I1mZ7dXvqab0A0AAACg9SJ0o9kdOiSVl0tWqyEp263H5l7dAAAAALwJoRvNzjHKHRVVJsnm1mMz0g0AAADAmxC60ewc13PHxJS5/diEbgAAAADehNCNZucI3bGxpW4/tmN6OaEbAAAAgDcgdKPZNcdIN9d0AwAAAPAGhG40O6aXAwAAADhTELrR7CpCt/unlxO6AQAAAHgTQjeanWP18thY9490c003AAAAAG9C6EazMozmGenmmm4AAAAA3oDQjWZ15IhUVGQ+j45uumu68/Mlm3tvAQ4AAAAA9UboRrNyjHK3aycFBBhuP75jerlkBm8AAAAA8CRCN5qVI3THxzfN8f39peBg8zlTzAEAAAB4GqEbzaqpQ7fECuYAAAAAvAehG83KsXI5oRsAAADAmYDQjWbFSDcAAACAMwmhG83KEbo7dmy6czgWU+OabgAAAACe5lWh++GHH9Y555yj0NBQxcTEaNKkSdqzZ49Lm5EjR8pisbj8uf32213aZGZmauLEiQoODlZMTIzmzp2r8vJylzZr1qzRoEGDFBAQoO7du2vJkiVV+vP000+rS5cuCgwM1JAhQ7R582a313ymYaQbAAAAwJnEq0L32rVrNWPGDG3atEkrV65UWVmZxo0bp8LCQpd2t9xyi7Kyspx/HnnkEedrNptNEydOVGlpqTZs2KCXXnpJS5Ys0bx585xtMjIyNHHiRI0aNUrp6emaNWuWbr75Zn3yySfONm+88YbmzJmj+fPna9u2berfv79SU1N16NChpn8jWjFCNwAAAIAzia+nO1DZihUrXP6+ZMkSxcTEaOvWrRo+fLhze3BwsNq3b1/tMT799FN99913+uyzzxQbG6sBAwbowQcf1J///Gfdd9998vf313PPPafExEQ99thjkqSkpCStW7dOCxYsUGpqqiTp8ccf1y233KIbb7xRkvTcc8/pww8/1KJFi/SXv/ylKcpv9Y4dkwoKzOcdO0p79zbNeRzTywndAAAAADzNq0a6T5Wfny9Jatu2rcv21157Te3atVOfPn3017/+VSdOnHC+tnHjRvXt21exsbHObampqSooKNDOnTudbcaOHetyzNTUVG3cuFGSVFpaqq1bt7q0sVqtGjt2rLMN6s+xcnl4uBQa2nTncYx0c003AAAAAE/zqpHuyux2u2bNmqVhw4apT58+zu3XXnutOnfurLi4OG3fvl1//vOftWfPHr399tuSpOzsbJfALcn59+zs7FrbFBQUqKioSEeOHJHNZqu2ze7du6vtb0lJiUpKSpx/Lzg5pFteXu68ntxqtcpqtcput8tutzvbOrbbbDYZhnHa7T4+PrJYLFWuU/fx8ZFkTrGvy3ZfX18ZhuGy3WKxyMfHp0ofa9pen5p++cUiyUcdO5p9sdvt8vf3l9Vql2RIsshica3JMHxOnt9WzXZD/v7+stvtzvfC19dXERHmsQ4ftqu83N6kNdntdlmt1kp9rPiczD7WXpPVanfW4Dimpz+n2ra31O8eNVETNVETNVETNVETNVGTu2s69Xg18drQPWPGDO3YsUPr1q1z2X7rrbc6n/ft21cdOnTQmDFj9OOPP6pbt27N3U2nhx9+WPfff3+V7WlpaWrTpo0kKTo6Wt26dVNGRoZycnKcbeLj4xUfH6/vv//eObovSV27dlVMTIx27NihoqIi5/aePXsqIiJCaWlpLl+Efv36yd/fX1u2bHHpw+DBg1VaWqrt27c7t/n4+Oicc85Rfn6+yw8JQUFB6t+/v3Jzc/XTTz85t4eHhyspKUkHDhzQfseF2fWsad26aEndFB8v7dixQ3l5eZo7d646dcrTkSP5KiqKUOfOabJaK2rat6+fysv9lZjoWlNGxmAFBto0d+5c5eXlacuWLc6a/P0LJYVo//4T2rJlR5PWlJ+fr379+kmSOnbcIX//is8pK6vnaWvq0CHfWYPNZvOKz0lqfd89aqImaqImaqImaqImaqImd9d06tpjNbEYlX8C8BIzZ87Uu+++qy+++EKJiYm1ti0sLFRISIhWrFih1NRUzZs3T++9957S09OdbTIyMtS1a1dt27ZNAwcO1PDhwzVo0CAtXLjQ2Wbx4sWaNWuW8vPzVVpaquDgYC1btkyTJk1ytpk6daqOHj2qd999t0o/qhvpTkhIUF5ensLCwiR5/y81UtP++vT3v1s0f76Ppk+Xnn/eprS0NA0bNkzTp69XbGyy6jvSnZW1TUuWnKf169drwIABzpq++MLQiBEWde9uaNcuW5PWlJ6eriFDhujmm79WXFx/1XekOzs7XYsWDdP69euVnJzsFZ9Tbdtb6nePmqiJmqiJmqiJmqiJmqjJ3TUVFBQoKipK+fn5zsxXHa8a6TYMQ3feeaeWL1+uNWvWnDZwS3KG6w4dOkiSUlJS9NBDD+nQoUOKiYmRJK1cuVJhYWHq1auXs81HH33kcpyVK1cqJSVFkuTv76/k5GStWrXKGbrtdrtWrVqlmTNnVtuPgIAABQQEVNnu6+srX1/Xt9nxZTiV48Ot6/ZTj9uQ7RaLpdrtNfWxvtsr9/3AAfMxPt7cbrVaVVpaKrvdKskiSTKM6vte/XaLSktLZbVaXWpo29Y81tGjrrU1RU2O/wiYfaz+c6qtJrvd6qzBYjH77enPqS7bW9p3ry7bqYmaqImaattOTdRETdRU23ZqOjNrqmm/KsepU6tmMmPGDC1dulTvvvuuQkNDnddgh4eHKygoSD/++KOWLl2qiy66SFFRUdq+fbtmz56t4cOHO6f4jhs3Tr169dL111+vRx55RNnZ2brnnns0Y8YMZyi+/fbb9dRTT+lPf/qTpk+frs8//1xvvvmmPvzwQ2df5syZo6lTp2rw4ME699xztXDhQhUWFjpXM0f9ORZSa8rbhUmutwwzDOlklgUAAACAZudVofvZZ5+VJI0cOdJl++LFizVt2jT5+/vrs88+cwbghIQETZ48Wffcc4+zrY+Pjz744APdcccdSklJUZs2bTR16lQ98MADzjaJiYn68MMPNXv2bD3xxBOKj4/XCy+84LxdmCRdddVVysnJ0bx585Sdna0BAwZoxYoVVRZXQ91lZpqPzRW6bTbp+PGmXSkdAAAAAGrjVaH7dJeXJyQkaO3atac9TufOnatMHz/VyJEjlZaWVmubmTNn1jidHPX388/mY5cuTXueoCDJz08qKzNHuwndAAAAADzFq+/Tjdbj6FHp5F3U1KlT057LYuFe3QAAAAC8A6EbzeKXX8zHdu2kk3dQa1KVr+sGAAAAAE8hdKNZNNfUcgdCNwAAAABvQOhGs3CMdHfu3Dzni4gwHwndAAAAADyJ0I1m0dyhm2u6AQAAAHgDQjeaBdPLAQAAAJyJCN1oFkwvBwAAAHAmInSjWTC9HAAAAMCZiNCNJldYKOXmms+bO3Qz0g0AAADAkwjdaHKOUe7w8Ipp302tpYTusjKrpGSVlFg83RUAAAAATcDX0x1A69fcU8sl776m+9Ahae9e6ccfpV9+6Sdpi5588pBSUjzdMwAAAADuRuhGk3OsXN6codtbr+lOT5fefbfyFnOyycaNYZ7oDgAAAIAmRuhGo2RmZirXccF2Db76Kk5SewUHH9K2bfud23ft2tVk/fLG6eWlpdJnn5nPu3SRevaU/P336L33ztYvvwQqP9+cgg8AAACg9SB0o8EyMzPVs2eSiopOnKblUknX6I03/k9vvPF4lVePHz/m9r45QndxsfknMNDtp6i3TZvMReUiI6UpUyQfHykrq1DSz5K6aOtWafRoD3cSAAAAgFsRutFgubm5Kio6ocsue1XR0Uk1tnv33bN08KA0duwMde16nXP73r0fafXqe1VcXOz2voWGShaLZBjmaHeHDm4/Rb0UFUkbNpjPR40yA3eFryV10ZYthG4AAACgtSF0o9Gio5PUocOgGl8vLDQfExO7uoTf3Nymm15utZqLqR05Yl7X7enQvW6dVFIixcZKffqc+urXkq7U1197oGMAAAAAmhS3DEOTKi+Xjh83nzf39crecl33sWPS5s3m89GjzRF4V2baJnQDAAAArQ+hG02qoMB89PWVgoOb99zeErrXrjV/fEhIkHr0qK7FNknmrdVycpq1awAAAACaGKEbTcpxy66IiOpGeJuWN9yr+/BhKS3NfD5mTE3vQYE6dzava2e0GwAAAGhdCN1oUpVDd3Pzhnt1f/65ZLdL3bvXfp/y3r3NC9+3bGmmjgEAAABoFoRuNKn8fPPRE/ef9vT08sxMaedO8/mYMbW37dXLvO0aI90AAABA60LoRpPyhpFuT4Ruw5A+/dR8PnCg1L597e0rh27DaOLOAQAAAGg2hG40KU+OdHvymu5vv5V+/VXy96/bvbfPOuuEfHykgwel/fubvn8AAAAAmgehG03KG0a6m/ua7rIyadUq8/n550shIaffJyjIcN6/m+u6AQAAgNajUaE7KyvLXf1AK2S3V9wy7Ey6pnvjRrPu8HBp6NC673fOOeYj13UDAAAArUejQndCQoLGjRunV155RYWFhe7qE1qJggLz+mSrVQoNbf7ze2J6+bFj0rp15vOxYyU/v7rvS+gGAAAAWp9Ghe4HHnhABw4c0NSpUxUbG6spU6ZoxYoVstvt7uofWrDK13M39z26JaltW/Px8OHmO+f69eb08vh4qXfv+u07eLD5uGULi6kBAAAArUWjQvfdd9+tHTt2aOvWrbr99tu1Zs0aXXTRRYqLi9Ps2bO1hYtTz2ievJ5bktq1Mx9zc5svxP74o/l43nn1/6Ghb18pIMB83xzHAQAAANCyuWUhtYEDB+qf//yn9u3bp5UrV2rixIlavHixhgwZol69eunvf/+7MjMz3XEqtCCO0O2J67klKTrafCwulprj6ocTJ8yAL0mdO9d/fz8/acAA8zlTzAEAAIDWwa2rl1ssFl1wwQW66KKLNHToUBmGob179+q+++5T165ddeWVV7L42hnEMb3cUyPdbdpIgYHm85ycpj/fvn3mY7t2UnBww47Bdd0AAABA6+K20L169WrdfPPNio2N1W9/+1tlZ2frn//8p/bv36+srCz94x//0KpVq3T99de765Twcp4e6bZYKka7myN0OyZzJCQ0/BiO67rT0xvdHQAAAABewLcxO3/zzTd67bXX9N///lcHDhxQ+/btdfPNN+uGG25Q3759Xdr+8Y9/VGBgoP74xz82qsNoOTw90i2ZoXvfvuYd6e7UqeHHSEw0H/fvb3x/AAAAAHheo0L3wIEDFRQUpEmTJumGG27QhRdeKKu15sHz3r17KyUlpTGnRAthGObtsyQpLMxz/Wiuke7ycosOHDCfNyZ0x8WZj7/+ar6Hnlj1HQAAAID7NCp0L1q0SFdccYVCQkLq1H7UqFEaNWpUY06JFqK42Lx1luSZe3Q7OEL3oUNNe57c3GDZbOZ15JGRDT+OI3SfOGHOFPDkLAEAAAAAjdeoa7qnTZtW58CNM4tjlDsoyFyV21NiYszHph7pzs42/x106tS40eng4Iqg7Rg5BwAAANByNSp0P/nkk0pNTa3x9QkTJujZZ59tzCnQQhUUmI+enFouNd/0ckfobswiag4dO5qPv/7a+GMBAAAA8KxGhe4XX3xRvXr1qvH1Xr166fnnn2/MKdBCOUK3J6eWS80Vui06eLCNpMZdz+1A6AYAAABaj0aF7h9//FFJSUk1vt6zZ0/9+OOPjTkFWqgza6S7p0pKfOXrK7Vv3/ijOa7rZno5AAAA0PI1KnT7+/srOzu7xtezsrJqXc0crZfjmu4zY6T7fElSfLzk49P4ozHSDQAAALQejUrEQ4cO1ZIlS3TMkbAqyc/P1+LFizV06NDGnAIt1Jk10j1Mknuu55YqQjcj3QAAAEDL16hbhs2fP18jRozQgAEDNGvWLPXu3VuStGPHDi1cuFBZWVlaunSpWzqKlsUb7tEtVYTuwkLzNlzBwU1xFnOk2x3Xc0uu9+oGAAAA0LI1KnQPGTJE77//vm677Tb94Q9/kOXkvZIMw1BiYqLee+89paSkuKWjaFm8ZSG1sDDzlmVlZeZod+fO7j1+To6vpG6SDMXHN+JeYZUwvRwAAABoPRoVuiXpwgsv1A8//KC0tDTnomndunXToEGDnCEcZ5ayMqmoyHzu6ZFui8Uc7T5woGlC9zffmLcKi4oqUmCge4bRHaE7O1uy2dxznTgAAAAAz2h06JYkq9Wq5ORkJScnu+NwaOEcU8t9faXAQM/2RZJiYipCt7t98415q7DY2EJJ7gndMTFm0LbZpIMHK6abAwAAAGh53BK6v/vuO/300086cuSIDMOo8voNN9zgjtOghai8iJo3THZoysXUdu0yg3ZMTKGkaLcc08fHvPXYr7+afwjdAAAAQMvVqND9448/asqUKdq8eXO1YVuSLBYLofsM4y2LqDk0Zeg+cCBAkhQeXuLW43bsaAZuVjAHAAAAWrZGhe7bbrtN3377rRYuXKgLLrhAkZGR7uoXWrDmvl3Yrl27an3dMOIlxejbb7O1bVvVFNuuXTt1asDS4+bibH6SpNBQ94ZuVjAHAAAAWodGhe7169fr7rvv1p133umu/qAVaK6Vy48fz5Jk0ZQpU07T8m5JD+mllz7USy/dXOXVoKBg7d69q97B+9dfJbvdIqlEQUHl9dr3dFjBHAAAAGgdGhW627Vrp/DwcHf1Ba1Ec00vLy4+KsnQqFFPqUePmm9Nt2tXlL78UurUabLGjx/o8lpOzi4tXz5Fubm59Q7dP//seJbp9mvXHaGb6eUAAABAy9ao0H377bfr1Vdf1YwZM+TDfY1wUnPfozsysrs6dBhU4+tHj5qPNltEre3q65dfHM9+lhTVqGOdOkW+tLStpC7atatA27b9UOu+DZ0eDwAAAKDpNSp0n3XWWbLZbOrfv7+mT5+uhISEasP35Zdf3pjToIVp7mu6T6eNeVcvnTjh3uNWjHT/ooaG7pqnyI+R9Jm++mrfaW/F19Dp8QAAAACaXqNC91VXXeV8/sc//rHaNhaLRTabrTGnQQtit0vHj5vPvS10Fxa697iuI90NG0GvaYr8kSOBeustyd//bE2btrXG/RszPR4AAABA02tU6F69erW7+oFW4vhxyTDM+3M7wq6nBZu30lZpqVReLvm65e70lUP3L7U1q5NTp8g7bgRQWuqrdu0Gyc+v0acAAAAA4AHWxuw8YsSIOv2pq4cffljnnHOOQkNDFRMTo0mTJmnPnj0ubYqLizVjxgxFRUUpJCREkydP1sGDB13aZGZmauLEiQoODlZMTIzmzp2r8nLX1aXXrFmjQYMGKSAgQN27d9eSJUuq9Ofpp59Wly5dFBgYqCFDhmjz5s11f3POUI5F1EJDJWujvl3uExhY0Rd3TjF3nV7uXgEBcgZtx3R9AAAAAC2PW2JRSUmJNm7cqHfffVe5ubkNPs7atWs1Y8YMbdq0SStXrlRZWZnGjRunwkrzgmfPnq33339fb731ltauXasDBw64XDNus9k0ceJElZaWasOGDXrppZe0ZMkSzZs3z9kmIyNDEydO1KhRo5Senq5Zs2bp5ptv1ieffOJs88Ybb2jOnDmaP3++tm3bpv79+ys1NVWHDh1qcH1nAm+7nlsyR90do93ummJut0v79jn+9rN7DlqJxVLxHjp+yAAAAADQ8jQ6dD/55JPq0KGDzj//fF1++eXavn27JCk3N1ft2rXTokWL6nysFStWaNq0aerdu7f69++vJUuWKDMzU1u3mte05ufn68UXX9Tjjz+u0aNHKzk5WYsXL9aGDRu0adMmSdKnn36q7777Tq+++qoGDBigCRMm6MEHH9TTTz+t0tJSSdJzzz2nxMREPfbYY0pKStLMmTN1xRVXaMGCBc6+PP7447rlllt04403qlevXnruuecUHBxcr3rORM29cnldOUK3u0a6s7KksjLJx8eQ1DT39XK8h4RuAAAAoOVqVOhevHixZs2apfHjx+vFF1+UYRjO19q1a6fRo0fr9ddfb/Dx8/PzJUlt27aVJG3dulVlZWUaO3ass03Pnj3VqVMnbdy4UZK0ceNG9e3bV7Gxsc42qampKigo0M6dO51tKh/D0cZxjNLSUm3dutWljdVq1dixY51tUD1vHOmW3L+YmmNqeWxsqaSmWSjQEbqZXg4AAAC0XI1aUuqxxx7TpZdeqqVLlyovL6/K68nJyXryyScbdGy73a5Zs2Zp2LBh6tOnjyQpOztb/v7+ioiIcGkbGxur7OxsZ5vKgdvxuuO12toUFBSoqKhIR44ckc1mq7bN7t27q+1vSUmJSkpKnH8vOJmUysvLndeTW61WWa1W2e122e12Z1vHdpvN5vLDRU3bfXx8ZLFYqlyn7rhd26mrxde03dfXV4ZhuGy3WCzy8fGp0sfqttvtdvmeXJXMYrFLsuvYMaskq0JD7ZKsslhskir6bhhW53YfH8nf3//kaLEhySKLxbUmw/A5eXxbtdsd+zv2MwxfScYp7S0KDjbbnzhhk8ViOLc73h+73V6vz+mnnyTJR+3blyo721qpj5Vr9TltTVXfg4paw8LM98oc6a5ak2H4yGIx5O/v7+x/TZ9fa/vuURM1URM1URM1URM1URM1ebqmU49Xk0aF7h9++EG///3va3y9bdu21YbxupgxY4Z27NihdevWNbR7zerhhx/W/fffX2V7Wlqa2pwcZo2Ojla3bt2UkZGhnJwcZ5v4+HjFx8fr+++/d47uS1LXrl0VExOjHTt2qKioyLm9Z8+eioiIUFpamssXoV+/fvL399eWLVtc+jB48GCVlpY6p/5L5hfpnHPOUX5+vssPCUFBQerfv79yc3P1k5ksJUnh4eFKSkrSgQMHtH//fknmTITU1FRJUrt2GQoNzVFZWS9JYerQ4YikKMXGfq/g4IqacnK66tixGHXsuENRUYE666y5at++TIWF+SoqilDnzmmyWitq2revn8rL/ZWY6FpTRsZgtWlj0dy55v5hYVtkt/vo55/PUVBQvjp0qKiptDRIwcH9JUl+ftlKTDQvxj5xIlwHDkjDhg1TXl6e832ry+e0fn0bSZ3Utm2B+vXrJ0nq2HGH/P0rPqesrJ6nranye5CXZ5Ovb6kSEszPqUuX9lq/vouOHVO1Ne3f319RUSWaO3eus//VfU51raklffeoiZqoiZqoiZqoiZqoiZo8XVNhHafRWozKPwHUU/v27fX73/9ed999t/Ly8hQdHa3PPvtMo0ePlmQuerZ8+XL9XLHMc53MnDlT7777rr744gslJiY6t3/++ecaM2aMjhw54jLa3blzZ82aNUuzZ8/WvHnz9N577yk9Pd35ekZGhrp27apt27Zp4MCBGj58uAYNGqSFCxc62zimyufn56u0tFTBwcFatmyZJk2a5GwzdepUHT16VO+++26VPlc30p2QkKC8vDyFnZxr7e2/1Ej1+/UpPT1dKSkpmj79K8XFDZBk15NP+ujwYYumTbOrc+faR7p37nxd7747XZde+q569UpVfUe6v/12qT74wNy/d++xJ7dXP9K9Zo2P1qyRBg2y65JL7M7tBw58oxdfPFebNm3SgAEDXN732j6n22+36IUXrLr55gNatChBN9/8teLi+qu+I907d75xyntQUevOnRa99ZaPEhKk6dOrH+nOzt6qxYvP0/r16zVgwIAW+yuhWXfr+uWTmqiJmqiJmqiJmqiJmlp3TQUFBYqKilJ+fr4z81WnUSPdF110kZ5//nn97ne/q/Lazp079Z///EfTp0+v8/EMw9Cdd96p5cuXa82aNS6BWzKnq/v5+WnVqlWaPHmyJGnPnj3KzMxUSkqKJCklJUUPPfSQDh06pJiYGEnSypUrFRYWpl69ejnbfPTRRy7HXrlypfMY/v7+Sk5O1qpVq5yh2263a9WqVZo5c2a1fQ8ICFBAQECV7b6+vs4p2A6OL8OpHB9uXbefetyGbLdYLNVur6mPlbdbrVbnF9cwrDIMa6WF1Kwnt1ffd8Pwkc1mXj9vs1nkmOpthubq2le/3bG/6+un/r3yNd3Wk8G/gs1mk9Vqrdfn5Fi5PC6uzPkfgJprrbmm2t4D14XUqtZktrWotLS0Sv/r8vmdWlN1vPW7V5ft1ERNNW2nJmqSqKmmPtZ3OzVRk0RNNfWxvtupqeXVVNN+p2rUQmp/+9vfZLPZ1KdPH91zzz2yWCx66aWXNGXKFA0ePFgxMTEut+o6nRkzZujVV1/V0qVLFRoaquzsbGVnZzunBoSHh+umm27SnDlztHr1am3dulU33nijUlJSNHToUEnSuHHj1KtXL11//fX65ptv9Mknn+iee+7RjBkznKH49ttv108//aQ//elP2r17t5555hm9+eabmj17trMvc+bM0X/+8x+99NJL2rVrl+644w4VFhbqxhtvbMxb1qoVF0uOH4+8bSE1d69e7pi80aFDSa3tGqNy6G74fBQAAAAAntSoke64uDht3bpVd999t9544w0ZhqFXXnlFoaGhuuaaa/SPf/xD7dq1q/Pxnn32WUnSyJEjXbYvXrxY06ZNkyQtWLBAVqtVkydPVklJiVJTU/XMM8842/r4+OiDDz7QHXfcoZSUFLVp00ZTp07VAw884GyTmJioDz/8ULNnz9YTTzyh+Ph4vfDCC87rkyXpqquuUk5OjubNm6fs7GwNGDBAK1asqLK4Gio4RrmDgqQ6/ujTbNy5erlhSL/8Yj7v0KG08QesgSN022zmjwWOGgAAAAC0HI2ORjExMXrhhRf0wgsvKCcnR3a7XdHR0dUO/59OXS4vDwwM1NNPP62nn366xjadO3euMn38VCNHjlRaWlqtbWbOnFnjdHJU5a23C5PcO9J96JA5qm+xSO3blzX+gDXw8TGDdmGhOdpN6AYAAABankZNLz9VdHS0YmNjGxS40fKZ1x57Z+h2BNbiYnPkuDEco9xxcZKfX9PO+3a9rhsAAABAS9Ooke7KU7ZrYrFYdO+99zbmNGghKhZR82w/qhMUZI5MG4Y52t2YPjpCd+fO7ulbbUJDpexsQjcAAADQUjUqdN933301vmaxWGQYBqH7DOLN08stFjN4nzhhTtduTOh2LKLWpYs7elY7Rz8d7y0AAACAlqVR88Ad90ur/Ke8vFw//vijZs+ercGDB+vQoUPu6iu8nDdPL5cqppg39rru5h7plhjpBgAAAFoqt198bbValZiYqH/+85/q0aOH7rzzTnefAl7Km6eXS+5bwdwx0t0codvxAwahGwAAAGiZmnTFs+HDh592FXG0Ht4+0u2uFcwdI93NOb2c0A0AAAC0TE0aurds2cJK5mcIm00qKjKfh4R4ti81cYTuxox0V75Hd3NOL+eabgAAAKBlatRCai+//HK1248ePaovvvhCb7/9tm6++ebGnAIthCPIWq3mgmXeyB3XdB85UjHq3LmztGtX4/tVG8esgRMnzB82fHya9nwAAAAA3KtRoXvatGk1vtauXTv95S9/0bx58xpzCrQQx4+bj23amCuFeyN3TC93jHLHxDTPjwtBQWbQttnMsB8R0fTnBAAAAOA+jQrdGRkZVbZZLBZFRkYq1FtX00KTcIRub51aLrlnIbXmvF2YZP6AERoqHT1K6AYAAABaokaF7s7NcVErWoSWELrdcU13c17P7VA5dAMAAABoWVjlDG5ReXq5t3LHNd2eCt0Si6kBAAAALVGjRrqtVqss9byA12KxqLy8vDGnhRdqCSPdjvBaVCSVlUl+fvU/RnNPL5e4bRgAAADQkjUqdM+bN0/vvPOOdu7cqdTUVJ199tmSpN27d+vTTz9Vnz59NGnSJHf0E17OMWXbm0N3YKDk7y+Vlkr5+VK7dvU/hidGuh0rmBO6AQAAgJanUaE7Li5Ohw4d0o4dO5yB22HXrl0aPXq04uLidMsttzSqk/B+LWGk22KRwsOlnJyGh25GugEAAADUR6Ou6X700Uc1c+bMKoFbkpKSkjRz5kw98sgjjTkFWoiWELqlitW/jx6t/77Hjpn36Za4phsAAABA3TQqdO/fv19+tVwY6+fnp/379zfmFGghHNPLvXkhNckc6ZbMke76ckwtj4ysCMLNofL0csNovvMCAAAAaLxGhe4+ffromWee0a+//lrltf379+uZZ55R3759G3MKtADl5RaVlJjPvX2k2xG6GzLS7Ymp5VJFwC8rk/N9BgAAANAyNOqa7gULFig1NVVnnXWWLrvsMnXv3l2StHfvXr3zzjsyDEOvvvqqWzoK73XihDnbwddXCgjwcGdOwzG9vDEj3c19e3o/P3MRuOJic7Q7MLB5zw8AAACg4RoVus8//3x99dVXuvfee7V8+XIVFRVJkoKCgpSamqr777+fke4zQFGRGbrbtDEXK/Nmjbmm21Mj3ZI52u0I3dHRzX9+AAAAAA3TqNAtmVPMly9fLrvdrpycHElSdHS0rNZGzVxHC1JUZH6NvH1quVQxvfzYMclmq9++nhrplszQnZPDYmoAAABAS9Po0O1gtVoVGBiokJAQAvcZxjG9vCWE7pAQycfHDNz1vQWXJ0M39+oGAAAAWqZGp+MtW7Zo/PjxCg4OVlRUlNauXStJys3N1aWXXqo1a9Y09hTwco7Q7e0rl0sV9+qW6j/F3NPTyyVCNwAAANDSNCp0b9iwQeeff7727t2rKVOmyG63O19r166d8vPz9e9//7vRnYR3a0nTy6WG3TasqEg6dMh87qnp5RKhGwAAAGhpGhW67777biUlJem7777T3//+9yqvjxo1Sl999VVjToEWwLGQWksL3fUZ6XZMLQ8NNe/T3dwcoZtrugEAAICWpVGh++uvv9aNN96ogIAAWapZtrpjx47Kzs5uzCnQApw40bJGuhty27DK13N7YoV2rukGAAAAWqZGhW4/Pz+XKeWn+vXXXxXSUpIYGqyljXQ35LZhnlxETaoY6T5+XKrlnxwAAAAAL9Oo0D106FAtW7as2tcKCwu1ePFijRgxojGnQAvQklYvlxp2TbcnF1GTKu6BbhhSYaFn+gAAAACg/hoVuu+//35t2bJFEydO1McffyxJ+uabb/TCCy8oOTlZOTk5uvfee93SUXirUNls5teoJaxeLrlOLzeMuu3j6ZFuq7XiRw2mmAMAAAAtR6Pu0z1kyBB99NFHuuOOO3TDDTdIku666y5JUrdu3fTRRx+pX79+je8lvFisJMnf3/zTEoSGmqPGNlvFyuun4+mRbsns97Fj5mJqcXGur+3atatRx27Xrp06derUqGMAAAAAqKrBodswDB07dkznnXee9uzZo/T0dO3du1d2u13dunVTcnJytYurobVpL6nlTC2XJB8fM8AWFEjHjtXtlwJPj3RL5mJqBw64jnQfP54lyaIpU6Y06thBQcHavXsXwRsAAABwswaH7tLSUrVt21Z///vf9ac//UkDBgzQgAED3Ng1tAwtL3RL5hTzggLp+PGA07YtLTXDruTZ0F3dvbqLi49KMjRq1FPq0SOlQcfNydml5cunKDc3l9ANAAAAuFmDQ3dAQIDat2+vgIDThxa0Zub08pZyPbeDYzG1uox079tnXvsdGCjFxDRxx2pRXeh2iIzsrg4dBjVvhwAAAACcVqMWUps2bZpefvlllZaWuqs/aHFa7ki3JB0/fvrQ7el7dDvUFroBAAAAeKdGLaTWt29fvfPOO+rdu7emTZumLl26KCgoqEq7yy+/vDGngVdrmaHbMdJdl9DtDYuoSeY13ZI5LR4AAABAy9Co0H3NNdc4n9d0azCLxSKbzdaY08Crtczp5Y6R7rpML/eGRdQkRroBAACAlqjeofvuu+/W1VdfrX79+mn16tVN0Se0KK1/pNvbQndxsVRWJvn5ebY/AAAAAE6v3qH7H//4h/r06aN+/fppxIgRysvLU0xMjFauXKnRo0c3RR/h1Vp26C4r85EUWWtbb5leHhBgBu2yMnO0u21bz/YHAAAAwOk1aiE1B8Mw3HEYtDDmx25OL29podvPr/KU+NqHsL1lpNtiqRjt5rpuAAAAoGVwS+jGmamgwEeSOT27pV3TLVWMdtcWusvLpf37zeeeHumWKhZT47puAAAAoGUgdKPB8vLMi4oDAsrl26gl+TzDsZhabaH7wAEzePv5SR06NEevaueOxdSOHZOystzTHwAAAAC1a1BU+vnnn7Vt2zZJUn5+viRp7969iqhIMS4GDRrUsN7Bq+XlmV+foKAyNXIhfI+oy0i3Y2p5QoJk9YKfqBo7vdwwpFdekXJypBtvlDp1cl/fAAAAAFTVoKR07733VrlF2O9+97sq7QzD4JZhrZhjpDsoqNzDPWmYuox0e8siag6O0H38eMP237fPDNyS9OWX0nXXuadfAAAAAKpX79C9ePHipugHWiBH6A4OLvNwTxqmPiPdnl5EzcFxTXdDR7rT0yue//CDlJ3d6C4BAAAAqEW9Q/fUqVOboh9ogVynl7c8FSPdXSRlVtvGEbq9baS7IaG7rEz67jvzebt2Um6utH69dN557usfAAAAAFdecJUqWqqKke6WPr28nQ4frv73J8f0cm8Z6Xbcmzs/3wzR9bFnj1RSYo7wX365uW3nTik/P8C9nQQAAADgROhGg7X0ke6AAKlduxOSpHXrwqpt8+OP5qO3hO42bSpuz3boUP32/eYb87F/f3Ml9u7dzYXVtm+PcW8nAQAAADgRutFgLX2kW5I6dTJX3//ii4gqr+3aJWVkSL6+ZlD1FjEnM3J9QvexYxU/IDhqOf9883HPnihJ7d3WPwAAAAAVCN1osIrVy1vmSLckde58VJK0aVOoiotdX3vrLfNx3DgpMrJ5+1UbR+g+eLDu+2zfbo5qJyRUTFHv1Mn8u91ulTTL3d0EAAAAIEI3Gshmk44ccUwvb7kj3e3aFUn6VUVFPlqzxvW1N980H6+8srl7VbvYWPOxriPdhuE6tdzBYqkY7Zbu0LFjPu7qIgAAAICTCN1okLw8yW63SLK36JFui0WS3pckvfdexfbvvjMXGfPzky691CNdq1F9p5dnZ5v35vbxkXr3dn2tRw8pIqJIUliN17UDAAAAaDhCNxqkYmpznqwt/ltkhu4PPjBHhSXvnVouVYTuwkKpuPj0K4877s3ds6cUGOj6msUidex4TJK0a1ewG3sJAAAAQCJ0o4EqQnc9Liz2Wp8rIMCuffsqpmE7ppb/9ree61VN/PwqrssuKIiota1hmCP2Us2LwUVHmyu479zZxk09BAAAAODgVaH7iy++0MUXX6y4uDhZLBa98847Lq9PmzZNFovF5c/48eNd2hw+fFjXXXedwsLCFBERoZtuuknHjx93abN9+3ZdcMEFCgwMVEJCgh555JEqfXnrrbfUs2dPBQYGqm/fvvroo4/cXm9L1rpCd7GGDi2QZE4x37nTnF7u7y9dcomHu1YDx2j36UL3wYPmiLi/v9S1a/VtHKF79+4g2Wxu7CQAAAAA7wrdhYWF6t+/v55++uka24wfP15ZWVnOP//9739dXr/uuuu0c+dOrVy5Uh988IG++OIL3Xrrrc7XCwoKNG7cOHXu3Flbt27Vo48+qvvuu0/PP/+8s82GDRt0zTXX6KabblJaWpomTZqkSZMmaceOHe4vuoVqXaFbGj7cvHXY++9XTC1PTZUiIjzXp9o4Qnd+fkSt7X76yXzs3Nm8prs64eHFko6puNhHu3a5rYsAAAAAJPl6ugOVTZgwQRMmTKi1TUBAgNq3r/6ewrt27dKKFSv09ddfa/DgwZKkf/3rX7rooov0z3/+U3FxcXrttddUWlqqRYsWyd/fX71791Z6eroef/xxZzh/4oknNH78eM2dO1eS9OCDD2rlypV66qmn9Nxzz7mx4pbLNXT39GBP3OP8883QvWWLlJVlbvPGqeUOjhXMTzfSnZFhPtY0yi3p5DX52ySN0JYtUp8+buggAAAAAEleNtJdF2vWrFFMTIzOPvts3XHHHcrLy3O+tnHjRkVERDgDtySNHTtWVqtVX331lbPN8OHD5e/v72yTmpqqPXv26MiRI842Y8eOdTlvamqqNm7c2JSltSitbaS7XbtynXuu+fzXX6WAAO+dWi6dOr3cUm0bm0365RfzeWLi6Y74tfm/X7ujdwAAAAAcvGqk+3TGjx+vyy+/XImJifrxxx919913a8KECdq4caN8fHyUnZ2tGEcaOcnX11dt27ZVdna2JCk7O1uJpySQ2JPDhtnZ2YqMjFR2drZzW+U2jmNUp6SkRCUlJc6/FxSY1wiXl5ervNy8j7XVapXVapXdbpfdbne2dWy32WwyHMtn17Ldx8dHFovFedzK2yXJdsqFuTVt9/X1lWEYLtstFot8fHyq9PHU7dnZVklWWa25J1+3S6pobxjm6xaLTZJR7XYfH8nf318+PsbJNhZZLK41GYbPyePbqt3u2N+xn2H4SjJOaW852d5+sp8V2x3vj91u129+Y9PmzeZxx4+XQkLsKi+v/XOy2+2ynly+vWqtPqetqep7UF2tVWuKirLI19dH5eW+8vPrWek9qKh1/367ysp81aaNodhY4+T7Xt3nJPn4pMtmk77+2lB5uc2rv3sOrenfEzVREzVREzVREzVREzW1vJpOPV5NWlTovvrqq53P+/btq379+qlbt25as2aNxowZ48GeSQ8//LDuv//+KtvT0tLUpo25KnR0dLS6deumjIwM5eTkONvEx8crPj5e33//vfLz853bu3btqpiYGO3YsUNFRUXO7T179lRERITS0tJcvgj9+vWTv7+/tmzZ4tKHwYMHq7S0VNu3b3du8/Hx0TnnnKP8/Hzt3r3buT0oKEj9+/dXbm6ufnJcECwpPDxcSUlJOnDggPbv36+MjL6S2ig5OV6S1K5dhkJDK2o6ciReR47EKzb2ewUHV9SUk9NVx47FqGPHHYqKCtRZZ81V+/ZlKizMV1FRhDp3TpPVWlHTvn39VF7ur8RE15oyMgarTRuL5s419w8L2yK73Uc//3yOgoLy1aFDRU2lpUHav7+/QkNzFR1dUdOJE+E6cEAaNmyY8vLylJi4U1I/SebU8rp8Tvn5+erXz9ynY8cd8vev+JyysnqetqbK70Fenk2+vqVKSKj4nGqrKTq6v7KypEsuuUfDh5vvwYkT4crOTlJk5IGTtwqLV9++eYqOzldOTrdqP6esLGnChHb64AMpPd3Qxo1bdfbZiV773XNoTf+eqImaqImaqImaqImaqKnl1VRYWKi6sBiVfwLwIhaLRcuXL9ekSZNqbRcdHa2//e1vuu2227Ro0SLdddddzmnikvnrQ2BgoN566y1ddtlluuGGG1RQUOCyMvrq1as1evRoHT58WJGRkerUqZPmzJmjWbNmOdvMnz9f77zzjr5x3FPqFNWNdCckJCgvL09hYWGSvP+XGqnuvz517uyjAwcs8vEZoptuelZxcQNU35HunTtf17vvTtell76rXr1SVd+R7m+/XaoPPjD379177Mnt9RvpPnDgG7344rnatGmT+vcfoAsvtOrAAYu2brWoTZvTf07p6ekaMmSIbr75a8XF9Vd9R7p37nzjlPegbiPdkkXvvOOj9HTJx+cBXX75uSffg4paFy2yaN8+iy65xKZBgywyjOpHurOy0rVo0VAFB59QQYGvvvqqXIMHe+9379TPozX8e6ImaqImaqImaqImaqKmlldTQUGBoqKilJ+f78x81WlRI92n2r9/v/Ly8tShQwdJUkpKio4ePaqtW7cqOTlZkvT555/LbrdryJAhzjb/7//9P5WVlcnPz0+StHLlSp199tmKjIx0tlm1apVL6F65cqVSUlJq7EtAQIACAgKqbPf19ZWvr+vb7PgynMrx4dZ1+6nHbch2i8VS7faa+mhus+rQIfPvNtuvkirC9KkcAbO67TabVFpaKpvNIsdUbzNgVte++u2O/V1fP/Xvzt47p1NXZrOZ06n9/Hy1Zo1r+9N9To7/CDhqqk/fDcO3Hu9B1ZocV1LYbL2qvAclJVY5fiRMTPSR4785NX1O5eVlSko6oa++ClNamq/z+nZv++7VZ3tL+fdETdRETdRETdRU23ZqoiZq8t6aatrvVF61kNrx48eVnp6udHNerDIyMpSenq7MzEwdP35cc+fO1aZNm/Tzzz9r1apVuvTSS9W9e3elppojhElJSRo/frxuueUWbd68WevXr9fMmTN19dVXKy4uTpJ07bXXyt/fXzfddJN27typN954Q0888YTmzJnj7Mcf/vAHrVixQo899ph2796t++67T1u2bNHMmTOb/T3xRkeOSBU/Eh3yZFfOaBXLF/St8tovv0iGIbVtW/fbnvXqZd6v+5TZNQAAAAAawatC95YtWzRw4EANHDhQkjRnzhwNHDhQ8+bNk4+Pj7Zv365LLrlEZ511lm666SYlJyfryy+/dBlhfu2119SzZ0+NGTNGF110kc4//3yXe3CHh4fr008/VUZGhpKTk3XXXXdp3rx5LvfyPu+887R06VI9//zz6t+/v5YtW6Z33nlHfbiXkqSKlcvDwsollXm0L2eyirX+ustmc/2n7LhE5vSrllfo1cu8JoUVzAEAAAD38arp5SNHjnSZe3+qTz755LTHaNu2rZYuXVprm379+unLL7+stc2VV16pK6+88rTnOxM5QnfbtuU6uUg7PKBNG8nfv1ilpYEqKAhxea0u9+c+lWOke8cOqahICgpqWL8KCqT335fGjZOioxt2DAAAAKC18KqRbrQMjtAdFcUotydZLFJ4+FFJcgndx4/Lec19ly51P15sbJliY837e5+8wqNe7Hbp5Zels8+WpkyRrr22/scAAAAAWhtCN+qt8kg3PCss7KgkKT8/1LnNMcrdoYMUHFz3Y1ks0uDB5vP6Xte9bZt0/vnS1KmS43b2n30m7dlTv+MAAAAArQ2hG/VWEboZ6fY0R+iuPNLdkOu5Hc45x3ysz3XdH31khvWNG80p7w8/LI0fb75WaTkFAAAA4IzkVdd0o2WomF7OSLenOaaXHzrUTn//u+TrKzluF1+f67kd6jvSbRjS/Pnm48SJ0nPPSfHxUt++0ooV0pIl0kMPSYGB9e8LAAAA0Bow0o16Y6Tbe4SHH5H0gySprMxcAM1uN0ecO3Wq//EcoXv3bunYsdO337jRDOgBAdKiRWbglsyR7k6dpMOHpWXL6t8PAAAAoLVgpBv1xki39/DxsUtK0oQJK9Wjx0iVl5vhOyJC8vOr//FiY6WEBGnfPmnrVmnkyNrbL1xoPl53XeX7hks+PtItt0j33muOfk+ZUv++AAAAAK0BI92oN0a6vU25goJKFBlp3qIrLq5+C6id6rzzzMcPPqi9XWam9Pbb5vM//KHq6zfdZIbv9evN25ABAAAAZyJCN+rFMBjpbu2uu858fPllc9S8Jk8/bd5ebNQoqV+/qq936CBNmmQ+//e/3d5NAAAAoEUgdKNe8vOl0lLzOSPdrdOECVL79lJOjvThh9W3KSyU/vMf83l1o9wOt91mPr7yirkPAAAAcKYhdKNeHKPcYWFSQIDh2c6gSfj6Stdfbz5ftKj6Nq+8Ih05Yq6Q/pvf1HysMWOkbt3MH2veeMP9fQUAAAC8HQupoV4coTs21rP9QNO68Ubp0UfNe3BnZ5sj3w52u/TEE+bzO+80r9vOzMxUbm5utceaODFWTz7ZUc88c0wDBuyttk27du3UqSHLrQMAAABejtCNeiF0nxmSkqSUFPOWYK+8Is2dW/HaihXmLcVCQ6Xp083A3bNnkoqKTtRwtJ6SdmnrVouSk8+RZK/SIigoWLt37yJ4AwAAoNUhdKNeCN1njunTzdC9aJH0xz9KFov000/mKLhkrk4eFib98EOuiopO6LLLXlV0dFKV49jt0ksv2VRWFqIrrvhWbdsWu7yek7NLy5dPUW5uLqEbAAAArQ6hG/VC6D5z/Pa30u9/b45qb9okde8ujR8vHTokDRgg3X+/a/vo6CR16DCo2mPFxUm//CKVlfVShw5N33cAAADAW7CQGuqF0H3mCAuTrrzSfP7UU+aCaXv3Sp07m9d6h4XV/ViOoH3ggPv7CQAAAHgzQjfqhdB9Zpk+3XxculTavFlq29a8pru+o9UdO5qPhG4AAACcaQjdqBdC95ll+HDztmCSFBgovf++1LNn/Y8TF2c+ZmdLNpv7+gcAAAB4O0I36oXQfWaxWMxrtzt3lt58UzrvvIYdJzLSDO02m5ST494+AgAAAN6M0I06MwxC95loyhTp55+liy9u+DEslorR7l9/dUu3AAAAgBaB0I06O35cKioynxO6UV8spgYAAIAzEaEbdeYY5W7TxvwD1IdjpDsry7P9AAAAAJoToRt1xtRyNIZjBfODB6Xycs/2BQAAAGguhG7UGaEbjREWJgUHS3Z7xXcJAAAAaO0I3agzQjcao/JialzXDQAAgDMFoRt1RuhGYxG6AQAAcKYhdKPOCN1oLEI3AAAAzjSEbtQZoRuN5QjdOTlSaaln+wIAAAA0B0I36ozQjcYKDTX/GIaUne3p3gAAAABNj9CNOiN0wx2YYg4AAIAzCaEbdUbohjsQugEAAHAmIXSjTk6ckI4fN58TutEYjtD966+e7QcAAADQHAjdqJOsLPMxKMi8JhdoqI4dzcfDh80fcwAAAIDWjNCNOnGE7g4dJIvFs31ByxYUJLVrZz7fv9+zfQEAAACaGqEbdeJYabpDB8/2A61DfLz5uG+fZ/sBAAAANDVCN+qk8kg30FgJCeYjoRsAAACtHaEbdULohjs5QveBA5Ld7tm+AAAAAE2J0I06IXTDndq1kwIDpbIyKS8vyNPdAQAAAJoMoRt14gjd7dt7th9oHSyWiuu6Dx4M8WxnAAAAgCbk6+kOoGVgpLv127VrV7PuFx8v/fCDdPBgmwbtDwAAALQEhG7UCaG79Tp+PEuSRVOmTGnkcY7Vq73jum5CNwAAAFozQjdOq6xMyskxnxO6W5/i4qOSDI0a9ZR69Eip9/57936k1avvVXFxcb3269jRnGZ+/HiAJL5YAAAAaJ0I3TitgwfNR19fcwEstE6Rkd3VocOgeu+Xm9uw6eUBAVJMjOP7Vf+wDwAAALQELKSG03JMLY+Nlax8Y+BGjinm0nme7AYAAADQZIhQOC2u50ZTcaxgTugGAABAa0XoxmkRutFUKka6B6mkxOLJrgAAAABNgtCN0yJ0o6lERkpBQWWSArR7d7CnuwMAAAC4HaEbp0XoRlOxWKSYmEJJ0jffcOswAAAAtD6EbpwWoRtNKTbWDN3ffkvoBgAAQOtD6MZpEbrRlNq3Py5J2rw5VL/+6uHOAAAAAG5G6MZpZWebj4RuNAVzenmajh/31VVXSWVlnu4RAAAA4D6+nu4AvJvdfmaE7l27djXrfqhg3vv9SrVps0fr1/vo7rulRx+teD0zU7rjDqmoSHr55cq3GQMAAAC8H6EbtcrLk8rLzQWvYmM93Rv3O348S5JFU6ZMaeRxjrmnQ2esH3Xffb9o7tyu+uc/pfPPly69VHr7benmm6UjR8xWQ4ZIH34oDRjg0c4CAAAAdUboRq0c13O3ayf5+Xm2L02huPioJEOjRj2lHj1S6r3/3r0fafXqe1VcXOz2vp1pRo8+qlmzpIULpalTpcsuk5YsMV8791zp+HHpu++kCy6Q3nxTmjDBg50FAAAA6sirrun+4osvdPHFFysuLk4Wi0XvvPOOy+uGYWjevHnq0KGDgoKCNHbsWO3du9elzeHDh3XdddcpLCxMERERuummm3T8+HGXNtu3b9cFF1ygwMBAJSQk6JFHHqnSl7feeks9e/ZUYGCg+vbtq48++sjt9bYEZ8oiapGR3dWhw6B6/4mMTPR011uNXbt26eqr09S373Hl51cE7qlTs/Xkk9v0zDPf6JxzCnT8uHTxxYbuuecXbdu2Tdu2bVNmZqZH+w4AAADUxKtCd2Fhofr376+nn3662tcfeeQRPfnkk3ruuef01VdfqU2bNkpNTXUZZbzuuuu0c+dOrVy5Uh988IG++OIL3Xrrrc7XCwoKNG7cOHXu3Flbt27Vo48+qvvuu0/PP/+8s82GDRt0zTXX6KabblJaWpomTZqkSZMmaceOHU1XvJc6U0I3PKfyFP+hQwfp22+TJO2TlCXpQr30UgcNHZqskSMH6Ouv20laIpvNooceSlBy8tVKTk5Wz55JBG8AAAB4Ja+aXj5hwgRNqGHOqGEYWrhwoe655x5deumlkqSXX35ZsbGxeuedd3T11Vdr165dWrFihb7++msNHjxYkvSvf/1LF110kf75z38qLi5Or732mkpLS7Vo0SL5+/urd+/eSk9P1+OPP+4M50888YTGjx+vuXPnSpIefPBBrVy5Uk899ZSee+65ZngnvAehG02tuin+5eW5sloNWa3/V6W9YUgffHBMWVmhSklZpfbtv9Dy5VOUm5urTp06NW/nAQAAgNPwqpHu2mRkZCg7O1tjx451bgsPD9eQIUO0ceNGSdLGjRsVERHhDNySNHbsWFmtVn311VfONsOHD5e/v7+zTWpqqvbs2aMjJ1dr2rhxo8t5HG0c5zmTOEJ3+/ae7Qdav8pT/BMSBqpjx+qn9MfFDVKfPqGSpJycBEVHJ3m45wAAAEDNvGqkuzbZJ+9bFXvKEtqxsbHO17KzsxUTE+Pyuq+vr9q2bevSJjExscoxHK9FRkYqOzu71vNUp6SkRCUlJc6/FxQUSJLKy8tVXl4uSbJarbJarbLb7bLb7c62ju02m02GYZx2u4+PjywWi/O4lbdLks1mq9N2X19fGYbhst1iscjHx8fZxwMHrJKsio21S3Ltu91ul6+v78n97JIqajIMcz+LxSbJqHa7j4/k7+8vHx/jZBuLLBbXmgzD5+TxbdVud+zv2M8wfCUZp7S3nGxvP9nPiu2O96fyMSSrDMNap5p8fMzPqaKPlWv1OW1NVd+D6mqtuSaL5dT3oKZaa6tJ8vPzO+V9rOnzq1qTj4/5vTH7WNfPr6Imx3tgtTrOU/VzOrWm7t2llSt99fPPks1m7m+321VeXu7V/55Ot70l/jeCmqiJmqiJmqiJmqjpTK3p1OPVpMWEbm/38MMP6/7776+yPS0tTW3atJEkRUdHq1u3bsrIyFBOTo6zTXx8vOLj4/X9998rPz/fub1r166KiYnRjh07VFRU5Nzes2dPRUREKC0tzeWL0K9fP/n7+2vLli0ufRg8eLBKS0u1fft25zYfHx+dc845ys/P1+7du53bg4KC1L9/f+Xm5uqnn37S3r29JIXJMA5IiteBAwe0f/9+SVJ+fr5SU1MlSe3aZSg0tKKmI0fideRIvGJjv1dwcEVNOTlddexYjDp23KGoqECdddZctW9fpsLCfBUVRahz5zRZrRU17dvXT+Xl/kpMdK0pI2Ow2rSxaO5cc/+wsC2y233088/nKCgoXx06VNRUWhqk/fv7KzQ0V9HRPzm3nzgRLkkaNmyYhg83jyFJx45FKyenW51qiooK1N69/SRJHTvukL9/xeeUldXztDVVfg/y8mzy9S1VQkLF53S6mtq393F5D06cCFd2dpIiIw8oMnK/s31tNUnSFVdcofPOq3gPKn9Op6spKipQq1dHycdH1X5Op6vJ8R6EhZXrxAlV+zmdWlOXLtJrrw1WQYGvDMN8D/Ly8rRlyxav/vfkEB4erqSkJJd/T1LL/G8ENVETNVETNVETNVHTmVpTYWGh6sJiVP4JwItYLBYtX75ckyZNkiT99NNP6tatm9LS0jSg0k16R4wYoQEDBuiJJ57QokWLdNdddzmniUvmrw+BgYF66623dNlll+mGG25QQUGBy8roq1ev1ujRo3X48GFFRkaqU6dOmjNnjmbNmuVsM3/+fL3zzjv65ptvqu1vdSPdCQkJysvLU1hYmCTv/6VGqvor09ln++innyxas8amESNcf31KT09XSkqKpk//SnFxA1Tfke6dO1/Xu+9O16WXvqtevVJV35Hub79dqg8+MPfv3Xvsye31G+nevv11vfvuVF1++QfOY9RnpHvnzjf0v//doEmTPlK/fmNV35HunTvfOOU9qN9I944dr+n99yu/B/Uf6f722//q/fdv1KRJ71V6H+s+0r1z5xtatux6XXaZ4z2ovtaaanK8B5dc8q569x5fTd+rr2n5ch99841F/ftna9euzlq/fr0GDBjg1f+eTre9Jf43gpqoiZqoiZqoiZqo6UytqaCgQFFRUcrPz3dmvuq0mJHuxMREtW/fXqtWrXKG7oKCAn311Ve64447JEkpKSk6evSotm7dquTkZEnS559/LrvdriFDhjjb/L//9/9UVlYmv5M3nl65cqXOPvtsRUZGOtusWrXKJXSvXLlSKSk138c5ICBAAQEBVbb7+vo6p2A7OL4Mp3J8uHXdfupxG7LdYrFUu91qtcpisTqv6Y6P96nSd6vV6vziOkLaqRyhq7rtNptUWloqm80ix1RvM4xV17767Y79XV8/9e/OqpzTqSuz2WzVHKNuNdlscv4HoOZaa66p7u9B9TUZRk3vQfW11lRTWVlZDe/B6Wuy2XTyP2o1ve+11+R4D+x2S619P3V7t27SN99I+/eHqbS0VFar1eW77G3/nqr7N1/f7dRETTVtpyZqkqippj7Wdzs1UZNETTX1sb7bW3tNNe1X5Th1atVMjh8/rh9++MH594yMDKWnp6tt27bq1KmTZs2apb/97W/q0aOHEhMTde+99youLs45Gp6UlKTx48frlltu0XPPPaeysjLNnDlTV199teLi4iRJ1157re6//37ddNNN+vOf/6wdO3boiSee0IIFC5zn/cMf/qARI0boscce08SJE/X6669ry5YtLrcVOxMUFEiOWRmsXg5v07Wr+ZiXFywptta2dZGZmanc3NwG79+uXTtWTwcAAEAVXhW6t2zZolGjRjn/PmfOHEnS1KlTtWTJEv3pT39SYWGhbr31Vh09elTnn3++VqxYocDAQOc+r732mmbOnKkxY8bIarVq8uTJevLJJ52vh4eH69NPP9WMGTOUnJysdu3aad68eS738j7vvPO0dOlS3XPPPbr77rvVo0cPvfPOO+rTp08zvAvewzHKHRYmBQd7ti/Aqdq0MX8MMr+nY0/XvFaZmZnq2TNJRUUnGnyMoKBg7d69i+ANAAAAF14VukeOHOky9/5UFotFDzzwgB544IEa27Rt21ZLly6t9Tz9+vXTl19+WWubK6+8UldeeWXtHW7luEc3vF3Xro7vaWqjjpObm6uiohO67LJXG3QLspycXdwrHAAAANXyqtAN7+K4QxqhG96qe3dp/XpJulB2+4FGHy86OkkdOgxq9HEAAAAAh+pWKwIkMdIN7xcfL/n62iS11w8/BHm6OwAAAEAVhG7UiNANb+frK8XFHZckbdxY820aAAAAAE8hdKNGhG60BPHxBZKkTZtCPdwTAAAAoCpCN2pE6EZL4AjdaWkhKiz0cGcAAACAUxC6USNCN1qC8PASSb+orMyqdes83RsAAADAFaEbNSJ0oyWwWCRptSRp7VqPdgUAAACogtCNahUVSUePms8J3fB+ZtomdAMAAMDbELpRLcc9ugMDpfBwz/YFOD0zbW/eLK7rBgAAgFchdKNa+/ebjx07OqbvAt4sQ7GxpSovlzZu9HRfAAAAgAqEblRr3z7zMSHBs/0A6io5+ZgkppgDAADAuxC6US3HSDehGy3FoEHHJRG6AQAA4F0I3aiWY6Q7Pt6z/QDqKjnZDN1ffWUuBAgAAAB4A0I3qsX0crQ0CQkl6tBBKi01gzcAAADgDQjdqBahGy2NxSKNGGE+X7PGo10BAAAAnHw93QF4VmZmpnJzc6ts//nnvpL8dOzYLm3bVv1c3V27djVx74D6GTlSev315rmu22aTTpwwp7JnZYVIuliHDvk1/YkBAADQohC6z2CZmZnq2TNJRUUnTnnFX1KJJOnaa8+XdLjW4xw/fqxJ+gfUl2Oke9MmqaRECghw/zlKSszbkm3caE5lN50l6T1NmVKmb74xb7UHAAAASITuM1pubq6Kik7ossteVXR0knN7QYG/Xn9d8vGxa/r0lTXep3vv3o+0evW9Ki4ubqYeA7U7+2wpNlY6eFDavFm64AL3Hdtmk9LSzKnrhYXmNotFCgyU/P2LlZ+fr7y8WF12mfTFF+Z2AAAAgNANRUcnqUOHQc6/l5iD3IqIsCoublANe0m5uUwvh3exWKThw6W33jKnmLsrdGdkSB9+KOXlmX9v21YaM0ZKSjLPmZX1nZ5//gqFh3+vr7/21a23Si+9pBp/sAIAAMCZg4XUUEVBgfkYFubZfgAN4Zhi7o7ruouLpfffl15+2QzcwcHShAnS734n9ep1aqjO0D/+kSEfH+mVV6QFCxp/fgAAALR8hG5UkZ9vPhK60RI5QveGDZWvua6/PXukZ56Rtm0z/z54sHTnndK550o+PtXvc+65x/T44+bzuXOlTz9t+PkBAADQOhC6UQUj3WjJevWSoqLMlcUbcr9uwzDD8uuvS8eOmVPJp02TJk6s23Xad94pTZ8u2e3S1KlSeXn9+wAAAIDWg9CNKhyhOzzcs/0AGsJqNQOyJD35ZP32tduld94xVyaXpPPOk26/Xercue7HsFjMEfKoKCk7W/ryy/r1AQAAAK0LoRtVMNKNlm7uXPPxf/+Tvvuurnu10SefdNP27WZwnjRJuvBCya8Bt94OCJAuucR8vnx5/fcHAABA60HoRhVc042Wrk8f6bLLzKniDz98+vZHjvhIWqV9+8Ll5yddc43Uv3/j+nDZZebj8uVmPwAAAHBmInTDRVmZVFRkPmd6OVqy//f/zMelS6Uff6y5XX6+NHNmD0lDFBBQrhtukHr0aPz5L7xQatNG2r9f2rKl8ccDAABAy0TohgvH1HI/P3OKLNBSJSebt/ey26X/+7/q25w4If3mN9Lu3cGSDumSS75XfLx7zh8YKF10kfmcKeYAAABnLkI3XFReRM31HsRAy+MY7V6yRNq3z/W10lJp8mRp3TopJKRc0jhFRha79fyOKeZvv+3WwwIAAKAFIXTDBddzozUZNkwaOdK8bOLRRyu2FxVJ110nrVghBQdLTzzxo6Rv3H7+iRMlf3/znt+7drn98AAAAGgBCN1wwcrlaG3uucd8fP55acQIKT7eDNrLlpmBePlyacCAwiY5d1iYNGaM+Zwp5gAAAGcmQjdcELrR2oweLQ0dKpWUSF98If36q7k9JkZ6801p3LimPT9TzAEAAM5svp7uALxL5Wu6gdbAYpFef90c2e7QQerWzfwTFdU86xZceql0223S1q1SZqbUqVPTnxMAAADeg5FuuOCabrRGnTtLd90lXXutNGSI1K5d8y0UGBMjnX+++Zwp5gAAAGceQjdcMNINuJ9jijmhGwAA4MxD6IZTaalUfPKOSYx0A+7jCN1fflkxmwQAAABnBkI3nByj3AEB5h8A7tGli9S1q2S3S5s2ebo3AAAAaE6EbjhxPTfQdIYNMx/XrfNsPwAAANC8CN1w4nZhQNNxhO716z3bDwAAADQvQjecCN1A03GE7q++ksrKPNsXAAAANB9CN5wc08tZuRxwv169pIgI6cQJ6ZtvPN0bAAAANBdCN5wY6QaajtUqnXee+Zwp5gAAAGcOX093AN6D0A00zq5du2p9PTExVlJHffDBEV1wQYbLa+3atVOnTp0afO7MzEzl5uY2eP/Gnh8AAADVI3TDyRG6mV4O1M/x41mSLJoyZcppWg6XtFaffXZCycnJLq8EBQVr9+5dDQq+mZmZ6tkzSUVFJ+q9rzvODwAAgJoRuiFJKikx/0iMdAP1VVx8VJKhUaOeUo8eKTW2Ky+3aPFiQ4bRUddc861CQ0slSTk5u7R8+RTl5uY2KPTm5uaqqOiELrvsVUVHJ9V7/8aeHwAAADUjdENSxSh3YKDk7+/ZvgAtVWRkd3XoMKjWNnFx0q+/SsXFfXTWWe49f3R0Uo3nP35c+uEHqVs3KTTUvecFAABAzQjdkCQdPWo+MrUcLdXprqduqn3rKyHBDN379kn9+jXtuQxDysyUvv5a2rVLstvNwH3ddVJsbNOeGwAAACZCNyRJhw+bj5GRnu0HUF91v566Lsc61vgOnUanTtKmTWbobko5OdKyZdKhQxXbAgKkY8ekxYulq66SEhObtg8AAAAgdOOkI0fMR0I3Wpq6Xk9dm717P9Lq1fequLjYrX2rTkKC+XjwoFRcbF7S4W52u/T222bg9vOT+vaVzjnHnMnyxhvSL79Ir70mTZok9enj/vMDAACgAqEbkgjdaPnqcj11TXJzm296eUiI+e/syBFp/36pe3f3n+Orr6TsbDPQ/+53rtdwT5kiLV8uffed9L//SaWlUocO7u8DAAAATFZPdwDewRG627b1bD+AM4FjgfDMTPcfOz9fWr3afH7hhVUXTfP1lSZPls491/z7J59IRUX8/goAANBUCN2QYTDSDTQnxxTzpriu++OPpbIy8xwDB1bfxmqVxo83R7hLS6Vt29q7vyMAAACQROiGpBMn/FReLlksrF4ONAdH6P71V8lmc99xf/45XHv2mKH6N78x/03XxGIxR8Il6bvvoiU1wTx3AAAAELohHTtm3pg7PFzy8fFwZ4AzQHS0FBRkjkj/+qu7jhqi9evNNH/eeVJMzOn3SEyUevSQDMMi6e/u6ggAAAAqaVGh+7777pPFYnH507NnT+frxcXFmjFjhqKiohQSEqLJkyfr4MGDLsfIzMzUxIkTFRwcrJiYGM2dO1fl5eUubdasWaNBgwYpICBA3bt315IlS5qjPI8pKAiQxNRyoLlYLFK3bubzH35w11H/qsJCf0VESMOH132vsWMli8WQdKW+/TbYXZ0BAADASS0qdEtS7969lZWV5fyzbt0652uzZ8/W+++/r7feektr167VgQMHdPnllztft9lsmjhxokpLS7Vhwwa99NJLWrJkiebNm+dsk5GRoYkTJ2rUqFFKT0/XrFmzdPPNN+uTTz5p1jqbE6EbaH6OVcvdEbrz830k3SlJSk01bxNWVzEx0lln5UmSFi6Ml2E0vj8AAACo0OKWrPX19VX79lUX/cnPz9eLL76opUuXavTo0ZKkxYsXKykpSZs2bdLQoUP16aef6rvvvtNnn32m2NhYDRgwQA8++KD+/Oc/67777pO/v7+ee+45JSYm6rHHHpMkJSUlad26dVqwYIFSU1ObtdbmQugGmp9jpDsrSzpxonH/KX799RhJoYqKOqGzz67/aHVycpb27AlWenqI3ntPuvTSRnUHAAAAlbS4ke69e/cqLi5OXbt21XXXXafMk/fc2bp1q8rKyjR27Fhn2549e6pTp07auHGjJGnjxo3q27evYmNjnW1SU1NVUFCgnTt3OttUPoajjeMYrZHjmm5uFwY0n5CQivtj798f1uDjFBRI//1vtCRp4MDsWhdPq7kvZZIWSJLmz29wVwAAAFCNFjXSPWTIEC1ZskRnn322srKydP/99+uCCy7Qjh07lJ2dLX9/f0VERLjsE/v/27vv+KjKvP//r5lJJSQQIITQSwgEkBKaAWmKogKKbZVdBLGhwgqyinjvvSp7uz/UxbYuimWFr4hLEbEgyiIgCOqKECC00Ak1BUIgpJGZ8/vjMJNMepskJO/n43EembnmOudc17nmzOQz13WuExrKmTNnADhz5oxbwO183flacXkuXLhARkYG/v7+hZYtKyuLrKws1/MLFy4AkJOT47pm3Gq1YrVacTgcOBwOV15nut1ux8gztrOodJvNhsViKXAtuu3KLGj2fNMhF5Xu3Iezp7tRoxwsFguGYQMcWCyOPDkLptts5sgD4Epabn7DsAJWLBY7YBSabrOBj48PNptxJY8Fi8W9TuY+ubKdgunO9Z3rGYYXYOTLX3SdnMcn7zbAimFYS1Unm808hrllzFtXW4l1KngMCqtr0XWyWPIfg6LqWlydwNvbO99xLKr9CtbJZgOLxXKljKVtv9w6OY+B1ercT8nvvbx1slrdj0Fp3nsF61TYe6n4917edOcEhBZL/mNQ/PkUHm5w+rSFEycC8fHxcZ3nZfmMmDvXysWLXsBeOnS4hMXSulTvPXcG8Dre3s+xY4eVrVtz6NHDPL8Nw3D77LBYLNhstgJlLCq9pn3uqU6qk+qkOqlOqpPqpDpVVp3yb68oV1XQfcstt7ged+/enf79+9OmTRuWLl1aZDBcVWbPns2sWbMKpMfExBAQEABASEgIHTp04MiRIyQlJbnytGzZkpYtW7J//35SU1Nd6e3bt6dp06bs2rWLjIwMV3rnzp1p2LAhMTExbm+E7t274+Pjw2+//eZWhj59+pCdnc3OnTtdaWagaaN1664cPWpeANqzZwxeXj6cONGDwMBkQkIOu/KnpzfgzJlIgoNPERx8AoDGjf1ITzeH3DdpcoTAwNw6paS0JCWlJaGh+6lXL7dOSUntuXixKS1a7KJxYz8iIp6hWbPLXLqUSkZGQ9q0icFqza3T8ePdycnxoV079zodOdKHgAALzzxjrh8U9BsOh42jR/vi759KWNg+V97sbP8i6wQwcOBABg82twFw8WIISUkdSlWnxo39OHCgOwAtWuzCxye3nU6f7lxinfIeg7Nn7Xh5ZdOqVW47lVSnZs1sbsegsHYqqU4Ad999NwMG5B6DvO1UUp0aN/Zj/frG2GwU2k4l1cl5DIKCckhPp1Tvvbx1iojwdjsGpXnv5a8TwNSpU2ndOvcYFPfey1+nhg19WbYMgoMNt/zFvffOnIkkKiqJH39syunTgfzpTzNIS0u7so/SfUaEhrbn9dfNacpvu20XUVFB+Pn9Vqr3Xl5nznjRpImVzp0T2bSpGa+9lshTT52kb9++pKamsm9f7nvP39+fHj16kJyczOHDuXVq0KABkZGRnDp1ihMnctuppn3uqU6qk+qkOqlOqpPqpDpVVp0uXbpEaViMvD8BXIX69u3L8OHDufHGG7nhhhtISUlx6+1u06YN06ZN46mnnuL555/nq6++Yvv27a7Xjxw5Qvv27dm2bRu9evVi8ODBREVF8eabb7ryzJ8/n2nTprk1aH6F9XS3atWKs2fPEhRkDh2tab/U7Ny5kz59HsQwtuPvb/Dss3ZK6pnLm7579xJWrHiA225bSffuN1LWnu7duxfz5ZcPcvvtX9KlywjK2tMdG/spK1ea63ftOvxKetl6unfuXMyXX07gzjtXurZRlp7u3buXsHz5eMaMWUX37sMpa0/37t1L8h2DsvV079q1iK+/znsMyt7THRv7b77+eiJjxnyV5ziWvqd79+4lfPbZ/dxxh/MYFF7XourkPAa33fYlXbveXEjZi6/T7t2L+Oqr3GNQnp7uwt9Lpe/p3r17CcuWjeOuu77lmmvyHoPizyeHw8Hf/24hM9OCl9dgfvnlDXr37l3qz4h//MPKn/5kpUWLLBITg3nooY00a9azzD3dp07t4IMP+jJnThx/+lNHQkMNjh614+dX+3+hVp1UJ9VJdVKdVCfVSXUqb50uXLhA48aNSU1NdcV8hbmqerrzS0tL49ChQ9x///307t0bb29v1q5dy1133QVAXFwc8fHxREdHAxAdHc3f/vY3EhMTaXrlJrZr1qwhKCiILl26uPKsWrXKbT9r1qxxbaMovr6++Pr6Fkj38vJyDcF2cr4Z8nM2bmnT82+3POmG0Q6A4GDLlUDIVUrX0GN3uel2e+6QCmdAU3D7hZfdMGzY7ZCdnY3dbsE51Nu9DHnzF57uXN/99fzPi6+T3W4vZBulq5PdjusDoOi6Fl2n0h+DwutkGEUdg8LrWlSdLl++XMQxKLlOdjtXPtSKOu7F18l5DBwO58XIJb/38nI4Cj8Gxb33ClP4cSzde9L5eWwYZXvvWa1WOnSA3bshJ2f4lWH6pfuMyMyEOXPMxxMnnuGllzJwOKz5jkFp28OCYRgMHHiRJk0gIcHCunVe3Hqr+SVY2GdHUWUsa3p1fO6pTqoTqE5FlbGs6aqT6gSqU1FlLGu66nT11amo9fK7qiZSe/rpp9mwYQNHjx7lp59+4o477sBmszF27FgaNGjAQw89xPTp01m/fj1bt25l4sSJREdHc+211wJw00030aVLF+6//3527NjB6tWr+d///V8mT57sCpgfe+wxDh8+zIwZM9i3bx/vvPMOS5cu5amnnqrOqntQe0CTqIlUF+etw+CW4rIV8NFH5sznrVrBqFHnKqUs3t7w+9+bjz/+uFI2KSIiIlLnXVVB94kTJxg7diydOnXid7/7HY0bN+aXX34hJMScufeNN95g1KhR3HXXXQwePJhmzZrx+eefu9a32WysXLkSm81GdHQ048aNY/z48fz1r3915WnXrh3ffPMNa9asoUePHrz22mt8+OGHtfZ2YWDet0i3CxOpHs5bh0Ffzp0r3a+lFy6AcwqJZ58Fb+/Ku0powgTz7xdfwPnzlbZZERERkTrrqhpevnjx4mJf9/PzY+7cucydO7fIPG3atCkwfDy/oUOHEhMTU64yXn3Mnm4F3SLVIzAQGjdO5+zZevzySxD57lhYqJdegsREiIiARx6BXbsqrzy9ekHXruaQ92XLzO2LiIiISPldVT3d4gnq6Rapbq1ambcY3Ly55Pt1HzwIznkeX38dfHwqtywWC4wfbz7WEHMRERGRilPQXYeZc6C1BRR0i1SnVq3MOyP8/HMQ+SbJLODpp+HyZRgxAm691TPlGTcOrFbYtAkOHfLMPkRERETqCgXddVhiog/gjdXqoJgZ7kXEw0JDLwEppKZ68cEHRef7/nv48kuw2cxeboul6LwV0bw5rmHuCxd6Zh8iIiIidYWC7jrsxAlzxvbAwGyP/fMuIiUz74DxEgDTpsH27QXz5OSYrwE88QRcucuhxziHmH/yiXlrOhEREREpHwXdddiJE+bFoEFBWdVcEhGBNxg0KJWsLLjnHnOGcifDgJdfNic3a9QIXnzR86W5/XbzevFDhyAuzvP7ExEREamtFHTXYc6ebgXdIjWBwaxZR2nd2pws7dFHzWD76FHz+u2//MXM9de/moG3p9WvD0OGmI+/+cbz+xMRERGprRR012EnTyroFqlJGjSws3gxeHnBkiXw+99Dt26wZg34+cErr5hDy6vKyJHmXwXdIiIiIuWnoLsOy+3pzq7mkoiIU3S0OZQcYPFiuHQJBg+GHTtgxgzPTZ5WGGfQ/eOPkJpadfsVERERqU0UdNdRhpF7TXdgoHq6RWqS6dPNicyaNIF334X16yEiourLER5u7jcnB/7zn6rfv4iIiEht4FXdBZDqkZICaWlm82t4uUjNYrHA//t/5o9j1X1ngZEjYf9+c4j5PfdUb1lERERErkYKuuuoQ4ecj07h5aX7AYnUBHv37q3S9Upj5Eh44w349ltwOJy3NxMRERGR0lLQXUcdPux8dAgIqMaSiEha2mnAwrhx4yq4nYuVU6A8Bg2CwEBITITffoN+/Sp9FyIiIiK1moLuOmrQIJg9+zDPPfcK8NfqLo5InZaZeR4wGDbsn3TsGF3m9Q8cWMX69X8hMzOzQuUoqse8b992rFsXzIcfnsbL63SR6zdp0oTWrVtXqAwiIiIitY2C7jqqeXO46abzPPfcNyjoFqkZgoPDCQuLKvN6yckVG15eck/7ROAjPvjgJB980LfI7fj712Pfvr0KvEVERETyUNAtIlLHldTTnp7uxSefAPRh3Lgd1KuXUyBPUtJeVqwYR3JysoJuERERkTwUdIuICFB8T3tYGJw+DRcudKdDhyoumIiIiMhVTPPQiohIiTp2NP8eOFC95RARERG52ijoFhGREkVEmH8PHYKcgqPLRURERKQICrpFRKREzZubtw7LzjYDbxEREREpHQXdIiJSIosFIiPNx0XcWUxERERECqGgW0RESqVLF/Pvvn1gt1dvWURERESuFgq6RUSkVFq1gvr1ISsLDh+u7tKIiIiIXB0UdIuISKlYrdC5s/l4z56q3/+lS7BsGaxZA4mJVb9/ERERkfJQ0C0iIqXWtav5Ny6uaoeYHzsGAwbA734HN90EoaHm5G4jR8Kvv1ZdOURERETKyqu6CyAiIleP1q2hXj1IT4ejR6FDh8rbdnx8PMnJyQXSt28P4Omn25OS4k2DBjk0bJhDfLwvp09bOH0aNm/OYcmSvURGNqB169aVVyARERGRSqCgW0RESs1qNWcx37rVHGJeWUF3fHw8nTtHkpGRnu+VicA8wBuIITX1dlJTjwMBwDXAO6Sm9uLmm8/g5xdNXNweBd4iIiJSoyjoFhGRMunSxQy69+0zh3dbK+FCpeTkZDIy0rnjjk8ICTHvTRYTE8qWLS0AaNcuhaFDLXh7f+G23vnzPixf7sBuv5HMzMdITk5W0C0iIiI1ioJuEREpk7Ztwd/fHGJ+7Bi0a1d52w4JiSQsLIotW2DLFjNt8GAYOjQYiyW4QP6wMLjlFli5EuD/Y+/eQ0RFVV55RERERCpKE6mJiEiZeHoW89hYWLXKfDxkCAwbBhZL0fmjoqBt2xTAh//5n3akpVV+mURERETKS0G3iIiUWZcu5t+9eyEnp/K2Gx8fxBdfmI/79jWD7pJYLDB4cDxwgvh4P2bMqLzyiIiIiFSUgm4RESmzdu2gfn3z3tk//VRZW72eNWva43DANdeYw8aL6+HOy8/PDowH4P334cCByiqTiIiISMUo6BYRkTKz2cz7ZQP8+CNcuOBT7m0ZBnz6aQiwGrvdSkQE3H576QPuXOsZODAVux1mzSp3cUREREQqlYJuEREpl27dzB7vnBzYvLlVubaRng7jx8Nrr7UCvAgPP8vdd5tBfXk8/vgpAD791DPXm4uIiIiUlYJuEREpF4sFbr3VnFjt+PEGwJgyrX/gAFx3HXzyCdhsBvAkw4Ydw9u7/GWKjMzgjjvM3vMXXij/dkREREQqi4JuEREptyZNYOBA57N/kJ5e8tfK8ePw6KMQGQkxMRASAu+8cwB4uxxDyguaNcv8QeCzz2D79opvT0RERKQiFHSLiEiFDBoEgYFZQCvmzQvDMArPd/QoTJ0K4eHwwQdgt5uTpW3dCn36VN59vq65Bu67z3z8/POVtlkRERGRcvGq7gKIiMjVzdsbBg48znffhbNoUSg//ACjR5tLaCh8/TV88QXs2JG7ztCh8NJLub3kSUmVW6YXX4QlS8x9//e/0L9/5W6/KPHx8SQnJ5d7/SZNmtC6detKLJGIiIhUNwXdIiJSYa1bXwD+D1/fmZw86c28eTBvnnseq9Wgd++LTJyYQL9+F7FYYNs287W9e/dWankiIswJ2hYsgOeeg7VryzMbetnEx8fTuXMkGRnp5d6Gv3899u3bq8BbRESkFlHQLSIiFZaWdhp4gaysvwHDgNHAbUAjYDXwBQ7HN2zZcpYtW4rbzsVKK9Pzz8O//w3r18PixTB2bKVtulDJyclkZKRzxx2fEBISWeD1nBwLiYkBnD/vR9Oml2jcOMPth4CkpL2sWDGO5ORkBd0iIiK1iIJuERGpsMzM84DBsGGv0bFjNACGkYjFkgi0AaZeWQp34MAq1q//C5mZmZVWpnbt4M9/NoPvp54yrx9v2LDSNl+kkJBIwsKiAEhJMXvzjx2DU6fM69idGjY0J5OLjISWLT1fLhEREakeCrpFRKTSBAeHuwLOskhOrtzh5U4zZsCiRRAXB//zP/DOOx7ZTQEZGbBxI/z6Kzgcuen165uztR8/DufPw88/m0uXLnDttR4e/y4iIiLVQkG3iIjUGoVdGz59en0mTYpg3jyD/v3juOaawq+5rpxJzLyJjQ0hJgacnfbt20O3btCmDQQHm9eWZ2fDwYOwbx/s2WMu586FA8EV3L+IiIjUNAq6RUTkqmdeU25h3LhxReRYgGFM4IEHMoF+gL1AjopOYrZjRwAQw88/twKgaVO48UbzFmn5+fiYvdtdukBUlHnN+ZkzgcAmTp8uWDYRERG5einoFhGRq17uNeX/dF1TnldGhhdLl+aQldWTa689SvfuiW6vV2QSs9RUc+j6u+9GABb8/S8zfLg3PXuC1Vry+m3bwsSJsHBhNpcudWHixGy+/x66dy9TMURERKSGUtAtIiK1RnHXlN90k/O+3S0JCWlJVNkvPXdjGLB0KUyfbk6SBhbgX9xzTx/atetRpm2FhsLtt8fx6acWkpK6ccMN5jXhkQUnQRcREZGrTCl+gxcREbn69eoFPXuawfLXX5u3EjOM8m1r/Xro1w/uu88MuMPDYd68/cDD+PmVb3h4/fqXgUFERl4iOdkcmn7kSPnKJyIiIjWHerpFRKROsFjgttsgKMjsRd64ES5cgFGjcvMUNhGbk8NhXrf90UfN+OmnBgDUq2fn/vsTGD8+gSNH9lRCKc/z9tsHefLJHuzZA8OHw48/QvPmlbDpUoiPjyc5OblC26icCelERERqDwXdIiJSZ1gsMGwYBAbCqlWwfTskJEBoqD9wTRETsfUF7gV+B7S6knYZeJf09Jd4770k3nsvN3da2sUKlTE42M6aNTBoEBw+bPZ4b9gATZpUaLMlio+Pp1OnfmRmDgSigCAg8MpiAX4Cvgd2AkUPEajohHQiIiK1jYJuERGpc/r0MXu8P/sMTp+G06cjgZ34+l6kcWODzEwv1+Jw5F6J5e1tp127FKKizhAUdB3wneu1AwdWsX79X8h03iusApo3h++/NwPvPXtgwADz+vGePSu86QIOH4bPP4clS4LJzDwOeBeR804A/Pwu07LlRbp0SaJZs0tuOSoyIZ2IiEhtpaBbRETqpIgImDLFvFf2tm0nSUhoRFZW4JVJ0XJ5e0OnTtC1K4SH2/DyagIU7HZOTi56aHp5tGtnBt433ggHDsC118Jrr8ETT5g99hWRkmIG8QsXwubNztRAABo0yCQ83I969cxbm/n6wuXLcPSouWRmenPwYCMOHmxE27YwZIh5D/KKlklERKS2UtAtIiJ1VlCQOSGav/8PfP75wwwc+CNNm/YhIADq1TOX+vXBZque8nXubA6Bf+ABWLnS/JFg7Vr44ANo3Lhs2zp6FL791lxWr4bsbDPdaoXrr4eePY8zZ84w7r13aaEzwA8YAHY7nDgBO3aYizMQb90aBg8Gf/+K1VdERKQ2UtAtIiICQCahoWe55prqLoe7xo3hq6/grbdgxgxYscKcfX3gQLj1VrjlFrMn3jBylzNnzB585/Ljj5B/jrhrroHx4+H3vzeHs2/blsScOYeKLYvNZvZqt2lj9nBv2gQxMRAfD598Ak2bdgJGlntWeE+x2yEpyfxRICAAvPTfj4iIVCF97YiIiNRwFgtMmwbXXQcPPQQ7d5qTq23YAM8+W7pt2GwQHW0G6iNHQvfuFStTgwbmdgYPNoeob90KiYkBwEr+8Id0pk2D0aOhRYuK7aesjh2LJybmIrGxAezZU4+9e+uxf78/GRm5wxW8vR0EBdnp0+ci112XyoABF2jY0LzVm2ZfFxGRyqaguwRz587l73//O2fOnKFHjx68/fbb9OvXr7qLJSIitVRxty2zWmH+fDh+3IeffmrA5s1B/PZbIFlZVrd83t4OWrfOom3bTNq2zSQiIoP+/S8SGGgGljk5sG1b6fdbnMBAuPlm8weBNWsS2LkzgLi4+jz+ODz+OPTubd6qrX9/s0e+dWuzHpXB2at/+LDZ47569SVWrvQBuha73uXLVs6etbJ6dSNWr24E2IFfgOX4+q5k//7vFXiLiEilUdBdjCVLljB9+nTmzZtH//79efPNNxkxYgRxcXE0bdq0uosnIiK1SFraacBSxG3LiuMN1CP3Nl4OLl9O59AhB4eKHy1eRDnKd8uz+vXh2mtPsnPnTTz55A62bGnBL7+YPeBbt+bm8/OD8HAIC4Pg4NzFz88Mxi0W8+/ly5CeDhkZuUve50lJZrDtPll8ABCA1WonJCSDkJB0mjRJJyQknQYNMjEMC5cvW8nJsXLxog/HjzcgPj6Ic+fqAQOBgWRlvc5tt6Xx4INwww0QGVl5PxKUVt77pRsGpKXZSEjwJiHBJ89fH1JSvHA4wOGwYBhgtRqEhWXTqZMXffoE07Gj+UOHj0/Vll9ERNwp6C7G66+/ziOPPMLEiRMBmDdvHt988w0fffQRM2fOrObSiYhIbZKZeR4wGDbsn3TsGF3m9Z23LKvo+hW/5dlZ+vX7gQkTIjl71otNm8we+cOH/Th+3JfMTCu7dsGuXRXczRVWq0GzZtm0aZNJy5ZHWLbsSR544C1ateoF1C923agr88WlpkJcHMTEXOTMmQB27KjP1Knma4GB5mR7/fpB27bQtCmEhJhLccGsYZjXkmdnF71kZkJaGly6ZC6pqXDsWBpLlmzD4WgINMW8N3xguY+Pj495/X5UlLl07gwdO5o/enjyxwRn/a3Wqv/RQkSkplHQXYTs7Gy2bt3Kc88950qzWq0MHz6cn3/+uRpLJiIitVlwcHihs4eXxHnLsoquXxEl99bbgDZABBACBOdZfABrnuUykA5k5FnyPj8HHMLhOM6pUzlut3rLzLxQpnI3aGAG1a1aHeD990czbtyX7N3biT176nHxoo21a81Z46tGfWBMgVRf3xzq188mIOAyAQHm33r1LmO1miMcLBYDu91KQsIF4uJi6dr1dk6cCCA1teBoAzAnlevQwfwRoWFDc7RBgwbmLeK8vMw5AGw2cDjMHwguX84dfXDxovuSlpb7ODMTcnIMDCP3HnI+Pg78/R34+eUuzue5f+1uz5s0qUeLFsH4+7sH7XlvTZf/NnXFvQa4TfDnfFxYWlnzFqeoW+mVNb20Sluuskx26Km8FVWRY3U1rlud+65ouR0O98k+8y5FvZY3fcAA6NWrYmWobgq6i5CcnIzdbic0NNQtPTQ0lH379hXIn5WVRVZWlut5amoqAOfOnSMnJwcwg3ar1YrD4cDhcLjyOtPtdjtGnk+rotJtNhsWi8W13bzpAHa7vVTpaWlpWCwWEhK2kpPj/AfFgsNhwWIxsFjyfnIWTE9J2YfNZiMpKZb4eD+3/IZhwTAsV/4ZKDw9JWUf3t7epKTs4tgxP8CC1eogL4fDcuVYGAXSk5L2utY/ftz3SroVMPLlL7pOSUl7sVqtbttwljF//sLqlJKyD4vFQlJSLMeP+7nV1Sx78XUqeAwKq2vRdUpOzn8MCq9rcXVKStqLl5dXoccgf/sVVqeUFPN8MI+Bb5F1LapOzmNw7lwsx475l+q9l7eMZ8/uczsGpXnv5a9T4e+lot97+dOdxyA5Of8xKN355DwGZ88WfgxKqtO5c+7HoDTvvbySkvZeqccut/KX5Xw6d848BmfPuh+D0p5PzmOQnGweg9K89/LWKe+5lHsMSn8+JSXtxWKx5DsGZTufzp7de+VYFH4MSqqTsw5JSbEcO+ZXqvde3jq5HwO/Un+WO8uYlLQXm81Wqs+CotJPnPgZMIiKmkxYWCdXuvPrJ/+t19zTczh9ehuxsYuIjHyYFi0isVq9MYfPB7nyO4ef59+OxQIJCeb6p0//hq8vpf4sd6bHx/+Cl1cSS5YMuJJmAzoCUVgsvTGMUKAx5n3aG1Hyv1E5mD8eZF9Z8j6/DGQCl4B0LJZ0IA2L5RyGkULXrrfSvHlLAgOzqFfvMt7ejlKdT8HB+zl8eDJTp86lY8cIEhJ82bfPj/3763HwoD8nT/py+rQvGRmWShttUBJnz/6Vf43ycf7IUtixLNuPJyJSO/31r9CuXc2In7y8vDAMw5V+4YL5OWWU8IuTxSgpRx116tQpWrRowU8//UR0dO4wvRkzZrBhwwb++9//uuV/8cUXmTVrVlUXU0RERERERKrR8ePHadmyZZGvq6e7CE2aNMFms5GQkOCWnpCQQLNmzQrkf+6555g+fbrrucPh4Ny5czRu3BhLRcdklMOFCxdo1aoVx48fJygoqMr3LwWpTWoetUnNpHapedQmNY/apGZSu9Q8apOapza1iWEYXLx4kebNmxebT0F3EXx8fOjduzdr165lzJgxgBlIr127lilTphTI7+vri6+v+9Dahg0bVkFJixcUFHTVv5lrG7VJzaM2qZnULjWP2qTmUZvUTGqXmkdtUvPUljZp0KBBiXkUdBdj+vTpTJgwgT59+tCvXz/efPNNLl265JrNXERERERERKQ4CrqLce+995KUlMTzzz/PmTNn6NmzJ999912BydVERERERERECqOguwRTpkwpdDh5Tefr68sLL7xQYMi7VB+1Sc2jNqmZ1C41j9qk5lGb1Exql5pHbVLz1MU20ezlIiIiIiIiIh5iLTmLiIiIiIiIiJSHgm4RERERERERD1HQLSIiIiIiIuIhCrqvYnPnzqVt27b4+fnRv39/fv3112LzL1u2jM6dO+Pn58c111zDqlWrqqikdUdZ2mTBggVYLBa3xc/PrwpLW/tt3LiR0aNH07x5cywWC1988UWJ6/zwww9ERUXh6+tLeHg4CxYs8Hg565KytskPP/xQ4DyxWCycOXOmagpcB8yePZu+ffsSGBhI06ZNGTNmDHFxcSWup+8UzylPm+g7xfPeffddunfv7rq3cHR0NN9++22x6+g88ayytonOk6r38ssvY7FYmDZtWrH5avu5oqD7KrVkyRKmT5/OCy+8wLZt2+jRowcjRowgMTGx0Pw//fQTY8eO5aGHHiImJoYxY8YwZswYdu3aVcUlr73K2iYAQUFBnD592rUcO3asCktc+126dIkePXowd+7cUuU/cuQII0eOZNiwYWzfvp1p06bx8MMPs3r1ag+XtO4oa5s4xcXFuZ0rTZs29VAJ654NGzYwefJkfvnlF9asWcPly5e56aabuHTpUpHr6DvFs8rTJqDvFE9r2bIlL7/8Mlu3buW3337j+uuv5/bbb2f37t2F5td54nllbRPQeVKVtmzZwnvvvUf37t2LzVcnzhVDrkr9+vUzJk+e7Hput9uN5s2bG7Nnzy40/+9+9ztj5MiRbmn9+/c3Jk2a5NFy1iVlbZP58+cbDRo0qKLSCWCsWLGi2DwzZswwunbt6pZ27733GiNGjPBgyequ0rTJ+vXrDcBISUmpkjKJYSQmJhqAsWHDhiLz6DulapWmTfSdUj2Cg4ONDz/8sNDXdJ5Uj+LaROdJ1bl48aLRsWNHY82aNcaQIUOMqVOnFpm3Lpwr6um+CmVnZ7N161aGDx/uSrNarQwfPpyff/650HV+/vlnt/wAI0aMKDK/lE152gQgLS2NNm3a0KpVqxJ/mRXP03lSc/Xs2ZOwsDBuvPFGNm/eXN3FqdVSU1MBaNSoUZF5dK5UrdK0Ceg7pSrZ7XYWL17MpUuXiI6OLjSPzpOqVZo2AZ0nVWXy5MmMHDmywDlQmLpwrijovgolJydjt9sJDQ11Sw8NDS3yOsczZ86UKb+UTXnapFOnTnz00Ud8+eWXfPLJJzgcDgYMGMCJEyeqoshSiKLOkwsXLpCRkVFNparbwsLCmDdvHsuXL2f58uW0atWKoUOHsm3btuouWq3kcDiYNm0aAwcOpFu3bkXm03dK1Sltm+g7pWrExsZSv359fH19eeyxx1ixYgVdunQpNK/Ok6pRljbReVI1Fi9ezLZt25g9e3ap8teFc8WrugsgUldFR0e7/RI7YMAAIiMjee+99/i///u/aiyZSM3RqVMnOnXq5Ho+YMAADh06xBtvvMHChQursWS10+TJk9m1axebNm2q7qLIFaVtE32nVI1OnTqxfft2UlNT+eyzz5gwYQIbNmwoMsgTzytLm+g88bzjx48zdepU1qxZo0nq8lDQfRVq0qQJNpuNhIQEt/SEhASaNWtW6DrNmjUrU34pm/K0SX7e3t706tWLgwcPeqKIUgpFnSdBQUH4+/tXU6kkv379+iko9IApU6awcuVKNm7cSMuWLYvNq++UqlGWNslP3yme4ePjQ3h4OAC9e/dmy5YtvPXWW7z33nsF8uo8qRplaZP8dJ5Uvq1bt5KYmEhUVJQrzW63s3HjRv75z3+SlZWFzWZzW6cunCsaXn4V8vHxoXfv3qxdu9aV5nA4WLt2bZHXsERHR7vlB1izZk2x17xI6ZWnTfKz2+3ExsYSFhbmqWJKCXSeXB22b9+u86QSGYbBlClTWLFiBevWraNdu3YlrqNzxbPK0yb56TulajgcDrKysgp9TedJ9SiuTfLTeVL5brjhBmJjY9m+fbtr6dOnD3/4wx/Yvn17gYAb6si5Ut0zuUn5LF682PD19TUWLFhg7Nmzx3j00UeNhg0bGmfOnDEMwzDuv/9+Y+bMma78mzdvNry8vIw5c+YYe/fuNV544QXD29vbiI2Nra4q1DplbZNZs2YZq1evNg4dOmRs3brVuO+++ww/Pz9j9+7d1VWFWufixYtGTEyMERMTYwDG66+/bsTExBjHjh0zDMMwZs6cadx///2u/IcPHzbq1atnPPPMM8bevXuNuXPnGjabzfjuu++qqwq1Tlnb5I033jC++OIL48CBA0ZsbKwxdepUw2q1Gt9//311VaHWefzxx40GDRoYP/zwg3H69GnXkp6e7sqj75SqVZ420XeK582cOdPYsGGDceTIEWPnzp3GzJkzDYvFYvznP/8xDEPnSXUoa5voPKke+Wcvr4vnioLuq9jbb79ttG7d2vDx8TH69etn/PLLL67XhgwZYkyYMMEt/9KlS42IiAjDx8fH6Nq1q/HNN99UcYlrv7K0ybRp01x5Q0NDjVtvvdXYtm1bNZS69nLebir/4myHCRMmGEOGDCmwTs+ePQ0fHx+jffv2xvz586u83LVZWdvklVdeMTp06GD4+fkZjRo1MoYOHWqsW7euegpfSxXWHoDbe1/fKVWrPG2i7xTPe/DBB402bdoYPj4+RkhIiHHDDTe4gjvD0HlSHcraJjpPqkf+oLsunisWwzCMqutXFxEREREREak7dE23iIiIiIiIiIco6BYRERERERHxEAXdIiIiIiIiIh6ioFtERERERETEQxR0i4iIiIiIiHiIgm4RERERERERD1HQLSIiIiIiIuIhCrpFREREREREPERBt4iISB3www8/YLFY+OGHH1xpDzzwAG3btq22MomIiHjSxo0bGT16NM2bN8disfDFF1+UeRuGYTBnzhwiIiLw9fWlRYsW/O1vfyvTNhR0i4iIVIFDhw4xadIk2rdvj5+fH0FBQQwcOJC33nqLjIyM6i4eAOnp6bz44otugXlprVq1CovFQvPmzXE4HJVfuGq2atUqXnzxxeouhoiIlMGlS5fo0aMHc+fOLfc2pk6dyocffsicOXPYt28fX331Ff369SvTNrzKvXcREREplW+++YZ77rkHX19fxo8fT7du3cjOzmbTpk0888wz7N69m/fff7/Ky/XBBx+4Bcjp6enMmjULgKFDh5ZpW4sWLaJt27YcPXqUdevWMXz48MosarVbtWoVc+fOVeAtInIVueWWW7jllluKfD0rK4s///nP/Pvf/+b8+fN069aNV155xfUduHfvXt5991127dpFp06dAGjXrl2Zy6GgW0RExIOOHDnCfffdR5s2bVi3bh1hYWGu1yZPnszBgwf55ptvilzf4XCQnZ2Nn59fpZfN29u7UrZz6dIlvvzyS2bPns38+fNZtGhRrQu6RUSk9pkyZQp79uxh8eLFNG/enBUrVnDzzTcTGxtLx44d+frrr2nfvj0rV67k5ptvxjAMhg8fzquvvkqjRo1KvR8NLxcREfGgV199lbS0NP71r3+5BdxO4eHhTJ061fXcYrEwZcoUFi1aRNeuXfH19eW7774D4OTJkzz44IOEhobi6+tL165d+eijjwps88SJE4wZM4aAgACaNm3KU089RVZWVoF8ea/pPnr0KCEhIQDMmjULi8WCxWIpVc/uihUryMjI4J577uG+++7j888/JzMzs0A+Z92WLVtGly5d8Pf3Jzo6mtjYWADee+89wsPD8fPzY+jQoRw9erTANpYtW0bv3r3x9/enSZMmjBs3jpMnT7rlGTp0aKE99fmvYT969CgWi4U5c+bw/vvv06FDB3x9fenbty9btmxxW885NNF5XCwWS4nHRUREaq74+Hjmz5/PsmXLGDRoEB06dODpp5/muuuuY/78+QAcPnyYY8eOsWzZMj7++GMWLFjA1q1bufvuu8u0L/V0i4iIeJDzV/IBAwaUep1169axdOlSpkyZQpMmTWjbti0JCQlce+21rsA1JCSEb7/9loceeogLFy4wbdo0ADIyMrjhhhuIj4/nySefpHnz5ixcuJB169YVu8+QkBDeffddHn/8ce644w7uvPNOALp3715ieRctWsSwYcNo1qwZ9913HzNnzuTrr7/mnnvuKZD3xx9/5KuvvmLy5MkAzJ49m1GjRjFjxgzeeecdnnjiCVJSUnj11Vd58MEH3cq9YMECJk6cSN++fZk9ezYJCQm89dZbbN68mZiYGBo2bFjKI+zu008/5eLFi0yaNAmLxcKrr77KnXfeyeHDh/H29mbSpEmcOnWKNWvWsHDhwnLtQ0REapbY2FjsdjsRERFu6VlZWTRu3BgwR5tlZWXx8ccfu/L961//onfv3sTFxbmGnJdEQbeIiIiHXLhwgZMnT3L77beXab24uDhiY2Pp0qWLK+3hhx/GbrcTGxvr+mfgscceY+zYsbz44otMmjQJf39/3n//ffbv38/SpUtdQe8jjzxCjx49it1nQEAAd999N48//jjdu3dn3LhxpSprYmIi33//Pe+++y4ArVu3Jjo6mkWLFhUadMfFxbFv3z5Xj3NwcDCTJk3ipZdeYv/+/QQGBgJgt9uZPXs2R48epW3btly+fJlnn32Wbt26sXHjRtdw++uuu45Ro0bxxhtvuK5HL6v4+HgOHDhAcHAwAJ06deL2229n9erVjBo1iujoaCIiIlizZk2pj4uIiNRsaWlp2Gw2tm7dis1mc3utfv36AISFheHl5eUWmEdGRgLmd0dpg24NLxcREfGQCxcuALgCydIaMmSIW8BtGAbLly9n9OjRGIZBcnKyaxkxYgSpqals27YNMCf8CgsLcxv6Vq9ePR599NFKqFFBixcvxmq1ctddd7nSxo4dy7fffktKSkqB/DfccIPbEO/+/fsDcNddd7kdJ2f64cOHAfjtt99ITEzkiSeecLu+feTIkXTu3LnY6+JLcu+997oCboBBgwa57VtERGqfXr16YbfbSUxMJDw83G1p1qwZAAMHDiQnJ4dDhw651tu/fz8Abdq0KfW+1NMtIiLiIUFBQQBcvHixTOvlnxk1KSmJ8+fP8/777xc5y3liYiIAx44dIzw8vMA1x6X9Nb6sPvnkE/r168fZs2c5e/YsYP4jk52dzbJlywoE+61bt3Z73qBBAwBatWpVaLozcD927BhQeD06d+7Mpk2byl2H/GVyBuCF/WggIiJXj7S0NA4ePOh6fuTIEbZv306jRo2IiIjgD3/4A+PHj+e1116jV69eJCUlsXbtWrp3787IkSMZPnw4UVFRPPjgg7z55ps4HA4mT57MjTfeWGBYenEUdIuIiHhIUFAQzZs3Z9euXWVaz9/f3+2587Ze48aNY8KECYWuU5prryvbgQMHXBOOdezYscDrixYtKhB05x/CV1K6YRhlLpfFYil0Pbvd7vF9i4hIzfHbb78xbNgw1/Pp06cDMGHCBBYsWMD8+fN56aWX+NOf/sTJkydp0qQJ1157LaNGjQLAarXy9ddf88c//pHBgwcTEBDALbfcwmuvvVamcijoFhER8aBRo0bx/vvv8/PPPxMdHV2ubYSEhBAYGIjdbi/xVlxt2rRh165dGIbh1tsdFxdX4n7KOiP3okWL8Pb2ZuHChQUC102bNvGPf/yD+Pj4Aj3J5eEcxhcXF8f111/v9lpcXJzbML/g4OBCh4Y7e8vLQ7OVi4hcfYYOHVrsD6je3t7MmjWr2DlBmjdvzvLlyytUDl3TLSIi4kEzZswgICCAhx9+mISEhAKvHzp0iLfeeqvYbdhsNu666y6WL19eaK95UlKS6/Gtt97KqVOn+Oyzz1xp6enpRQ5Lz6tevXoAnD9/vsS8YAbdgwYN4t577+Xuu+92W5555hkA/v3vf5dqWyXp06cPTZs2Zd68eW63P/v222/Zu3cvI0eOdKV16NCBffv2uR2XHTt2sHnz5nLvPyAgACj9sREREXFST7eIiIgHdejQgU8//ZR7772XyMhIxo8fT7du3cjOzuann35i2bJlPPDAAyVu5+WXX2b9+vX079+fRx55hC5dunDu3Dm2bdvG999/z7lz5wBzpvJ//vOfjB8/nq1btxIWFsbChQtdAXVx/P396dKlC0uWLCEiIoJGjRrRrVs3unXrViDvf//7Xw4ePMiUKVMK3VaLFi2Iiopi0aJFPPvssyXuuyTe3t688sorTJw4kSFDhjB27FjXLcPatm3LU0895cr74IMP8vrrrzNixAgeeughEhMTmTdvHl27dnVNbldWvXv3BuDJJ59kxIgR2Gw27rvvvgrXS0REaj/1dIuIiHjYbbfdxs6dO7n77rv58ssvmTx5MjNnzuTo0aO89tpr/OMf/yhxG6Ghofz6669MnDiRzz//nClTpvDWW29x7tw5XnnlFVe+evXqsXbtWm666SbefvttXnrpJa677jpeffXVUpX1ww8/pEWLFjz11FOMHTvWrcc8r0WLFgEwevToIrc1evRoYmNj2blzZ6n2XZIHHniAJUuWkJ2dzbPPPst7773HHXfcwaZNm9zu0R0ZGcnHH39Mamoq06dP56uvvmLhwoVERUWVe9933nknf/zjH/nuu++4//77GTt2bCXUSERE6gKLoVlCRERERERERDxCPd0iIiIiIiIiHqKgW0RERERERMRDFHSLiIiIiIiIeIiCbhEREREREREPUdAtIiIiIiIi4iEKukVEREREREQ8REG3iIiIiIiIiIco6BYRERERERHxEAXdIiIiIiIiIh6ioFtERERERETEQxR0i4iIiIiIiHiIgm4RERERERERD1HQLSIiIiIiIuIh/z8DlqtqoowlrwAAAABJRU5ErkJggg==",
      "text/plain": [
       "<Figure size 1000x600 with 1 Axes>"
      ]
     },
     "metadata": {},
     "output_type": "display_data"
    }
   ],
   "source": [
    "### TODO Complete in this cell: distribution of credit amounts\n",
    "# Plot the distribution of AMT_CREDIT\n",
    "plt.figure(figsize=(10, 6))\n",
    "sns.histplot(app_train['AMT_CREDIT'], bins=50, kde=True, color=\"blue\")\n",
    "\n",
    "# Add title and labels\n",
    "plt.title(\"Distribution of Credit Amounts\", fontsize=16)\n",
    "plt.xlabel(\"Credit Amount\", fontsize=12)\n",
    "plt.ylabel(\"Frequency\", fontsize=12)\n",
    "plt.grid(axis='y', linestyle='--', alpha=0.7)\n",
    "\n",
    "# Show the plot\n",
    "plt.tight_layout()\n",
    "plt.show()"
   ]
  },
  {
   "cell_type": "markdown",
   "id": "f4e7bf4a-25c7-47c0-aea8-ed916d8827f6",
   "metadata": {
    "id": "f4e7bf4a-25c7-47c0-aea8-ed916d8827f6"
   },
   "source": [
    "1.10. Plot the education level of the credit applicants, show the percentages of each category. Also print the total counts for each category.\n",
    "\n",
    "*Hint:* Take a look at `NAME_EDUCATION_TYPE` column."
   ]
  },
  {
   "cell_type": "code",
   "execution_count": 11,
   "id": "406d7d06-b21a-4938-8e3d-11798def489b",
   "metadata": {
    "colab": {
     "base_uri": "https://localhost:8080/",
     "height": 686
    },
    "executionInfo": {
     "elapsed": 6,
     "status": "ok",
     "timestamp": 1666034870446,
     "user": {
      "displayName": "Federico Morales",
      "userId": "06983145799989655383"
     },
     "user_tz": 180
    },
    "id": "406d7d06-b21a-4938-8e3d-11798def489b",
    "outputId": "41fa858b-e391-427a-9e2d-b21c97ec0993"
   },
   "outputs": [
    {
     "name": "stdout",
     "output_type": "stream",
     "text": [
      "Education Level Counts:\n",
      "Secondary / secondary special    174657\n",
      "Higher education                  59990\n",
      "Incomplete higher                  8248\n",
      "Lower secondary                    2984\n",
      "Academic degree                     129\n",
      "Name: NAME_EDUCATION_TYPE, dtype: int64\n",
      "\n",
      "Education Level Percentages:\n",
      "Secondary / secondary special    70.996472\n",
      "Higher education                 24.385386\n",
      "Incomplete higher                 3.352736\n",
      "Lower secondary                   1.212969\n",
      "Academic degree                   0.052437\n",
      "Name: NAME_EDUCATION_TYPE, dtype: float64\n"
     ]
    },
    {
     "data": {
      "image/png": "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",
      "text/plain": [
       "<Figure size 1000x600 with 1 Axes>"
      ]
     },
     "metadata": {},
     "output_type": "display_data"
    }
   ],
   "source": [
    "### TODO Complete in this cell: level of education plot\n",
    "# 1.10. Plot the education level of the credit applicants\n",
    "\n",
    "# Calculate counts and percentages for each education level\n",
    "education_counts = app_train['NAME_EDUCATION_TYPE'].value_counts()\n",
    "education_percentages = app_train['NAME_EDUCATION_TYPE'].value_counts(normalize=True) * 100\n",
    "\n",
    "# Print the total counts and percentages\n",
    "print(\"Education Level Counts:\")\n",
    "print(education_counts)\n",
    "print(\"\\nEducation Level Percentages:\")\n",
    "print(education_percentages)\n",
    "\n",
    "# Plot the education levels with percentages\n",
    "plt.figure(figsize=(10, 6))\n",
    "sns.barplot(\n",
    "    x=education_counts.index, \n",
    "    y=education_counts.values, \n",
    "    palette=\"viridis\"\n",
    ")\n",
    "\n",
    "# Add titles and labels\n",
    "plt.title(\"Education Level of Credit Applicants\", fontsize=16)\n",
    "plt.xlabel(\"Education Level\", fontsize=12)\n",
    "plt.ylabel(\"Count\", fontsize=12)\n",
    "\n",
    "# Add percentages on top of the bars\n",
    "for i, count in enumerate(education_counts.values):\n",
    "    plt.text(i, count + 500, f\"{education_percentages.values[i]:.1f}%\", ha='center', fontsize=10)\n",
    "\n",
    "plt.xticks(rotation=45)\n",
    "plt.tight_layout()\n",
    "plt.show()\n"
   ]
  },
  {
   "cell_type": "markdown",
   "id": "78e17d30-acce-4b7f-bacc-af488cda3e7d",
   "metadata": {
    "id": "78e17d30-acce-4b7f-bacc-af488cda3e7d"
   },
   "source": [
    "1.11. Plot the distribution of ocupation of the loan applicants.\n",
    "\n",
    "*Hint:* Take a look at `OCCUPATION_TYPE` column."
   ]
  },
  {
   "cell_type": "code",
   "execution_count": 12,
   "id": "ec101d97-c77b-4e5d-b69f-7c2f8f652d8f",
   "metadata": {
    "colab": {
     "base_uri": "https://localhost:8080/",
     "height": 703
    },
    "executionInfo": {
     "elapsed": 687,
     "status": "ok",
     "timestamp": 1666034871130,
     "user": {
      "displayName": "Federico Morales",
      "userId": "06983145799989655383"
     },
     "user_tz": 180
    },
    "id": "ec101d97-c77b-4e5d-b69f-7c2f8f652d8f",
    "outputId": "50aee514-131b-47ed-dea7-0d4de24d5c6a",
    "scrolled": false
   },
   "outputs": [
    {
     "name": "stdout",
     "output_type": "stream",
     "text": [
      "Occupation Distribution:\n",
      "Laborers                 44108\n",
      "Sales staff              25770\n",
      "Core staff               22041\n",
      "Managers                 16992\n",
      "Drivers                  14874\n",
      "High skill tech staff     8981\n",
      "Accountants               7915\n",
      "Medicine staff            6879\n",
      "Security staff            5364\n",
      "Cooking staff             4771\n",
      "Cleaning staff            3731\n",
      "Private service staff     2140\n",
      "Low-skill Laborers        1687\n",
      "Waiters/barmen staff      1094\n",
      "Secretaries               1043\n",
      "Realty agents              625\n",
      "IT staff                   443\n",
      "HR staff                   431\n",
      "Name: OCCUPATION_TYPE, dtype: int64\n"
     ]
    },
    {
     "data": {
      "image/png": "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",
      "text/plain": [
       "<Figure size 1200x800 with 1 Axes>"
      ]
     },
     "metadata": {},
     "output_type": "display_data"
    }
   ],
   "source": [
    "### TODO Complete in this cell: ocupation of applicants\n",
    "# 1.11. Plot the distribution of occupation of the loan applicants\n",
    "\n",
    "# Count the number of occurrences for each occupation\n",
    "occupation_counts = app_train['OCCUPATION_TYPE'].value_counts()\n",
    "\n",
    "# Print the total counts for each occupation\n",
    "print(\"Occupation Distribution:\")\n",
    "print(occupation_counts)\n",
    "\n",
    "# Plot the distribution of occupations\n",
    "plt.figure(figsize=(12, 8))\n",
    "sns.barplot(\n",
    "    x=occupation_counts.values, \n",
    "    y=occupation_counts.index, \n",
    "    palette=\"coolwarm\"\n",
    ")\n",
    "\n",
    "# Add titles and labels\n",
    "plt.title(\"Distribution of Occupation Types\", fontsize=16)\n",
    "plt.xlabel(\"Number of Applicants\", fontsize=12)\n",
    "plt.ylabel(\"Occupation Type\", fontsize=12)\n",
    "\n",
    "# Show the plot\n",
    "plt.tight_layout()\n",
    "plt.show()"
   ]
  },
  {
   "cell_type": "markdown",
   "id": "824b1bc0-4dad-4ce8-b574-cbae5984a589",
   "metadata": {
    "id": "824b1bc0-4dad-4ce8-b574-cbae5984a589"
   },
   "source": [
    "1.12. Plot the family status of the applicants.\n",
    "\n",
    "*Hint:* Take a look at `NAME_FAMILY_STATUS` column."
   ]
  },
  {
   "cell_type": "code",
   "execution_count": null,
   "id": "95463328-4392-435e-a203-95e28998930b",
   "metadata": {
    "colab": {
     "base_uri": "https://localhost:8080/",
     "height": 593
    },
    "executionInfo": {
     "elapsed": 6,
     "status": "ok",
     "timestamp": 1666034871131,
     "user": {
      "displayName": "Federico Morales",
      "userId": "06983145799989655383"
     },
     "user_tz": 180
    },
    "id": "95463328-4392-435e-a203-95e28998930b",
    "outputId": "b19a8a5c-32e4-4408-e6c2-7b37beb52061"
   },
   "outputs": [
    {
     "name": "stdout",
     "output_type": "stream",
     "text": [
      "Family Status Counts:\n",
      "Married                 157165\n",
      "Single / not married     36315\n",
      "Civil marriage           23841\n",
      "Separated                15803\n",
      "Widow                    12883\n",
      "Unknown                      1\n",
      "Name: NAME_FAMILY_STATUS, dtype: int64\n",
      "\n",
      "Family Status Percentages:\n",
      "Married                 63.886134\n",
      "Single / not married    14.761715\n",
      "Civil marriage           9.691148\n",
      "Separated                6.423775\n",
      "Widow                    5.236822\n",
      "Unknown                  0.000406\n",
      "Name: NAME_FAMILY_STATUS, dtype: float64\n"
     ]
    },
    {
     "data": {
      "image/png": "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",
      "text/plain": [
       "<Figure size 1000x600 with 1 Axes>"
      ]
     },
     "metadata": {},
     "output_type": "display_data"
    }
   ],
   "source": [
    "### TODO Complete in this cell: family status\n",
    "# 1.12. Plot the family status of the applicants\n",
    "\n",
    "# We count the occurrences of each family status\n",
    "family_status_counts = app_train['NAME_FAMILY_STATUS'].value_counts()\n",
    "family_status_percentages = app_train['NAME_FAMILY_STATUS'].value_counts(normalize=True) * 100\n",
    "\n",
    "# Print the total counts and percentages\n",
    "print(\"Family Status Counts:\")\n",
    "print(family_status_counts)\n",
    "print(\"\\nFamily Status Percentages:\")\n",
    "print(family_status_percentages)\n",
    "\n",
    "# Plot the distribution of family status\n",
    "plt.figure(figsize=(10, 6))\n",
    "sns.barplot(\n",
    "    x=family_status_counts.index, \n",
    "    y=family_status_counts.values, \n",
    "    palette=\"Set2\"\n",
    ")\n",
    "\n",
    "# Add titles and labels\n",
    "plt.title(\"Family Status of Applicants\", fontsize=16)\n",
    "plt.xlabel(\"Family Status\", fontsize=12)\n",
    "plt.ylabel(\"Number of Applicants\", fontsize=12)\n",
    "\n",
    "# Add percentages on top of the bars\n",
    "for i, count in enumerate(family_status_counts.values):\n",
    "    plt.text(i, count + 500, f\"{family_status_percentages.values[i]:.1f}%\", ha='center', fontsize=10)\n",
    "\n",
    "plt.xticks(rotation=45)\n",
    "plt.tight_layout()\n",
    "plt.show()"
   ]
  },
  {
   "cell_type": "markdown",
   "id": "efa77db6-a50a-454e-b1b2-83abe3c8baae",
   "metadata": {
    "id": "efa77db6-a50a-454e-b1b2-83abe3c8baae"
   },
   "source": [
    "1.13. Plot the income type of applicants grouped by the target variable.\n",
    "\n",
    "*Hint:* Take a look at `NAME_INCOME_TYPE` and `TARGET` columns. You can use `hue` parameter on Seaborn to group samples using another categorical feature."
   ]
  },
  {
   "cell_type": "code",
   "execution_count": 14,
   "id": "f22c3267-56c8-45fc-9184-b822cd026571",
   "metadata": {
    "colab": {
     "base_uri": "https://localhost:8080/",
     "height": 747
    },
    "executionInfo": {
     "elapsed": 3107,
     "status": "ok",
     "timestamp": 1666034874234,
     "user": {
      "displayName": "Federico Morales",
      "userId": "06983145799989655383"
     },
     "user_tz": 180
    },
    "id": "f22c3267-56c8-45fc-9184-b822cd026571",
    "outputId": "149ed35d-aa89-4988-8131-7b58a395d7f4",
    "scrolled": true
   },
   "outputs": [
    {
     "data": {
      "image/png": "iVBORw0KGgoAAAANSUhEUgAABKUAAAMWCAYAAAAgRDUeAAAAOXRFWHRTb2Z0d2FyZQBNYXRwbG90bGliIHZlcnNpb24zLjYuMywgaHR0cHM6Ly9tYXRwbG90bGliLm9yZy/P9b71AAAACXBIWXMAAA9hAAAPYQGoP6dpAADv2klEQVR4nOzdd3QV1f7+8eekkZ4QIAlBSqT3UKQjIFGaXIGANKVIUzqKIFVsNBUFvdJUgle4ICqIiFwxiiIgvYhUkS4BNSSB0ALZvz/4Zb4ck0BySE4gvF9rnbXM7D17PjPnnAl5nNljM8YYAQAAAAAAAE7kktsFAAAAAAAA4N5DKAUAAAAAAACnI5QCAAAAAACA0xFKAQAAAAAAwOkIpQAAAAAAAOB0hFIAAAAAAABwOkIpAAAAAAAAOB2hFAAAAAAAAJyOUAoAAAAAAABORygFANmgRIkSstlsio6Ozu1S8pQjR47IZrNl+dWjR4/cLt3pjDF6/fXXValSJXl5eVnHIqtOnz4tDw8P2Ww21ahRIwcqvT09evRI97sWHR19z773jjp48KBGjBihWrVqqVChQnJ3d1dAQIAqVKigJ554QgsXLtTFixdzu8y7Tup5q0SJEllaz9HvbHZJ/W5l9XXkyJFcqzk3nTt3Tr6+vrLZbFq1alWm1omIiJDNZtPUqVNztLbUf5Nkx3vj6Oc5u+sAkHe55XYBAABkxNfXV927d0+z/LffftO6devk4+Oj9u3bp2lv0KCBM8q7o8ycOVMjRoxQQECAWrRoIX9/f4fG+eijj5ScnCxJ2rZtm3bu3KmqVatmZ6m4wZEjRxQeHq7ixYs77Q+3q1evauTIkXr77beVkpIif39/PfDAAwoODtbFixd1+PBhLVy4UAsWLFBwcLDWrVunUqVKOaU25J6MzpuffvqpkpKSVL9+/XQ/B76+vjldWo5y9Dvo5+enDh06KDo6Wh9++KGaN29+0/5bt27Vzp075ebmpm7dut1m1QCQdxBKAQDuWAULFkz36rPo6GitW7cuw/Z70SeffCJJWrJkiR5++GGHx/nwww8lSUWKFNHJkyf1wQcfaMaMGdlSY05q27at6tSpo4CAgNwu5Y73xBNPaPHixfL399dbb72lbt26yc3N/p+Ep0+f1uzZs/Xmm2/qr7/+IpS6B/Tu3Vu9e/dOs3zNmjVKSkpS7969uRLxH3r16qXo6GgtX75ccXFxCgoKyrBv6rm1VatWCg0NzdG6YmJilJycrCJFiuTodgAgO3D7HgAAecCxY8ckSaVLl3Z4jHXr1mnfvn3Knz+/9QfUggULdPny5WypMScFBASoXLlyKly4cG6Xckf74IMPtHjxYnl4eCgmJkZPPfVUmkBKkkJCQjR+/Hj9+uuvKl68eC5UCtz5GjRooLJly+ry5ctasGBBhv0uX76s//73v5Kkp556KsfrKlmypMqVKyd3d/cc3xYA3C5CKQDIQRMmTJDNZtOECRP0559/asCAASpatKg8PDxUtGhRDRo0SPHx8Rmuf+DAAfXv319ly5aVt7e3/P39VaFCBfXv31+7d+9O03/fvn3q2bOnihcvrnz58ikoKEhNmza1rqK5WX1//PGHevfurbCwMHl5ealSpUr64IMP7Mbu0qWLQkND5enpqapVq2rx4sUZ1n716lW9//77aty4sYKCgpQvXz6Fh4frmWee0fHjxzN/EDMpMTFR/v7+cnNzu+n4LVu2lM1m03vvvWcta9y4sWw2m9asWaMffvhBjzzyiIKCguTt7a1atWrpP//5z023HRMTo3bt2qlw4cLy8PBQcHCw2rZtqw0bNji0L3FxcRo9erQqVqwob29v+fn5qUaNGpo6dWqaOX5Saz98+LAkKTw83JrrZcKECVna7vvvvy9J6tq1qx5++GGVKlVKcXFxWrp0aYbr3DgPzty5c1WjRg35+PgoMDBQLVu21M8//5zuejfONbJ06VI1aNBA/v7+8vPzU+PGjbVy5cos1X6rOaVOnjyp559/XpUrV5afn598fHxUpkwZ9ejRQ+vXr7fru2nTJmuupdDQUHl4eCgkJEStW7fWt99+e8vtJyUladSoUSpVqpTy5cun0NBQde/eXSdPnrRbp0ePHgoPD5ckHT16NM1cPalSUlI0Z84c1a9fX4GBgXJ3d1dwcLCqVq2qQYMGZfqWI2OMXn31VUnSgAEDVLNmzVuuc99996UJ+m48bxw7dky9evVS0aJF5e7ubnf8L1y4oMmTJ6t69ery8/OTt7e3KlasqLFjx+rs2bNptrVmzRrZbDY1btw4w3oymnfJ0c+h5Pi5asWKFWrUqJH8/PwUEBCghg0b6osvvsiwf1ZkZh9u55yXHc6dO6e5c+eqXbt2Kl26tHx8fOTj46PKlStrzJgxGf5uu/G7/8UXX+ihhx5SUFCQdQ5OtXv3bkVFRalgwYLy9vZW5cqVrVtObzZXUVbez8x+B2+mV69ekv7vSqj0LF26VGfPnlVoaKhatmwpSdqzZ49efPFF1a9fX0WKFJGHh4cKFCigyMjIDH9n3/gduXDhgsaPH6/y5cvL29vbbs6njI7P0aNHNWXKFD300EMqVqyY8uXLp8DAQDVo0ECzZ89WSkrKTff16tWrmjp1qipWrCgvLy8VLFhQjz/+uPbt25eJI5XWp59+qubNm6tQoULy8PBQkSJF9MQTT2jPnj0OjQfgLmUAALetePHiRpKZN2+e3fIXX3zRSDJPPfWUue+++0xISIhp166dadmypQkICDCSzAMPPGCuXLmSZswFCxaYfPnyGUmmWLFiJioqyrRt29ZUrVrV2Gw28+KLL9r1X7FihfH09DSSTNmyZU2nTp3MQw89ZFxdXa0a/im1vp49e5rQ0FBTrFgx8/jjj5smTZpY673xxhtmw4YNxs/Pzxq3bt26RpKRZBYtWpRm3MTERNO4cWMjyfj6+ppGjRqZ9u3bm7JlyxpJpkCBAmbbtm0OH+958+YZSaZ48eJ2ywcNGmQkmdGjR6e73m+//WZsNpvx9/c3586ds5Y3atTISDKDBw82Li4upkKFCqZTp07mwQcfNC4uLkaSefbZZ9Md87nnnjOSjIuLi6lVq5bp0KGDqV27trHZbMbV1dV8+OGHWdq3Q4cOWZ+nQoUKmaioKPOvf/3L+Pn5GUmmevXqJi4uzuo/adIk0717d+Pj42MkmaioKNO9e3fTvXt3s3Tp0kxvNzEx0Roj9b157bXXjCTz8MMPZ7he6udg2LBhxmazmQYNGpjOnTubSpUqGUnGzc3NfP7552nWS93HYcOGGUmmZs2apnPnzqZWrVrWmDNmzEizXvfu3dP9rqV+Jrp3755mnW+//dYEBgYaSSY4ONg89thjpkOHDuaBBx4w7u7uadZp2rSpcXFxMZUrVzYtW7Y0HTp0MNWrV7fqevvtt9NsI3X7bdq0MVWqVDGBgYGmdevW5rHHHjPBwcHW5zU+Pt5aZ+7cuSYqKspIMj4+Ptb7lvpK1bNnTyPJeHp6msjISNO5c2fTrFkzU7p0aSMp0+/zjh07rH24ne9f6nmjS5cuJigoyISGhpqoqCjTrl0789xzzxljjPn7779NRESEkWT8/f3Nv/71LxMVFWUKFixoJJnw8HBz+PBhu3G///57I8k0atQow22n1p/R8qx+Dh09V02bNs3aZq1atUznzp1NzZo1rXNFeuenW3FkHxw952VFRr/f1q5da52nGjRoYDp27GgeeeQRU6BAASPJlCpVyvz1118Zjjdw4EC7736jRo3Mjz/+aIwxZs2aNcbLy8tIMiVLljSdOnUyDz/8sPHw8DAdO3a0xvjnZyir72dmv4M3Exsba9zc3G76vXr44YeNJDNy5EhrWa9evYwkU65cOdOsWTPTsWNHU7duXet3zrBhw9KMk/odqV27tnnggQeMj4+PadGihenYsaOJjIxMc4z/eXxeeeUV6/vXtGlT06lTJ9OoUSPj4eFhJJl27dqZlJQUu3UOHz5sfZ7btWtn3N3dTWRkpOnUqZO5//77rWO9fv36NPVmVEdycrJ5/PHHjSSTL18+U69ePdOhQwdTtWpVI8l4eXmZr7/++laHHkAeQSgFANngVqGUJNOjRw9z6dIlq+3YsWOmSJEiRpJZuHCh3Xpbtmwx7u7uxmazmRkzZphr167ZtR85csRs2bLF+jk2NtYKuV599VW7f1Ru3rzZ5M+f30gyc+bMybC+p59+2iQnJ1tty5cvN5KMn5+fKV68eJpx3377besPj3/q0qWLkWQeffRRc/r0abu2t956y0gypUuXNlevXs3okN5URqHUgQMHjM1mM8HBwXbHOlVqgDRo0CC75amhlCQzceJEu7Yb/zhatWqVXducOXOsY7Bz5067th9++MH4+fkZDw8Pc+DAgUzvW+3atY0k869//cucP3/eWn7mzBkrGOnSpUua9TL6x39mpe5LRESEtezEiRPG1dXVuLi4mCNHjqS7Xupx8/LyMjExMXZtU6dONZJMQEBAms9Bar02m818/PHHdm2LFi0yNpvNuLm5mV9++cWuLauh1LFjx6zvxgsvvGAuX75s13769Gmzdu1au2UrV640f/zxR5p9Xb9+vfH39zfu7u7mxIkT6W5fkmnWrJlJSEiw2uLi4qyA5p+frxv/4EvP0aNHjSRz3333mVOnTqVp37Nnjzl69Gi66/7TBx98YCQZDw8Ph797xtifN5544ol0v2sdO3a0/ni+MZg4d+6cadGihZFk6tWrZ7dOdoRSWf0cOnKu2rlzp/W9WLJkid06H3/8sbHZbLcVSmVlHxw952VFRr/fjh8/br799ts0v5+SkpJMt27djCTTv3//DMdzdXU1X3zxRZr2CxcuWL8bn3vuObvxf/31VxMSEmIdq3+e7xx5P2/1HcyMNm3aZHicjx07ZgVN+/fvt5avWbPGHDp0KE3/ffv2mfvuu89IMhs3brRrS/2OSDJVqlRJ95xgTMa/DzZt2pTmnGqMMSdPnrQCoU8++cSuLfX4SDIFCxa0+1139epVKxgtXrx4ms9gRnWMHj3aOj/8/vvvdm1Lliwxrq6uJn/+/Obs2bPp7h+AvIVQCgCywa1Cqfvuu88kJSWlWW/y5MlGSnsV083+gZue1P/7WaNGjXTb33jjDesf4+nVV6xYMXPx4sU061WpUsW6EuCf//c0OTnZBAUFGUl2fxTv2bPH2Gw2ExYWZhITE9Otp2XLlkaS+fLLLzO1f/+UUSh149j/+c9/7JZfuHDB5M+f39hsNrNv3z67ttRQqlq1auluL/UPuxuvGLp27ZoJCwszkuwCwhul/iGZevXIraReeeDt7W1iY2PTtG/ZssVI16/KOn78uF3b7YZSqWHYO++8Y7c89Xj+88q8VKl/rAwdOjTd9tSrR1577bV0623Tpk2666VevdCnTx+75VkNpYYOHWokmdatW6e7nawaNWqUkWT+/e9/p7t9Hx+fdAOtRYsWGUnmoYceslt+qz+IN23aZIWUt2vKlClGkgkNDU23/dKlS2muFOnevbuZO3euXb/U80ZQUJDdlV+pjh49alxcXIzNZksT1hpzPexMvapz3bp11vLsCKWy8jl09FzVu3dvI8l07Ngx3XUee+yx2wqlsvpdcuSclxUZ/X67maSkJOPm5mYKFSqU4XjpXb1rjDEfffSRdfzSu4r43XffTTeUcvT9zI5Q6ssvvzTS9Sux/hl8v/zyy0aSadCgQabHmz17tpFknn/+ebvlN4ZSqVeVpceR3wf/+9//jCTToUMHu+U3hlLpXSV66dIlK0RcsGDBLev4+++/jZeXl/H09EwT7qfq379/ur+PAORNzCkFAE7QtGlTeXt7p1levnx5SbKba+batWtavXq1JKlv376ZGj91Ho7u3bun254658XBgwf1xx9/pGlv0qSJPD090yxPnTS7RYsWaebXcHNzs+awuHHMlStXyhijFi1ayM/PL916UueM+edcPtlhyJAhkqR3333XbvnChQt19uxZRUZGqmzZsumum9FjulOP608//aRr165JkrZv364//vhDJUuWVI0aNdJdL6v7mfo+Nm/eXCEhIWnaa9SooapVqyolJUU//PBDpsbMjN27d2vjxo3Kly+funbtateWOilvdHT0Tecbyeizl3pMb5wrJjPrpS7PaL3MWrVqlaTMf5dS/f333/roo480YsQI9enTRz169FCPHj2s475///5016tZs2a6k62n913PjHLlysnPz08rV67Ua6+9Zs0dlhOSk5M1f/78NK+ffvop3f6RkZHpPu3wxx9/VEpKiqpVq6YqVaqkaS9SpIiaNWsmSfr++++zdR+y8jl09FyVOsYTTzyRpRoyK6vfpds552WH9evXa8qUKRowYIB69uypHj16qH///vLw8NCff/6Z7vxhktS+fft0l6d+xzp06JDuRN3/PEelys3fPS1atFBYWJj+/vtvLVu2zFpujLGeEJv6e/hG58+f15IlSzR69Gj17dvXOs989tlnkjI+zwQHB6thw4YO1Xr58mV9+eWXGj9+vJ5++mnrPZs9e/ZNtyml/9nMly+fOnbsKClz5+vvv/9eFy9etObSSk9O/hsBwJ0n7eNWAADZrlixYuku9/f3lyRdunTJWvb3338rKSlJkjL9h0TqH7qpE7b+U2BgoIKCghQXF6cTJ04oLCwsU/X5+vretD31H/431v/7779Luv6UrxsnSk/Pn3/+edN2Rzz88MMqX768Nm7cqK1bt1qB0b///W9J0sCBAzNcN6Pjl7r84sWL+vvvvxUcHGzt56FDh245IW5m9/NW76N0/alKO3fuzHK4cTOp71ObNm2UP39+u7Z//etfKliwoI4ePaqYmBg9/PDD6Y5xq2N34sSJbF0vs44ePSrperiTWXPnztWwYcOs72F6EhMT012ele96Zvj5+WnevHnq2bOnxo4dq7Fjx6pw4cKqU6eOmjdvri5duljf01spWLCgJOns2bO6du2aXF1d7dp9fX1ljLF+fvXVVzVu3LgMx7txYuUbZfZzfGPf7JKVz5Oj56rUMW61LUdl9TtxO+e823HmzBlFRUVlGFqmSkxMTHNekTL+/KTuX0btgYGBCggIUEJCgt3y3Pzd4+rqqh49emjixIn68MMP9fjjj0u6HtL8/vvv8vPzU4cOHezW+fLLL9WzZ0/9/fffGY6b0Xkmo2NzKz///LM6duxoPa01K9sMDAxUYGBgum1ZOV+nvk8xMTHZ9rsTwN2NUAoAnMDF5c6+MPVW9WWl/tSraSIiIlS1atWb9q1du3amx80sm82mQYMGqX///nr33Xc1b948bdiwQdu3b1eJEiX06KOP3tb4qX+0p+5naGioddVHRlLDgDvRlStX9PHHH0uSNm/erAYNGqTpk3p12AcffJBhKHUrN4YdzljPUVu3blW/fv3k6uqqKVOmqHXr1ipWrJi8vb1ls9k0Z84c9evXL8O6cuK7HhUVpcjISC1fvlxr167VunXrtHTpUi1dulTjx4/X6tWrVbly5VuOU716dUnXr5T45ZdfFBERcVt1eXl53db6WXWrJ4Nlxo3vW26fqxz1z89eTp/zMtK7d2/99NNPqlu3rl566SVVrVpV+fPnt65uCgsL06lTpzL8rtzq83OzwCK9ttx+P5966ilNmjRJq1ev1okTJ3Tfffdp3rx5kqROnTrJx8fH6nvy5El17NhRFy9e1IgRI9S1a1eVKFFCvr6+cnFx0TfffKNmzZo5fOzSc+HCBbVp00anT59Wz5499cwzz6hUqVLy9/eXq6urDhw4oLJly97WOTcz66a+T6VKlVL9+vVv2jcr/zMBwN2LUAoA7jAFChSQt7e3Lly4oP3796tSpUq3XKdIkSLat2+f9X8g/ykhIUFxcXFW35xUtGhRSVL9+vXT3E7iLN26ddPo0aO1aNEivfHGG1YdzzzzzE1Dg4xujUp9rLanp6cKFCgg6f/2s0CBAtbtGbcr9b3J6H28sS273scvvvhCf/31lzX2zba9bNkyxcXFKSgoKE3b4cOH0w05Uo/dfffdl+6Yhw8fTvcPyFutl1nFihXT/v37tW/fPpUqVeqW/ZcsWSJjjAYNGqQRI0akaT948OBt1eOogIAAPfnkk3ryySclScePH9egQYP0xRdfaODAgZm6nbNq1aoqXry4jh49qo8//vi2Q6mMOPo59vDwkCSdO3cu3XVSr3q7max8Dh09VxUpUkSHDh3SkSNHVLFixQy35ShHvkuOnvMclZSUpJUrV8rFxUUrV65McwVNUlKSYmNjHRo79TOR0XFMSEhQfHx8muW5/bunZMmSatSokdasWaP58+dr0KBB1m14qbdBp/ryyy918eJFtW3bVlOmTEkzVk6cZ3788UedPn1a1atX14cffpjlbcbHxys+Pj7dq6Wycr5OfZ/Kli2bbb87Adzd7uz/dQ8A9yBXV1frapS5c+dmap3U+Rfmz5+fbnvqP0BLly6d46FUixYtJEnLly/P8q1K2cXHx0e9evXSpUuXNHHiRH366afy9PRMd06PG6VeMfRPH330kSSpQYMGcnO7/v9zHnjgARUsWFB79uzRr7/+mi11p76Pq1at0unTp9O0b9++XTt27JCLi4sefPDBbNnm+++/L0kaOXKkzPUHoKT7qlWrli5fvpzhMfrPf/5z0+Wp+5bZ9VKPeUbrZVbz5s0lZf67lBreFi9ePE3bpUuXrD8ys0tqEHP16tUsrVe0aFG99NJLkqQdO3Zkah2bzabRo0dLuj7/0Pbt27O0zcx68MEH5eLioh07dmjnzp1p2k+dOmXN9dWkSRNr+Y1h1pUrV9Ks99VXX91y21n5HDp6rmrUqJEkacGCBem2p352HeXId8nRc56jEhISdO3aNfn7+6cbUnz88ccOX3GTem5bsmRJut+LhQsXprueo++no9/B9PTu3VvS9Tn4Fi1apAsXLqhChQqqU6eOXb+bnWeMMRnu4+1I3WZGtxhndG6/UXqfzStXrmjx4sWSMne+btq0qTw8PLRmzRqdOXPmlv0B5H2EUgBwBxozZozc3Nz07rvv6r333kvzj/ujR49q69at1s99+vSRv7+/tm3bpokTJ9r13759u1599VVJ0vPPP5/jtVerVk1RUVE6fvy42rVrl+7/7U5KStKCBQvSDV6yy8CBA+Xi4qJp06bpypUr6ty5s3WVU0a2bt2qqVOn2i376aefrLlZhg0bZi13d3fXiy++KGOM2rZtm+68KteuXdN3332nn3/+OVM1N2jQQLVr19bFixfVr18/XbhwwWr766+/1K9fP0nXbwVJ/b/Nt+PYsWP69ttvJd16cubUSZbT+z/skjRz5sw0k9y+9dZb2rRpk/z8/DL843jp0qVatGiR3bJPP/1Un332mdzc3DRo0KDM7EqGnn32Wfn5+Wn58uUaO3askpOT7drPnDlj996lTkg+f/58uyt2Ll26pP79+2f7ROOFChWSh4eHYmNjrT8ab7R9+3YtXrxYFy9eTNP25ZdfSkr/D9uM9OnTR+3bt9fly5fVpEkTRUdHp/vH+Llz57Rr164s7Mn/KVasmDp06CBjjPr162c3Z05SUpL69u2rS5cuqV69eqpXr57VVrx4cZUuXVrx8fFprh5Zs2aNxo8ff8ttZ+Vz6Oi5atCgQXJ1ddUnn3yipUuX2vVftGiR3UTXjnD0u+TIOc9RISEhyp8/v+Lj49MEFT///LNGjRrl8NgdOnRQ4cKFdeTIEY0ZM8buts19+/bp5ZdfTnc9R9/PW30HsyIqKkqBgYH67bffNHbsWEnpT3Ceep759NNPderUKWv5tWvXNH78+ByZ4Dt1mzExMdqzZ49d25w5c6xg6WZeeeUV7d692/o5JSVFI0eO1IkTJ1S0aFFFRUXdcoyQkBANGjRISUlJat26tX755Zc0fS5fvqzly5dr3759txwPQB7glGf8AUAel9Ejs1Mfnf7iiy+mu97NHoE+f/584+7ubj2qun379qZdu3YmIiLC2Gy2NGN++eWX1mPWy5UrZzp37myaNm1q3NzcjCTTs2fPNNu4VX3du3e/6aPAGzVqZCSZ77//3m55YmKiadq0qZFkPDw8zAMPPGAef/xx06FDB/PAAw8YDw8PI8ns3bs33XFvZd68eZl6hHebNm2sR1lv3bo1w36p+zF48GDj4uJiKlasaDp37mwaNWpkXFxcjCQzZMiQdNd9/vnnrW1UrFjRPPbYY6ZTp06mcePGJjAw0EgyM2fOzPS+HTp0yPo8BQcHm/bt25vHHnvM+Pv7G0mmevXqJi4uLs16jjwCfMKECUaSeeCBB27Z96+//rLety1btljLU/d96NChxmazmQcffNB07tzZVK5c2Ugyrq6uZsmSJRnWO3ToUKuGLl26mNq1a1tjTps2Lc16GX0mUz8T3bt3T7PO//73P+Pn52ckmZCQENOmTRvToUMHU6tWLePu7m63ztmzZ63aChQoYNq0aWOioqJMcHCw8fPzM0OGDEl3OzfbvjE3f+x8+/btjSRTtGhR07lzZ9OrVy/Tq1cvY4wxS5cuNZKMl5eXqV+/vunUqZNp3769KVu2rPX9+vrrr9PdZkauXLlihgwZYn22AwICTGRkpOnSpYvp2LGjqV+/vsmXL5/1Gfzn+3er84Yx1z8vVatWtcZv06aNad++vSlUqJCRZMLDw9P9rH722WfGZrMZSSYiIsJ06NDB1KhRw9hsNjN+/Hjrs/FPjn4OHT1XTZ061dpm7dq1TZcuXcwDDzxgJJlhw4Zl6vyUXftwo8ye87Iio99vb731lt0x6Ny5s6lfv76x2WzmySefzPCclJlzVUxMjPX7rFSpUqZTp07mkUceMR4eHqZDhw6mWLFiRpI5efKk3XqOvp83+w5mVf/+/a3j4u7ubs6cOZOmT3JysqlRo4aRZHx9fU2rVq3M448/booXL27c3d3NyJEj0/23wc3+zXCjjI7xY489Zh2bRx55xHTq1MmUK1fO2Gw2M2bMmHQ/t6nnrmLFipm2bdsad3d38/DDD5tOnTqZkiVLGknGx8fHrF27NtN1JCcnmy5duhhJxsXFxVSrVs1ERUVZ5x8fHx8jKcvnNgB3J0IpAMgGORFKGWPMr7/+anr16mXCw8NNvnz5TEBAgKlQoYIZOHCg+fXXX9P037Nnj+nevbu57777jLu7uwkMDDRNmjQxixYtSnf8nAqljDHm2rVrZuHChaZly5YmJCTEuLu7mwIFCphKlSqZnj17mqVLl5orV66kO+6tZDaUmjlzppFk6tate9N+N+5HTEyMadq0qQkICDBeXl6mZs2aJjo6+qbrr1u3znTt2tUUL17c5MuXz/j5+ZkyZcqYNm3amPfffz/dEOlm/v77bzNq1ChTvnx54+npaby9vU21atXM5MmTzYULF9JdJ6uhVEpKirXOu+++m6l1Uv/gfeaZZ6xlN4YEM2fONBEREcbLy8v4+/ub5s2bm3Xr1t2y3k8++cTUrVvX+Pr6Gh8fH9OwYUPz5ZdfprueI6GUMcYcPXrUDBkyxJQtW9Z4enoaX19fU6ZMGfPUU0+ZDRs22PX9888/Tf/+/U3JkiVNvnz5TFhYmHniiSfMwYMHM9zO7YRSf//9t+nXr58pVqyYFUSnHtNTp06ZyZMnm5YtW5rw8HDj7e1t/P39TYUKFcyAAQPMvn370t1eZuzbt88MHz7c1KhRwwQFBRk3Nzfj5+dnypYtazp16mQ+/vhjk5SUlGa9zIRSxhiTlJRkJk2aZCIiIoy3t7fx9PQ05cuXN6NHj77pd+Krr74y9evXN97e3sbHx8fUqVPHLF682Bhj/3m7kaOfQ2McP1d98cUXpkGDBsbHx8f4+vqaevXqmU8//fSm7/XN3M4+pMrsOS8rMvr9Zowxy5YtM/Xq1TOBgYHG19fX1KxZ07z33nt25xdHQiljjNm5c6dp27atCQoKMp6enqZChQrm9ddfN5cvXzYeHh7GxcXFXLx4Mc16jryfN/sOZtXWrVut9du1a5dhv3PnzpnRo0db56Tg4GDTpk0bs2XLlgz/bXC7odSVK1fM66+/bipXrmy8vb1NUFCQeeSRR8w333yT4ef2xuXJycnmtddeM+XKlTP58uUzQUFBJioqKt1/j9ysjlQrV6407dq1M0WKFLH+zVK+fHnTqVMns3DhwnTPPwDyHpsxTn6sDQAATtKgQQOtW7dOCxcuVOfOnTPs17hxY/3www/6/vvvb3sOo3tN6lOwsvrPiRIlSujo0aM6fPiww483B1I5+jnMazJ7zrub/fjjj2rUqJEqV67s8C2mAIA7B3NKAQDypK+//lrr1q1TsWLF1L59+9wuBwByVF465/3555/pzt+2e/du9enTR5LUs2dPZ5cFAMgBbrldAAAA2eXvv//WyJEjdfbsWa1cuVKSNHXqVLm7u+dyZQCQ/fLqOe/XX39VkyZNVKFCBd1///3y8vLS4cOHtW3bNqWkpOjhhx++7YcgAADuDIRSAIA849y5c/rggw/k5uam+++/X88995w6duyY22UBQI7Iq+e8MmXKaMCAAfrhhx+0bt06nTt3Tn5+fqpXr566dOmiPn36yM2NP2MAIC9gTikAAAAAAAA4HXNKAQAAAAAAwOkIpQAAAAAAAOB0d9TN2D/++KNef/11bd26VadOndLSpUvVpk0bSVJycrLGjh2rlStX6vfff1dAQIAiIyM1efJkhYWFWWPExcVp0KBB+vLLL+Xi4qKoqChNnz5dvr6+Vp9du3ZpwIAB2rx5swoVKqRBgwZpxIgRdrUsWbJE48aN05EjR1S6dGlNmTJFLVu2tNqNMXrxxRc1d+5cxcfHq379+po5c6ZKly6d6f1NSUnRH3/8IT8/P+tRxgAAAAAAAHczY4zOnTunsLAwubjc5HoocwdZuXKlGTNmjPn888+NJLN06VKrLT4+3kRGRprFixebffv2mQ0bNphatWqZGjVq2I3RvHlzU7VqVfPzzz+btWvXmlKlSpnOnTtb7QkJCSYkJMR07drV7N692/z3v/81Xl5eZvbs2VafdevWGVdXVzN16lSzZ88eM3bsWOPu7m5++eUXq8/kyZNNQECAWbZsmdm5c6f517/+ZcLDw83Fixczvb/Hjx83knjx4sWLFy9evHjx4sWLFy9evPLc6/jx4zfNRe7Yic5tNpvdlVLp2bx5s2rVqqWjR4+qWLFi2rt3rypUqKDNmzerZs2akqRVq1apZcuWOnHihMLCwjRz5kyNGTNGsbGx8vDwkCS98MILWrZsmfbt2ydJ6tixo5KSkrRixQprW3Xq1FFERIRmzZolY4zCwsL03HPPafjw4ZKkhIQEhYSEKDo6Wp06dcrUPiYkJCgwMFDHjx+Xv7+/I4cJAAAAAADgjpKYmKiiRYsqPj5eAQEBGfa7o27fy6qEhATZbDYFBgZKkjZs2KDAwEArkJKkyMhIubi4aOPGjWrbtq02bNigBx980AqkJKlZs2aaMmWKzp49q/z582vDhg169tln7bbVrFkzLVu2TJJ0+PBhxcbGKjIy0moPCAhQ7dq1tWHDhkyHUqm37Pn7+xNKAQAAAACAPOVWUxXdtaHUpUuXNHLkSHXu3NkKdGJjYxUcHGzXz83NTUFBQYqNjbX6hIeH2/UJCQmx2vLnz6/Y2Fhr2Y19bhzjxvXS65Oey5cv6/Lly9bPiYmJmd5fAAAAAACAvOSufPpecnKyHn/8cRljNHPmzNwuJ9MmTZqkgIAA61W0aNHcLgkAAAAAACBX3HWhVGogdfToUa1evdrutrfQ0FCdOXPGrv/Vq1cVFxen0NBQq8/p06ft+qT+fKs+N7bfuF56fdIzatQoJSQkWK/jx49ner8BAAAAAADykrvq9r3UQOrgwYP6/vvvVaBAAbv2unXrKj4+Xlu3blWNGjUkSd99951SUlJUu3Ztq8+YMWOUnJwsd3d3SdLq1atVtmxZ5c+f3+oTExOjoUOHWmOvXr1adevWlSSFh4crNDRUMTExioiIkHT9VryNGzfqmWeeybD+fPnyKV++fNlyLAAAAAAgL7t27ZqSk5NzuwwA6XB3d5erq+ttj3NHhVLnz5/Xb7/9Zv18+PBh7dixQ0FBQSpcuLDat2+vbdu2acWKFbp27Zo1f1NQUJA8PDxUvnx5NW/eXH369NGsWbOUnJysgQMHqlOnTgoLC5MkdenSRS+99JJ69eqlkSNHavfu3Zo+fbreeusta7tDhgxRo0aN9Oabb6pVq1ZatGiRtmzZojlz5ki6PlHX0KFD9eqrr6p06dIKDw/XuHHjFBYWdtOnBQIAAAAAbs4Yo9jYWMXHx+d2KQBuIjAwUKGhobeczPxmbMYYk4013ZY1a9aoSZMmaZZ3795dEyZMSDNBearvv/9ejRs3liTFxcVp4MCB+vLLL+Xi4qKoqCjNmDFDvr6+Vv9du3ZpwIAB2rx5swoWLKhBgwZp5MiRdmMuWbJEY8eO1ZEjR1S6dGlNnTpVLVu2tNqNMXrxxRc1Z84cxcfHq0GDBnrvvfdUpkyZTO9vYmKiAgIClJCQwNP3AAAAAEDSqVOnFB8fr+DgYHl7e9/WH7wAsp8xRhcuXNCZM2cUGBiowoULp+mT2bzjjgql7jWEUgAAAADwf65du6YDBw4oODg4zXQtAO4sf//9t86cOaMyZcqkuZUvs3nHXTfROQAAAAAgb0qdQ8rb2zuXKwFwK6nf09uZ+41QCgAAAABwR+GWPeDOlx3fU0IpAAAAAAAAOB2hFAAAAAAAAJyOUAoAAAAAAEi6fkvWzV4TJkzI1dqWLVuWa9tH9nPL7QIAAAAAAMCd4dSpU9Z/L168WOPHj9f+/futZb6+vlka78qVK/Lw8Mi2+pC3cKUUAAAAAACQJIWGhlqvgIAA2Ww26+ekpCR17dpVISEh8vX11QMPPKBvv/3Wbv0SJUrolVdeUbdu3eTv76++fftKkubOnauiRYvK29tbbdu21bRp0xQYGGi37hdffKHq1avL09NT999/v1566SVdvXrVGleS2rZtK5vNZv2MuxuhFAAAAAAAuKXz58+rZcuWiomJ0fbt29W8eXO1bt1ax44ds+v3xhtvqGrVqtq+fbvGjRundevW6emnn9aQIUO0Y8cOPfzww3rttdfs1lm7dq26deumIUOGaM+ePZo9e7aio6Otfps3b5YkzZs3T6dOnbJ+xt3NZowxuV3EvSoxMVEBAQFKSEiQv79/bpcDAAAAALnq0qVLOnz4sMLDw+Xp6Znb5dzzoqOjNXToUMXHx2fYp1KlSnr66ac1cOBASdevaKpWrZqWLl1q9enUqZPOnz+vFStWWMueeOIJrVixwho7MjJSTZs21ahRo6w+H3/8sUaMGKE//vhD0vU5pZYuXao2bdpk307CYTf7vmY27+BKKQAAAAAAcEvnz5/X8OHDVb58eQUGBsrX11d79+5Nc6VUzZo17X7ev3+/atWqZbfsnz/v3LlTL7/8snx9fa1Xnz59dOrUKV24cCFndgi5jonOAQAAAADALQ0fPlyrV6/WG2+8oVKlSsnLy0vt27fXlStX7Pr5+Phkeezz58/rpZdeUrt27dK0cdVc3kUoBQAAAAAAbmndunXq0aOH2rZtK+l6kHTkyJFbrle2bNk0c0D98+fq1atr//79KlWqVIbjuLu769q1a1kvHHcsQikAAAAAAHBLpUuX1ueff67WrVvLZrNp3LhxSklJueV6gwYN0oMPPqhp06apdevW+u677/T111/LZrNZfcaPH69HH31UxYoVU/v27eXi4qKdO3dq9+7devXVVyVdn68qJiZG9evXV758+ZQ/f/4c21c4B3NKAQAAAACAW5o2bZry58+vevXqqXXr1mrWrJmqV69+y/Xq16+vWbNmadq0aapatapWrVqlYcOG2d2W16xZM61YsULffPONHnjgAdWpU0dvvfWWihcvbvV58803tXr1ahUtWlTVqlXLkX2Ec/H0vVzE0/cAAAAA4P/w9L17R58+fbRv3z6tXbs2t0uBg7Lj6XvcvgcAAAAAAHLUG2+8oYcfflg+Pj76+uuvNX/+fL333nu5XRZyGaEUAAAAAADIUZs2bdLUqVN17tw53X///ZoxY4Z69+6d22UhlxFKAQAAAACAHPXJJ5/kdgm4AzHROQAAAAAAAJyOK6WAPKZhv1dyu4QcsXb2uNwuAQAAAACQjbhSCgAAAAAAAE5HKAUAAAAAAACnI5QCAAAAAACA0xFKAQAAAAAAwOkIpQAAAAAAQJ4wYcIERUREpFkWEhIim82mZcuWpbusR48eatOmTbbVER0drcDAwFv2u7GmnPLBBx/okUceydI6derU0WeffZZDFf0fnr4HAAAAALijOfsJ01l98nOPHj00f/58TZo0SS+88IK1fNmyZWrbtq2MMQ7XEh0drZ49e0q6HmCEhYXp4Ycf1pQpUxQcHOzwuHeCI0eOKDw8XNu3b08TJKXXL5Wvr6+KFSumxo0ba+jQoSpdurTVNnz4cA0aNMj6ee/evXrppZe0dOlS1alTR/nz5093WZMmTW7rfbqVCRMmaNmyZdqxY4fd8lOnTil//vw5tt1Lly5p3LhxWrJkid3yJUuWaNy4cTpy5IhKly6tKVOmqGXLllb72LFjNWzYMLVt21YuLjl3PRNXSgEAAAAAcJs8PT01ZcoUnT17NtvH9vf316lTp3TixAnNnTtXX3/9tZ588sls386d7ttvv9WpU6e0c+dOTZw4UXv37lXVqlUVExNj9fH19VWBAgWsnw8dOiRJeuyxxxQaGqp8+fKluywgICBTVzZlt9Tt55RPP/1U/v7+ql+/vrVs/fr16ty5s3r16qXt27erTZs2atOmjXbv3m31adGihc6dO6evv/46x2qTCKUAAAAAALhtkZGRCg0N1aRJk27a77PPPlPFihWVL18+lShRQm+++eYtx7bZbAoNDVVYWJhatGihwYMH69tvv9XFixe1atUqNWjQQIGBgSpQoIAeffRRK3SRpIceekgDBw60G+/PP/+Uh4eHFeaUKFFCr776qrp16yZfX18VL15cy5cv159//qnHHntMvr6+qlKlirZs2WI3zk8//aSGDRvKy8tLRYsW1eDBg5WUlGS1lyhRQhMnTtRTTz0lPz8/FStWTHPmzLHaU69+qlatmmw2mxo3bnzT41CgQAGFhobq/vvv12OPPaZvv/1WtWvXVq9evXTt2jVJ9rfvTZgwQa1bt5Ykubi4yGazpbtMUprb91JSUjR16lSVKlVK+fLlU7FixfTaa69JktasWSObzab4+Hir/44dO2Sz2XTkyJE0dUdHR+ull17Szp07ZbPZZLPZFB0dLSnt7XvHjx/X448/rsDAQAUFBemxxx6zG3PNmjWqVauWfHx8FBgYqPr16+vo0aMZHrNFixZZ+5tq+vTpat68uZ5//nmVL19er7zyiqpXr653333X6uPq6qqWLVtq0aJFGY6dHQilAAAAAAC4Ta6urpo4caLeeecdnThxIt0+W7du1eOPP65OnTrpl19+0YQJEzRu3DgroMgsLy8vpaSk6OrVq0pKStKzzz6rLVu2KCYmRi4uLmrbtq1SUlIkSb1799bChQt1+fJla/2PP/5YRYoU0UMPPWQte+utt1S/fn1t375drVq10pNPPqlu3brpiSee0LZt21SyZEl169bNusXt0KFDat68uaKiorRr1y4tXrxYP/30U5oA7M0331TNmjW1fft29e/fX88884z2798vSdq0aZOk/7sC6vPPP8/ScXBxcdGQIUN09OhRbd26NU378OHDNW/ePEnXb5M7depUusvSM2rUKE2ePFnjxo3Tnj17tHDhQoWEhGSpvlQdO3bUc889p4oVK1rb7NixY5p+ycnJatasmfz8/LR27VqtW7dOvr6+at68ua5cuaKrV6+qTZs2atSokXbt2qUNGzaob9++VrCWnp9++kk1a9a0W7ZhwwZFRkbaLWvWrJk2bNhgt6xWrVpau3atQ/ucWcwpBQAAAABANmjbtq0iIiL04osv6oMPPkjTPm3aNDVt2lTjxl2fs6pMmTLas2ePXn/9dfXo0SNT2zh48KBmzZqlmjVrys/PT1FRUXbtH374oQoVKqQ9e/aoUqVKateunQYOHKgvvvhCjz/+uKTrV+706NHDLsxo2bKl+vXrJ0kaP368Zs6cqQceeEAdOnSQJI0cOVJ169bV6dOnrSvCunbtqqFDh0qSSpcurRkzZqhRo0aaOXOmPD09rXH79+9vjfHWW2/p+++/V9myZVWoUCFJ/3cFlCPKlSsn6fq8U7Vq1bJr8/X1tW7Ju3H89Jbd6Ny5c5o+fbreffddde/eXZJUsmRJNWjQwKEavby85OvrKzc3t5vu5+LFi5WSkqL333/fem/mzZunwMBArVmzRjVr1lRCQoIeffRRlSxZUpJUvnz5DMeLj49XQkKCwsLC7JbHxsamCdhCQkIUGxtrtywsLEzHjx9XSkpKjs0rxZVSAAAAAABkkylTpmj+/Pnau3dvmra9e/faze0jSfXr19fBgwet28/Sk5CQIF9fX3l7e6ts2bIKCQnRggULJF0PqTp37qz7779f/v7+KlGihCTp2LFjkq7PdfXkk0/qww8/lCRt27ZNu3fvThOCValSxfrv1MCicuXKaZadOXNGkrRz505FR0fL19fXejVr1kwpKSk6fPhwuuOm3oaYOkZ2SL1y62ZXC2XV3r17dfnyZTVt2jTbxsyMnTt36rfffpOfn591TIOCgnTp0iUdOnRIQUFB6tGjh5o1a6bWrVtr+vTpGV7pJUkXL16UJCsgzKrUK/JuvMouu3GlFAAAAAAA2eTBBx9Us2bNNGrUqExf/XQrfn5+2rZtm1xcXFS4cGF5eXlZba1bt1bx4sU1d+5chYWFKSUlRZUqVdKVK1esPr1791ZERIROnDihefPm6aGHHlLx4sXttuHu7m79d2rAk96y1NsCz58/r379+mnw4MFp6i1WrFi646aOkzpGdkgN/258Ot/tuvH4pif1qqEbn9aXnJx829s9f/68atSoYQWON0q9qmzevHkaPHiwVq1apcWLF2vs2LFavXq16tSpk2adAgUKyGazpZl8PzQ0VKdPn7ZblnoF3I3i4uLk4+Nzy+NxO7hSCgAAAACAbDR58mR9+eWXaeboKV++vNatW2e3bN26dSpTpoxcXV0zHM/FxUWlSpXS/fffbxcQ/P3339q/f7/Gjh2rpk2bqnz58uk+/a9y5cqqWbOm5s6dq4ULF+qpp566zT2Uqlevrj179qhUqVJpXh4eHpkaI7Xfza4Su5mUlBTNmDFD4eHhqlatmkNjpKd06dLy8vKye6rfjVIDohuvUtqxY8dNx/Tw8LjlflavXl0HDx5UcHBwmmMaEBBg9atWrZpGjRql9evXq1KlSlq4cGGG26xQoYL27Nljt7xu3bpp9m316tWqW7eu3bLdu3dn63FND6EUAAAAAADZqHLlyuratatmzJhht/y5555TTEyMXnnlFR04cEDz58/Xu+++q+HDhzu0nfz586tAgQKaM2eOfvvtN3333Xd69tln0+3bu3dvTZ48WcYYtW3b1qHt3WjkyJFav369Bg4cqB07dujgwYP64osv0kx0fjPBwcHy8vLSqlWrdPr0aSUkJNy0/99//63Y2Fj9/vvvWr58uSIjI7Vp0yZ98MEHNw31ssrT01MjR47UiBEj9NFHH+nQoUP6+eefrXnCSpUqpaJFi2rChAk6ePCgvvrqq1s+RbFEiRI6fPiwduzYob/++ivdW+K6du2qggUL6rHHHtPatWt1+PBhrVmzRoMHD9aJEyd0+PBhjRo1Shs2bNDRo0f1zTff6ODBgzedV6pZs2b66aef7JYNGTJEq1at0ptvvql9+/ZpwoQJ2rJlS5r3bu3atXrkkUcye9gcQigFAAAAAEA2e/nll9Pcpla9enV98sknWrRokSpVqqTx48fr5Zdfdvg2PxcXFy1atEhbt25VpUqVNGzYML3++uvp9u3cubPc3NzUuXNnh+cYulGVKlX0ww8/6MCBA2rYsKGqVaum8ePHp5lU+2bc3Nw0Y8YMzZ49W2FhYXrsscdu2j8yMlKFCxdW5cqV9cILL6h8+fLatWuXmjRpcru7k8a4ceP03HPPafz48Spfvrw6duxozYXl7u6u//73v9q3b5+qVKmiKVOm6NVXX73peFFRUWrevLmaNGmiQoUK6b///W+aPt7e3vrxxx9VrFgxtWvXTuXLl1evXr106dIl+fv7y9vbW/v27VNUVJTKlCmjvn37asCAAdYE9enp1auXVq5caRf41atXTwsXLtScOXNUtWpVffrpp1q2bJkqVapk9Tl58qTWr1+vnj17ZvXQZYnN3HgTJJwqMTFRAQEBSkhIkL+/f26XgzyiYb9XcruEHLF29rjcLgEAAAA57NKlSzp8+LDCw8OzJTjB/zly5IhKliypzZs3q3r16rldDpyoQ4cOql69ukaNGpXpdUaOHKmzZ89qzpw5Gfa52fc1s3kHV0oBAAAAAJBHJScnKzY2VmPHjlWdOnUIpO5Br7/+unx9fbO0TnBwsF55JecveODpewAAAAAA5FHr1q1TkyZNVKZMGX366ae5XQ5yQYkSJTRo0KAsrfPcc8/lUDX2CKUAAAAAAMijGjduLGbtwZ2K2/cAAAAAAADgdIRSAAAAAAAAcDpCKQAAAAAAADgdoRQAAAAAAACcjlAKAAAAAAAATkcoBQAAAAAAAKcjlAIAAAAAAE7TuHFjDR061Pr5woULioqKkr+/v2w2m+Lj49NdVqJECb399tvZVkePHj3Upk2bm/ZZs2aNtf2c9OSTT2rixImZ7n/lyhWVKFFCW7ZsycGqcp5bbhcAAAAAAMDNPLJolFO3902nSVnq36NHD82fP1+S5O7urmLFiqlbt24aPXq03Nzu7j+7o6OjNXTo0FuGMtHR0erZs6ckycXFRf7+/ipTpoxatWqlIUOGKCAgwOr7+eefy93d3fp5/vz5Wrt2rdavX6+CBQsqICBAs2bNSrNs8+bN8vHxyZH9lK6HZREREXbBV7169XTq1Cm7+rPbzp07tXLlSs2cOdNa9vnnn2vWrFnaunWr4uLitH37dkVERFjtHh4eGj58uEaOHKmYmJgcqy2ncaUUAAAAAAC3qXnz5jp16pQOHjyo5557ThMmTNDrr7+e22U5lb+/v06dOqUTJ05o/fr16tu3rz766CNFRETojz/+sPoFBQXJz8/P+vnQoUMqX768KlWqpNDQUNlstnSXFSpUSN7e3k7dJw8PD2v7OeWdd95Rhw4d5Ovray1LSkpSgwYNNGXKlAzX69q1q3766Sf9+uuvOVZbTiOUAgAAAADgNuXLl0+hoaEqXry4nnnmGUVGRmr58uWSpGnTpqly5cry8fFR0aJF1b9/f50/f17S9fDB399fn376qd14y5Ytk4+Pj86dO6cjR47IZrPpk08+UcOGDeXl5aUHHnhABw4c0ObNm1WzZk35+vqqRYsW+vPPP+3Gef/991W+fHl5enqqXLlyeu+996y21HE///xzNWnSRN7e3qpatao2bNgg6fqtaz179lRCQoJsNptsNpsmTJiQ4TGw2WwKDQ1V4cKFVb58efXq1Uvr16/X+fPnNWLECKvfjbfvNW7cWG+++aZ+/PFH2Ww2NW7cON1lktLcvhcfH69+/fopJCREnp6eqlSpklasWCFJmjBhgt2VRZL09ttvq0SJEunW3qNHD/3www+aPn26ta9HjhxJ9/a9n376yXofihYtqsGDByspKclqf++991S6dGl5enoqJCRE7du3z/CYXbt2TZ9++qlat25tt/zJJ5/U+PHjFRkZmeG6+fPnV/369bVo0aIM+9zpCKUAAAAAAMhmXl5eunLliqTrt7PNmDFDv/76q+bPn6/vvvvOCml8fHzUqVMnzZs3z279efPmqX379nZXFL344osaO3astm3bJjc3N3Xp0kUjRozQ9OnTtXbtWv32228aP3681X/BggUaP368XnvtNe3du1cTJ07UuHHjrFsNU40ZM0bDhw/Xjh07VKZMGXXu3FlXr15VvXr19Pbbb1tXQJ06dUrDhw/P0nEIDg5W165dtXz5cl27di1N++eff64+ffqobt26OnXqlD7//PN0l/1TSkqKWrRooXXr1unjjz/Wnj17NHnyZLm6umapvlTTp09X3bp11adPH2tfixYtmqbfoUOH1Lx5c0VFRWnXrl1avHixfvrpJw0cOFCStGXLFg0ePFgvv/yy9u/fr1WrVunBBx/McLu7du1SQkKCatas6VDdtWrV0tq1ax1a905wd9/cCgAAAADAHcQYo5iYGP3vf//ToEGDJMluUu8SJUro1Vdf1dNPP21dtdS7d29r7qLChQvrzJkzWrlypb799lu7sYcPH65mzZpJkoYMGaLOnTsrJiZG9evXlyT16tVL0dHRVv8XX3xRb775ptq1aydJCg8P1549ezR79mx1797dbtxWrVpJkl566SVVrFhRv/32m8qVK6eAgADrCihHlStXTufOndPff/+t4OBgu7agoCB5e3tbt8mlSm/Zjb799ltt2rRJe/fuVZkyZSRJ999/v8M1BgQEyMPDQ97e3jfd10mTJqlr167We1q6dGnNmDFDjRo10syZM3Xs2DH5+Pjo0UcflZ+fn4oXL65q1aplON7Ro0fl6uqa5rhkVlhYmI4ePerQuncCQikAAAAAAG7TihUr5Ovrq+TkZKWkpKhLly7WrW7ffvutJk2apH379ikxMVFXr17VpUuXdOHCBXl7e6tWrVqqWLGi5s+frxdeeEEff/yxihcvnuYKmypVqlj/HRISIkmqXLmy3bIzZ85Iun5b4KFDh9SrVy/16dPH6nP16tU0k3bfOG7hwoUlSWfOnFG5cuWy4chcD+okZeu8TDt27NB9991nBVLOsnPnTu3atUsLFiywlhljlJKSosOHD+vhhx9W8eLFdf/996t58+Zq3ry52rZtm+FcWBcvXlS+fPkcPjZeXl66cOGCQ+veCbh9DwAAAACA29SkSRPt2LFDBw8e1MWLFzV//nz5+PjoyJEjevTRR1WlShV99tln2rp1q/79739LknV7n3T9aqnUq5zmzZunnj17pgkqbnxiXWrbP5elpKRIkjVn1dy5c7Vjxw7rtXv3bv3888+3HDd1nOywd+9e+fv7q0CBAtk2ppeX103bXVxcrDAsVXJy8m1v9/z58+rXr5/dMd25c6cOHjyokiVLys/PT9u2bdN///tfFS5cWOPHj1fVqlUzfHphwYIFdeHCBbvPQlbExcWpUKFCt7FHuYsrpQAAAAAAuE0+Pj4qVapUmuVbt25VSkqK3nzzTbm4XL8u5JNPPknT74knntCIESM0Y8YM7dmzx+72OkeEhIQoLCxMv//+u7p27erwOB4eHunOBZVZZ86c0cKFC9WmTRtr/7NDlSpVdOLECR04cCDdq6UKFSqk2NhYGWOsoG3Hjh03HTMz+1q9enXt2bMn3fc6lZubmyIjIxUZGakXX3xRgYGB+u6776zbKG+UOhn7nj170kzMnhm7d+++6e2BdzpCKQAAAAAAckipUqWUnJysd955R61bt9a6des0a9asNP3y58+vdu3a6fnnn9cjjzyi++6777a3/dJLL2nw4MEKCAhQ8+bNdfnyZW3ZskVnz57Vs88+m6kxSpQoofPnzysmJkZVq1aVt7d3hreiGWOsICg+Pl4bNmzQxIkTFRAQoMmTJ9/2/tyoUaNGevDBBxUVFaVp06apVKlS2rdvn2w2m5o3b67GjRvrzz//1NSpU9W+fXutWrVKX3/9tfz9/W+6rxs3btSRI0fk6+uroKCgNH1GjhypOnXqaODAgerdu7d8fHy0Z88erV69Wu+++65WrFih33//XQ8++KDy58+vlStXKiUlRWXLlk13m4UKFVL16tX1008/2YVScXFxOnbsmP744w9J0v79+yVJoaGhdnNerV27Vq+88oojh/COwO17AAAAAADkkKpVq2ratGmaMmWKKlWqpAULFmjSpEnp9u3Vq5euXLmip556Klu23bt3b73//vuaN2+eKleurEaNGik6Olrh4eGZHqNevXp6+umn1bFjRxUqVEhTp07NsG9iYqIKFy6sIkWKqG7dutaE6tu3b7fmqspOn332mR544AF17txZFSpU0IgRI6wrncqXL6/33ntP//73v1W1alVt2rTplk8OHD58uFxdXVWhQgUVKlRIx44dS9OnSpUq+uGHH3TgwAE1bNhQ1apV0/jx4xUWFiZJCgwM1Oeff66HHnpI5cuX16xZs/Tf//5XFStWzHC7vXv3tpujSpKWL1+uatWqWRPQd+rUSdWqVbMLNDds2KCEhAS1b98+cwfsDmQz/7zJEk6TmJiogIAAJSQk3DStBbKiYb+7NyW/mbWzx+V2CQAAAMhhly5d0uHDhxUeHi5PT8/cLsfp/vOf/2jYsGH6448/5OHhkdvlwEkuXryosmXLavHixapbt26m1+vYsaOqVq2q0aNH52B1GbvZ9zWzeQe37wEAAAAAkIsuXLigU6dOafLkyerXrx+B1D3Gy8tLH330kf76669Mr3PlyhVVrlxZw4YNy8HKch637wEAAAAAkIumTp2qcuXKKTQ0VKNGjcrtcpALGjdurNatW2e6v4eHh8aOHXvLpxDe6QilAAAAAADIRRMmTFBycrJiYmLk6+ub2+UATkMoBQAAAAAAAKcjlAIAAAAA3FF4Hhdw58uO7ymhFAAAAADgjuDu7i7p+sTfAO5sqd/T1O+tI3j6HgAAAADgjuDq6qrAwECdOXNGkuTt7S2bzZbLVQG4kTFGFy5c0JkzZxQYGChXV1eHxyKUAgAAAADcMUJDQyXJCqYA3JkCAwOt76ujCKUAAAAAAHcMm82mwoULKzg4WMnJybldDoB0uLu739YVUqkIpQAAAAAAdxxXV9ds+aMXwJ2Lic4BAAAAAADgdIRSAAAAAAAAcDpCKQAAAAAAADgdoRQAAAAAAACcjlAKAAAAAAAATkcoBQAAAAAAAKcjlAIAAAAAAIDTEUoBAAAAAADA6QilAAAAAAAA4HSEUgAAAAAAAHA6QikAAAAAAAA4HaEUAAAAAAAAnI5QCgAAAAAAAE5HKAUAAAAAAACnI5QCAAAAAACA0xFKAQAAAAAAwOkIpQAAAAAAAOB0hFIAAAAAAABwOkIpAAAAAAAAOB2hFAAAAAAAAJyOUAoAAAAAAABOd0eFUj/++KNat26tsLAw2Ww2LVu2zK7dGKPx48ercOHC8vLyUmRkpA4ePGjXJy4uTl27dpW/v78CAwPVq1cvnT9/3q7Prl271LBhQ3l6eqpo0aKaOnVqmlqWLFmicuXKydPTU5UrV9bKlSuzXAsAAAAAAADSd0eFUklJSapatar+/e9/p9s+depUzZgxQ7NmzdLGjRvl4+OjZs2a6dKlS1afrl276tdff9Xq1au1YsUK/fjjj+rbt6/VnpiYqEceeUTFixfX1q1b9frrr2vChAmaM2eO1Wf9+vXq3LmzevXqpe3bt6tNmzZq06aNdu/enaVaAAAAAAAAkD6bMcbkdhHpsdlsWrp0qdq0aSPp+pVJYWFheu655zR8+HBJUkJCgkJCQhQdHa1OnTpp7969qlChgjZv3qyaNWtKklatWqWWLVvqxIkTCgsL08yZMzVmzBjFxsbKw8NDkvTCCy9o2bJl2rdvnySpY8eOSkpK0ooVK6x66tSpo4iICM2aNStTtWRGYmKiAgIClJCQIH9//2w5bkDDfq/kdgk5Yu3scbldAgAAAAAgEzKbd9xRV0rdzOHDhxUbG6vIyEhrWUBAgGrXrq0NGzZIkjZs2KDAwEArkJKkyMhIubi4aOPGjVafBx980AqkJKlZs2bav3+/zp49a/W5cTupfVK3k5la0nP58mUlJibavQAAAAAAAO5Fd00oFRsbK0kKCQmxWx4SEmK1xcbGKjg42K7dzc1NQUFBdn3SG+PGbWTU58b2W9WSnkmTJikgIMB6FS1a9BZ7DQAAAAAAkDfdNaFUXjBq1CglJCRYr+PHj+d2SQAAAAAAALnirgmlQkNDJUmnT5+2W3769GmrLTQ0VGfOnLFrv3r1quLi4uz6pDfGjdvIqM+N7beqJT358uWTv7+/3QsAAAAAAOBedNeEUuHh4QoNDVVMTIy1LDExURs3blTdunUlSXXr1lV8fLy2bt1q9fnuu++UkpKi2rVrW31+/PFHJScnW31Wr16tsmXLKn/+/FafG7eT2id1O5mpBQAAAAAAABm7o0Kp8+fPa8eOHdqxY4ek6xOK79ixQ8eOHZPNZtPQoUP16quvavny5frll1/UrVs3hYWFWU/oK1++vJo3b64+ffpo06ZNWrdunQYOHKhOnTopLCxMktSlSxd5eHioV69e+vXXX7V48WJNnz5dzz77rFXHkCFDtGrVKr355pvat2+fJkyYoC1btmjgwIGSlKlaAAAAAAAAkDG33C7gRlu2bFGTJk2sn1ODou7duys6OlojRoxQUlKS+vbtq/j4eDVo0ECrVq2Sp6entc6CBQs0cOBANW3aVC4uLoqKitKMGTOs9oCAAH3zzTcaMGCAatSooYIFC2r8+PHq27ev1adevXpauHChxo4dq9GjR6t06dJatmyZKlWqZPXJTC0AAAAAAABIn80YY3K7iHtVYmKiAgIClJCQwPxSyDYN+72S2yXkiLWzx+V2CQAAAACATMhs3nFH3b4HAAAAAACAewOhFAAAAAAAAJyOUAoAAAAAAABORygFAAAAAAAApyOUAgAAAAAAgNMRSgEAAAAAAMDpCKUAAAAAAADgdIRSAAAAAAAAcDpCKQAAAAAAADgdoRQAAAAAAACcjlAKAAAAAAAATkcoBQAAAAAAAKcjlAIAAAAAAIDTEUoBAAAAAADA6QilAAAAAAAA4HSEUgAAAAAAAHA6QikAAAAAAAA4HaEUAAAAAAAAnI5QCgAAAAAAAE5HKAUAAAAAAACnI5QCAAAAAACA0xFKAQAAAAAAwOkIpQAAAAAAAOB0hFIAAAAAAABwOkIpAAAAAAAAOB2hFAAAAAAAAJyOUAoAAAAAAABORygFAAAAAAAApyOUAgAAAAAAgNMRSgEAAAAAAMDpCKUAAAAAAADgdIRSAAAAAAAAcDpCKQAAAAAAADgdoRQAAAAAAACcjlAKAAAAAAAATkcoBQAAAAAAAKcjlAIAAAAAAIDTEUoBAAAAAADA6QilAAAAAAAA4HSEUgAAAAAAAHA6QikAAAAAAAA4HaEUAAAAAAAAnI5QCgAAAAAAAE5HKAUAAAAAAACnI5QCAAAAAACA0xFKAQAAAAAAwOkIpQAAAAAAAOB0hFIAAAAAAABwOkIpAAAAAAAAOB2hFAAAAAAAAJyOUAoAAAAAAABORygFAAAAAAAApyOUAgAAAAAAgNMRSgEAAAAAAMDpCKUAAAAAAADgdIRSAAAAAAAAcDpCKQAAAAAAADgdoRQAAAAAAACcjlAKAAAAAAAATkcoBQAAAAAAAKcjlAIAAAAAAIDTEUoBAAAAAADA6QilAAAAAAAA4HSEUgAAAAAAAHA6QikAAAAAAAA4HaEUAAAAAAAAnI5QCgAAAAAAAE5HKAUAAAAAAACnI5QCAAAAAACA0xFKAQAAAAAAwOkIpQAAAAAAAOB0hFIAAAAAAABwOkIpAAAAAAAAOB2hFAAAAAAAAJyOUAoAAAAAAABORygFAAAAAAAApyOUAgAAAAAAgNMRSgEAAAAAAMDpCKUAAAAAAADgdIRSAAAAAAAAcDpCKQAAAAAAADgdoRQAAAAAAACcjlAKAAAAAAAATkcoBQAAAAAAAKcjlAIAAAAAAIDTEUoBAAAAAADA6QilAAAAAAAA4HR3VSh17do1jRs3TuHh4fLy8lLJkiX1yiuvyBhj9THGaPz48SpcuLC8vLwUGRmpgwcP2o0TFxenrl27yt/fX4GBgerVq5fOnz9v12fXrl1q2LChPD09VbRoUU2dOjVNPUuWLFG5cuXk6empypUra+XKlTmz4wAAAAAAAHnMXRVKTZkyRTNnztS7776rvXv3asqUKZo6dareeecdq8/UqVM1Y8YMzZo1Sxs3bpSPj4+aNWumS5cuWX26du2qX3/9VatXr9aKFSv0448/qm/fvlZ7YmKiHnnkERUvXlxbt27V66+/rgkTJmjOnDlWn/Xr16tz587q1auXtm/frjZt2qhNmzbavXu3cw4GAAAAAADAXcxmbrzM6A736KOPKiQkRB988IG1LCoqSl5eXvr4449ljFFYWJiee+45DR8+XJKUkJCgkJAQRUdHq1OnTtq7d68qVKigzZs3q2bNmpKkVatWqWXLljpx4oTCwsI0c+ZMjRkzRrGxsfLw8JAkvfDCC1q2bJn27dsnSerYsaOSkpK0YsUKq5Y6deooIiJCs2bNytT+JCYmKiAgQAkJCfL398+WYwQ07PdKbpeQI9bOHpfbJQAAAAAAMiGzecdddaVUvXr1FBMTowMHDkiSdu7cqZ9++kktWrSQJB0+fFixsbGKjIy01gkICFDt2rW1YcMGSdKGDRsUGBhoBVKSFBkZKRcXF23cuNHq8+CDD1qBlCQ1a9ZM+/fv19mzZ60+N24ntU/qdgAAAAAAAJAxt9wuICteeOEFJSYmqly5cnJ1ddW1a9f02muvqWvXrpKk2NhYSVJISIjdeiEhIVZbbGysgoOD7drd3NwUFBRk1yc8PDzNGKlt+fPnV2xs7E23k57Lly/r8uXL1s+JiYmZ3ncAAAAAAIC85K66UuqTTz7RggULtHDhQm3btk3z58/XG2+8ofnz5+d2aZkyadIkBQQEWK+iRYvmdkkAAAAAAAC54q4KpZ5//nm98MIL6tSpkypXrqwnn3xSw4YN06RJkyRJoaGhkqTTp0/brXf69GmrLTQ0VGfOnLFrv3r1quLi4uz6pDfGjdvIqE9qe3pGjRqlhIQE63X8+PEs7T8AAAAAAEBecVeFUhcuXJCLi33Jrq6uSklJkSSFh4crNDRUMTExVntiYqI2btyounXrSpLq1q2r+Ph4bd261erz3XffKSUlRbVr17b6/Pjjj0pOTrb6rF69WmXLllX+/PmtPjduJ7VP6nbSky9fPvn7+9u9AAAAAAAA7kV3VSjVunVrvfbaa/rqq6905MgRLV26VNOmTVPbtm0lSTabTUOHDtWrr76q5cuX65dfflG3bt0UFhamNm3aSJLKly+v5s2bq0+fPtq0aZPWrVungQMHqlOnTgoLC5MkdenSRR4eHurVq5d+/fVXLV68WNOnT9ezzz5r1TJkyBCtWrVKb775pvbt26cJEyZoy5YtGjhwoNOPCwAAAAAAwN3mrpro/J133tG4cePUv39/nTlzRmFhYerXr5/Gjx9v9RkxYoSSkpLUt29fxcfHq0GDBlq1apU8PT2tPgsWLNDAgQPVtGlTubi4KCoqSjNmzLDaAwIC9M0332jAgAGqUaOGChYsqPHjx6tv375Wn3r16mnhwoUaO3asRo8erdKlS2vZsmWqVKmScw4GAAAAAADAXcxmjDG5XcS9KjExUQEBAUpISOBWPmSbhv1eye0ScsTa2eNyuwQAAAAAQCZkNu+4q27fAwAAAAAAQN6QraHUlStXlJSUlJ1DAgAAAAAAIA9yKJRatGiRhg0bZrfspZdekq+vrwIDA9W2bVudP38+WwoEAAAAAABA3uNQKPXmm2/aXRG1fv16vfTSS2rWrJmGDRumVatW6bXXXsu2IgEAAAAAAJC3OPT0vUOHDql79+7WzwsXLlRoaKiWLl0qNzc3paSk6LPPPtOkSZOyrVAAAAAAAADkHQ5dKXX58mV5enpaP3/zzTdq0aKF3NyuZ1wVKlTQiRMnsqdCAAAAAAAA5DkOhVLh4eH69ttvJUlbtmzRb7/9pubNm1vtp0+flq+vb/ZUCAAAAAAAgDzHodv3+vXrpyFDhmjPnj06ceKE7rvvPj366KNW+7p161SxYsVsKxIAAAAAAAB5i0Oh1KBBg+Tp6amVK1eqRo0aGjlypLy8vCRJcXFxio2N1dNPP52thQIAAAAAACDvcCiUkqQ+ffqoT58+aZYHBQVpy5Ytt1UUAAAAAAAA8jaH5pS6//77tXz58gzbV6xYofvvv9/hogAAAAAAAJC3ORRKHTlyROfPn8+w/fz58zp69KjDRQEAAAAAACBvcyiUkiSbzZZh2+bNmxUYGOjo0AAAAAAAAMjjMj2n1PTp0zV9+nRJ1wOpoUOHasyYMWn6JSQkKD4+Xl26dMm+KgEAAAAAAJCnZDqUCg4OVsWKFSVdv32vSJEiKlKkiF0fm80mHx8f1ahRQ/3798/eSgEAAAAAAJBnZDqU6ty5szp37ixJatKkicaOHaumTZvmWGEAAAAAAADIuzIdSt3o+++/z+46AAAAAAAAcA9xKJRKtWfPHv3+++86e/asjDFp2rt163Y7wwMAAAAAACCPciiUOnTokJ544glt2rQp3TBKuj6/FKEUAAAAAAAA0uNQKNWvXz/98ssvevvtt9WwYUPlz58/u+sCAAAAAABAHuZQKLVu3TqNHj1agwYNyu56AAAAAAAAcA9wcWSlggULKiAgILtrAQAAAAAAwD3CoVDq6aef1scff6xr165ldz0AAAAAAAC4Bzh0+16ZMmV07do1Va1aVU899ZSKFi0qV1fXNP3atWt32wUCAAAAAAAg73EolOrYsaP138OHD0+3j81m40oqAAAAAAAApMuhUOr777/P7joAAAAAAABwD3EolGrUqFF21wEAAAAAAIB7iEMTnQMAAAAAAAC3w6ErpSQpNjZWH3zwgbZt26aEhASlpKTYtdtsNsXExNx2gQAAAAAAAMh7HAqldu3apcaNG+vixYsqW7asfvnlF1WoUEHx8fE6efKkSpYsqaJFi2Z3rQAAAAAAAMgjHLp974UXXpCvr6/279+vb7/9VsYYTZ8+XcePH9fixYt19uxZTZ48ObtrBQAAAAAAQB7hUCi1bt069evXT8WKFZOLy/UhUm/f69Chg7p27arnn38++6oEAAAAAABAnuJQKJWSkqKQkBBJUmBgoFxdXRUXF2e1V65cWVu3bs2eCgEAAAAAAJDnOBRKhYeH6/Dhw9cHcHFReHi4vv32W6t9/fr1CgwMzJYCAQAAAAAAkPc4FEo98sgjWrJkifXzM888o/fff1+RkZFq2rSp5s+fry5dumRbkQAAAAAAAMhbHHr63pgxY9S5c2clJyfL3d1dQ4cOVVJSkj777DO5urpq3LhxGj16dHbXCgAAAAAAgDzCZowxuV3EvSoxMVEBAQFKSEiQv79/bpeDPKJhv1dyu4QcsXb2uNwuAQAAAACQCZnNOxy6fe/q1atKTEy86cavXr3qyNAAAAAAAAC4BzgUSg0ePFj16tXLsL1+/fp67rnnHC4KAAAAAAAAeZtDodSqVavUvn37DNvbt2+vlStXOlwUAAAAAAAA8jaHQqk//vhDRYoUybA9LCxMJ0+edLgoAAAAAAAA5G0OhVIFChTQ/v37M2zfu3cvE3cDAAAAAAAgQw6FUs2bN9fs2bO1ffv2NG3btm3TnDlz1KJFi9suDgAAAAAAAHmTmyMrvfLKK1q1apVq1aqlf/3rX6pYsaIkaffu3fryyy8VHBysV17Jm4+lBwAAAAAAwO1zKJQKCwvTli1b9MILL+iLL77Q0qVLJUn+/v7q2rWrJk6cqLCwsGwtFAAAAAAAAHmHQ6GUJBUuXFjz58+XMUZ//vmnJKlQoUKy2WzZVhwAAAAAAADyJodDqVQ2m03BwcHZUQsAAAAAAADuEZkKpV5++WXZbDaNGTNGLi4uevnll2+5js1m07hx4267QAAAAAAAAOQ9NmOMuVUnFxcX2Ww2Xbx4UR4eHnJxufVD+2w2m65du5YtReZViYmJCggIUEJCgvz9/XO7HOQRDfvlzYcMrJ1NyA0AAAAAd4PM5h2ZulIqJSXlpj8DAAAAAAAAWXHrS54AAAAAAACAbEYoBQAAAAAAAKfL1O174eHhstlsWRrYZrPp0KFDDhUFAAAAAACAvC1ToVSjRo2yHEoBAAAAAAAAGclUKBUdHZ3DZQAAAAAAAOBewpxSAAAAAAAAcLpMXSmVnsuXL2vu3LlauXKljhw5IkkqUaKEWrZsqd69e8vT0zO7agQAAAAAAEAe49CVUidOnFBERIQGDx6snTt3qlChQipUqJB27typwYMHKyIiQidOnMjuWgEAAAAAAJBHOBRKDRgwQEePHtUnn3yikydP6ocfftAPP/ygkydPavHixTp27JgGDBiQ3bUCAAAAAAAgj3Do9r2YmBgNGzZM7du3T9PWoUMHbdu2Te+8885tFwcAAAAAAIC8yaErpfz8/BQcHJxhe2hoqPz8/BwuCgAAAAAAAHmbQ6FUz549FR0drQsXLqRpO3/+vObNm6devXrddnEAAAAAAADImxy6fS8iIkJfffWVypUrp+7du6tUqVKSpIMHD+qjjz5SUFCQqlSpos8//9xuvXbt2t1+xQAAAAAAALjr2YwxJqsrubjc+gIrm82mG4e22Wy6du1aVjeVpyUmJiogIEAJCQny9/fP7XKQRzTs90pul5Aj1s4el9slAAAAAAAyIbN5h0NXSn3//fcOFwYAAAAAAAA4FEo1atQou+sAAAAAAADAPcShUCrVtWvXtHXrVh05ckSSVKJECdWoUUOurq7ZURsAAAAAAADyKIdDqejoaI0aNUpnzpyx5o6y2WwqVKiQJk6cqKeeeirbigQAAAAAAEDe4lAoNXv2bD3zzDOKiIjQhAkTVKZMGUnS/v37NXv2bPXp00dXrlzR008/na3FAgAAAAAAIG9w6Ol7999/v4oWLapvv/1W7u7udm3Jycl66KGHdPLkSf3+++/ZVmhexNP3kBN4+h4AAAAAIDdlNu9wcWTw2NhYPf7442kCKUlyd3dXp06ddPr0aUeGBgAAAAAAwD3AoVCqWrVqOnDgQIbtBw4cUEREhKM1AQAAAAAAII9zaE6pd955R61atdL999+vvn37ysvLS5J08eJFzZo1S5988olWrlyZrYUCAAAAAAAg73BoTqkqVaooLi5Op06dkpubm8LCwiRJf/zxh65evaqwsDDlz5/ffkM2m3bu3Jk9VecRzCmFnMCcUgAAAACA3JTZvMOhK6WCgoJUoEABlS5d2m55iRIlHBkOAAAAAAAA9xiHQqk1a9ZkcxkAAAAAAAC4lzg00fmt/PXXX3r33XdzYmgAAAAAAADkAdkWSl24cEELFy5Uq1atVKRIEQ0ZMiS7hgYAAAAAAEAe49Dte6lSUlL0v//9TwsWLNAXX3yhCxcuqFSpUho8eLBat26dXTUCAAAAAAAgj3EolPr555+1YMECffLJJ/rrr79UvHhxXbhwQXPmzFGvXr2yu0YAAAAAAADkMZkOpfbv368FCxZo4cKF+v3331WyZEn16dNHnTt3Vr58+VSmTBnlz58/J2sFAAAAAABAHpHpUKpChQoKDQ1V586d1bFjRz3wwANW26FDh3KkOAAAAAAAAORNmZ7o3N3dXWfPntXRo0d1/PhxXb58OSfrAgAAAAAAQB6W6VDq9OnTmjFjhv7880916NBBwcHB6tatm1atWqXk5OScrBEAAAAAAAB5TKZDqYCAAPXu3Vtr1qzRkSNHNHr0aO3cuVMtW7ZUrVq1ZLPZtG/fPl25ciUn6wUAAAAAAEAekOlQ6kZFixbVyJEjtXPnTu3YsUNPP/20ihQporFjx6pgwYKKiorS/Pnzs7tWAAAAAAAA5BEOhVI3qlKliqZOnapjx47pu+++0+OPP67vv/9eTz31VHbUBwAAAAAAgDzotkOpGzVu3Fjvv/++YmNj9emnn2bn0AAAAAAAAMhDsjWUSuXh4aG2bdvmxNA6efKknnjiCRUoUEBeXl6qXLmytmzZYrUbYzR+/HgVLlxYXl5eioyM1MGDB+3GiIuLU9euXeXv76/AwED16tVL58+ft+uza9cuNWzYUJ6enipatKimTp2appYlS5aoXLly8vT0VOXKlbVy5coc2WcAAAAAAIC8JkdCqZxy9uxZ1a9fX+7u7vr666+1Z88evfnmm8qfP7/VZ+rUqZoxY4ZmzZqljRs3ysfHR82aNdOlS5esPl27dtWvv/6q1atXa8WKFfrxxx/Vt29fqz0xMVGPPPKIihcvrq1bt+r111/XhAkTNGfOHKvP+vXr1blzZ/Xq1Uvbt29XmzZt1KZNG+3evds5BwMAAAAAAOAuZjPGmNwuIrNeeOEFrVu3TmvXrk233RijsLAwPffccxo+fLgkKSEhQSEhIYqOjlanTp20d+9eVahQQZs3b1bNmjUlSatWrVLLli114sQJhYWFaebMmRozZoxiY2Pl4eFhbXvZsmXat2+fJKljx45KSkrSihUrrO3XqVNHERERmjVrVqb2JzExUQEBAUpISJC/v7/DxwW4UcN+r+R2CTli7exxuV0CAAAAACATMpt33FVXSi1fvlw1a9ZUhw4dFBwcrGrVqmnu3LlW++HDhxUbG6vIyEhrWUBAgGrXrq0NGzZIkjZs2KDAwEArkJKkyMhIubi4aOPGjVafBx980AqkJKlZs2bav3+/zp49a/W5cTupfVK3k57Lly8rMTHR7gUAAAAAAHAvylQoNWPGDB04cCCna7ml33//XTNnzlTp0qX1v//9T88884wGDx6s+fPnS5JiY2MlSSEhIXbrhYSEWG2xsbEKDg62a3dzc1NQUJBdn/TGuHEbGfVJbU/PpEmTFBAQYL2KFi2apf0HAAAAAADIKzIVSg0bNsxuMnFXV1ctXLgwx4rKSEpKiqpXr66JEyeqWrVq6tu3r/r06ZPp2+Vy26hRo5SQkGC9jh8/ntslAQAAAAAA5IpMhVL58+fX6dOnrZ9zaxqqwoULq0KFCnbLypcvr2PHjkmSQkNDJcmu1tSfU9tCQ0N15swZu/arV68qLi7Ork96Y9y4jYz6pLanJ1++fPL397d7AQAAAAAA3IvcMtOpcePGmjBhgnbs2KGAgABJ0kcffaSff/45w3VsNpumT5+ePVX+f/Xr19f+/fvtlh04cEDFixeXJIWHhys0NFQxMTGKiIiQdH1yrY0bN+qZZ56RJNWtW1fx8fHaunWratSoIUn67rvvlJKSotq1a1t9xowZo+TkZLm7u0uSVq9erbJly1pP+qtbt65iYmI0dOhQq5bVq1erbt262brPAAAAAAAAeVGmnr535swZDR06VN9//711ldGtVrPZbLp27Vr2VPn/bd68WfXq1dNLL72kxx9/XJs2bVKfPn00Z84cde3aVZI0ZcoUTZ48WfPnz1d4eLjGjRunXbt2ac+ePfL09JQktWjRQqdPn9asWbOUnJysnj17qmbNmtYtiQkJCSpbtqweeeQRjRw5Urt379ZTTz2lt956S3379pUkrV+/Xo0aNdLkyZPVqlUrLVq0SBMnTtS2bdtUqVKlTO0PT99DTuDpewAAAACA3JTZvCNTodQ/ubi46OOPP1aXLl1uq0hHrFixQqNGjdLBgwcVHh6uZ599Vn369LHajTF68cUXNWfOHMXHx6tBgwZ67733VKZMGatPXFycBg4cqC+//FIuLi6KiorSjBkz5Ovra/XZtWuXBgwYoM2bN6tgwYIaNGiQRo4caVfLkiVLNHbsWB05ckSlS5fW1KlT1bJly0zvC6EUcgKhFAAAAAAgN+VoKDV//nw1atRIJUqUuJ0a73mEUsgJhFIAAAAAgNyU2bwjU3NK/VP37t2t/96zZ4+OHj0qSSpevHiaicgBAAAAAACAf3IolJKkL774Qs8++6yOHDlitzw8PFzTpk3Tv/71r9utDQAAAAAAAHmUiyMrrVy5UlFRUZKkiRMnaunSpVq6dKkmTpwoY4zatWunVatWZWuhAAAAAAAAyDscmlOqbt26unz5stauXSsfHx+7tqSkJDVo0ECenp7asGFDthWaFzGnFHICc0oBAAAAAHJTZvMOh66U2rVrl7p3754mkJIkHx8f9ejRQ7t27XJkaAAAAAAAANwDHAqlPD09FRcXl2F7XFycPD09HS4KAAAAAAAAeZtDodRDDz2k6dOnp3t73saNGzVjxgxFRkbednEAAAAAAADImxx6+t7UqVNVt25dNWjQQLVq1VLZsmUlSfv379emTZsUHBysKVOmZGuhAAAAAAAAyDsculIqPDxcu3bt0uDBg3X27FktXrxYixcv1tmzZzVkyBDt3LlTJUqUyOZSAQAAAAAAkFc4dKWUJAUHB+utt97SW2+9lZ31AAAAAAAA4B7g0JVSAAAAAAAAwO0glAIAAAAAAIDTEUoBAAAAAADA6QilAAAAAAAA4HSEUgAAAAAAAHC6LIdSFy5cUI0aNTRr1qycqAcAAAAAAAD3gCyHUt7e3jp8+LBsNltO1AMAAAAAAIB7gEO37zVv3lz/+9//srsWAAAAAAAA3CMcCqXGjRunAwcO6Mknn9RPP/2kkydPKi4uLs0LAAAAAAAASI+bIytVrFhRkrRnzx4tXLgww37Xrl1zrCoAAAAAAADkaQ6FUuPHj2dOKQAAAAAAADjMoVBqwoQJ2VwGAAAAAAAA7iUOzSn1TwkJCdyqBwAAAAAAgExzOJTasmWLmjdvLm9vbxUoUEA//PCDJOmvv/7SY489pjVr1mRXjQAAAAAAAMhjHAql1q9frwYNGujgwYN64oknlJKSYrUVLFhQCQkJmj17drYVCQAAAAAAgLzFoVBq9OjRKl++vPbs2aOJEyemaW/SpIk2btx428UBAAAAAAAgb3IolNq8ebN69uypfPnypfsUviJFiig2Nva2iwMAAAAAAEDe5FAo5e7ubnfL3j+dPHlSvr6+DhcFAAAAAACAvM3NkZXq1KmjTz/9VEOHDk3TlpSUpHnz5qlRo0a3WxsAIBs17PdKbpeQY9bOHpfbJQAAAADIIoeulHrppZe0ZcsWtWrVSl9//bUkaefOnXr//fdVo0YN/fnnnxo3jj8QAAAAAAAAkD6HrpSqXbu2Vq5cqWeeeUbdunWTJD333HOSpJIlS2rlypWqUqVK9lUJAAAAAACAPMWhUEqSHnroIe3fv1/bt2/Xb7/9ppSUFJUsWVI1atRId/JzAAAAAAAAIJXDoVSqatWqqVq1atlRCwAAAAAAAO4RDodSly9f1ty5c7Vy5UodOXJEklSiRAm1bNlSvXv3lqenZ3bVCAAAAAAAgDzGoYnOT5w4oYiICA0ePFg7d+5UoUKFVKhQIe3cuVODBw9WRESETpw4kd21AgAAAAAAII9wKJQaMGCAjh49qk8++UQnT57UDz/8oB9++EEnT57U4sWLdezYMQ0YMCC7awUAAAAAAEAe4dDtezExMRo2bJjat2+fpq1Dhw7atm2b3nnnndsuDgAAAAAAAHmTQ1dK+fn5KTg4OMP20NBQ+fn5OVwUAAAAAAAA8jaHQqmePXsqOjpaFy5cSNN2/vx5zZs3T7169brt4gAAAAAAAJA3Zer2vc8//9zu52rVqumrr75SuXLl1L17d5UqVUqSdPDgQX300UcKCgpSlSpVsr9aAAAAAAAA5AmZCqXat28vm80mY4wk2f33a6+9lqb/iRMn1LlzZz3++OPZWCoAAAAAAADyikyFUt9//31O1wEAAAAAAIB7SKZCqUaNGuV0HQAAAAAAALiHODTROQAAAAAAAHA7MnWlVHp++uknffjhh/r999919uxZa46pVDabTTt37rztAgEAAAAAAJD3OBRKTZs2Tc8//7w8PT1VtmxZBQUFZXddAAAAAAAAyMMcCqVef/111a9fX19++aUCAgKyuyYAAAAAAADkcQ7NKXXhwgV17dqVQAoAAAAAAAAOcSiUatKkiX755ZfsrgUAAAAAAAD3CIdCqXfeeUcxMTF64403FBcXl901AQAAAAAAII9zKJQqWrSo+vXrpxdeeEGFChWSj4+P/P397V7c2gcAAAAAAICMODTR+fjx4/Xaa6+pSJEiqlmzJgEUAAAAAAAAssShUGrWrFlq1aqVli1bJhcXhy62AgAAAAAAwD3MoUTpypUratWqFYEUAAAAAAAAHOJQqvToo49q7dq12V0LAAAAAAAA7hEOhVIvvvii9uzZo/79+2vr1q36888/FRcXl+YFAAAAAAAApMehOaXKli0rSdqxY4dmz56dYb9r1645VhUAAAAAAADyNIefvmez2bK7FgAAAAAAANwjHAqlJkyYkM1lAAAAAAAA4F7C4/MAAAAAAADgdA5dKfXyyy/fso/NZtO4ceMcGR4AAAAAAAB5XLbfvmez2WSMIZQCAAAAAABAhhy6fS8lJSXN6+rVqzp06JCGDRummjVr6syZM9ldKwAAAAAAAPKIbJtTysXFReHh4XrjjTdUunRpDRo0KLuGBgAAAAAAQB6TIxOdP/jgg1q5cmVODA0AAAAAAIA8IEdCqS1btsjFhQf7AQAAAAAAIH0OTXT+0Ucfpbs8Pj5eP/74oz7//HP17t37tgoDAAAAAABA3uVQKNWjR48M2woWLKgXXnhB48ePd7QmAAAAAAAA5HEOhVKHDx9Os8xmsyl//vzy8/O77aIAAAAAAACQtzkUShUvXjy76wAAAAAAAMA9hNnIAQAAAAAA4HSZvlKqSpUqWRrYZrNp586dWS4IAAAAAAAAeV+mQ6mgoCDZbLZb9ouNjdX+/fsz1RcAAAAAAAD3pkyHUmvWrLlpe2xsrKZMmaLZs2fL1dVVTz755O3WBgAAAAAAgDzKoYnOb3T69GlNnjxZc+bMUXJysp544gmNGTNGJUuWzI76AAAAAAAAkAc5HEqlXhl1Yxg1duxY3X///dlZHwAAAAAAAPKgLIdSsbGxmjx5subOnavk5GQ9+eSTGjt2rMLDw3OiPgAAAAAAAORBmQ6lTp06ZYVRV69eVbdu3TRmzBjCKAAAAAAAAGRZpkOpkiVL6vLly4qIiNDo0aMVHh6us2fP6uzZsxmuU7169WwpEgAAAAAAAHlLpkOpS5cuSZK2b9+uxx9//KZ9jTGy2Wy6du3a7VUHAAAAAACAPCnTodS8efNysg4AAAAAAADcQzIdSnXv3j0n6wAAAAAAAMA9JMtP30Pua9jvldwuIcesnT0ut0sAAAAAAABO4JLbBQAAAAAAAODeQygFAAAAAAAApyOUAgAAAAAAgNMRSgEAAAAAAMDp7upQavLkybLZbBo6dKi17NKlSxowYIAKFCggX19fRUVF6fTp03brHTt2TK1atZK3t7eCg4P1/PPP6+rVq3Z91qxZo+rVqytfvnwqVaqUoqOj02z/3//+t0qUKCFPT0/Vrl1bmzZtyondBAAAAAAAyHPu2lBq8+bNmj17tqpUqWK3fNiwYfryyy+1ZMkS/fDDD/rjjz/Url07q/3atWtq1aqVrly5ovXr12v+/PmKjo7W+PHjrT6HDx9Wq1at1KRJE+3YsUNDhw5V79699b///c/qs3jxYj377LN68cUXtW3bNlWtWlXNmjXTmTNncn7nAQAAAAAA7nJ3ZSh1/vx5de3aVXPnzlX+/Pmt5QkJCfrggw80bdo0PfTQQ6pRo4bmzZun9evX6+eff5YkffPNN9qzZ48+/vhjRUREqEWLFnrllVf073//W1euXJEkzZo1S+Hh4XrzzTdVvnx5DRw4UO3bt9dbb71lbWvatGnq06ePevbsqQoVKmjWrFny9vbWhx9+6NyDAQAAAAAAcBe6K0OpAQMGqFWrVoqMjLRbvnXrViUnJ9stL1eunIoVK6YNGzZIkjZs2KDKlSsrJCTE6tOsWTMlJibq119/tfr8c+xmzZpZY1y5ckVbt2616+Pi4qLIyEirDwAAAAAAADLmltsFZNWiRYu0bds2bd68OU1bbGysPDw8FBgYaLc8JCREsbGxVp8bA6nU9tS2m/VJTEzUxYsXdfbsWV27di3dPvv27cuw9suXL+vy5cvWz4mJibfYWwAAAAAAgLzprrpS6vjx4xoyZIgWLFggT0/P3C4nyyZNmqSAgADrVbRo0dwuCQAAAAAAIFfcVaHU1q1bdebMGVWvXl1ubm5yc3PTDz/8oBkzZsjNzU0hISG6cuWK4uPj7dY7ffq0QkNDJUmhoaFpnsaX+vOt+vj7+8vLy0sFCxaUq6trun1Sx0jPqFGjlJCQYL2OHz/u0HEAAAAAAAC4291VoVTTpk31yy+/aMeOHdarZs2a6tq1q/Xf7u7uiomJsdbZv3+/jh07prp160qS6tatq19++cXuKXmrV6+Wv7+/KlSoYPW5cYzUPqljeHh4qEaNGnZ9UlJSFBMTY/VJT758+eTv72/3AgAAAAAAuBfdVXNK+fn5qVKlSnbLfHx8VKBAAWt5r1699OyzzyooKEj+/v4aNGiQ6tatqzp16kiSHnnkEVWoUEFPPvmkpk6dqtjYWI0dO1YDBgxQvnz5JElPP/203n33XY0YMUJPPfWUvvvuO33yySf66quvrO0+++yz6t69u2rWrKlatWrp7bffVlJSknr27OmkowEAAAAAAHD3uqtCqcx466235OLioqioKF2+fFnNmjXTe++9Z7W7urpqxYoVeuaZZ1S3bl35+Pioe/fuevnll60+4eHh+uqrrzRs2DBNnz5d9913n95//301a9bM6tOxY0f9+eefGj9+vGJjYxUREaFVq1almfwcAAAAAAAAadmMMSa3i7hXJSYmKiAgQAkJCVm6la9hv1dysKrctXb2uNwu4a6XVz8ffDZuX179bEh8PgAAAIA7SWbzjrtqTikAAAAAAADkDYRSAAAAAAAAcDpCKQAAAAAAADgdoRQAAAAAAACcjlAKAAAAAAAATkcoBQAAAAAAAKcjlAIAAAAAAIDTEUoBAAAAAADA6QilAAAAAAAA4HSEUgAAAAAAAHA6QikAAAAAAAA4HaEUAAAAAAAAnI5QCgAAAAAAAE5HKAUAAAAAAACnI5QCAAAAAACA0xFKAQAAAAAAwOkIpQAAAAAAAOB0hFIAAAAAAABwOkIpAAAAAAAAOB2hFAAAAAAAAJyOUAoAAAAAAABORygFAAAAAAAApyOUAgAAAAAAgNMRSgEAAAAAAMDpCKUAAAAAAADgdIRSAAAAAAAAcDpCKQAAAAAAADgdoRQAAAAAAACcjlAKAAAAAAAATkcoBQAAAAAAAKcjlAIAAAAAAIDTEUoBAAAAAADA6QilAAAAAAAA4HSEUgAAAAAAAHA6QikAAAAAAAA4HaEUAAAAAAAAnI5QCgAAAAAAAE5HKAUAAAAAAACnI5QCAAAAAACA0xFKAQAAAAAAwOkIpQAAAAAAAOB0hFIAAAAAAABwOkIpAAAAAAAAOB2hFAAAAAAAAJyOUAoAAAAAAABORygFAAAAAAAApyOUAgAAAAAAgNMRSgEAAAAAAMDpCKUAAAAAAADgdIRSAAAAAAAAcDpCKQAAAAAAADgdoRQAAAAAAACcjlAKAAAAAAAATkcoBQAAAAAAAKcjlAIAAAAAAIDTEUoBAAAAAADA6QilAAAAAAAA4HSEUgAAAAAAAHA6QikAAAAAAAA4HaEUAAAAAAAAnI5QCgAAAAAAAE5HKAXg/7V312FRpe8bwO+hLVBAsEWwW1EUO1iwO9A1wJbFwE5cE7tRsV070VUsxBYUuwPFVjAoRaXm+f3hb85XVt3UGcD7c117rZzzzvDAHM6cuc8bRERERERERFrHUIqIiIiIiIiIiLSOoRQREREREREREWkdQykiIiIiIiIiItI6hlJERERERERERKR1DKWIiIiIiIiIiEjrGEoREREREREREZHWMZQiIiIiIiIiIiKtYyhFRERERERERERax1CKiIiIiIiIiIi0jqEUERERERERERFpHUMpIiIiIiIiIiLSOoZSRERERERERESkdQyliIiIiIiIiIhI6xhKERERERERERGR1jGUIiIiIiIiIiIirWMoRUREREREREREWsdQioiIiIiIiIiItI6hFBERERERERERaR1DKSIiIiIiIiIi0jqGUkREREREREREpHUMpYiIiIiIiIiISOsYShERERERERERkdYxlCIiIiIiIiIiIq1jKEVERERERERERFrHUIqIiIiIiIiIiLSOoRQREREREREREWldugqlfHx8ULlyZWTLlg1WVlZo0aIFbt++narNhw8f8Msvv8DCwgJZs2ZF69atERkZmarNo0eP0LhxY2TOnBlWVlYYOnQokpOTU7U5evQoKlasCGNjYxQuXBirV6/+rB5fX1/Y2NjAxMQEVapUQWho6Df/mYmIiIiIiIiIMqJ0FUodO3YMv/zyC06fPo3AwEAkJSXB2dkZ8fHxShsvLy/s3r0bW7duxbFjx/Ds2TO0atVK2Z+SkoLGjRsjMTERwcHBWLNmDVavXg1vb2+lzf3799G4cWPUrVsXly5dwsCBA9GjRw8cOHBAabN582YMGjQI48aNw4ULF1CuXDm4uLjgxYsX2vllEBERERERERGlYyoREV0X8W+9fPkSVlZWOHbsGGrVqoXY2FjkzJkTGzZsQJs2bQAAt27dQokSJRASEoKqVati3759aNKkCZ49ewZra2sAwJIlSzB8+HC8fPkSRkZGGD58OAICAnDt2jXle7m6uiImJgb79+8HAFSpUgWVK1fGwoULAQBqtRr58+dHv379MGLEiL9Vf1xcHMzMzBAbGwtTU9O//XPX7D3xb7dNb074jdV1CeleRj0+eGz8dxn12AB4fBARERERpSV/N+9IVz2l/ig2NhYAYG5uDgA4f/48kpKS4OTkpLQpXrw4ChQogJCQEABASEgIypQpowRSAODi4oK4uDhcv35dafPpc2jaaJ4jMTER58+fT9VGT08PTk5OSpsvSUhIQFxcXKr/iIiIiIiIiIh+ROk2lFKr1Rg4cCCqV6+O0qVLAwAiIiJgZGSE7Nmzp2prbW2NiIgIpc2ngZRmv2bfn7WJi4vD+/fv8erVK6SkpHyxjeY5vsTHxwdmZmbKf/nz5//nPzgRERERERERUQaQbkOpX375BdeuXcOmTZt0XcrfNnLkSMTGxir/PX78WNclERERERERERHphIGuC/g3PD09sWfPHhw/fhz58uVTtufKlQuJiYmIiYlJ1VsqMjISuXLlUtr8cZU8zep8n7b544p9kZGRMDU1RaZMmaCvrw99ff0vttE8x5cYGxvD2Nj4n//AREREREREREQZTLrqKSUi8PT0hL+/Pw4fPoxChQql2m9vbw9DQ0MEBQUp227fvo1Hjx7B0dERAODo6IirV6+mWiUvMDAQpqamKFmypNLm0+fQtNE8h5GREezt7VO1UavVCAoKUtoQEREREREREdHXpaueUr/88gs2bNiAXbt2IVu2bMr8TWZmZsiUKRPMzMzQvXt3DBo0CObm5jA1NUW/fv3g6OiIqlWrAgCcnZ1RsmRJdO7cGdOnT0dERATGjBmDX375RenF1KdPHyxcuBDDhg1Dt27dcPjwYWzZsgUBAQFKLYMGDULXrl1RqVIlODg4YO7cuYiPj4e7u7v2fzFEREREREREROlMugqlFi9eDACoU6dOqu2rVq2Cm5sbAGDOnDnQ09ND69atkZCQABcXFyxatEhpq6+vjz179qBv375wdHRElixZ0LVrV0yYMEFpU6hQIQQEBMDLywvz5s1Dvnz5sHz5cri4uCht2rdvj5cvX8Lb2xsREREoX7489u/f/9nk50RERERERERE9Ll0FUqJyF+2MTExga+vL3x9fb/apmDBgti7d++fPk+dOnVw8eLFP23j6ekJT0/Pv6yJiIiIiIiIiIhSS1dzShERERERERERUcbAUIqIiIiIiIiIiLSOoRQREREREREREWkdQykiIiIiIiIiItI6hlJERERERERERKR1DKWIiIiIiIiIiEjrGEoREREREREREZHWMZQiIiIiIiIiIiKtYyhFRERERERERERax1CKiIiIiIiIiIi0jqEUERERERERERFpnYGuCyAiIiLdq9l7oq5L+C5O+I3VdQlERERE9BXsKUVERERERERERFrHUIqIiIiIiIiIiLSOoRQREREREREREWkdQykiIiIiIiIiItI6hlJERERERERERKR1DKWIiIiIiIiIiEjrGEoREREREREREZHWMZQiIiIiIiIiIiKtYyhFRERERERERERax1CKiIiIiIiIiIi0jqEUERERERERERFpHUMpIiIiIiIiIiLSOoZSRERERERERESkdQyliIiIiIiIiIhI6xhKERERERERERGR1jGUIiIiIiIiIiIirWMoRUREREREREREWsdQioiIiIiIiIiItI6hFBERERERERERaR1DKSIiIiIiIiIi0joDXRdARPR3OG8aqesSvouDrj66LoGIiIiIiEgn2FOKiIiIiIiIiIi0jqEUERERERERERFpHUMpIiIiIiIiIiLSOoZSRERERERERESkdQyliIiIiIiIiIhI6xhKERERERERERGR1jGUIiIiIiIiIiIirWMoRUREREREREREWsdQioiIiIiIiIiItI6hFBERERERERERaR1DKSIiIiIiIiIi0jqGUkREREREREREpHUMpYiIiIiIiIiISOsYShERERERERERkdYxlCIiIiIiIiIiIq1jKEVERERERERERFrHUIqIiIiIiIiIiLSOoRQREREREREREWkdQykiIiIiIiIiItI6hlJERERERERERKR1DKWIiIiIiIiIiEjrGEoREREREREREZHWMZQiIiIiIiIiIiKtYyhFRERERERERERax1CKiIiIiIiIiIi0jqEUERERERERERFpHUMpIiIiIiIiIiLSOoZSRERERERERESkdQyliIiIiIiIiIhI6xhKERERERERERGR1jGUIiIiIiIiIiIirWMoRUREREREREREWsdQioiIiIiIiIiItI6hFBERERERERERaR1DKSIiIiIiIiIi0jqGUkREREREREREpHUMpYiIiIiIiIiISOsYShERERERERERkdYZ6LoAIiKi/8p500hdl/BdHHT10XUJRERERETfDXtKERERERERERGR1jGUIiIiIiIiIiIirWMoRUREREREREREWsdQioiIiIiIiIiItI6hFBERERERERERaR1DKSIiIiIiIiIi0jqGUkREREREREREpHUMpYiIiIiIiIiISOsMdF0A0aecN43UdQnfxUFXH12XQERERERERJSmsKcUERERERERERFpHUMpIiIiIiIiIiLSOoZSRERERERERESkdQyliIiIiIiIiIhI6xhKERERERERERGR1jGUIiIiIiIiIiIirTPQdQHpna+vL2bMmIGIiAiUK1cOCxYsgIODg67LIiIiIgDOm0bquoTv4qCrj65LICIiIvrP2FPqP9i8eTMGDRqEcePG4cKFCyhXrhxcXFzw4sULXZdGRERERERERJSmMZT6D2bPno2ePXvC3d0dJUuWxJIlS5A5c2asXLlS16UREREREREREaVpDKX+pcTERJw/fx5OTk7KNj09PTg5OSEkJESHlRERERERERERpX2cU+pfevXqFVJSUmBtbZ1qu7W1NW7duvXFxyQkJCAhIUH5OjY2FgAQFxf3j753cuKHf1ht+pH8LuGvG6VD//Q1/i8y6vHBY+O/y6jHBsDj41vIqMcHj41vw2XANK1+P205MG+4rktI93hsEBHRl2iuVUTkT9up5K9a0Bc9e/YMefPmRXBwMBwdHZXtw4YNw7Fjx3DmzJnPHvPrr79i/Pjx2iyTiIiIiIiIiEgnHj9+jHz58n11P3tK/UuWlpbQ19dHZGRkqu2RkZHIlSvXFx8zcuRIDBo0SPlarVYjKioKFhYWUKlU37Xe9CAuLg758+fH48ePYWpqqutyKA3hsUF/hscHfQ2PDfozPD7oa3hs0J/h8UFfw2MjNRHBmzdvkCdPnj9tx1DqXzIyMoK9vT2CgoLQokULAB9DpqCgIHh6en7xMcbGxjA2Nk61LXv27N+50vTH1NSUf8T0RTw26M/w+KCv4bFBf4bHB30Njw36Mzw+6Gt4bPyPmZnZX7ZhKPUfDBo0CF27dkWlSpXg4OCAuXPnIj4+Hu7u7roujYiIiIiIiIgoTWMo9R+0b98eL1++hLe3NyIiIlC+fHns37//s8nPiYiIiIiIiIgoNYZS/5Gnp+dXh+vRP2NsbIxx48Z9NsSRiMcG/RkeH/Q1PDboz/D4oK/hsUF/hscHfQ2PjX+Hq+8REREREREREZHW6em6ACIiIiIiIiIi+vEwlCIiIiIiIiIiIq1jKEVERERERERERFrHUIqIiIjoGxARcKpO+hIeF0RERF/GUIqIMix+CCAibXn//j1UKhVUKhVu3ryJZ8+e6bokSgPu3LkDAFCpVHxPIiIi+gKGUpQh8cKPRAQqlQoA8Pr1ax1XQ/RlmnOVWq2GWq3WcTX0bz19+hSNGzdGeHg4AgIC4OjoiFevXum6LNKxfv36oUePHjh9+jQABlMZ2ZfO3+/evdNBJZTR8VqBMiKGUpQhqVQq7NmzB3PnztV1KaQDarVaCaTWr18PLy8vhIWF6bgqotQ0wenBgwfRtWtXODk5YeDAgbhx4wY/uKYz4eHhyJo1Kxo2bIhWrVph2bJlKFu2LF/HH1znzp3x8uVLTJ8+HcHBwQAYTGVUenp6ePToEVavXg0A2LJlC/r164f4+HjdFkYZilqthp7ex4/vBw8exLJly7Bt2zbcvHlTx5WRrqX39xWGUpQhnTt3Dl27doWlpSWSk5N1XQ5p0adv2OfPn8f27dsRGBiIuXPnIjw8XMfVEf2PSqXCrl270Lp1a5ibm6Nbt27YvHkzevXqxRA1nalZsyacnJwQFhaGPHnyoFSpUgDS/0Ui/XuJiYlwcHDA1q1bcfPmTcybNw+nTp0CwGAqI0pMTMSMGTMwb948eHh4wNXVFTVq1ECWLFl0XRplIJrr22HDhqFPnz5YtWoVVqxYgfr16+P48eM6ro60SfMeEh0djQ8fPig349MrhlKU4dy9exeHDx9Gz5490alTJ+UETj8Gzevt5eUFd3d3mJubo0yZMlizZg1mzJjBD/uUZrx8+RKTJ0/G+PHjMW/ePLRr1w4qlQqVKlVC0aJFdV0e/U2aGx82Njbw8fGBg4MDOnXqhNDQUOjp6SElJUXHFZK2qdVqGBkZAfh4fDRr1gx79uzBtGnTEBoaCoDBVEZjZGSEMWPGwMLCAkuWLIG7uzvc3d0BcLgVfVu//fYb1q5diw0bNiA4OBgNGzZEREQEnj9/ruvSSIs0NzabN2+OihUrYvLkybh69aquy/rX+GmdMgwRwevXr1G3bl2MGzdOmc9DT0+PF34/mIMHD2Lt2rVYuXIlli9fjoMHD2LixIk4fvw4Zs+ezR5TpBN/XJlNE1i4ubnh0aNHKFSoEJo0aaIMOz569CgSExN1VC39Fc1rmZSUBABo1qwZhg8fjp49e6JAgQLo06cPzp07B319fQDAyZMnOfn5D0Jzc2To0KFo0qQJDA0N8fPPP+Pw4cP49ddfcebMGQAMpjIStVqNrFmzwszMDNWrV0dYWBj8/PwAgOE0fROac8W1a9fg6uqKqlWrYufOnRg9ejT8/PzQvn17vH37Fk+ePNFxpaQN58+fR5cuXeDk5IQ6depg+/btmDhxojKHYXrDUIoyBM3cLBYWFli5ciVy586NCxcu8MLvB5WSkgITExNkz55d2ebl5YUuXbpg+fLlmDlzJntMkVZo7pB/ujJbWFgY3rx5A319fcTGxmLDhg2oX78+mjRpgkWLFgEA7t+/j2nTpuHkyZO6LJ++QvOes2fPHjRq1AjOzs4YNWoUAMDJyQkDBgxAwYIF0bNnT+zduxfjx49Hy5Yt2XP3B3LhwgWlR8OkSZOwdOlSHDt2DFeuXIG3t3eqHlOUfmmuLfX09JAlSxZs2bIFv/32G+zs7LBmzRosWbIEAJRwOjY2Vme1Uvrz6WcXzfWEWq2Gubk5du/ejc6dO2PGjBno2bMn1Go1du7cic2bN+PDhw+6Kpm0IDw8HHv37sXw4cPh7e2NRYsWwdvbGy9fvsTMmTPTZTDFqyNK1zQn6/fv30NEkJCQgJ9++glLly7F69ev4evriytXrgBgMJVRffqaav6tUqmQlJSEmJgYAFB6m/Tr1w958uTBqVOnsGLFCkRHR2u9Xvqx6Onp4cmTJ+jatStu376N33//HWXKlMGDBw+QPXt2dOjQASNHjkShQoXg5+cHAwMDAMDy5csRERHBYXxplEqlwokTJ9CuXTuULl0atra2WLBgAdq0aQMRQd26dTFo0CAUK1YMbm5u2LhxI/bu3YtcuXLpunTSEiMjIxgZGSlzCiUnJ8Pe3h7bt2/HkSNHMGfOHBw5ckTHVdJ/oQmnT506hfnz52PVqlWIjo5GoUKFMGTIEBQrVgzr1q3D4sWLAQDe3t4YNmyY0ruS6K9oQutVq1Zh69atAIDcuXNjwYIF6NixI2bMmIE+ffoAAOLi4rB27VrExsbCxMREZzXT9/X48WO0b98evr6+qcLHFi1aYMCAAXj16hXmzJmT/m5qClE6pVarRURk//790qpVK3FycpKGDRvKnTt3REQkMDBQChYsKJ07d5bLly/rslT6TlJSUpR/f/jwIdW+evXqSbFixeT58+fKtocPH0qXLl1kxIgRYmlpKWfPntVarfTj2r9/v9SrV0/s7e3F2NhYNm7cqOy7ePGitGrVSkqVKiVz586VNWvWiIeHh5iamsqlS5d0WDX9mbCwMNm3b5/MmDFDRESSk5PlxIkTkjNnTmnVqpXSLjY2Vm7evJnqPEQZj+Z6RPN/EZE7d+5I9uzZZdmyZSIikpSUJCkpKRIfHy8lSpQQlUolo0eP1km99O1s375dsmXLJqVLlxZbW1spWbKkPHnyRERErl+/Lr169ZJChQqJvb29ZMuWTc6cOaPjiim9SUlJEQcHB2natKmyrW3btpI5c2Y5cuSIhIeHS1hYmLi4uEilSpUkKSlJh9WSNixZskTs7OykVq1acvPmzVT7du3aJeXKlZMuXbrI+/fvdVThP8dQitK1Xbt2SaZMmWTcuHGyYcMGqVWrlpiZmcndu3dF5GMwVbhwYWnRooVcvXpVx9XS9zJ9+nRxcnKSzp07y4oVK0RE5MWLF1KpUiUpUKCALF26VDZu3CjOzs7SrFkzERHJly+fjBkzRpdl0w9k2rRpolKppEyZMp+F5KdPn5bhw4dLrly5xN7eXpo2bSpXrlzRUaX0V54/fy7GxsZibGwsU6ZMSbXvxIkTYmlpKW3btuUHgx/EpzdHIiMjJTo6Wt68eSMiIuPHjxdDQ0MJCAhQ2rx9+1Z69eol+/fvl+TkZK3XS/+dJnyMj4+Xfv36yZo1a+T9+/cSHBwsdevWFWtra3n8+LGIiNy7d0+2b98uEydOlNu3b+uybEqHNOeX0NBQyZs3r2zevFlERN6/fy/Ozs6SP39+MTU1lSpVqkj16tUlMTFRRITnlh/AsmXLpFy5ctK3b1+5detWqn179uyRBw8e6Kiyf0clwvFMlD69efMGzZs3R4MGDTBs2DA8efIEtWrVwk8//QQ/Pz+lW/Xu3bsxZswY7Nu3D3ny5NF12fQNqNVqZW6WGTNmYOrUqXB3d8f169cRHh6Ojh07Yty4cUhISIC7uzuuXr2KDx8+wMbGBrt374aJiQns7e0xYMAAdOnSRcc/DWVkSUlJMDQ0xOrVq/Ho0SOcPXsWycnJGDt2LKpVq5aq7du3b5EpUyYkJiYiU6ZMOqqY/kpSUhK2bduGoUOHokaNGti0aVOq/cHBwahRowa6dOmC1atX66ZI0grNdQYA+Pj4ICAgAPHx8TAwMMDSpUuRP39+/Prrr1i0aBG8vLxgbm6Ow4cPIyYmBufOnYNKpUJKSooy3xClH6dPn4a7uzsKFCiAWbNmoXTp0gCAmzdvwsPDAzdv3sT58+eRN29eHVdK6cmn55RPt7169Qq9e/dG/vz5MW/ePGXfyZMnERMTAysrK1SqVAl6enpITk5WpgKg9E1zPFy4cAE3btyASqWCvb09ihcvDgBYtGgRli9fjipVqsDLyyt9T/mgw0CM6D95+fKlFCpUSO7duycvXryQvHnzSq9evZT9a9askdjYWBH5eGeSMoZP7/6EhITIpEmTJDAwUEREnj17JlOmTJF8+fLJ2LFjlXZPnjyRV69eKV+PHTtW8ufPL/fu3dNe4fRD+XQYz6f8/f3FxcVFXFxcJDg4WNkeHBwsMTExf/pYSjvi4+Nl06ZNYmJiIv379/9sf0hICHtF/EDGjBkjlpaWsnXrVjl//ryULVtWChYsKC9evJC4uDhZtmyZVKlSRWrWrCktW7ZUejPwbz39CgoKkipVqkjmzJnl/v37IvK/1/PGjRvi5OQkhoaGHLpL/8qqVatkwYIFIvK/42rdunViaGgo58+f/+rjPu25Semb5nXfvn27WFhYSK1atSRfvnzSqFEjWbVqldLO19dXHBwc5Oeff5awsDAdVfvfMZSidK1JkyYyYcIEKVCggPTp00e50IuMjJSWLVvKpk2bRIQXfhmBh4dHqtcxMDBQcuXKJXnz5k01905ERIT4+PhIgQIFUgVTIh8vFN3c3CRnzpxy4cIFrdVOPxbNcRoSEiIzZsyQadOmyYEDB5T9/v7+0qBBA3F2dpZdu3bJ+PHjJVu2bPLixQtdlUxfoXktL168KDt37pS1a9cqF/1JSUmycePGrwZT9GOIiIiQatWqKUP0du3aJdmzZxdfX18R+d8xFBcXJykpKcrXHN6ZviUlJcnx48elVKlSUqZMGWXIpsbVq1eladOmDKfpH3v69Kn06NFDjI2NpXHjxjJz5kxJSEgQEZGff/5Z3NzcPjveKGM6evSoWFlZiZ+fn4iIHDlyRLJkySIVKlSQRYsWKe1mzpwptWvXTtchOEMpShc+vYjTBE9JSUni5eUl2bJlkwYNGqRqP2LECClVqpQ8evRI67XSt3f69Glp1aqV8tqLiFy6dEn69+8vWbJkkZkzZ6ZqHxERIdOmTRNDQ0NZvnx5qu1btmxRJsMn+tY+vbOVPXt2adKkiTg4OIijo6NMnjxZabd7925p0aKF5M+fXwoXLiyhoaG6Kpm+QvNa7tixQ/Lnzy+lS5eWYsWKSfHixZUPmikpKbJx40bJli2bdOvWTZflkpb8sSfCtWvXJEeOHBIXFyf79++XrFmzyuLFi0XkYy/tadOmKb0gNXijLH3RvF5Xr16VwMBA8ff3l5cvX4rIx5sPFStWlIoVK34WFGiCBKI/86XeTWq1WsLDw6Vbt25SqVIlKViwoKxfv1769u0rTk5OymT6lHElJSXJmDFjxNPTU0RE7t+/L7a2ttKmTRtp3ry5FC1aVFauXKm0j4qK0lWp3wRDKUrzNBcDAQEB0q5dO2nQoIFs2LBBRD6ubNSgQQOpWLGieHl5yaJFi8Td3V3MzMzk4sWLOqyavqXk5GTlOFi9erUyhO/27dvSr18/sbOzUz4EaDx79kzWrl3LyR5J606ePCl58+ZV7mydPXtWzMzMJE+ePDJixAil3aNHj+TGjRvy7NkzXZVKf+Hw4cOSI0cOJdy+dOmSqFQqKVWqlPIek5KSIqtXr5ZcuXJJRESEDqslbQoKClL+3axZM+nbt69kzZpVWW1P5ON7lLOzc6qekpQ+bd++XaytraV27dqSJ08eqV+/vqxevVpEPvZeqFy5slSpUkXi4uJ0XCmlJ58GUpcvX5bDhw/LixcvJD4+XkQ+TmgeGRkpffv2lXr16kmpUqVEpVLJ9OnTdVUyadH9+/fl4sWL8ubNG3FwcFBufp09e1ZMTU3F1tZWlixZIiLp/2YHQylKsz794zp06JBkzZpVOnfuLK1atRI9PT3lw11UVJQMHTpUqlevLpUqVRJXV1eutJeBfBoq3b9/X6ytrcXR0VF5I79x44YMHDhQihUrppyY/+w5iL6lESNGyJEjR1JtmzFjhnLh8ODBA7G1tZWff/5ZBg8eLDlz5kzVY4rSrvj4eBk+fLhMmDBBRD6GiAULFpTu3btLrVq1xM7OThk6nJKSosxhSBlfcHCw2NraypkzZyQpKUk8PDwkc+bM0rNnT6VNfHy8NGzYUFxcXDjPSzr06WsWGhoqlpaWyo2Gw4cPi0qlkhkzZihtT5w4IXZ2dlKnTp10/+GQtOPT42TUqFFia2sr1tbWUrRoUfHx8VFWcNQ4e/asrFy5UlxcXFKNHKCM4UvnDc3rHBQUJGXLllVWlz979qzUrVtXBgwYIA8fPtRqnd8LQylK8yIiImTRokUyf/58Zdv69etFT09Phg4dmqrt+/fveaLOIP54ctYsd7p3714pV66c1KhRQ7lovH79unh5eUnJkiU/G8pH9D317NlTLl++nGpbQkKCnDlzRj58+CA1a9YUd3d3ERG5e/euWFlZibGx8WfznVHa8OlS7yIi+/btk0uXLklMTIxUrlxZWUzjyJEjolKpJHfu3HLlyhWd1Uu6ER4eLvnz51feb+Li4qRhw4ZSvnx5adOmjQwdOlRq1KghZcqUUa5JGEylD6GhofLhwwcR+d8NrSVLloiLi4uIfDyP29raplpYRzOPy8mTJyU8PFzLFVN6N2nSJMmdO7ccPHhQRERcXV0ld+7cMnjw4M+CqU/x807Gobn2CAwMlNGjR8vw4cNT9bwODAyUfPnyib+/v4h8XFyjW7duEh0drYNqvw89Xa/+R/RnwsPDkTt3bkycOBGGhobK9o4dO2Lt2rWYNWsWRo8ejbi4OACAiYlJqnaUfqlUKqjVagDA7NmzMXjwYABA/fr1MW3aNMTExKB27dpQq9UoWbIkevbsiSpVquDcuXMQEV2WTj+QpUuXomzZsggMDERgYCAAwMjICA4ODrh58yaioqIwYMAAAB+PaUdHR0ycOBHdunXTZdn0FSqVCseOHUPLli0BAA0aNEC5cuVw/vx5iAi8vLwAAIaGhmjVqhWqVKkCY2NjXZZM35nmfUjzviIiKFSoEIYNG4YFCxbg2rVryJYtGzZv3oyff/4ZycnJePToEWrWrIkLFy7A0NAQycnJ0NPjJXdaFxAQgE6dOmHRokVITEyEvr4+AODdu3ewtbXF+/fvUbt2bTg5OWHx4sUAgL1792LTpk1ITExE9erVUahQIV3+CJTOhIWFISgoCL6+vvjpp5+wf/9+7N27F/b29ti8eTPmzp2Lp0+fAsBn17b8vJNxqFQqHDhwAM2bN8fp06exfft2lCtXDqdOnQIAFCpUCGXKlMHQoUNRrlw5LFiwAP369UP27Nl1W/g3xHdIStNsbW0xY8YMREZGIjw8XLk4BD4GU+vXr4ePjw/mzZvHICKD6NevH3x8fABAuYiPiYlB4cKFAXz8wF+/fn3MnDkTMTExqFu3LtRqNUqUKAFvb2+sX78eKpWKxwNp1apVq+Di4oLDhw8r2/T19fHq1SscP34cIoKVK1ciOTkZ3bt3h42Nje6KpT9lZWWFEydOYNOmTcq2Bw8e4ObNm7CwsAAA7N+/H1myZMHWrVtRtGhRXZVKWqB5H7p37x6Ajx8eAKB69erIlSsXrl+/DgDIli0bhgwZAn9/f2zatAlTpkyBgYEBUlJSYGBgoJvi6R+pXbs2qlSpgq1bt2LRokVISEgAABQuXBhLliyBtbU1OnTogMWLFyvHxa5du3D27FkkJSXpsnRKp6ytrdG/f384OTkhODgY7u7umDZtGnbv3o2qVati48aNGDduHCIjI5VzD2VM58+fx/Tp03Ho0CGEhoaiTp06aNq0KY4ePQo7OztMmzYNI0aMgKurK0JDQ1G+fHldl/xt6a6TFtHnvjYOf+rUqaKnp5dq+UuNrVu3yo0bN753aaQFERER0qNHDylevLgsWLBA2d65c2fx8vISEUm1HPv+/fulXLlyUrx48VTHDodJ0PemOd5ev36tbHNzcxMzMzMJDAwUEZFXr16Jh4eH5M6dW4oUKSLm5uZy4cIFndRLf09ycrK8fftWunTpIr169VKG78THx0vZsmXF3NxcqlWrJtmyZVPmk6KMb//+/aJSqaR79+6pVnTt37+/FClSRPmacwmlX5qhUGq1Wtzd3aVOnToyd+5cZSjfiBEjxMjISAICAiQpKUkiIyNlxIgRkjNnTl6D0t/ytWvTd+/eiYiIh4eHdOvWTZKSkkTk4/mlbNmy0rdvX55bMiDNa3r37l25evWqeHh4yO7du5X9SUlJ4urqKtmzZ5ejR4/qqkyt4a0bSjNEBCqVCmfOnMG1a9cQHR2N+vXro1SpUhg+fDiSk5Ph6ekJAOjbt6/yuDZt2uiqZPrGrK2tMXLkSCxevBi+vr5ISUnBgAEDkJSUpNxplv/vAWVgYIC6deti0qRJ2LhxI9RqtdLVnsMk6HvSnKv27t2LtWvXon379mjRogVWrlwJtVqN1q1bY9u2bfjpp58wcuRING/eHA8fPkT9+vVha2ur6/LpE5rXMj4+HlmyZIG+vj6yZMmCZs2aoWPHjnB3d0fVqlWROXNmBAUFYcGCBTAxMcGKFStQvHhxXZdP34nmuND8v06dOvD394e/vz8mTJiAFStWoE+fPnB1dcXNmzexbt06dOrUSddl03+guca4ceMGSpYsiYMHD2Lu3LkwNDREz5490a9fP7x48QJNmjRB8eLFkSVLFrx+/RoHDhxAiRIldFw9pXVqtVq5Nt2xYwdevnyJuLg4tGvXDvny5QMAREVFQa1W4/3798iWLRueP3+OyZMno3HjxsqUFry+zThUKhW2b9+OHj16IG/evLhx4wZy584NJycnmJiYwMDAAOvWrYObmxvq1q2LEydOoHr16rou+7tRiXCMC6Ud27dvh5ubGxwcHHDp0iXky5cPjo6OmDNnDjJlyoQpU6ZgwoQJmDJlCgYNGqTrcukbSk5OVi4KL1++jHXr1mH37t0YNmwYHj16BAMDA7Ro0QIqlQrZs2dHcnIynjx5kuoEnZKSogRTRN/Tzp074erqikmTJuGnn35CuXLlAHz8MOvm5gZ/f3/s2LEDTk5OOq6U/kpwcDBWrFiB+vXro2PHjsp2V1dXJCYmYtWqVTAzM9NhhaRNn37we/HiBTJlygRDQ0OYmJggPj4eb968wahRo/DkyROcPn0aycnJaN++PVatWqXjyum/+v3339G6dWuMGjUKIoKAgAC8f/8eHh4e6NOnDwwMDBAYGIiHDx/C2toaFSpUUAIFor9j2LBhWL9+PRwdHXHjxg0YGxujf//+cHd3x4QJE7Bx40YUKlQIL1++xNu3b3Ht2jXo6+szkMpANDc77t27h44dO6Jjx46wt7fHsmXLsH37dqxZswZNmjRR5qtMTk5Gnz59MHToUBQrVkzH1X9HOuqhRSQiqbu63759W/Lnzy9+fn6SnJwsiYmJMmPGDKlevbr07dtX6Vrt7e0tFhYWGWrFAfofLy8vmTdvnly+fFkGDx4sRYsWFZVKJfnz5xc7OzvJmTOn5M6dW6ysrOSnn35il2bSusePH0u5cuVk7ty5qbZruuar1Wpxc3MTlUr1Q3S5To80542jR49K+/btpWPHjmJqaiotW7aUVatWiYjI9u3bpWLFinL79m0REWVIBWVcn76fTJgwQSpVqiQlS5YUBwcHOXXqVKrVrp4/fy5+fn5Ss2ZNyZYtm/z++++6KJm+AbVaLbGxsVKjRg0ZNWqUsv3du3fSoUMHKVq0qPj6+ipD+Yj+jXXr1knevHnl4sWLIiKybds2UalUsmvXLqXN1KlTxcPDQzw8PJT3HM0wcso4goODZeLEidKtW7dUwzq7du0q2bJlk61bt/5w5xuGUqQTM2fO/Gw+jsOHD0uBAgVSLaf75s0b8fHxkXLlysmdO3eU7a9evdJarfR9ffoh4OzZs2JtbS2nTp0SEZF79+7J0KFDpUyZMuLh4SHJyckSFRUld+7ckfv37ytv1AymSJuuX78u+fLlk5MnTyrbvnQM9urVS27duqXN0ugfOHHihJiZmUlAQIB8+PBBrl69Kq1atZIKFSpI5cqVJSAgQMzNzcXd3V3XpZKW/frrr2JhYSGrV68WPz8/adOmjWTOnFk2btz4Wdu7d+9KmzZtZMyYMSLC96P0Sq1WpwqlNIHAhw8fpGzZslKsWDGZMmWKJCQk6LJMSicOHDig3DzXnBMmT54sXbp0ERGRDRs2iKmpqTJXbmxs7Bc/2/BmSMaiORZ69OghKpVKihcvLhEREanadO3aVczNzWXdunU/VDDFfoCkdWFhYQgNDUWmTJlSbc+cOTP09fWVpU/VajWyZs0KT09P3LlzB8eOHVPaalZAovRPs5rI7NmzsW/fPvTo0QPVqlUD8HH1xV69esHFxQWBgYFYunQpcuTIgSJFisDGxgb6+vpISUnhiiSkFfL/o93fvn2baiXQT4/B4OBg+Pv7AwD8/PwydlfrdOzJkycICgqCl5cXGjVqBH19fZQuXRpr167Fhg0bUKRIEUyaNAnR0dE4cuQIYmNjdV0yfSefvrYigqioKOzZswfTpk1D165d0atXL2zduhW9evVCt27dEBYWBuDj3z0A2NnZoVKlSvD398eHDx/4fpTOvH37FgCQkJCA7Nmz48qVKwCgrJxobGyMWrVqISoqCqdPn1baE33NkiVL0Lp1a2zevBlxcXHKOeHx48ewsLDAxYsX0atXL0ydOhV9+/aFiGDdunVYs2YNEhMTUz0XV+7MGDTXj1FRUQCAZcuWYcSIEXj58iXWr1+P6Ohope3q1atRp04djBw58rPjISNjKEVaV6RIEaxYsQJFixZFcHAwLly4AODjkrv6+vqYM2cOoqKiUo2dLleuHIOoDOzdu3c4duwYxo0bhzt37gCA8qG/cOHC6Nu3L1q0aIFRo0Zh+/btqR7LOaToe5JPpl3UXFhWrlwZOXLkwJgxY5CUlJTqGPT398fevXvx7t07rddKf01EcP/+fVStWhWLFi1SXjvNB9DMmTOjePHiWL9+PWbOnInZs2cjICCAc0plUG3atMEvv/yCyMhIAB//xt+9e4eHDx/CysoKAJCUlAQAmDNnDsqXL4/58+cD+Lighub8EBcXh0yZMiltKX04f/48mjRpgrNnz8LExASTJ09GUFAQBgwYAACpzg8TJ07EkiVLYG5ursuSKR3o06cPOnbsiNmzZ2Pjxo1K8N2mTRssXboU9vb28PPzUxZtev/+PXbv3o0nT57AyMhIl6XTdyD/P4fUvn370LNnT+zfvx8AMGXKFHTs2BG+vr5Yv349YmJilMds374dZ86cQbZs2XRUtfYxfiWt0kzUlzVrVrx+/RqTJ09GeHg41q1bB3t7e2zZsgW1a9dG9+7d0bt3b+TPnx/r16/H3bt3UaFCBV2XT9+I5gStkTlzZvj6+iJXrlxYu3Ytjh07htq1aysTl9va2qJnz54oWLAgWrRoobvC6YeiOU5DQ0MRHBwMIyMj2NraokGDBli7di2aN2+OunXrYvTo0QCAwMBALF++HMHBwcicObOOq6c/0ryehQoVwsCBA/Hrr7/izJkzePDggdLzEvjf+1S1atWUXpuUMXXo0AHt27dXQmZra2vky5cPpUqVgp+fH1xcXGBkZITk5GTo6enByspK6SGleQ+LjIzE6dOn4efn90N9gMgInj59ChHB6NGj4ePjA3t7e6xduxadO3fGjRs3UKRIEbx79w5btmxRVsYi+jOa61Y/Pz/06tULM2fOhIigQ4cOqFWrFvr164c1a9bg3bt3iImJwcOHDzFixAhERERg9+7dui6fvgPNKnudO3fGr7/+Cmtra2Xf/PnzkZycjNmzZ0NfXx/t27dXgu8f7nyjk0GD9MP641wLBw4ckJYtW0qlSpUkNDRUREQuXbokpUqVEhsbG7GxsZFixYrJhQsXdFEufQefTugXFxeXaix1TEyMtG3bVrJly6YcD1+a4JGTPpK2bNu2TUxNTaV69epSunRpMTAwkJEjR4rIx7lkKleuLIULF5ZChQpJlSpVlAlMKe3QvO/88bwxe/Zssba2lrFjx8rjx491URrpkOa9KCAgQPT09OSXX36Rp0+fiojI+vXrxcHBQfr375+qfc2aNZW//0+9e/dOO0XTN7d7925p0KCB1K1bV5nr9Pr16+Lq6iqNGjWSJk2ayOXLl3VcJaUnn77X9OzZU+zs7GTJkiXy4cMHuX//vgwdOlQyZcokuXLlkrJly0q9evWURRR4fZvx3Lp1S2xsbGTp0qWptn/62bZfv36SPXt2WbZsWarPST8SlcgnYxOIviP5/7vUQUFBuHjxInr37o1s2bIhKCgI8+bNw/Pnz7Fo0SJUrlwZMTExePbsGd69e4cCBQoo3egpfZNPekhNnDgRgYGBuHXrFurWrYvWrVujXbt2ePPmDbp164bAwEAcOnQIlSpV4lK4pBNhYWGoXbs2xo4di759+yIqKkqZ98zLywtTpkwBANy7dw8GBgYwNTVFjhw5dFw1fUpzzjl8+DA2bdqE+Ph4WFhYKEOwZs2ahTlz5qB79+7o1asX8ubNq+OKSZs07y0BAQFo1qwZevfujalTp8LY2Bjz58/HunXrkJycjKpVq+L69et48+YNLl++/Nk8L/KH3r+Udl25cgXZsmVDoUKFlG27d+/G4sWL8eHDB8yePRvly5dHYmIijIyMkJCQoCzNTvR3aXpMAUCvXr0QFBSEYcOGwc3NDcbGxrh37x7u3bsHKysrlC1bFnp6ekhOTuYcUhnQsWPH0L17d1y5cgUGBgZYvnw5tmzZgvPnz6N69erKcL6hQ4eid+/eKFy4sI4r1hFdJmL049Dcqd62bZvkyJFDBg4cmGo1vcDAQGncuLFUqlRJzp07p6sy6Tt6/fq18u9x48aJhYWF+Pr6yqpVq6R27dpSvXp1mTt3rtK2Q4cOolKp5ObNm7oqmX5wwcHBUrRoUXny5Emq7WvWrJFMmTLJkSNHdFMY/SM7duyQrFmziqenp0ybNk1y5collStXlpiYGBH5uBqsjY2NDB48WOkpQxnX1+5C79q1S/T09KRPnz7y9u1bSUxMlFOnTkmfPn3Ezc1Nhg0bxiXa0ynNax4ZGSkODg7SrFkzuX//fqo227ZtkwIFCoizs3Oq61Cupkh/5dNj5NN//7HHlK2trSxZskSioqI+e44ftXdMRqQ5BjSv8/3796VUqVJSr149KVWqlDRv3lyGDh0qp0+fFpVKJX5+frosN81gKEVaExwcLGZmZrJ69epU2zV/vCEhIdKsWTOxs7NjV+kM5tixY2JhYSEvXryQN2/eSJkyZWTLli3K/ufPn0vfvn2latWqcubMGRERefLkiXh7e3M5XNKZCxcuiL6+vhI+ac5VT548EVtbW9mwYYMOq6O/IyIiQsqXLy+zZ88WEZGnT59K3rx5pU+fPqk+PIwbN05KliwpL1++1FWppAWffvA7c+aMHDx4UO7duydv3rwRERF/f38lmPr0Rsqn+J6U9mle5/j4eOX1OnXqlKSkpMiyZcukXr164urqKuHh4ake5+TkJBYWFtKsWbMfail2+jY0x92n55lPg6levXpJsWLFZNasWfL27Vut10ffn+a6Yt++feLm5iZHjx4VtVotO3fulN69e4u3t7fcvXtXaVe/fn3x9/fXYcVpB8fDkNZcv34dNWvWRNeuXfHmzRvs3LkTrVq1QoMGDbBo0SJUrVoVv/zyCxwcHDhZaAaTK1cumJubY8KECXj79i2SkpIQHx8P4GMX51y5cmHy5Ml49uyZ0o01b968GD9+PAwMDJCcnKzL8ukHIP8/kv3ixYs4ceIE3r17h2LFiqFRo0ZYuHAhLl26pAzPsbS0RI4cOX6opXrTq/j4eLx//x4eHh549uwZHBwc0KRJEyxevBgqlUqZWPbXX3/FiRMnYGlpqeOK6XvSDAMfPHgwWrRogdatW6NZs2bo2LEjIiIi0KJFC+zYsQPLli3DuHHj8OTJk8+eg8Nr0j49PT08evQINWvWxN27d7F582bUqFEDISEh6NGjBzp06ICnT59i9OjRePToEYCPqywWLlwYo0ePhp+fH4fs0T+yfPlyNGrUCCKSaroJfX19ZXEEPz8/lC1bFmfOnOFiKBmUSqXCjh070KpVKxQvXhw5cuSASqVC8+bNsWTJEowfPx52dnZQq9UYN24cbt26hfLly+u67DSBoRRpzdu3bxEQEIANGzagRYsWWLZsGUxMTGBhYYEFCxbg4cOHcHZ2xrJly1KN9af0z9bWFh06dMCJEycQHBwMAwMDnDlzBsDHE7harUaOHDlQtWpVPH369LPH80MAfU/y//PB7NixAy4uLjh9+jRevXqFzJkz4+eff0ZkZCTGjRuHffv24caNG/D29sbjx49Ru3ZtXZdOf8HS0hKmpqZYv349qlWrhiZNmmDBggUAgPv372PZsmUICgoCAM4HloGp1Wrl33v27MHevXuxYcMGXLp0CYMGDUJsbCyaNm2KyMhING/eHDt37oSvry+2bNmiw6rpn/r0dS5QoAAA4KeffkLHjh2xYsUKVK9eHQDQo0cPdOnSBc+ePUPXrl2xYsUKDBs2DIcPH0aHDh2QK1cundRP6ZNarUZCQgKio6Px8uVLAP+70QWkDqa2bNmCjRs3QqVSpWpDGcP169fh5eWFhQsXYvjw4ShbtiwA4ObNm0qbPXv2oHv37vDz88Pu3bthY2Ojo2rTGJ3206IMS9Mt8Y/dnzt27CglS5aU7t27y8mTJ0Xk41CYEiVKcNWqDOaPc0FFRUWJnZ2d/PLLL3Ly5EkxNDSUqVOnKvsTEhKkUqVK8uuvv2q7VCI5cOCAZM2aVZYsWaIM5dHYt2+ftGjRQlQqlZQoUUIKFy7MFUHToE+HggcGBkp0dLS8f/9eXF1dJWvWrNKiRYtU7YcPHy6VK1eWZ8+e6aJc0oFt27bJgAEDZPDgwco2tVothw4dEkdHR/Hy8lJWwTp16hSH6qUjmiFT9+/fl4ULF8rz588lICBAVCqVWFtby6VLlz6bC8zf31/atm0r+fLlk8qVK/O8Tn/Ll+YZe/nypVhZWf3pNeynw/o4h1TGdPjwYSlWrJi8efNGkpKSZOnSpVKnTh2xtraWZs2aicjH886QIUM4Z+4fcPU9+ubk/3sd7N27F/Pnz4epqSnKli2LMWPGAACePHmCfPnyKe1HjRqFgIAABAYGcpW9DGL37t1o3rw5GjZsiEWLFiF79uwwMzPDkSNH0KBBA8yePRsWFhbo2LEjGjRoADMzM0RERODFixdfXNmI6HtKSUmBu7s7TExMsHTpUsTHxyM8PBzr16+HmZkZunfvDisrK+VOl6WlJXLmzKnjqulT8klvt549e6J///5wd3dHgQIFcPHiRXTq1An58uVD8+bNUaBAAezbtw/r16/HsWPHUK5cOV2XT1rw4cMHVK5cGdevX0eDBg2wd+/eVPsHDhyI06dP4/jx4zAyMlK2c0WstE+ziuLVq1fRpk0blCpVCn369IG5uTkeP36MmTNnIjIyEqtXr4ajo6OyKprGo0ePYGpqiuzZs+vmB6AMYdGiRVi7di3Wrl37466g9oO7cOECunTpgiJFiiA8PBw2NjYoVKgQGjRogMaNG2Pz5s1o1aoVkpKSOET4Dzh8j745lUqF48ePo2XLlsowvEWLFqFDhw4AgHz58kFEsHPnTvTv3x9LlizB6tWrGUhlIAULFkTevHlx4sQJeHh4wNfXF5cuXULdunXRrVs3bN26FZUqVcKZM2eQL18+GBgYoGLFikogpenmTKQN+vr6UKlUePv2LY4dO4aBAwdi6NCh2L59O/bs2YMuXbrgzZs3KFGiBEqUKMFAKg1SqVQICgpC165dMXPmTAwbNkwZvlOhQgVs2LAB5ubm8PHxwZgxYxAWFobjx48zkMrAPh3KBQAmJiY4ceIEGjRogCtXrmDz5s2p5oVzcHDA+/fvERMTk+pxDKTSPj09Pdy6dQu1a9dGq1atsHDhQjg7O6NSpUpo2bIlTp06BWtra3Tq1AmhoaHKNcamTZvw/v17FChQgIEU/aVPzyk+Pj5o165dqiG+1apVw7Nnz3D16tXP2lPGo+nX8+LFCzx+/BhRUVGoWLEixo4dC1NTUzRp0gTTpk3D3LlzUbduXVSvXh2ZM2eGnp4eA6kvYE8p+ubCwsJw+/Zt3Lt3DwMGDMDbt28RGBgId3d3NGrUCBs2bEBycjKmTp2KY8eOYc6cOShdurSuy6b/SHOnMjk5GSkpKZg3bx7i4uJgZmaGR48eISgoCNOnT4eRkRF69eoFDw8PDBs2DImJibwrTVql6VVz+fJlAEC5cuXw22+/YebMmXjw4AEaN26MNm3aoFWrVpg9ezYOHjyIffv2pZq8lNKewYMH48WLF1i7di3evXuHa9euYdWqVciRIwfatm2LChUqICYmBiqVCoaGhpxoNgPTvB8BwL1792BpaQl9fX1kzZoVUVFRaN68ORITE9GjRw+0bt0a79+/R6dOnZApUyYEBAQoixpQ+vDhwwd06dIFVlZWWLhwobI9OTkZjx8/RpYsWWBlZYVGjRrh1q1bGDt2LG7evIlZs2bhzp07sLOz02H1lB68ffsWWbNmBQCcOnUKADB+/Hi8ePEC+vr6GDlyJJo2bYqZM2diw4YNCA4OhpmZmS5Lpu9Icx25c+dOzJgxA48fP0axYsVQtmxZzJo1K1VbtVqN8ePHY/Xq1Th+/DgKFiyoo6rTOF2NG6SM6dGjR2JpaSmmpqaycOFCZXtCQoL4+/uLmZmZdO7cWdkeHR2tgyrpe3j06FGqrw8cOCC1a9eWI0eOiIiIn5+fWFtby/Tp06VKlSpibm7O8dSkdZq5IHbs2CHW1tYydepUiYiIEBGRW7duyfnz50Xkf/M9eHl5ScOGDbl8cxqXkpIi7u7uUq9ePQkKCpJOnTqJs7OzlC9fXurXry/Ozs4SGRmp6zJJy0aNGiVFixaVggULysiRI+XSpUsiIvLq1SupVauWGBsbS9GiRaVVq1bi7OyszIPJ+V7Sl6SkJKlZs6YsWLBA2bZ//34ZOHCgmJqaSr58+aRNmzYiItK2bVupWLGiFCtWjHNI0d+ydetW6dChgyQmJsrAgQPFwsJCUlJS5O3bt3Lnzh3p2rWrODo6SqFChcTNzU2KFCkigYGBIsJzSUa2f/9+yZQpk8yfP19u3LghkydPFpVKJVu3blXa7Nq1S3r06CE5c+bk+eYvMJSib+r169cyd+5cyZ07t7i5uaXal5CQILt27RKVSiXdu3fXUYX0PYSGhopKpZIhQ4bIrVu3lO1jxoyRXLlyKRMJnz59Wvr37y916tQRlUolAwYM0FHF9CPbt2+fZMmSRfz8/CQqKuqLba5duybDhg0TU1NTuXLlipYrpH/j/PnzUrBgQcmdO7d06NBBdu7cKSIiq1atEgcHB4mPj9dxhaRNu3btEhsbG9m9e7cMGzZMatWqJS1atJCzZ8+KyMfFN5ydncXGxkZWr16tTHCekJCgy7LpX4iNjZXixYtLz5495datWzJlyhQpVqyYtG7dWubNmycrVqyQggULyoQJE0RE5N69e/L69WsdV01pneZccPLkSVGpVFK2bFkxMzP74jXBrVu3ZNGiRVKiRAlRqVTSqlUrbZdLWpSYmCi9e/cWb29vERGJjIyU/PnzS79+/VK1W7t2rXh6evIm/N/AUIr+k09XoND8++3bt7JgwQLJkiWLDBkyJFX7hIQE2bNnT6rggtK/6OhomT9/vlhaWkqtWrVk8uTJyr6uXbuKh4eHxMXFicjH4DI0NFQ8PT25shFpXVJSknTs2FE8PDxEROTdu3dy69Yt8fb2lkWLFsmdO3fkwYMH0rBhQ7G3t1d6VlDapllVKzIyUrn407wnDR8+XOrVqyexsbE6q4++vz/2SNi+fbsSQoiIbNq0SerXry/NmjVTgqnXr1+Lo6OjVKtWTfbt28dAKh0LCgoSAwMDKViwoGTLlk2WLFkiYWFhIvLxA6Szs7N06tRJx1VSetGpUycJCAhQ3ltcXV1FpVJJ06ZNJSYmRmn3x+vYZ8+eybp166Ro0aJy6NAhrdZM2uXs7CyLFi2SZ8+eSd68eaVnz57KdceWLVuU3nLv37/XZZnpBueUon9N/n88bVBQEI4cOYJLly6hc+fOqFSpEuzs7ODr64tx48bB3d0dM2bM0HW5pAV37tyBj48Pjh07hly5cmHBggW4dOkSTpw4gT59+qBq1arKcaPBOaRImxITE9G6dWvkzp0bvXv3xvLly3H37l3cuXMHefLkQbFixbB69WqcOXMG+fPnR548eXRdMv3BH88hX9t+8uRJ7NmzB4sXL+ak5j+QxYsX4969e3j27BnKlCmDkSNHKvu2bNmCZcuWIVu2bBg6dCgcHR0RHR2N1q1bIzIyEnPmzIGzs7MOq6f/4vHjx3jx4gUKFiwIS0tLZbtarYarqyuKFSuGCRMmAADnDaM/NWjQIEybNg2GhoYAgBUrVkBPTw99+vRB+/bt4ePjg7x5837xsREREWjQoAF69uyJX375RZtlkxaICFJSUjBw4EC8e/cOR48eRf369bFs2TIAQFxcHLy8vFCiRAl4eXl9ttonfYUOAzHKAHbs2CFZs2YVT09P6dmzp5QvX16cnJzk1atXEh0dLb6+vmJtbS19+/bVdamkJTExMXL06FGpWrWq2NnZSb9+/aRIkSI8BijNWLZsmVhYWEj27Nmlbdu2snHjRhH5ONzUyclJx9XR13zaM/evtj99+lRatGgh9vb2cvny5e9dGunQpz2kRo0aJdmzZ5fatWuLtbW1WFlZKfPEaWzdulXKlSsnw4cPV3o5vHr1Sho2bCj379/XZumkBQkJCTJmzBjJkyeP3LlzR9flUBr3xx6XixYtkjVr1si7d+9EROTo0aNiZGQknTt3lqdPnyrtNMPFNRo0aKD0yP7aexelD5rXLzIyUt68eaNMBRAUFCSGhoZSsmRJZTiwWq2WUaNGiY2NjdJTk/4e9pSiv+XTlWw0Hj58iEaNGmHAgAHo1asX4uPjYW1tDU9PT0ydOhUA8O7dOyxevBiLFi1CSEgIcubMybtTP5DRo0fj2rVrOH78OGJjY7Fjxw60aNFC12XRD0L+v+fMvXv38OrVKxgZGaFMmTIwMDDApUuXkJiYCAcHB+X85uXlhfv372PDhg3IlCkTz1VpiOa1PHXqFIKCgvD+/XuUKlUKnTp1+upjHj16BCMjI+TKlUuLlZKuPHjwAEuXLkXLli1RuXJlHDp0CHPnzsWLFy/g5+eHChUqKG0PHz6MOnXqQE9PD0lJSTA0NPzidQ6lb+vWrcPZs2exefNm7Nu3L9UxQPR3ODk54cmTJxg7diyaN2+OrFmz4vjx43B2dkbr1q3RqVMnLF68GHfv3sX169ehUqlw8OBBdO/eHfv27ePq4hnErl27MHLkSGTKlAm5c+eGr68vChYsiE2bNqFTp05o1KgR9PT0kClTJhw4cABBQUE83/xDDKXoL2ku1J4+fYqTJ09CrVajbNmyyJs3L2rWrIlTp07hxYsXqFu3Lho2bIilS5cCAIKDg1GhQgUkJycjOTkZOXLk0PFPQtry6cV9aGgo9uzZg8DAQJw4cYJD9UgrNCGGv78/Ro8ejTdv3iBPnjzInz8/Nm7cqHTJB4Dr169j/fr18PX1xcmTJ1GmTBkdVk5fs2PHDvTs2RN169aFpaUlli5div79+2PatGkwNjZO1Va+MsSPMqbt27ejbdu2KF68OHbt2oUiRYoAAA4dOoT58+cjIiICS5cuRfny5VM9LiUlRRlawWMmY7l9+zb69OmDHDlyYPLkyShRooSuS6I07mvBdJs2bXD79m0MHz4cLVq0QNasWXHy5El07twZ2bNnR6ZMmXDs2DHluuL169d4//498uXLp+0fgb4hzXvCzZs34eDgAG9vbyQkJODYsWO4cuUKTp8+jUKFCuHIkSPYvXs3nj59ijJlyqBt27YoVqyYrstPdxhK0Z/SnKCvXLmCli1bwtjYGHfu3EHhwoXRrFkzhIaGYuHChWjWrBnq168PPz8/6Onp4cKFC1i8eDH69+/PD3g/qK9d4HMOKdKWgwcPok2bNpg6dSpcXV2xfft29O7dG3Xr1sX+/fthaGiIixcvYujQoXjx4gXWrl3LeYfSqHv37sHJyQmDBw+Gp6cnnj17hmLFiqF79+6YO3eu0o7Bwo/p3LlzmD17Nnbs2IGjR4+iatWqyr6goCAsXLgQFy9eRGBgoBJYUcb34sULGBsbw8zMTNelUBr3aSB19epVmJqawtjYWOlp27JlS9y9ezdVMPXs2TPExcWhaNGi0NPTQ3JyMvT19fkelIGEhITgxYsXuHLlCsaOHQvgY+Dt6emJS5cu4cyZM7C1tUVCQsJnN8fon2E/ZfqqTwMpR0dHtGnTBocOHcKuXbtQoEABhISE4MmTJyhbtiycnZ2xbNky5YS+ZcsWXLt2DVZWVjr+KUhXvjYRMQMp0obXr19j2bJlGDt2LDw8PJCcnIyJEyeicePGePLkCZydnZGUlIQKFSpgwoQJ2Lt3LwOpNERzv0ytVgMAoqKikCtXLnh6euLBgwdwcHBAp06dlEDq0qVLADh58Y9Ac0x8qlKlSvD29kbdunXRrFkzXLlyRdlXv3599OzZE+3bt4etra02SyUds7KyYiBFf4vm88uIESPQvHlz2NvbY9CgQdi7dy8AwN/fH4ULF8b06dOxa9cuvH37Fnny5EHx4sWhp6cHtVoNAwMDvgelYwMHDsSqVauUr6OjozFkyBC0bNkSz549U7YXK1YMCxcuRIUKFVCjRg2Eh4czkPoGGErRV+np6eHx48eoX78+GjdujGnTpiFPnjxo3LgxWrVqhevXr2P27NmoXbs2QkJCEBISgl27dmHw4MFYtGgR/Pz8YG1tresfg9IQvlmTtlhYWKBZs2aoV68eXr16BScnJzRu3Bg7d+6Em5sbjh07hipVqiAxMRHVqlVjN/s0JDk5WTlXvHnzBsDHc0dcXBwOHTqEunXronHjxliwYAEA4Pz585gwYQLu3Lmjs5pJOz7tzbBhwwZMnToVI0eOxNmzZ1GsWDH4+vqiWrVqaNCgQapgqlGjRpg2bRr09fWRkpKiq/KJKI35dMBQYGAgNm3ahGXLlmHixIn48OEDJk6ciB07dgD4GEwVKVIEgwYNQnBwcKrn4Xx06VtSUhLy5s2baoi3qakpxo8fj/r16yMgIAAxMTHKPs37Tf78+eHi4oLk5GRw8Nl/w78g+lMpKSkoVKgQEhIScPLkSWW7nZ0dDA0NkTdvXkydOhWWlpZo06YNRo4ciYsXL+LEiRMoW7asDisnoozuj71p/ri9c+fOsLe3R0BAAKytrTFu3Djo6+vD1tYWNWrUgKWlJZ4+far1uunrwsPDsWjRIgDA5s2bYWNjg6ioKOTJkwf58uVD69at4ejoCD8/P6XX5ebNmxEbGwtzc3Ndlk5aoPngN2zYMAwaNAj37t3DqVOn0LVrV8yYMQO2traYMGECqlatisaNG+P8+fOfPQeX5yYiDc0NkF27dmHnzp3o168f6tevj759+2Lo0KGwsbHBtGnT4O/vD+Dj/HXdunVD/fr1dVk2fWOGhoYYMmQIKlSogH379mHx4sXQ19dH3bp14e3tDWtra9SqVQvR0dHKY4oUKYL169cjKCiIveS+AYZS9KdsbGywfv16JCYmYuLEibh58ybevn2Ln3/+GV26dIG9vT2qVKmCoKAgBAUF4fjx4/D39+cwGCL67kJCQgBA6Tqv8ccLg3v37uHWrVvK3BAXL15E5cqVsXPnThQqVEh7BdNf2rhxI7y9vdGlSxe4ublh9uzZMDc3R548edCpUydkyZIFpqamOH78OM6fP49BgwZh2bJlmDt3LiwtLXVdPmmBv78/Nm/ejICAACxbtgz9+/dHWFiY8rdctmxZTJkyRQmoiIj+6NNrhtOnT2Pu3LnYsGEDYmNjle2Ojo7o378/7OzsMGPGDGzYsAEA4OPjw16XGYjmRqZKpYKI4OzZs/jll1+wbNky6Ovro3r16pg1axayZMmCOnXqpOoxVbhwYRQoUEBHlWcsnOic/pawsDAMGDAA7969w5UrV9C1a1fMmTMHAJTllImItOX06dOoVq0axo8fr0w++bWVc0JCQtCzZ09kypQJhQoVwt69exEaGoqSJUtqu2z6Gzp06IDNmzejbdu2WLNmDUxMTJR9vr6+2Lp1K86cOYPixYtDX18fK1as4I2QH8iCBQtw8OBB7N69G5s3b0avXr0wdepU9O3bF2/fvsWDBw9QunRphIeHw8bGhsNqiOirRo8ejVy5ciFnzpxYsmQJIiIisGLFClSvXl1pc/r0afz666/Inz8/li1bxgU1MhjN6xkXF4esWbNCrVZjxowZGD16NBYtWoQ+ffogJSUFp06dwujRo/Hw4UNcvXqV89V9Y3ynpr+lSJEimDdvHvT19WFqaoqWLVsq+zhxNRFpm52dHaZMmYJ58+Zh8uTJAD7vMaVRrlw5TJo0CSVKlICJiQlOnz7NQCoNSkxMhIjA0NAQzZs3R2hoKObPn48XL14obX755Rds3boVp0+fxs6dOxEYGMhA6geh6ZXw9u1b5M6dG8HBwejRo4cSSAHAzp07sX37drx79w62trZfPScQ0Y/p074Yhw8fxvLly1GjRg24urpi5MiRKFiwIKZMmaL0xAaAqlWrYtasWfDz8wPA+VEzEk0gFRAQgAEDBuDkyZPQ19fHgAEDMHHiRHh4eGDJkiVKj6lff/0VxYsXx+vXr3VdeobDnlL0j9y9exf9+vWDiGDs2LGp7iQQEWnT69evsWLFCkyZMgVDhw7F6NGjAaTuMfXHO5qJiYkwMjLSSb3096SkpEBfXx8jR47Ehg0b4OHhgW7duiFnzpwAgMjISC6i8QP4Ws/Hc+fOoWrVqlCr1UqPOgB4//49WrVqhUKFCsHX15cfHInoqxYvXozY2Fi8e/cu1TDf3bt3w9fXF3p6evD29kbVqlVTPe5r5yVKv3bs2IEuXbpg2LBh6NixIwoXLgwASEhIwPTp0zFu3DgsXrwYvXv3hlqtRkJCAjJlyqTjqjMednGhf6Rw4cKYP38+Bg0ahCFDhmDOnDmfnbCJiLTBwsIC3bp1AwBMmTIFwMeu+JreEXp6esoHU004xUAqbdG8Ljdu3MCzZ8+gUqlQoUIFmJubw8fHB8DHDw8A0L59e6xevRqLFy/Gw4cPYWxszOAhgxIR5YPfpk2b8ODBAxQvXhwODg6oVKkSZs+ejREjRuDevXu4efMmYmJiMH78eERERGD37t3K3CA8Pojoj5KTk7Fx40acPHkSbdq0SRU0NW3aFCqVCosXL0b//v2xcuVKlC5dWnksA6mM5caNGxg4cCAWLFgAd3d3AB+Dx/DwcOTOnRtjx46FSqVC3759YWhoiG7dujGQ+k4YStE/VqRIEcyYMQNjx45Fnjx5dF0OEf3ALC0t0aVLFwBfD6YAdrdPizShgb+/P/r27Yu8efPi9u3baNWqFX7++We4uLjAx8cHhoaG8PPzw7p16/D69Wv8/vvvqeaZoozl0zBp2LBhWL16NaysrJCUlIRy5cph6tSp8PT0RHJyMiZMmID58+fD2toauXLlwtmzZ2FgYKD0tiMi+mNAbWBggP3796Nbt244cOAATp06hZo1ayr7mzRpgg8fPiA4OJhD/TO4t2/fwsrKCrVr18b79++xatUqbNmyBY8fP4aNjQ02bNiAUaNGIXPmzHB0dNR1uRkah+/Rv8ZhMESkTZoLy5s3byIyMhLJyclwcnICAEREROC3337706F8lPYEBQWhffv2mDx5Mnr37o3ff/8d7dq1Q7169eDh4YEmTZoAAAIDA/Hu3TuULVuWKyZmcJq/86tXr2LChAkYOXIkypcvjw0bNmDVqlUwMjLCwoULYWdnh8ePHyMyMhJmZmaws7ODnp4ekpOTOdclEQFIfQ3w4MEDJCUlIVOmTMiXLx9SUlLQsGFD3LhxA7///jsqVqz4l89B6Zvm/UWzSFdwcDDat28PZ2dnHD9+HKVKlUKJEiVQunRpjB8/Hr/++is6duzInrdawFCKiIjSvE971QwbNgxqtRpZsmRB9uzZcfDgQZiYmCAyMhJr1qzBjBkz0KtXL2UCdEp7RAQfPnzA0KFDkSVLFkybNg3379/HTz/9hBIlSuDRo0cwNTXF6NGj0aBBA12XS1pw9OhR1K5dGyqVCmvXrsWKFSuQLVs2bN26VekZt2XLFvj5+cHY2BizZ89G8eLFUz0HPzwSkcanQcLYsWMRGBiIe/fuoVKlSihfvjx8fHyQkJCAFi1a4Nq1a9i1a9dXgynKOE6dOgVPT08EBgbC0tISq1atwtmzZ2FhYQE3NzfY2dkBABwdHTFo0CBl3kL6vvjOTUREaZ5KpcKhQ4fg5uaGoUOH4tq1a5gyZQpOnjyJWrVqISYmBtbW1nBzc4Onp6cy1Iv3XdIOzeppwMfJyjNlyoROnTrB3d0dsbGxaNOmDWrXro3du3fDx8cHFy9exJQpU7Bv3z4dVk3aEBERge7duytzVL579w5Pnz7FlStX8P79e6Vdu3btlOW5O3fujMePH6d6HgZSRKShCaQmTZqExYsXK6vqWVlZYdq0abh06RKMjY2xY8cOlClTBg4ODrh9+7aOq6bvzdraGtHR0WjYsCGioqLg7u6OOXPmYOLEiUogNXbsWDx79gyVK1fWcbU/Dr57ExFRmrN9+3bcvXtX+To2NhZbt27FyJEj0atXL0RHR8PT0xPt2rVDfHw86tWrh9jYWFhZWcHDwwMXLlyAhYUFu1unEbdv38b8+fMBAFu3bkX58uURGRmJ8uXLo3jx4ggKCoKenh7Gjx+vPKZkyZIwNzdHmTJldFU2aYmFhQXmzZuH9+/fo3HjxujduzemTp0KY2Nj9OvXD8+fP1fatm3bFh07dkS1atWQN29eHVZNRGldVFQUTp48ieXLl6NevXq4e/cu/P39sXTpUpQvXx4fPnxApkyZ4O/vj/79+ysrr1HGJCIoXLgwgoKC8OHDBzg5OeHVq1cwNjYGAKxcuRI9evTA0qVLsXPnTtjY2Oi24B8IQykiIkozRAQXL17EqFGjUq1wYmZmhnr16qFBgwaIiopC48aN0bBhQ2zcuBHDhg3DpUuXULlyZcTGxiJnzpywsLDQ4U9Bf3TkyBEMHjwYnTt3RocOHTBt2jRYW1srF4Lx8fF48+aNEj6EhISgQYMG+O2335AvXz5dlk7fmVqthqGhIRo0aIDp06fj3r17aNSoEVq3bo1x48YhLCwMI0eOREREhPKYrl27Yt68ecqCBkREAD47H+jp6eH+/fvImzcvAgIC0LZtW0yfPh09evRAYmIili9fjuDgYGVIsL6+fqpevZQxnD9/HgCUlVnt7Ozg7++PpKQkNGrUCC9fvgQAZM+eHQBw7NgxVKhQQVfl/pA4pxQREaU5MTExyJ49O27cuAGVSoUSJUoo+3bs2IE5c+Zg/fr1KFCgAPbu3YsFCxYgKSkJfn5+Svdr0r1PV0Fzc3PD2rVr0bp1a2zZsiVVu7Nnz6Jr167ImjUrDAwMcO3aNZw8eRJly5bVRdmkBW/evEG2bNkA/G8uqOTkZAQGBsLLywu2trbYu3cvfvvtNyxevBglS5bEhAkT2DuKiL7o0aNHKFCgAABg3rx5qFGjBkqVKoXWrVvD0tISu3fvxpQpU9CnTx8AwN27dzFo0CC4ubmhVatWuiydvhHNe4km3lCpVIiJiUHRokVRsmRJHD16FMD/5hu7du0anJycUKFCBfz222/ImTMnPnz4wBV+dYA9pYiIKM3Q3OXMmjUrnj17hvr162PWrFm4c+eO0ubu3bu4ceOGcvF58uRJ2NraIiAggIFUGvLgwQOsWLECISEhAD7esW7fvj22bdsGHx8fxMbGAvh4cVi5cmX4+vqiUaNGcHR0xJkzZxhIZWCBgYHw9PTE1atXAUDp8WRgYICffvoJc+fOxcOHD9GtWzd06dIFXbt2xcmTJ7F69WrdFk5EadKFCxdgY2ODwMBADBw4EBMnToSZmRlMTEzg6uqKtWvXwsnJCT169ADwcUqAAQMG4M2bN2jevLmOq6dvQRNI3blzB/3790fr1q0xa9YsZM+eHVu3bkV4eDgaNWoE4H/zjRUuXBhly5bFgQMH0KZNG6jVagZSOsI1c4mIKM3QXCgYGBggT548mDJlCiZMmAATExP069cPxYoVQ7t27eDr6ws7OzsULVoUJ0+eREhIiDIUjHTv6tWraNOmDUqVKoU8efIA+DhXAwBUqVIFXl5eEBF4enrC1NQUAFC8eHHUrVtXZzWT9pibmyM0NBS+vr7o168fSpUqlSqYqlOnDry8vDBv3jyEhYWhT58+sLCwYG8GIvqiihUrYvjw4WjZsiX09PRw6tQpFC5cGCKCzp0748WLFxg2bBhatmwJtVqNt2/fIiYmBufOnVOG7Gl69VL6owmkLl++jJ9++gnVq1eHiYkJRowYAT09PXh5eWHDhg1o164dGjZsqCygYmJigpIlS2L48OGws7PjYhk6xN88ERGlCZru1IcPH8bYsWOhVqvh7u4OHx8f7Ny5EwsWLMCdO3dgY2ODnTt3wtnZGcWLF8eZM2dQunRpXZdP/+/WrVuoXbs2WrVqhYULF6JJkyap9g8YMAAzZ87EmDFjsHDhQjx48ACTJk2Cg4MD4uLiuGLiD8De3h4bN27E2bNnMXfuXFy/fh3Axx5TKSkpMDExgYuLC+7du4dLly4B+DjBOed7IaKvyZ8/P969e4fExERlZU7Nja7Bgwdj586dKF26NAoUKIA2bdrg/PnzMDQ0RHJyMgOpdEwTSF25cgWOjo7o2bMn/P39sX79evTp0wcPHz5EYmIiatSogc2bN+Pu3buoVq0alixZAk9PT2zfvh0lSpTgpOY6xjmliIgozdi+fTt69OiBdu3aoUePHspyvJs2bcKQIUPQvHlzDBo0SBmml5ycDAMDdvpNKz58+IAuXbrAysoKCxcuVLYnJSUhMjIScXFxKFmyJABgzpw5GDNmDIoVK4ZHjx5h//79qFSpkq5KJx24ePEievToAXt7ewwYMAClSpVS9j148ACdO3fGjBkzULVqVR1WSURpkeZG1qfCw8OxbNkyzJkzB+vWrVOGZH2tBwx7SGUMjx8/RsWKFVG3bt1Uc1a6urri1q1b+PDhAwoXLoy2bduiatWq6N27N6Kjo6Gnp4dVq1ahfPnyuiueAHD4HhERpRFXrlyBh4cHpk2bhl69eqXa5+rqCgAYOXIk4uPjMWrUKBQtWpSBVBpjYGCAiIgI1KpVS9l24MAB7N+/HytXroSFhQUKFiyIw4cPw8vLC/b29oiJiUHZsmV5l/IHVKFCBSxfvhw9evTA9OnTMXDgQFSoUAGvXr3CwIEDoaenBwcHB12XSURpzKdBU1JSEuLj45E9e3bY2trCx8cH79+/R6dOnaCvr4+WLVsCAIYOHYpOnTqhXLlyyvMwkMoYUlJSUKhQISQkJODUqVOoXr06pk6dit27d2PkyJHInTs3Zs6cicmTJ2Pv3r04evQoXr16BWNjY2XBDdIt9pQiIqI0YceOHZg5cyYOHDiArFmzQqVSfXaHc8WKFZg9ezaCgoKQK1cuHVZLXxIXF4cqVaqgZs2aGDx4MHbs2IE1a9agdOnSqFWrFrJmzQofHx80adIEc+bM0XW5lEZcuXIF/fv3x/3791GgQAGICEQER48ehaGh4Z/2dCCiH8un54NZs2bh8OHDePbsGZo0aYLBgwcje/bsAAAvLy8sWLAAgwYNQkhICF6/fo0rV67wZlYGFRYWhv79+8PIyAhWVlb4/fffsXbtWjg7OwP4uDqjjY0NFi5cCA8PDx1XS3/Ev0oiItIJTdf78+fPI2fOnIiLi0NYWBg+fPiAbNmyQUSUC88jR46gdu3a6N69O9q2batMjk1pi6mpKXx9feHi4oKDBw8iKioKM2bMQP369VG4cGEkJSVh8+bNiI6O1nWplIaULVsWGzduRFBQEG7evIkiRYqgc+fO0NfX5xBdIkpFc10watQorF69Gn379oWtrS3c3d3x4sULDBkyBEWKFMGcOXNgZWWFw4cPo0CBAjh8+DAMDAw4ZC+DKlKkCObNmwdPT0+sX78eEydOhLOzM0REmTesbNmysLKy0nWp9AXsKUVERDqzd+9edO3aFZs2bYJarUbPnj3x66+/ok2bNsiaNasSXLVr1w4VK1bEiBEjvjiPBKUtjx8/xosXL1CwYEFYWloq29VqNVxdXVGsWDFMmDABAPha0lfxwyMRfUrz/v/7779jyJAhWLNmDRwdHXHq1Cll9dZGjRphxowZKFKkCAAgJiZG6T3FkDvju3fvHjw8PKCvr4+RI0eiZs2aAABvb2+sW7cOx44dQ/78+XVcJf0RQykiItIqzUVldHQ0vL29YWNjg8GDBwMAOnfujKCgIPz6669wcXGBkZERFixYgFWrVuHo0aMoVqyYjqunfysxMRETJ07EypUrcfToUeUDAxER0Z+5cuUK8ubNCwsLCyQnJ+PAgQN4+PAhPDw8sG/fPnTs2BG+vr4oVqwYqlevjs6dO2PgwIGpFk/gDa0fh2Yon4jAx8cHgYGBGDduHIKDg1GhQgVdl0dfwFCKiIi0LjQ0FK1atULOnDkxefJkNGrUSNnXu3dvnDhxAg8fPkTx4sXx8uVL7Nq1ixcS6di6detw9uxZbN68Gfv27eNrSUREf8vOnTvRsWNHdOvWDePGjUPOnDkRFRWF+Ph4ZM2aFU2aNEHTpk0xYsQIvHz5Eo6OjggPD8ewYcMwdepUXZdPOhIWFoZBgwYhNDQU0dHRCAkJgb29va7Loq/grJFERKR1Dg4OKF68OC5fvoybN28iOTlZ2efn54dNmzZh3bp1mDZtGkJCQhhipGO3b9/GihUr8PjxYxw5coSvJRER/S0JCQnYs2cPPnz4gPDwcEyaNAmRkZEwNzdH/vz5ERMTg+joaOV9RU9PD82bN8f58+cxadIkHVdPulSkSBHMnDkTVatWxcWLFxlIpXHsKUVERDrj7OyMS5cuYcOGDahbty7nj8mgXrx4AWNjY5iZmem6FCIiSkfOnDmDJk2aoGrVqnj//j3KlCmD0aNHw9LSEg8fPkTZsmXRqVMn/PTTT/Dz80NcXBxOnjwJlUrFOaQISUlJMDQ01HUZ9BcYShER0XelmcchNDQUwcHBSElJgY2NDVq3bg0AqFevHsLCwrBmzRrUrl2bwRQREdEPTq1WK6vwDhkyBBYWFlCr1fD390etWrUwYsQIWFtbY/fu3ejcuTPy5s0Lc3NzHD58GIaGhpxDiigd4fA9IiL6rlQqFXbs2IFGjRohKCgIISEh6NKlC0aMGAEAOHz4MIoWLYoePXrg0KFDSElJ0XHFREREpAs3b97E06dPoaenB319fahUKuTLlw87duzAsGHD0KlTJ5w6dQpTp05FZGQkmjZtips3b2L//v04duwYDA0NkZyczECKKB1hKEVERN/VrVu30L9/f4wfPx67d+/GxIkToVar8fbtWyWACgoKgpmZGQYPHoyEhAQdV0xERETatn37dpQrVw41atTAxo0bce7cOQCAl5cXTE1NMWfOHHh5eaFp06YICQnB9OnT8fz5c+TOnRv58+eHnp4e1Go1h+wRpTP8iyUiou/q2bNnsLGxwS+//IKHDx/C2dkZ7u7uWLhwIQDg/PnzsLe3x8WLF/Hw4UNkzpxZxxUTERGRNiUmJiIoKAhWVlbQ19fHkiVLYGpqihw5cmDSpElwcnLC/fv3AQBjx46Fnp4eVq5ciYIFC6J///7K8+jpsc8FUXrDUIqIiL4rPT09iAhOnz6N9u3bo1GjRliwYAEAIDQ0FMuWLcOwYcNQpEgRFCxYUMfVEhERkbYZGRnB29sbhoaGePToEXLnzo1u3bph8ODB8PLyQnh4OC5fvgxnZ2e0atUKo0ePRt68edG5c2ddl05E/xGjZCIi+ma+tHaGubk54uPj4eLigvr168PPz0+ZzHzTpk149uwZLC0ttV0qERERpSG5cuXC8OHDkTdvXly8eBHnz5/HsWPHMHjwYDRs2BD58+dH8eLFlfZubm7Q19fnXJRE6RxX3yMiom9Cs9JNSEgIwsPDYWhoiHbt2gEAFi5ciP79+8Pb2xvNmjVDlixZsGzZMqxcuRLHjx9H6dKldVw9ERERpQXPnz/HlClTEBISgp9//hleXl4AgKioKJibm0OtVnOYHlEGwlCKiIi+mV27dqFjx47Inz8/oqOjUbp0aQQFBQEAJk2ahI0bN+LRo0coUqQIkpOT8dtvv6F8+fK6LZqIiIjSlIiICEyePBmhoaFo0aIFRo4cCQBISUlRelsTUcbAUIqIiP4zEYGIoGvXrnByckKTJk1w9epV9OzZE+bm5ggODoa+vj7CwsLw8uVLmJmZwdramsP2iIiI6IsiIiIwZcoUnD9/HvXq1cPEiRN1XRIRfQfs90hERP+a5r7G69ev8erVKxgZGaFChQqwsLBA7dq1sWnTJkRHR6N69epISkpCkSJFUK1aNZQqVYqBFBEREX1Vrly5MGrUKNjZ2SEyMvKL81YSUfrHnlJERPSf7NixAyNGjEDOnDlx5coV7Nq1C/Xq1VP2X7hwAZ06dQIAXLp0CUZGRroqlYiIiNKZqKgoZM+eXVnNV6VS6bokIvqG2FOKiIj+Mc39jMuXL2PAgAFwdXVFmzZtUKBAAQwZMgSPHj1S2lasWBGrV69G5syZ8ezZM12VTEREROmQubk59PT0oFarGUgRZUDsKUVERP/KuXPncPXqVdy5cwc+Pj4AgCdPnsDFxQWZM2fG9u3bUaBAAaV9QkICjI2NdVUuERERERGlMewpRURE/0qXLl3QvXt33Lx5E2q1GgCQL18+HDx4EO/evYOrqysePHigtGcgRUREREREn2JPKSIi+leSkpJQv359hIWFYdu2bahataqyTPOzZ89QqVIllChRAgcOHICBgYGOqyUiIiIiorSGoRQREf0lzcSisbGxyJw5MwwNDQF8DKYqVqwIAFi5ciUqVaqkzPfw/PlzvHv3DnZ2djqrm4iIiIiI0i6GUkRE9Lfs2rUL8+bNQ3R0NPr06YM6deqgWLFiSEpKQoUKFaBSqbBq1SpUrFgRenocHU5ERERERH+OnxqIiOgvXbhwAd27d0eNGjVQpkwZzJ49G7Nnz8bFixdhaGiIixcvQl9fHy1atMDly5d1XS4REREREaUDDKWIiOiLPu1I++bNG3Tt2hUTJkzAb7/9hpEjR+L8+fPw9fVVgqnQ0FAUKFAAZmZmOqyaiIiIiIjSC848S0REn9HMIRUcHIzLly/jwYMHMDExUfa7ubkBABYsWAA/Pz90794dlStXRnBwsI4qJiIiIiKi9IahFBERfUalUmHXrl1o06YNSpYsiatXr6JgwYJo1aoV7O3tAXwMpvT19TFu3DgYGxujbNmyMDIyUiY6JyIiIiIi+jOc6JyIiD4TERGBefPmoXDhwujevTu2bt2KRYsWwdTUFN7e3kowBQAbN25E1apVUahQIR1WTERERERE6Q1DKSIiSuXy5cvo0qULDA0NsXTpUlSsWBEAsGPHDixevBjGxsYYP358qmCKiIiIiIjon+JE50RElMqrV6+QL18+3Lp1C7Gxscr2Vq1awcPDAykpKfDy8sKlS5d0VyQREREREaV7nFOKiIhSqV+/PgwNDZGYmAgPDw+sWrUKVatWBQC0bNkSCQkJ2LJlCywsLHRcKRERERERpWccvkdE9APTrLJ3+/ZtvHnzBrGxsahfvz4AICQkBNOmTcOjR4+wZMkSODg4KI97+/YtsmbNqquyiYiIiIgoA2AoRUT0g9IEUtu2bYOXlxeMjIzw8uVLlC9fHtOnT0fVqlVx6tQpzJgxA8+fP8fs2bNRvXp1XZdNREREREQZBEMpIqIf2OnTp+Hi4oJ58+ahSpUqMDAwgKurKwDAz88PlSpVwpEjRzBp0iSkpKRg//79MDY2hkql0nHlRERERESU3jGUIiL6AWh6Rf3x68WLF+O3337D0aNHYWhoCD09PSQkJKBKlSqwtLTEoUOHAAAnT56EjY0N8uXLp6sfgYiIiIiIMhiuvkdElMGp1WqoVCq8fPkS586dw/nz55WAKiIiArGxsTA2Noaenh7ev38PY2NjrFq1CufOnUNoaCgAoEaNGgykiIiIiIjom2IoRUSUganVaujp6eHGjRto2bIlxo4diylTpiA5ORkA0KpVKzx69AizZs0CAGTKlAkAkJSUBEtLS2TPnl1XpRMRERERUQZnoOsCiIjo+xAR6Onp4fr166hRowY8PDzQu3dv5MuXD3p6ehARFClSBMOGDcOiRYsgIhgyZAji4uIQEBAAAwMDhlJERERERPTdcE4pIqIMLCoqCs2bN0fFihUxb948ZbumBxUAPHz4EOvWrYOPjw9y5swJMzMzPH/+HPv27UPFihV1VToREREREWVwDKWIiDKwGzduoFmzZli5ciVq1KihBFEamgnPk5KSEB4ejgMHDsDKygpVqlRBoUKFdFQ1ERERERH9CDh8j4goA7t06RIePnyImjVrQqVSpeohBQAqlQrv3r3DtWvX4ODggGLFiumwWiIiIiIi+pFwonMiogzMxsYGBgYG2LFjBwB81lMKAFauXIkxY8YgMTFR2+UREREREdEPjKEUEVEGVrBgQZiamuK3337Dw4cPle2fjtx+8OAB7O3tYWhoqIsSiYiIiIjoB8VQiogoA8ubNy8WL16MAwcOYOzYsbhx4waA/w3bGzVqFLZt2wZ3d3eoVCodV0tERERERD8STnRORJTBqdVqLFu2DJ6enihcuDAcHR1hYmKCp0+f4vTp09i/fz8qVKig6zKJiIiIiOgHw1CKiOgHERoaihkzZuDu3bvIli0bqlWrhu7du6NIkSK6Lo2IiIiIiH5ADKWIiH4gKSkp0NfX13UZREREREREnFOKiOhH8unqe7wnQUREREREusSeUkREREREREREpHXsKUVERERERERERFrHUIqIiIiIiIiIiLSOoRQREREREREREWkdQykiIiIiIiIiItI6hlJERERERERERKR1DKWIiIiIiIiIiEjrGEoREREREREREZHWMZQiIiIiIiIiIiKtYyhFRERE9CdWr14NlUqFc+fO6boUnXFzc4NKpfrL/9zc3HRdKhEREaUjBrougIiIiIjStt69e8PJyUn5+v79+/D29kavXr1Qs2ZNZbudnZ0uyiMiIqJ0iqEUEREREf0pR0dHODo6Kl+fO3cO3t7ecHR0RKdOnXRYGREREaVnHL5HRERE9A+5ubkha9asePr0KVq0aIGsWbMiZ86cGDJkCFJSUlK1VavVmDdvHsqUKQMTExPkzJkTDRo0SDUcMDk5GRMnToSdnR2MjY1hY2ODUaNGISEhIdVz2djYoEmTJjh69CgqVaqETJkyoUyZMjh69CgAYMeOHcr3sbe3x8WLFz+r/datW2jTpg3Mzc1hYmKCSpUq4ffff/9Pv48jR45ApVLB39//s30bNmyASqVCSEhIqt9deHg4XFxckCVLFuTJkwcTJkyAiHz2u5s7dy5KlSoFExMTWFtbo3fv3oiOjv5P9RIREVHawFCKiIiI6F9ISUmBi4sLLCwsMHPmTNSuXRuzZs3C0qVLU7Xr3r07Bg4ciPz582PatGkYMWIETExMcPr0aaVNjx494O3tjYoVK2LOnDmoXbs2fHx84Orq+tn3vXv3Ljp27IimTZvCx8cH0dHRaNq0KdavXw8vLy906tQJ48ePx71799CuXTuo1WrlsdevX0fVqlVx8+ZNjBgxArNmzUKWLFnQokWLLwZKf1edOnWQP39+rF+//rN969evh52dXaqeVikpKWjQoAGsra0xffp02NvbY9y4cRg3blyqx/bu3RtDhw5F9erVMW/ePLi7u2P9+vVwcXFBUlLSv66XiIiI0gghIiIioq9atWqVAJCzZ88q27p27SoAZMKECanaVqhQQezt7ZWvDx8+LACkf//+nz2vWq0WEZFLly4JAOnRo0eq/UOGDBEAcvjwYWVbwYIFBYAEBwcr2w4cOCAAJFOmTPLw4UNlu5+fnwCQI0eOKNvq168vZcqUkQ8fPqSqo1q1alKkSJG/+yuRs2fPCgBZtWqVsm3kyJFibGwsMTExyrYXL16IgYGBjBs3Ttmm+d3169cvVQ2NGzcWIyMjefnypYiInDhxQgDI+vXrU33v/fv3f3E7ERERpT/sKUVERET0L/Xp0yfV1zVr1kR4eLjy9fbt26FSqT7rAQQAKpUKALB3714AwKBBg1LtHzx4MAAgICAg1faSJUum6nVUpUoVAEC9evVQoECBz7Zr6omKisLhw4fRrl07vHnzBq9evcKrV6/w+vVruLi4ICwsDE+fPv0HP31qXbp0QUJCArZt26Zs27x5M5KTk78475Snp6fyb5VKBU9PTyQmJuLQoUMAgK1bt8LMzAw//fSTUuurV69gb2+PrFmz4siRI/+6ViIiIkobONE5ERER0b+gmR/qUzly5Eg139G9e/eQJ08emJubf/V5Hj58CD09PRQuXDjV9ly5ciF79ux4+PBhqu2fBk8AYGZmBgDInz//F7dr6rl79y5EBGPHjsXYsWO/WMuLFy+QN2/er9b6Z4oXL47KlStj/fr16N69O4CPQ/eqVq362c+mp6cHW1vbVNuKFi0KAHjw4AEAICwsDLGxsbCysvpqrURERJS+MZQiIiIi+hf09fW/6fNpek792+/7te3y/5OHa+aWGjJkCFxcXL7Y9o/h0T/VpUsXDBgwAE+ePEFCQgJOnz6NhQsX/qvnUqvVsLKy+uI8VQA+CwSJiIgo/WEoRURERPSd2NnZ4cCBA4iKivpqb6mCBQtCrVYjLCwMJUqUULZHRkYiJiYGBQsW/Ca1aHomGRoawsnJ6Zs85x+5urpi0KBB2LhxI96/fw9DQ0O0b9/+s3ZqtRrh4eFK7ygAuHPnDoCPKwwCH393hw4dQvXq1ZEpU6bvUi8RERHpFueUIiIiIvpOWrduDRHB+PHjP9un6cHUqFEjAMDcuXNT7Z89ezYAoHHjxt+kFisrK9SpUwd+fn54/vz5Z/tfvnz5n7+HpaUlGjZsiHXr1mH9+vVo0KABLC0tv9j20x5UIoKFCxfC0NAQ9evXBwC0a9cOKSkpmDhx4mePTU5ORkxMzH+ul4iIiHSLPaWIiIiIvpO6deuic+fOmD9/PsLCwtCgQQOo1WqcOHECdevWhaenJ8qVK4euXbti6dKliImJQe3atREaGoo1a9agRYsWqFu37jerx9fXFzVq1ECZMmXQs2dP2NraIjIyEiEhIXjy5AkuX778n79Hly5d0KZNGwD4YqAEfJyPa//+/ejatSuqVKmCffv2ISAgAKNGjVKG5dWuXRu9e/eGj48PLl26BGdnZxgaGiIsLAxbt27FvHnzlO9DRERE6RNDKSIiIqLvaNWqVShbtixWrFiBoUOHwszMDJUqVUK1atWUNsuXL4etrS1Wr14Nf39/5MqVCyNHjvziqn3/RcmSJXHu3DmMHz8eq1evxuvXr2FlZYUKFSrA29v7m3yPpk2bIkeOHFCr1WjWrNkX2+jr62P//v3o27cvhg4dimzZsmHcuHGf1bBkyRLY29vDz88Po0aNgoGBAWxsbNCpUydUr179m9RLREREuqMSTd9xIiIiIqL/KDk5GXny5EHTpk2xYsWKz/a7ublh27ZtePv2rQ6qIyIiorSEc0oRERER0Tezc+dOvHz5El26dNF1KURERJTGcfgeEREREf1nZ86cwZUrVzBx4kRUqFABtWvX1nVJRERElMaxpxQRERER/WeLFy9G3759YWVlhd9++03X5RAREVE6wDmliIiIiIiIiIhI69hTioiIiIiIiIiItI6hFBERERERERERaR1DKSIiIiIiIiIi0jqGUkREREREREREpHUMpYiIiIiIiIiISOsYShERERERERERkdYxlCIiIiIiIiIiIq1jKEVERERERERERFrHUIqIiIiIiIiIiLTu/wCHPjYjQXqahwAAAABJRU5ErkJggg==",
      "text/plain": [
       "<Figure size 1200x800 with 1 Axes>"
      ]
     },
     "metadata": {},
     "output_type": "display_data"
    }
   ],
   "source": [
    "### TODO Complete in this cell: Income type of applicants by target variable\n",
    "# 1.13. Plot the income type of applicants grouped by the target variable\n",
    "\n",
    "plt.figure(figsize=(12, 8))\n",
    "\n",
    "# Create a count plot grouped by TARGET using hue\n",
    "sns.countplot(\n",
    "    data=app_train,\n",
    "    x='NAME_INCOME_TYPE',\n",
    "    hue='TARGET',\n",
    "    palette=\"viridis\"\n",
    ")\n",
    "\n",
    "# Add titles and labels\n",
    "plt.title(\"Income Type of Applicants Grouped by Target Variable\", fontsize=16)\n",
    "plt.xlabel(\"Income Type\", fontsize=12)\n",
    "plt.ylabel(\"Number of Applicants\", fontsize=12)\n",
    "plt.legend(title=\"Target\", labels=[\"No Payment Difficulties (0)\", \"Payment Difficulties (1)\"])\n",
    "\n",
    "# Rotate x-axis labels for better readability\n",
    "plt.xticks(rotation=45)\n",
    "\n",
    "# Adjust layout\n",
    "plt.tight_layout()\n",
    "plt.show()"
   ]
  },
  {
   "cell_type": "markdown",
   "id": "675b1ae3-c943-4737-bdb8-2ecff733b27b",
   "metadata": {
    "id": "675b1ae3-c943-4737-bdb8-2ecff733b27b"
   },
   "source": [
    "## 2. Preprocessing"
   ]
  },
  {
   "attachments": {},
   "cell_type": "markdown",
   "id": "VvT_6ZEOztAQ",
   "metadata": {
    "id": "VvT_6ZEOztAQ"
   },
   "source": [
    "2.1. The next step will be to separate our train and test datasets columns between Features (the input to the model) and Targets (what the model has to predict with the given features).\n",
    "\n",
    "- Assign to `X_train` all the columns from `app_train` that should be used as features for training our models.\n",
    "- Assign to `y_train` the single column from `app_train` that should be used as our target (i.e. what we want to predict).\n",
    "- Assign to `X_test` all the columns from `app_test` that should be used as features for training our models.\n",
    "- Assign to `y_test` the single column from `app_test` that should be used as our target (i.e. what we want to predict).\n",
    "\n",
    "To do that, you will have to complete the function `data_utils.get_feature_target()` in all the parts with a `TODO` mark.\n"
   ]
  },
  {
   "cell_type": "markdown",
   "id": "wrkoywq9aNvJ",
   "metadata": {
    "id": "wrkoywq9aNvJ"
   },
   "source": [
    "**Don't change anything in this cell, just make it run correctly**"
   ]
  },
  {
   "cell_type": "code",
   "execution_count": 15,
   "id": "5F5UeGj1aNvJ",
   "metadata": {
    "colab": {
     "base_uri": "https://localhost:8080/"
    },
    "executionInfo": {
     "elapsed": 511,
     "status": "ok",
     "timestamp": 1670195363853,
     "user": {
      "displayName": "Jose Luis",
      "userId": "17952480099147442429"
     },
     "user_tz": 180
    },
    "id": "5F5UeGj1aNvJ",
    "outputId": "6ce8ac80-c09c-43dd-a537-cc7b25220efe"
   },
   "outputs": [
    {
     "name": "stdout",
     "output_type": "stream",
     "text": [
      "Success: X_train shape is correct!\n",
      "Success: X_train type is correct!\n",
      "Success: y_train shape is correct!\n",
      "Success: X_test shape is correct!\n",
      "Success: X_test type is correct!\n",
      "Success: y_test shape is correct!\n"
     ]
    }
   ],
   "source": [
    "# Now we execute the function above to get the result\n",
    "X_train, y_train, X_test, y_test = data_utils.get_feature_target(app_train, app_test)\n",
    "\n",
    "\n",
    "if X_train.shape == (246008, 121):\n",
    "    print(\"Success: X_train shape is correct!\")\n",
    "else:\n",
    "    raise ValueError(\"X_train dataset shape is incorrect, please review your code\")\n",
    "\n",
    "if isinstance(X_train, pd.DataFrame):\n",
    "    print(\"Success: X_train type is correct!\")\n",
    "else:\n",
    "    raise ValueError(\"Train dataset type is incorrect, please review your code\")\n",
    "\n",
    "if y_train.shape == (246008,) or y_train.shape == (246008, 1):\n",
    "    print(\"Success: y_train shape is correct!\")\n",
    "else:\n",
    "    raise ValueError(\"Train labels shape is incorrect, please review your code\")\n",
    "\n",
    "if X_test.shape == (61503, 121):\n",
    "    print(\"Success: X_test shape is correct!\")\n",
    "else:\n",
    "    raise ValueError(\"Test dataset shape is incorrect, please review your code\")\n",
    "\n",
    "if isinstance(X_test, pd.DataFrame):\n",
    "    print(\"Success: X_test type is correct!\")\n",
    "else:\n",
    "    raise ValueError(\"Test dataset type is incorrect, please review your code\")\n",
    "\n",
    "if y_test.shape == (61503,) or y_test.shape == (61503, 1):\n",
    "    print(\"Success: y_test shape is correct!\")\n",
    "else:\n",
    "    raise ValueError(\"Test labels shape is incorrect, please review your code\")"
   ]
  },
  {
   "attachments": {},
   "cell_type": "markdown",
   "id": "46078a39",
   "metadata": {},
   "source": [
    "2.2. In order to avoid overfitting while searching for the best model hyperparameters, it's always a good idea to split our training dataset into two new sets called `train` and `validation`. \n",
    "\n",
    "While the `train` data will be used to fit the model and adjust its internal weights, the `validation` will be exclusively used to test the model performance on unseen data during training, it's like a testing dataset used during experimentation.\n",
    "\n",
    "Remember we can't use the `test` dataset to validate the model performance because this one lacks of labels :( So the `validation` data will be the only resource you will have to evaluate the final model performance before doing your submission.\n",
    "\n",
    "To do that, you will have to complete the function `data_utils.get_train_val_sets()` in all the parts with a `TODO` mark.\n",
    "\n",
    "This function should perform these activities:\n",
    "- Use the `sklearn.model_selection.train_test_split` function with `X_train`, `y_train` datasets.\n",
    "- Assign only 20% of the dataset for testing (see `test_size` parameter in `train_test_split`)\n",
    "- Assign a seed so we get reproducible output across multiple function calls (see `random_state` parameter in `train_test_split`)\n",
    "- Shuffle the data (see `shuffle` parameter in `train_test_split`)\n",
    "\n",
    "For reference, see:\n",
    "- [Scikit-learn train_test_split](https://scikit-learn.org/stable/modules/generated/sklearn.model_selection.train_test_split.html)\n",
    "- [Wikipedia: Training, validation, and test data sets](https://en.wikipedia.org/wiki/Training,_validation,_and_test_data_sets)\n",
    "- [Train Test Validation Split: How To & Best Practices](https://www.v7labs.com/blog/train-validation-test-set)\n"
   ]
  },
  {
   "cell_type": "markdown",
   "id": "ec771222",
   "metadata": {},
   "source": [
    "**Don't change anything in this cell, just make it run correctly**"
   ]
  },
  {
   "cell_type": "code",
   "execution_count": 16,
   "id": "07d31b26",
   "metadata": {},
   "outputs": [
    {
     "name": "stdout",
     "output_type": "stream",
     "text": [
      "Success: X_train shape is correct!\n",
      "Success: X_train type is correct!\n",
      "Success: y_train shape is correct!\n",
      "Success: X_test shape is correct!\n",
      "Success: X_test type is correct!\n",
      "Success: y_test shape is correct!\n"
     ]
    }
   ],
   "source": [
    "# Now we execute the function above to get the result\n",
    "X_train, X_val, y_train, y_val = data_utils.get_train_val_sets(X_train, y_train)\n",
    "\n",
    "\n",
    "if X_train.shape == (196806, 121):\n",
    "    print(\"Success: X_train shape is correct!\")\n",
    "else:\n",
    "    raise ValueError(\"X_train dataset shape is incorrect, please review your code\")\n",
    "\n",
    "if isinstance(X_train, pd.DataFrame):\n",
    "    print(\"Success: X_train type is correct!\")\n",
    "else:\n",
    "    raise ValueError(\"Train dataset type is incorrect, please review your code\")\n",
    "\n",
    "if y_train.shape == (196806,) or y_train.shape == (196806, 1):\n",
    "    print(\"Success: y_train shape is correct!\")\n",
    "else:\n",
    "    raise ValueError(\"Train labels shape is incorrect, please review your code\")\n",
    "\n",
    "if X_val.shape == (49202, 121):\n",
    "    print(\"Success: X_test shape is correct!\")\n",
    "else:\n",
    "    raise ValueError(\"Test dataset shape is incorrect, please review your code\")\n",
    "\n",
    "if isinstance(X_val, pd.DataFrame):\n",
    "    print(\"Success: X_test type is correct!\")\n",
    "else:\n",
    "    raise ValueError(\"Test dataset type is incorrect, please review your code\")\n",
    "\n",
    "if y_val.shape == (49202,) or y_val.shape == (49202, 1):\n",
    "    print(\"Success: y_test shape is correct!\")\n",
    "else:\n",
    "    raise ValueError(\"Test labels shape is incorrect, please review your code\")"
   ]
  },
  {
   "attachments": {},
   "cell_type": "markdown",
   "id": "51397c38-0204-454b-8fe6-011dc8c38418",
   "metadata": {
    "id": "51397c38-0204-454b-8fe6-011dc8c38418"
   },
   "source": [
    "2.3. In this section, you will code a function to make all the data pre-processing for the dataset. What you have to deliver is a function that takes `X_train`, `X_val`, and `X_test` dataframes, processes all features, and returns the transformed data as numpy arrays ready to be used for training.\n",
    "\n",
    "The function should perform these activities, in this order:\n",
    "\n",
    "1. Correct outliers/anomalous values in numerical columns (`DAYS_EMPLOYED` column)\n",
    "2. Encode string categorical features (dytpe `object`):\n",
    "    - If the feature has 2 categories encode using binary encoding\n",
    "    - More than 2 categories, use one hot encoding \n",
    "3. Impute values for all columns with missing data (use median as imputing value)\n",
    "4. Feature scaling with Min-Max scaler.\n",
    "\n",
    "Complete the function `preprocessing.preprocess_data()` following the instructions given above."
   ]
  },
  {
   "attachments": {},
   "cell_type": "markdown",
   "id": "-1YXG39vc2qX",
   "metadata": {
    "id": "-1YXG39vc2qX"
   },
   "source": [
    "In the following cell, we are going to execute the preprocessing function you've just coded. No need to modify this.\n",
    "\n",
    "**Important Note:** From now on, you must always use `train_data` for training your models and `val_data` only for the final evaluation of the model trained. About `test_data`, it will be used at the end only for submitting your final model predictions and be evaluated on our side with the hidden annotations.\n"
   ]
  },
  {
   "cell_type": "markdown",
   "id": "mMkqwi0gd7a8",
   "metadata": {
    "id": "mMkqwi0gd7a8"
   },
   "source": [
    "**Don't change anything in this cell, just make it run correctly**"
   ]
  },
  {
   "cell_type": "code",
   "execution_count": 17,
   "id": "whWcb5jtcyYe",
   "metadata": {
    "colab": {
     "base_uri": "https://localhost:8080/"
    },
    "executionInfo": {
     "elapsed": 315,
     "status": "ok",
     "timestamp": 1670195395495,
     "user": {
      "displayName": "Jose Luis",
      "userId": "17952480099147442429"
     },
     "user_tz": 180
    },
    "id": "whWcb5jtcyYe",
    "outputId": "5bb07f0e-a0b6-4773-94b1-97c5f2ccd053"
   },
   "outputs": [
    {
     "name": "stdout",
     "output_type": "stream",
     "text": [
      "Input train data shape:  (196806, 121)\n",
      "Input val data shape:  (49202, 121)\n",
      "Input test data shape:  (61503, 121) \n",
      "\n",
      "Success: train_data shape is correct!\n",
      "Success: train_data type is correct!\n",
      "Success: val_data shape is correct!\n",
      "Success: val_data type is correct!\n",
      "Success: test_data shape is correct!\n",
      "Success: test_data type is correct!\n"
     ]
    }
   ],
   "source": [
    "train_data, val_data, test_data = preprocessing.preprocess_data(X_train, X_val, X_test)\n",
    "\n",
    "\n",
    "if train_data.shape == (196806, 246):\n",
    "    print(\"Success: train_data shape is correct!\")\n",
    "else:\n",
    "    raise ValueError(\"train_data dataset shape is incorrect, please review your code\")\n",
    "\n",
    "if isinstance(train_data, np.ndarray):\n",
    "    print(\"Success: train_data type is correct!\")\n",
    "else:\n",
    "    raise ValueError(\"Train dataset type is incorrect, please review your code\")\n",
    "\n",
    "if val_data.shape == (49202, 246):\n",
    "    print(\"Success: val_data shape is correct!\")\n",
    "else:\n",
    "    raise ValueError(\"val_data dataset shape is incorrect, please review your code\")\n",
    "\n",
    "if isinstance(val_data, np.ndarray):\n",
    "    print(\"Success: val_data type is correct!\")\n",
    "else:\n",
    "    raise ValueError(\"Validation dataset type is incorrect, please review your code\")\n",
    "\n",
    "if test_data.shape == (61503, 246):\n",
    "    print(\"Success: test_data shape is correct!\")\n",
    "else:\n",
    "    raise ValueError(\"test_data dataset shape is incorrect, please review your code\")\n",
    "\n",
    "if isinstance(test_data, np.ndarray):\n",
    "    print(\"Success: test_data type is correct!\")\n",
    "else:\n",
    "    raise ValueError(\"Test dataset type is incorrect, please review your code\")"
   ]
  },
  {
   "cell_type": "markdown",
   "id": "2f5df1e8-1f03-4f14-9dbd-292d3b84859d",
   "metadata": {
    "id": "2f5df1e8-1f03-4f14-9dbd-292d3b84859d"
   },
   "source": [
    "## 3. Training Models"
   ]
  },
  {
   "cell_type": "markdown",
   "id": "83062f02-7157-4083-b57b-78fbc95fe39b",
   "metadata": {
    "id": "83062f02-7157-4083-b57b-78fbc95fe39b"
   },
   "source": [
    "As usual, you will start training simple models and will progressively move to more complex models and pipelines.\n",
    "\n",
    "**Pro tip:** It is of utmost importance to make an accurate estimation of the time required to train a machine learning model. Because of this, we recommend you to use Python [time](https://docs.python.org/3/library/time.html) library or Jupyter magic function `%%time` on the cell you're training your model to get an estimate of the time it took to fit your data."
   ]
  },
  {
   "cell_type": "markdown",
   "id": "7e99a786-a17e-4caa-9ac7-48fced40fa71",
   "metadata": {
    "id": "7e99a786-a17e-4caa-9ac7-48fced40fa71"
   },
   "source": [
    "### Baseline: LogisticRegression"
   ]
  },
  {
   "cell_type": "markdown",
   "id": "91e10796-6d86-4fce-8738-4b9c4fbbf359",
   "metadata": {
    "id": "91e10796-6d86-4fce-8738-4b9c4fbbf359"
   },
   "source": [
    "3.1. Import LogisticRegression from sklearn and train a model using the preprocesed train data from the previous section, and just default parameters. If you receive a warning because the algorithm failed to converge, try increasing the number of iterations or decreasing the C parameter.\n",
    "\n",
    "Assign the trained model to `log_reg` variable."
   ]
  },
  {
   "cell_type": "markdown",
   "id": "2OTXvqibhqid",
   "metadata": {
    "id": "2OTXvqibhqid"
   },
   "source": [
    "**Don't change anything in this cell, just make it run correctly**"
   ]
  },
  {
   "cell_type": "code",
   "execution_count": 18,
   "id": "ef64563b",
   "metadata": {},
   "outputs": [
    {
     "name": "stdout",
     "output_type": "stream",
     "text": [
      "CPU times: total: 10.1 s\n",
      "Wall time: 2.43 s\n"
     ]
    },
    {
     "data": {
      "text/html": [
       "<style>#sk-container-id-1 {color: black;background-color: white;}#sk-container-id-1 pre{padding: 0;}#sk-container-id-1 div.sk-toggleable {background-color: white;}#sk-container-id-1 label.sk-toggleable__label {cursor: pointer;display: block;width: 100%;margin-bottom: 0;padding: 0.3em;box-sizing: border-box;text-align: center;}#sk-container-id-1 label.sk-toggleable__label-arrow:before {content: \"▸\";float: left;margin-right: 0.25em;color: #696969;}#sk-container-id-1 label.sk-toggleable__label-arrow:hover:before {color: black;}#sk-container-id-1 div.sk-estimator:hover label.sk-toggleable__label-arrow:before {color: black;}#sk-container-id-1 div.sk-toggleable__content {max-height: 0;max-width: 0;overflow: hidden;text-align: left;background-color: #f0f8ff;}#sk-container-id-1 div.sk-toggleable__content pre {margin: 0.2em;color: black;border-radius: 0.25em;background-color: #f0f8ff;}#sk-container-id-1 input.sk-toggleable__control:checked~div.sk-toggleable__content {max-height: 200px;max-width: 100%;overflow: auto;}#sk-container-id-1 input.sk-toggleable__control:checked~label.sk-toggleable__label-arrow:before {content: \"▾\";}#sk-container-id-1 div.sk-estimator input.sk-toggleable__control:checked~label.sk-toggleable__label {background-color: #d4ebff;}#sk-container-id-1 div.sk-label input.sk-toggleable__control:checked~label.sk-toggleable__label {background-color: #d4ebff;}#sk-container-id-1 input.sk-hidden--visually {border: 0;clip: rect(1px 1px 1px 1px);clip: rect(1px, 1px, 1px, 1px);height: 1px;margin: -1px;overflow: hidden;padding: 0;position: absolute;width: 1px;}#sk-container-id-1 div.sk-estimator {font-family: monospace;background-color: #f0f8ff;border: 1px dotted black;border-radius: 0.25em;box-sizing: border-box;margin-bottom: 0.5em;}#sk-container-id-1 div.sk-estimator:hover {background-color: #d4ebff;}#sk-container-id-1 div.sk-parallel-item::after {content: \"\";width: 100%;border-bottom: 1px solid gray;flex-grow: 1;}#sk-container-id-1 div.sk-label:hover label.sk-toggleable__label {background-color: #d4ebff;}#sk-container-id-1 div.sk-serial::before {content: \"\";position: absolute;border-left: 1px solid gray;box-sizing: border-box;top: 0;bottom: 0;left: 50%;z-index: 0;}#sk-container-id-1 div.sk-serial {display: flex;flex-direction: column;align-items: center;background-color: white;padding-right: 0.2em;padding-left: 0.2em;position: relative;}#sk-container-id-1 div.sk-item {position: relative;z-index: 1;}#sk-container-id-1 div.sk-parallel {display: flex;align-items: stretch;justify-content: center;background-color: white;position: relative;}#sk-container-id-1 div.sk-item::before, #sk-container-id-1 div.sk-parallel-item::before {content: \"\";position: absolute;border-left: 1px solid gray;box-sizing: border-box;top: 0;bottom: 0;left: 50%;z-index: -1;}#sk-container-id-1 div.sk-parallel-item {display: flex;flex-direction: column;z-index: 1;position: relative;background-color: white;}#sk-container-id-1 div.sk-parallel-item:first-child::after {align-self: flex-end;width: 50%;}#sk-container-id-1 div.sk-parallel-item:last-child::after {align-self: flex-start;width: 50%;}#sk-container-id-1 div.sk-parallel-item:only-child::after {width: 0;}#sk-container-id-1 div.sk-dashed-wrapped {border: 1px dashed gray;margin: 0 0.4em 0.5em 0.4em;box-sizing: border-box;padding-bottom: 0.4em;background-color: white;}#sk-container-id-1 div.sk-label label {font-family: monospace;font-weight: bold;display: inline-block;line-height: 1.2em;}#sk-container-id-1 div.sk-label-container {text-align: center;}#sk-container-id-1 div.sk-container {/* jupyter's `normalize.less` sets `[hidden] { display: none; }` but bootstrap.min.css set `[hidden] { display: none !important; }` so we also need the `!important` here to be able to override the default hidden behavior on the sphinx rendered scikit-learn.org. See: https://github.com/scikit-learn/scikit-learn/issues/21755 */display: inline-block !important;position: relative;}#sk-container-id-1 div.sk-text-repr-fallback {display: none;}</style><div id=\"sk-container-id-1\" class=\"sk-top-container\"><div class=\"sk-text-repr-fallback\"><pre>LogisticRegression(C=0.0001)</pre><b>In a Jupyter environment, please rerun this cell to show the HTML representation or trust the notebook. <br />On GitHub, the HTML representation is unable to render, please try loading this page with nbviewer.org.</b></div><div class=\"sk-container\" hidden><div class=\"sk-item\"><div class=\"sk-estimator sk-toggleable\"><input class=\"sk-toggleable__control sk-hidden--visually\" id=\"sk-estimator-id-1\" type=\"checkbox\" checked><label for=\"sk-estimator-id-1\" class=\"sk-toggleable__label sk-toggleable__label-arrow\">LogisticRegression</label><div class=\"sk-toggleable__content\"><pre>LogisticRegression(C=0.0001)</pre></div></div></div></div></div>"
      ],
      "text/plain": [
       "LogisticRegression(C=0.0001)"
      ]
     },
     "execution_count": 18,
     "metadata": {},
     "output_type": "execute_result"
    }
   ],
   "source": [
    "%%time\n",
    "\n",
    "# This is an example code on how to:\n",
    "#   - Create and fit (train) a logistic regression\n",
    "#   - Assign to `log_reg` variable\n",
    "log_reg = None\n",
    "log_reg = LogisticRegression(C=0.0001)\n",
    "log_reg.fit(train_data, y_train)"
   ]
  },
  {
   "cell_type": "markdown",
   "id": "2OTXvqibhqid",
   "metadata": {
    "id": "2OTXvqibhqid"
   },
   "source": [
    "**Don't change anything in this cell, just make it run correctly**"
   ]
  },
  {
   "cell_type": "code",
   "execution_count": 39,
   "id": "JmFsb5DShqid",
   "metadata": {
    "colab": {
     "base_uri": "https://localhost:8080/"
    },
    "executionInfo": {
     "elapsed": 310,
     "status": "ok",
     "timestamp": 1670195424262,
     "user": {
      "displayName": "Jose Luis",
      "userId": "17952480099147442429"
     },
     "user_tz": 180
    },
    "id": "JmFsb5DShqid",
    "outputId": "3cc332c0-18c0-4257-82b7-3e95e05bc012"
   },
   "outputs": [
    {
     "name": "stdout",
     "output_type": "stream",
     "text": [
      "Success: Logistic regression model type is correct!\n"
     ]
    }
   ],
   "source": [
    "if isinstance(log_reg, LogisticRegression):\n",
    "    print(\"Success: Logistic regression model type is correct!\")\n",
    "else:\n",
    "    raise ValueError(\n",
    "        \"Logistic regression model type is incorrect, please review your code\"\n",
    "    )\n",
    "\n",
    "check_is_fitted(log_reg)"
   ]
  },
  {
   "attachments": {},
   "cell_type": "markdown",
   "id": "018d5c7e-012f-47cc-8bfc-0332de907ae9",
   "metadata": {
    "id": "018d5c7e-012f-47cc-8bfc-0332de907ae9"
   },
   "source": [
    "3.2. Use the trained model to predict probabilities for `train_data` and `val_data`.\n",
    "\n",
    "**Important note:** When using the function `predict_proba()` for getting model probabilities you will get, for each sample, a tuple indicating the probability for class 0 and for class 1 respectively. For computing the AUC ROC score we only need the probability that the debt is not repaid (equivalent to class 1). As an example, the result from running `predict_proba()` on validation dataset will have a shape of `(49202, 2)` but, we only need the second column from that matrix, which corresponds to the class 1.\n"
   ]
  },
  {
   "cell_type": "markdown",
   "id": "2OTXvqibhqid",
   "metadata": {
    "id": "2OTXvqibhqid"
   },
   "source": [
    "**Don't change anything in this cell, just make it run correctly**"
   ]
  },
  {
   "cell_type": "code",
   "execution_count": 20,
   "id": "798ae69b-1fe2-458d-9de7-3e1ed70b9b02",
   "metadata": {
    "executionInfo": {
     "elapsed": 276,
     "status": "ok",
     "timestamp": 1670195428153,
     "user": {
      "displayName": "Jose Luis",
      "userId": "17952480099147442429"
     },
     "user_tz": 180
    },
    "id": "798ae69b-1fe2-458d-9de7-3e1ed70b9b02"
   },
   "outputs": [],
   "source": [
    "# Example code to show you how to use the Logistic Regression model\n",
    "# to predict probabilities for each class and then, use the probabilities for the\n",
    "# class 1 only.\n",
    "\n",
    "# Train data predictions (class 1)\n",
    "log_reg_train = log_reg.predict_proba(train_data)[:, 1]\n",
    "\n",
    "# Validation data predictions (class 1)\n",
    "log_reg_val = log_reg.predict_proba(val_data)[:, 1]"
   ]
  },
  {
   "attachments": {},
   "cell_type": "markdown",
   "id": "b0826305-4900-4ba1-bf25-48205be980c6",
   "metadata": {
    "id": "b0826305-4900-4ba1-bf25-48205be980c6"
   },
   "source": [
    "3.3. Get AUC ROC score on train and validation datasets. See [scikit-learn AUC ROC function](https://scikit-learn.org/stable/modules/generated/sklearn.metrics.roc_auc_score.html) for a working implementation.\n",
    "\n",
    "Assign the AUC ROC score to `lr_roc_auc` variable.\n"
   ]
  },
  {
   "cell_type": "markdown",
   "id": "2OTXvqibhqid",
   "metadata": {
    "id": "2OTXvqibhqid"
   },
   "source": [
    "**Don't change anything in this cell, just make it run correctly**"
   ]
  },
  {
   "cell_type": "code",
   "execution_count": 21,
   "id": "83a850c7",
   "metadata": {},
   "outputs": [
    {
     "name": "stdout",
     "output_type": "stream",
     "text": [
      "Train ROC AUC Score: 0.6798\n",
      "Validation ROC AUC Score: 0.6772\n"
     ]
    }
   ],
   "source": [
    "# Example code to show you how to get the ROC AUC Score on train and val datasets\n",
    "\n",
    "# Train ROC AUC Score\n",
    "roc_auc_train = roc_auc_score(y_true=y_train, y_score=log_reg_train)\n",
    "print(f\"Train ROC AUC Score: {roc_auc_train:.4f}\")\n",
    "\n",
    "# Validation ROC AUC Score\n",
    "roc_auc_val = roc_auc_score(y_true=y_val, y_score=log_reg_val)\n",
    "print(f\"Validation ROC AUC Score: {roc_auc_val:.4f}\")"
   ]
  },
  {
   "attachments": {},
   "cell_type": "markdown",
   "id": "4d889582-0c21-4789-acac-4d58f8eb74d9",
   "metadata": {
    "id": "4d889582-0c21-4789-acac-4d58f8eb74d9"
   },
   "source": [
    "At this point, the model should produce a result of around 0.67.\n",
    "\n",
    "**Question:** Comparing train and validation results, do you observe underfitting, overfitting, or none of those two?"
   ]
  },
  {
   "cell_type": "markdown",
   "id": "ap_JpPoNidg2",
   "metadata": {
    "id": "ap_JpPoNidg2"
   },
   "source": [
    "**Don't change anything in this cell, just make it run correctly**"
   ]
  },
  {
   "cell_type": "code",
   "execution_count": 22,
   "id": "KWSHN2Ouidg2",
   "metadata": {
    "colab": {
     "base_uri": "https://localhost:8080/"
    },
    "executionInfo": {
     "elapsed": 624,
     "status": "ok",
     "timestamp": 1670195435233,
     "user": {
      "displayName": "Jose Luis",
      "userId": "17952480099147442429"
     },
     "user_tz": 180
    },
    "id": "KWSHN2Ouidg2",
    "outputId": "03f1bf8e-8980-4eba-d9e8-aa53c5dccd84"
   },
   "outputs": [
    {
     "name": "stdout",
     "output_type": "stream",
     "text": [
      "Success: AUC ROC score type is correct!\n",
      "Success: AUC ROC score is correct!\n"
     ]
    }
   ],
   "source": [
    "if isinstance(roc_auc_val, float):\n",
    "    print(\"Success: AUC ROC score type is correct!\")\n",
    "else:\n",
    "    raise ValueError(\"AUC ROC score type is incorrect, please review your code\")\n",
    "\n",
    "if roc_auc_val >= 0.6:\n",
    "    print(\"Success: AUC ROC score is correct!\")\n",
    "else:\n",
    "    raise ValueError(\"AUC ROC score is incorrect, please review your code\")"
   ]
  },
  {
   "cell_type": "markdown",
   "id": "8f8300cc-d8be-4303-9042-757cb9e15d3e",
   "metadata": {
    "id": "8f8300cc-d8be-4303-9042-757cb9e15d3e"
   },
   "source": [
    "### Training a Random Forest Classifier "
   ]
  },
  {
   "cell_type": "markdown",
   "id": "05280b49-11af-4fe6-9236-95f31fb5e0d5",
   "metadata": {
    "id": "05280b49-11af-4fe6-9236-95f31fb5e0d5"
   },
   "source": [
    "You're gonna start working in more complex models: ensambles, particularly, you're going to use the Random Forest Classifier from Scikit Learn. "
   ]
  },
  {
   "cell_type": "markdown",
   "id": "0efdfd67-ec68-49b3-8727-7ab9784b5e54",
   "metadata": {
    "id": "0efdfd67-ec68-49b3-8727-7ab9784b5e54"
   },
   "source": [
    "3.4. Train a RandomForestClassifier, print the time taken by the fit function. Just use default hyperparameters, except for `n_jobs`, which should be set to \"-1\" to allow the library to use all CPU cores to speed up training time."
   ]
  },
  {
   "cell_type": "code",
   "execution_count": 23,
   "id": "1d3b9ea6-4bf9-42f0-aed1-1c0f3a4f9b39",
   "metadata": {
    "colab": {
     "base_uri": "https://localhost:8080/"
    },
    "executionInfo": {
     "elapsed": 95269,
     "status": "ok",
     "timestamp": 1670195539807,
     "user": {
      "displayName": "Jose Luis",
      "userId": "17952480099147442429"
     },
     "user_tz": 180
    },
    "id": "1d3b9ea6-4bf9-42f0-aed1-1c0f3a4f9b39",
    "outputId": "848010ac-1f2b-43ab-9873-0d78c186e804"
   },
   "outputs": [
    {
     "name": "stdout",
     "output_type": "stream",
     "text": [
      "CPU times: total: 5min 44s\n",
      "Wall time: 51.3 s\n"
     ]
    },
    {
     "data": {
      "text/html": [
       "<style>#sk-container-id-2 {color: black;background-color: white;}#sk-container-id-2 pre{padding: 0;}#sk-container-id-2 div.sk-toggleable {background-color: white;}#sk-container-id-2 label.sk-toggleable__label {cursor: pointer;display: block;width: 100%;margin-bottom: 0;padding: 0.3em;box-sizing: border-box;text-align: center;}#sk-container-id-2 label.sk-toggleable__label-arrow:before {content: \"▸\";float: left;margin-right: 0.25em;color: #696969;}#sk-container-id-2 label.sk-toggleable__label-arrow:hover:before {color: black;}#sk-container-id-2 div.sk-estimator:hover label.sk-toggleable__label-arrow:before {color: black;}#sk-container-id-2 div.sk-toggleable__content {max-height: 0;max-width: 0;overflow: hidden;text-align: left;background-color: #f0f8ff;}#sk-container-id-2 div.sk-toggleable__content pre {margin: 0.2em;color: black;border-radius: 0.25em;background-color: #f0f8ff;}#sk-container-id-2 input.sk-toggleable__control:checked~div.sk-toggleable__content {max-height: 200px;max-width: 100%;overflow: auto;}#sk-container-id-2 input.sk-toggleable__control:checked~label.sk-toggleable__label-arrow:before {content: \"▾\";}#sk-container-id-2 div.sk-estimator input.sk-toggleable__control:checked~label.sk-toggleable__label {background-color: #d4ebff;}#sk-container-id-2 div.sk-label input.sk-toggleable__control:checked~label.sk-toggleable__label {background-color: #d4ebff;}#sk-container-id-2 input.sk-hidden--visually {border: 0;clip: rect(1px 1px 1px 1px);clip: rect(1px, 1px, 1px, 1px);height: 1px;margin: -1px;overflow: hidden;padding: 0;position: absolute;width: 1px;}#sk-container-id-2 div.sk-estimator {font-family: monospace;background-color: #f0f8ff;border: 1px dotted black;border-radius: 0.25em;box-sizing: border-box;margin-bottom: 0.5em;}#sk-container-id-2 div.sk-estimator:hover {background-color: #d4ebff;}#sk-container-id-2 div.sk-parallel-item::after {content: \"\";width: 100%;border-bottom: 1px solid gray;flex-grow: 1;}#sk-container-id-2 div.sk-label:hover label.sk-toggleable__label {background-color: #d4ebff;}#sk-container-id-2 div.sk-serial::before {content: \"\";position: absolute;border-left: 1px solid gray;box-sizing: border-box;top: 0;bottom: 0;left: 50%;z-index: 0;}#sk-container-id-2 div.sk-serial {display: flex;flex-direction: column;align-items: center;background-color: white;padding-right: 0.2em;padding-left: 0.2em;position: relative;}#sk-container-id-2 div.sk-item {position: relative;z-index: 1;}#sk-container-id-2 div.sk-parallel {display: flex;align-items: stretch;justify-content: center;background-color: white;position: relative;}#sk-container-id-2 div.sk-item::before, #sk-container-id-2 div.sk-parallel-item::before {content: \"\";position: absolute;border-left: 1px solid gray;box-sizing: border-box;top: 0;bottom: 0;left: 50%;z-index: -1;}#sk-container-id-2 div.sk-parallel-item {display: flex;flex-direction: column;z-index: 1;position: relative;background-color: white;}#sk-container-id-2 div.sk-parallel-item:first-child::after {align-self: flex-end;width: 50%;}#sk-container-id-2 div.sk-parallel-item:last-child::after {align-self: flex-start;width: 50%;}#sk-container-id-2 div.sk-parallel-item:only-child::after {width: 0;}#sk-container-id-2 div.sk-dashed-wrapped {border: 1px dashed gray;margin: 0 0.4em 0.5em 0.4em;box-sizing: border-box;padding-bottom: 0.4em;background-color: white;}#sk-container-id-2 div.sk-label label {font-family: monospace;font-weight: bold;display: inline-block;line-height: 1.2em;}#sk-container-id-2 div.sk-label-container {text-align: center;}#sk-container-id-2 div.sk-container {/* jupyter's `normalize.less` sets `[hidden] { display: none; }` but bootstrap.min.css set `[hidden] { display: none !important; }` so we also need the `!important` here to be able to override the default hidden behavior on the sphinx rendered scikit-learn.org. See: https://github.com/scikit-learn/scikit-learn/issues/21755 */display: inline-block !important;position: relative;}#sk-container-id-2 div.sk-text-repr-fallback {display: none;}</style><div id=\"sk-container-id-2\" class=\"sk-top-container\"><div class=\"sk-text-repr-fallback\"><pre>RandomForestClassifier(n_jobs=-1, random_state=42)</pre><b>In a Jupyter environment, please rerun this cell to show the HTML representation or trust the notebook. <br />On GitHub, the HTML representation is unable to render, please try loading this page with nbviewer.org.</b></div><div class=\"sk-container\" hidden><div class=\"sk-item\"><div class=\"sk-estimator sk-toggleable\"><input class=\"sk-toggleable__control sk-hidden--visually\" id=\"sk-estimator-id-2\" type=\"checkbox\" checked><label for=\"sk-estimator-id-2\" class=\"sk-toggleable__label sk-toggleable__label-arrow\">RandomForestClassifier</label><div class=\"sk-toggleable__content\"><pre>RandomForestClassifier(n_jobs=-1, random_state=42)</pre></div></div></div></div></div>"
      ],
      "text/plain": [
       "RandomForestClassifier(n_jobs=-1, random_state=42)"
      ]
     },
     "execution_count": 23,
     "metadata": {},
     "output_type": "execute_result"
    }
   ],
   "source": [
    "%%time\n",
    "\n",
    "# TODO Write your code here for training a Random Forest model.\n",
    "#   - Please use sklearn.ensemble.RandomForestClassifier() class.\n",
    "#   - Assign the model to the variable `rf`.\n",
    "#   - Remember to fit the model only on `train_data`.\n",
    "rf = RandomForestClassifier(n_jobs=-1, random_state=42)\n",
    "rf.fit(train_data, y_train)"
   ]
  },
  {
   "cell_type": "markdown",
   "id": "c70bf912",
   "metadata": {
    "id": "2OTXvqibhqid"
   },
   "source": [
    "**Don't change anything in this cell, just make it run correctly**"
   ]
  },
  {
   "cell_type": "code",
   "execution_count": 24,
   "id": "9a21b91c",
   "metadata": {
    "colab": {
     "base_uri": "https://localhost:8080/"
    },
    "executionInfo": {
     "elapsed": 310,
     "status": "ok",
     "timestamp": 1670195424262,
     "user": {
      "displayName": "Jose Luis",
      "userId": "17952480099147442429"
     },
     "user_tz": 180
    },
    "id": "JmFsb5DShqid",
    "outputId": "3cc332c0-18c0-4257-82b7-3e95e05bc012"
   },
   "outputs": [
    {
     "name": "stdout",
     "output_type": "stream",
     "text": [
      "Success: RandomForestClassifier model type is correct!\n"
     ]
    }
   ],
   "source": [
    "if isinstance(rf, RandomForestClassifier):\n",
    "    print(\"Success: RandomForestClassifier model type is correct!\")\n",
    "else:\n",
    "    raise ValueError(\n",
    "        \"RandomForestClassifier model type is incorrect, please review your code\"\n",
    "    )\n",
    "\n",
    "check_is_fitted(rf)"
   ]
  },
  {
   "attachments": {},
   "cell_type": "markdown",
   "id": "3b12a0a5-8ff1-4cb6-9928-37122d2a3435",
   "metadata": {
    "id": "3b12a0a5-8ff1-4cb6-9928-37122d2a3435"
   },
   "source": [
    "3.5. Use the classifier to predict probabilities for `train_data` and `val_data`."
   ]
  },
  {
   "cell_type": "code",
   "execution_count": null,
   "id": "4ba80108-858c-4d4e-ba19-7f19fa526dc9",
   "metadata": {
    "executionInfo": {
     "elapsed": 4992,
     "status": "ok",
     "timestamp": 1670195577761,
     "user": {
      "displayName": "Jose Luis",
      "userId": "17952480099147442429"
     },
     "user_tz": 180
    },
    "id": "4ba80108-858c-4d4e-ba19-7f19fa526dc9"
   },
   "outputs": [],
   "source": [
    "# TODO Use the Random Forest model to predict probabilities for each class and then,\n",
    "# use the probabilities for the class 1 only.\n",
    "\n",
    "# Train data predictions (class 1)\n",
    "rf_pred_train = rf.predict_proba(train_data)[:, 1]\n",
    "\n",
    "# Validation data predictions (class 1)\n",
    "rf_pred_val = rf.predict_proba(val_data)[:, 1]\n",
    "\n",
    "# Verify the shape of predictions\n",
    "if rf_pred_train.shape[0] == train_data.shape[0]:\n",
    "    print(\"Success: Train predictions shape is correct!\")\n",
    "else:\n",
    "    raise ValueError(\"Train predictions shape is incorrect, please review your code\")\n",
    "\n",
    "if rf_pred_val.shape[0] == val_data.shape[0]:\n",
    "    print(\"Success: Validation predictions shape is correct!\")\n",
    "else:\n",
    "    raise ValueError(\"Validation predictions shape is incorrect, please review your code\")"
   ]
  },
  {
   "attachments": {},
   "cell_type": "markdown",
   "id": "W3TrmlUF2pDM",
   "metadata": {
    "id": "W3TrmlUF2pDM"
   },
   "source": [
    "3.6. Get AUC ROC score on train and validation datasets.\n"
   ]
  },
  {
   "cell_type": "code",
   "execution_count": 26,
   "id": "D4jft3Sw2pDN",
   "metadata": {
    "colab": {
     "base_uri": "https://localhost:8080/"
    },
    "executionInfo": {
     "elapsed": 378,
     "status": "ok",
     "timestamp": 1670195702088,
     "user": {
      "displayName": "Jose Luis",
      "userId": "17952480099147442429"
     },
     "user_tz": 180
    },
    "id": "D4jft3Sw2pDN",
    "outputId": "74877c11-92b3-43d3-afbe-08fb51201708"
   },
   "outputs": [
    {
     "name": "stdout",
     "output_type": "stream",
     "text": [
      "Train ROC AUC Score: 1.0000\n",
      "Validation ROC AUC Score: 0.7078\n",
      "Success: AUC ROC scores are correct!\n"
     ]
    }
   ],
   "source": [
    "# TODO Get the ROC AUC Score on train_data and val_data datasets.\n",
    "# Train ROC AUC Score\n",
    "roc_auc_train = roc_auc_score(y_true=y_train, y_score=rf_pred_train)\n",
    "print(f\"Train ROC AUC Score: {roc_auc_train:.4f}\")\n",
    "\n",
    "# Validation ROC AUC Score\n",
    "roc_auc_val = roc_auc_score(y_true=y_val, y_score=rf_pred_val)\n",
    "print(f\"Validation ROC AUC Score: {roc_auc_val:.4f}\")\n",
    "\n",
    "# Success checks\n",
    "if isinstance(roc_auc_train, float) and isinstance(roc_auc_val, float):\n",
    "    print(\"Success: AUC ROC scores are correct!\")\n",
    "else:\n",
    "    raise ValueError(\"AUC ROC score type is incorrect, please review your code\")"
   ]
  },
  {
   "attachments": {},
   "cell_type": "markdown",
   "id": "8_buAhkG24ZC",
   "metadata": {
    "id": "8_buAhkG24ZC"
   },
   "source": [
    "At this point, the model should produce a result around 0.7.\n",
    "\n",
    "**Question:** Comparing train and validation results, do you observe underfitting, overfitting, or none of those two?"
   ]
  },
  {
   "cell_type": "markdown",
   "id": "4acfcc24-62b6-4118-9c42-a0268dcf5c53",
   "metadata": {
    "id": "4acfcc24-62b6-4118-9c42-a0268dcf5c53"
   },
   "source": [
    "### Randomized Search with Cross Validation"
   ]
  },
  {
   "cell_type": "markdown",
   "id": "dd634b2b-68af-4db1-b062-1496f8d1179e",
   "metadata": {
    "id": "dd634b2b-68af-4db1-b062-1496f8d1179e"
   },
   "source": [
    "So far, we've only created models using the default hyperparameters of each algorithm. This is usually something that we would only do for baseline models, hyperparameter tuning is a very important part of the modeling process and is often the difference between having an acceptable model or not.\n",
    "\n",
    "But, there are usually lots of hyperparameters to tune and a finite amount of time to do it, you have to consider the time and resources it takes to find an optimal combination of them. In the previous section you trained a random forest classifier and saw how much it took to train it once in your PC. If you want to do hyperparameter optimization you now have to consider that you will have to train the algorithm N number of times, with N being the cartesian product of all parameters. \n",
    "\n",
    "Furthermore, you can't validate the performance of your trained models on the test set, as this data should only be used to validate the final model. So we have to implement a validation strategy, K-Fold Cross Validation being the most common. But this also adds time complexity to our training, because we will have to train each combinations of hyperparameters M number of times, X being the number of folds in which we divided our dataset, so the total number of training iterations will be NxM... this resulting number can grow VERY quickly.\n",
    "\n",
    "Fortunately there are strategies to mitigate this, here you're going to select a small number of hyperparameters to test a RandomForestClassifier, and use a Randomized Search algorithm with K-Fold Cross Validation to avoid doing a full search across the grid. \n",
    "\n",
    "Remember: take in consideration how much time it took to train a single classifier, and define the number of cross validations folds and iterations of the search accordingly. \n",
    "A recommendation: run the training process, go make yourself a cup of coffee, sit somewhere comfortably and forget about it for a while.\n"
   ]
  },
  {
   "attachments": {},
   "cell_type": "markdown",
   "id": "c49a11c7-156f-46bb-8bba-be29d1b2ed1a",
   "metadata": {
    "id": "c49a11c7-156f-46bb-8bba-be29d1b2ed1a"
   },
   "source": [
    "3.7. Use `sklearn.model_selection.RandomizedSearchCV()` to find the best combination of hyperparameters for a Random Forest model. \n",
    "\n",
    "The validation metric used to evaluate the models should be \"roc_auc\" (i.e. `scoring=\"roc_auc\"`)."
   ]
  },
  {
   "cell_type": "code",
   "execution_count": 31,
   "id": "2dd0e41d",
   "metadata": {},
   "outputs": [
    {
     "name": "stderr",
     "output_type": "stream",
     "text": [
      "c:\\Users\\AER\\Downloads\\AnyONE AI\\01 ANYONE Program\\02 Sprint assignment\\assignment2\\AnyOne2\\lib\\site-packages\\sklearn\\model_selection\\_search.py:305: UserWarning: The total space of parameters 18 is smaller than n_iter=20. Running 18 iterations. For exhaustive searches, use GridSearchCV.\n",
      "  warnings.warn(\n"
     ]
    },
    {
     "name": "stdout",
     "output_type": "stream",
     "text": [
      "Fitting 3 folds for each of 18 candidates, totalling 54 fits\n",
      "RandomizedSearchCV completed in 2936.62 seconds\n",
      "Best Parameters: {'n_estimators': 300, 'min_samples_split': 10, 'max_features': 'sqrt', 'max_depth': 10, 'bootstrap': True}\n",
      "Best ROC AUC Score: 0.7322153723772482\n"
     ]
    }
   ],
   "source": [
    "import time\n",
    "\n",
    "# TODO Write your code here for training a Random Forest model using Random Search\n",
    "# of hyper-parameters.\n",
    "#   - Please use sklearn.model_selection.RandomizedSearchCV() and\n",
    "#     sklearn.ensemble.RandomForestClassifier() classes.\n",
    "#   - Assign the RandomizedSearchCV model to the variable `rf_random`.\n",
    "#   - Remember to fit the model only on `train_data`.\n",
    "\n",
    "# Define the parameter grid for RandomizedSearchCV (Please help me considering this hyper-parameters, because my computer crashed but I think could be work)\n",
    "'''\n",
    "param_distributions = {\n",
    "    \"n_estimators\": [100, 200, 300, 400, 500],\n",
    "    \"max_depth\": [10, 20, 30, 40, None],\n",
    "    \"min_samples_split\": [2, 5, 10],\n",
    "    \"min_samples_leaf\": [1, 2, 4],\n",
    "    \"max_features\": [\"sqrt\", \"log2\", None],\n",
    "    \"bootstrap\": [True, False],\n",
    "}\n",
    "'''\n",
    "# Optimize RandomizedSearchCV\n",
    "param_distributions = {\n",
    "    \"n_estimators\": [100, 200, 300],\n",
    "    \"max_depth\": [10, 20, None],\n",
    "    \"min_samples_split\": [5, 10],\n",
    "    \"max_features\": [\"sqrt\"],\n",
    "    \"bootstrap\": [True],\n",
    "}\n",
    "\n",
    "# Initialize the Random Forest Classifier\n",
    "\n",
    "rf = RandomForestClassifier(random_state=42, n_jobs=-1)\n",
    "\n",
    "# Initialize RandomizedSearchCV\n",
    "rf_random = RandomizedSearchCV(\n",
    "    estimator=rf,\n",
    "    param_distributions=param_distributions,\n",
    "    n_iter=20,  # Number of random combinations to try\n",
    "    cv=3,  # Number of cross-validation folds\n",
    "    scoring=\"roc_auc\",\n",
    "    verbose=2,\n",
    "    random_state=42,\n",
    "    n_jobs=-1,\n",
    ")\n",
    "\n",
    "'''\n",
    "# Train with reduced iterations and monitoring\n",
    "rf_random = RandomizedSearchCV(\n",
    "    estimator=rf,\n",
    "    param_distributions=param_distributions,\n",
    "    n_iter=20,\n",
    "    cv=3,\n",
    "    scoring=\"roc_auc\",\n",
    "    verbose=2,\n",
    "    random_state=42,\n",
    "    n_jobs=-1,\n",
    ")\n",
    "'''\n",
    "# Fit the RandomizedSearchCV to the training data\n",
    "start_time = time.time()\n",
    "rf_random.fit(train_data, y_train)\n",
    "end_time = time.time()\n",
    "\n",
    "# Print the time taken\n",
    "print(f\"RandomizedSearchCV completed in {end_time - start_time:.2f} seconds\")\n",
    "\n",
    "# Print the best parameters and best score\n",
    "print(\"Best Parameters:\", rf_random.best_params_)\n",
    "print(\"Best ROC AUC Score:\", rf_random.best_score_)"
   ]
  },
  {
   "attachments": {},
   "cell_type": "markdown",
   "id": "b09205aa-5afc-481a-b45b-d5e80b56d804",
   "metadata": {
    "id": "b09205aa-5afc-481a-b45b-d5e80b56d804"
   },
   "source": [
    "3.8. Use the classifier to predict probabilities on the train and test data.\n"
   ]
  },
  {
   "cell_type": "code",
   "execution_count": 32,
   "id": "4429ca94-57f4-487e-b3dd-883bc7bc7835",
   "metadata": {
    "executionInfo": {
     "elapsed": 10144,
     "status": "ok",
     "timestamp": 1670198429448,
     "user": {
      "displayName": "Jose Luis",
      "userId": "17952480099147442429"
     },
     "user_tz": 180
    },
    "id": "4429ca94-57f4-487e-b3dd-883bc7bc7835"
   },
   "outputs": [
    {
     "name": "stdout",
     "output_type": "stream",
     "text": [
      "Train Predictions Shape: (196806,)\n",
      "Validation Predictions Shape: (49202,)\n"
     ]
    }
   ],
   "source": [
    "# TODO Use the RandomizedSearchCV model to predict probabilities for each class and\n",
    "# then, use the probabilities for the class 1 only.\n",
    "\n",
    "# Train data predictions (class 1)\n",
    "rf_tuned_pred_train = rf_random.predict_proba(train_data)[:, 1]\n",
    "\n",
    "# Validation data predictions (class 1)\n",
    "rf_tuned_pred_val = rf_random.predict_proba(val_data)[:, 1]\n",
    "\n",
    "# We print to confirm shapes and values\n",
    "print(f\"Train Predictions Shape: {rf_tuned_pred_train.shape}\")\n",
    "print(f\"Validation Predictions Shape: {rf_tuned_pred_val.shape}\")"
   ]
  },
  {
   "attachments": {},
   "cell_type": "markdown",
   "id": "e645e849-a7e0-43af-b7d1-0b84c29f0e70",
   "metadata": {
    "id": "e645e849-a7e0-43af-b7d1-0b84c29f0e70"
   },
   "source": [
    "3.9. Get AUC ROC score on train and validation datasets."
   ]
  },
  {
   "cell_type": "code",
   "execution_count": 33,
   "id": "953f2204-304a-405b-b51b-350f054eb3f4",
   "metadata": {
    "colab": {
     "base_uri": "https://localhost:8080/"
    },
    "executionInfo": {
     "elapsed": 412,
     "status": "ok",
     "timestamp": 1670199416165,
     "user": {
      "displayName": "Jose Luis",
      "userId": "17952480099147442429"
     },
     "user_tz": 180
    },
    "id": "953f2204-304a-405b-b51b-350f054eb3f4",
    "outputId": "e0c4bfdd-1188-4e6f-9bee-0148aa036543"
   },
   "outputs": [
    {
     "name": "stdout",
     "output_type": "stream",
     "text": [
      "Train ROC AUC Score: 0.8124\n",
      "Validation ROC AUC Score: 0.7325\n"
     ]
    }
   ],
   "source": [
    "# TODO Get the ROC AUC Score on train_data and val_data datasets.\n",
    "# Train ROC AUC Score\n",
    "roc_auc_train = roc_auc_score(y_true=y_train, y_score=rf_tuned_pred_train)\n",
    "print(f\"Train ROC AUC Score: {roc_auc_train:.4f}\")\n",
    "\n",
    "# Validation ROC AUC Score\n",
    "roc_auc_val = roc_auc_score(y_true=y_val, y_score=rf_tuned_pred_val)\n",
    "print(f\"Validation ROC AUC Score: {roc_auc_val:.4f}\")"
   ]
  },
  {
   "attachments": {},
   "cell_type": "markdown",
   "id": "_ZAAkhx1X1Qt",
   "metadata": {
    "id": "_ZAAkhx1X1Qt"
   },
   "source": [
    "At this point, the model should produce a result around 0.7 or higher.\n",
    "\n",
    "**Question:** Comparing train and validation results, do you observe underfitting, overfitting, or none of those two?"
   ]
  },
  {
   "attachments": {},
   "cell_type": "markdown",
   "id": "2143f7b6",
   "metadata": {},
   "source": [
    "## 4. Predict unlabeled data\n",
    "\n",
    "Now it's time to finally use the `test_data` samples. Because we don't have the labels we can't see how the model performs on this dataset (╯°□°)╯︵ ┻━┻\n",
    "\n",
    "But... don't worry, we will internally evaluate your model and give feedback on the results!\n",
    "\n",
    "In the cells below:\n",
    "- Take your best model\n",
    "- Take `test_data` (i.e. the dataset after doing the preprocessing and feature engineering part)\n",
    "- Run the data through your model and save the predictions on the `TARGET` column in the `app_test` DataFrame (yeah that we've loaded at the very beginning of this notebook).\n",
    "    - `TARGET` column values must be the probabilities for class 1. So remember to use the `predict_proba()` function from your model as we did in the previous sections.\n",
    "- Save the modified version of the DataFrame with the same name it has before (`dataset/application_test_aai.csv`) and don't forget to submit it alongside the rest of this sprint project code\n",
    "- And finally, don't get confused, you shouldn't submit `dataset/application_train_aai.csv`. So please don't upload your solution with this heavy dataset inside.\n",
    "\n",
    "Let's say your best model is called `best_credit_model_ever`, then your code should be exactly this:\n",
    "\n",
    "```python\n",
    "    test_preds = best_credit_model_ever.predict_proba(test_data)[:, 1]\n",
    "    app_test[\"TARGET\"] = test_preds\n",
    "    app_test.to_csv(config.DATASET_TEST, index=False)\n",
    "```\n"
   ]
  },
  {
   "cell_type": "code",
   "execution_count": 38,
   "id": "c99b20f2",
   "metadata": {},
   "outputs": [
    {
     "name": "stdout",
     "output_type": "stream",
     "text": [
      "Predictions saved to dataset/application_test_aai.csv\n",
      "CPU times: total: 11 s\n",
      "Wall time: 5.26 s\n"
     ]
    }
   ],
   "source": [
    "%%time\n",
    "\n",
    "# TODO Use your best model and call the predict_proba() on test_data then,\n",
    "# use the probabilities for the class 1 only.\n",
    "# Then, put the predictions in app_test[\"TARGET\"] and save the DataFrame as a csv\n",
    "# with the same name it originally has (\"application_test_aai.csv\").\n",
    "\n",
    "# We make predictions on the test dataset\n",
    "test_probs = rf_random.best_estimator_.predict_proba(test_data)[:, 1]\n",
    "\n",
    "# We convert probabilities to binary values (0 or 1) based on a threshold\n",
    "threshold = 0.1\n",
    "test_preds_binary = (test_probs >= threshold).astype(int)\n",
    "\n",
    "# Now, we add predictions to the app_test DataFrame\n",
    "app_test[\"TARGET\"] = test_preds_binary\n",
    "'''\n",
    "# Make predictions on the test dataset\n",
    "test_preds = rf_random.best_estimator_.predict_proba(test_data)[:, 1]\n",
    "\n",
    "# Add predictions to the app_test DataFrame\n",
    "app_test[\"TARGET\"] = test_preds\n",
    "'''\n",
    "# Finally, we save the DataFrame to a CSV file\n",
    "output_file_path = \"dataset/application_test_aai.csv\"\n",
    "app_test.to_csv(output_file_path, index=False)\n",
    "\n",
    "print(f\"Predictions saved to {output_file_path}\")"
   ]
  },
  {
   "cell_type": "markdown",
   "id": "1ad777cd",
   "metadata": {},
   "source": [
    "## 5. Optional exercises"
   ]
  },
  {
   "cell_type": "markdown",
   "id": "d72e7335-f3cc-410d-81f2-f110f3fbb252",
   "metadata": {
    "id": "d72e7335-f3cc-410d-81f2-f110f3fbb252"
   },
   }
    
